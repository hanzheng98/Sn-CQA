{
 "cells": [
  {
   "cell_type": "markdown",
   "metadata": {},
   "source": [
    "### CQA model with noise "
   ]
  },
  {
   "cell_type": "markdown",
   "metadata": {},
   "source": [
    "#### Noise"
   ]
  },
  {
   "cell_type": "code",
   "execution_count": 2,
   "metadata": {},
   "outputs": [],
   "source": [
    "import qiskit \n",
    "import numpy as np \n",
    "import matplotlib.pyplot as plt\n",
    "from typing import Optional, Union, List, Callable, Tuple\n",
    "import pennylane as qml \n",
    "import networkx as nx\n",
    "from qiskit import IBMQ\n",
    "from qiskit.providers.aer.noise import NoiseModel\n",
    "from tqdm import tqdm\n",
    "import jax \n",
    "import jax.numpy as jnp\n",
    "import random\n",
    "import optax \n",
    "from scipy.linalg import eigh"
   ]
  },
  {
   "cell_type": "code",
   "execution_count": null,
   "metadata": {},
   "outputs": [],
   "source": []
  },
  {
   "cell_type": "code",
   "execution_count": 3,
   "metadata": {},
   "outputs": [],
   "source": [
    "def getHam_square(lattice_size: Union[int, list], J: Optional[Union[list, int]], get_matrix: bool=False):\n",
    "    '''\n",
    "    Build the Heisenberg Hamiltonian \n",
    "    '''\n",
    "    graph = nx.generators.lattice.grid_2d_graph(lattice_size[0],lattice_size[1])\n",
    "    graph = nx.relabel.convert_node_labels_to_integers(graph)\n",
    "    obs = []\n",
    "    coeffs = []\n",
    "    for edge in graph.edges():\n",
    "        coeffs.extend([1.0, 1.0, 1.0])\n",
    "        obs.extend([qml.PauliX(edge[0]) @ qml.PauliX(edge[1]),\n",
    "                            qml.PauliY(edge[0]) @ qml.PauliY(edge[1]),\n",
    "                            qml.PauliZ(edge[0]) @ qml.PauliZ(edge[1])])\n",
    "    hamiltonian_heisenberg = qml.Hamiltonian(coeffs, obs) * J[0]\n",
    "    if get_matrix: \n",
    "        # matrix = 0\n",
    "        # for coeff, op in zip(hamiltonian_heisenberg.coeffs, hamiltonian_heisenberg.ops):\n",
    "        #     # print(op.matrix())\n",
    "        #     matrix += coeff * np.real(op.matrix()).astype('float64')\n",
    "        matrix = qml.utils.sparse_hamiltonian(hamiltonian_heisenberg).real.toarray()\n",
    "        return matrix.astype('float64')\n",
    "    return hamiltonian_heisenberg\n",
    "\n",
    "# ham_mat = getHam_square(myargs.lattice_size, myargs.J, get_matrix=True)\n",
    "# # print(ham_mat.shape)\n",
    "# E_gs, V_gs = eigh(ham_mat.astype('float64'), subset_by_index=[0,1])\n",
    "# V_gs = V_gs[:,0]\n",
    "# e_gs = E_gs[0]\n",
    "# print(f'the complete spectrum: {E_gs}')\n",
    "# print('True Ground state Energy via ED :--- ({}) '.format(e_gs))"
   ]
  },
  {
   "cell_type": "markdown",
   "metadata": {},
   "source": [
    "## CQA ansatz "
   ]
  },
  {
   "cell_type": "markdown",
   "metadata": {},
   "source": [
    "#### CQA initialization"
   ]
  },
  {
   "cell_type": "code",
   "execution_count": 34,
   "metadata": {},
   "outputs": [],
   "source": [
    "# state preparation:\n",
    "\n",
    "def state_init(irrep: list):\n",
    "\n",
    "    num_bell = 2*  (irrep[0] - abs(irrep[0] - irrep[1]))\n",
    "    # num_comp = abs(irrep[0] - irrep[1])\n",
    "    for i in range(0, num_bell-1):\n",
    "        qml.PauliX(wires=i)\n",
    "        if i %2 ==0:\n",
    "            qml.Hadamard(wires=i)\n",
    "            qml.CNOT(wires=[i,i+1]) \n",
    "    qml.PauliX(wires=num_bell-1) "
   ]
  },
  {
   "cell_type": "markdown",
   "metadata": {},
   "source": [
    "### Main ansatz"
   ]
  },
  {
   "cell_type": "code",
   "execution_count": 35,
   "metadata": {},
   "outputs": [],
   "source": [
    "# Coxeter generators \n",
    "\n",
    "def coxeters(heis_params: jnp.array, layer:int, trotter_slice:int, num_qubits: int): \n",
    "    '''\n",
    "    if p is even, return evens \n",
    "    if p is odd, return odds\n",
    "    '''\n",
    "    if layer % 2 == 0: \n",
    "        for j, i  in enumerate(range(num_qubits)):\n",
    "            if i % 2 ==0 & i +1 < num_qubits:\n",
    "                # print(f'j, i: {j, i}')\n",
    "                swap = _swap2pauli(i, i+1, mode='ham')\n",
    "                qml.ApproxTimeEvolution(swap, heis_params[int(j/2)], trotter_slice)\n",
    "    elif layer % 2==1:\n",
    "        for j, i in enumerate(range(num_qubits)):\n",
    "            if i % 2 ==1 & i +1 < num_qubits:\n",
    "                swap = _swap2pauli(i, i+1, mode='ham')\n",
    "                qml.ApproxTimeEvolution(swap, heis_params[int((j-1)/2)], trotter_slice)\n",
    "\n",
    "\n",
    "# Do the YJM (only first order so far on Pennylane)\n",
    "\n",
    "def _swap2pauli(i: int, j:int, mode='ham'): \n",
    "    '''\n",
    "    using the formula: SWAP(i j) = Si . Sj + 1/2 I (without I ) \n",
    "    '''\n",
    "    if mode=='ham':\n",
    "        coeff = np.ones(3)\n",
    "        hamiltonian = [qml.PauliX(wires=i) @qml.PauliX(wires=j), \n",
    "                    qml.PauliY(wires=i) @qml.PauliY(wires=j),\n",
    "                    qml.PauliZ(wires=i) @qml.PauliZ(wires=j) ]\n",
    "        return qml.Hamiltonian(coeff, hamiltonian)\n",
    "    elif mode=='list':\n",
    "        hamiltonian = [qml.PauliX(wires=i) @qml.PauliX(wires=j), \n",
    "                    qml.PauliY(wires=i) @qml.PauliY(wires=j),\n",
    "                    qml.PauliZ(wires=i) @qml.PauliZ(wires=j) ]\n",
    "        return hamiltonian\n",
    "        \n",
    "\n",
    "\n",
    "def _get_YJM(idx:int):\n",
    "    '''\n",
    "    get YJM elements for a given index\n",
    "    '''\n",
    "    if idx == 0:\n",
    "        print('too trivial choice')\n",
    "        raise NotImplementedError\n",
    "    elif idx ==1: \n",
    "        YJM = _swap2pauli(0,1, mode='ham')\n",
    "        # print('---------')\n",
    "        # print(YJM)\n",
    "        return YJM\n",
    "    else:\n",
    "        swaps = []\n",
    "        # yjm_lst = _swap2pauli(0, 1, mode='list')\n",
    "        for i in range(idx):\n",
    "            swaps.append(_swap2pauli(i, idx, mode='list'))\n",
    "            # YJM += qml.SWAP(wires=[i, idx])\n",
    "        # print(swaps)\n",
    "        flat_yjm_lst = [item for sublist in swaps for item in sublist]\n",
    "        # print(qml.Hamiltonian([1.0], [swaps[0]]))\n",
    "        return qml.Hamiltonian(np.ones(len(flat_yjm_lst)), flat_yjm_lst)\n",
    "\n",
    "\n",
    "def yjm_gates(yjm_params: jnp.array, trotter_slice:int, num_qubits:int, num_yjms:int):\n",
    "    # num_yjms = int(np.floor(num_qubits /3))\n",
    "    # selection = np.random.randint(1, args.num_qubits, args.num_yjms)\n",
    "    selection = random.sample(range(1, num_qubits), num_yjms)\n",
    "    for i, sel in enumerate(selection):\n",
    "        YJM = _get_YJM(sel)\n",
    "        qml.ApproxTimeEvolution(YJM, yjm_params[i], trotter_slice)"
   ]
  },
  {
   "cell_type": "code",
   "execution_count": null,
   "metadata": {},
   "outputs": [],
   "source": []
  },
  {
   "cell_type": "code",
   "execution_count": 11,
   "metadata": {},
   "outputs": [],
   "source": [
    "# plotting number of layers and number of parameter to reach good result as the system size varies\n",
    "\n",
    "# lattice_size = [[2,2], [2,3], [2,4], [3,4], [4, 4]]\n",
    "# irreps = [[2,2], [3,3], [4,4], [6, 6], [8, 8]]\n",
    "# num_qubits = [4, 6, 8, 12, 16]\n",
    "# J = [1.0, 0.0]\n",
    "# num_yjms_lst = [3, 3, 3, 4, 6]\n",
    "# trotter_slice = 1\n",
    "# iterations = 30\n",
    "# p = 2\n",
    "\n"
   ]
  },
  {
   "cell_type": "code",
   "execution_count": null,
   "metadata": {},
   "outputs": [],
   "source": []
  },
  {
   "cell_type": "markdown",
   "metadata": {},
   "source": [
    "### Simulating Noise"
   ]
  },
  {
   "cell_type": "code",
   "execution_count": 36,
   "metadata": {},
   "outputs": [
    {
     "name": "stdout",
     "output_type": "stream",
     "text": [
      "the complete spectrum: [-8. -4.]\n",
      "True Ground state Energy via ED :--- (-7.999999999999999) \n"
     ]
    }
   ],
   "source": [
    "# Import all the hyper-parameters\n",
    "\n",
    "class myargs: \n",
    "    def __init__(self) -> None:\n",
    "        pass \n",
    "\n",
    "myargs.p =2\n",
    "myargs.lr = 0.1\n",
    "myargs.irrep = [2,2]\n",
    "myargs.num_qubits = 4\n",
    "myargs.num_yjms = 3\n",
    "myargs.trotter_slice = 1\n",
    "myargs.lattice_size = [2,2]\n",
    "myargs.J = [1.0, 0.0]\n",
    "myargs.iterations = 30\n",
    "myargs.TOKEN = \"4c84e8146c0def626bb384424f78598ee055148df74863d4cbad29fb99d5e9cd4808077115561b6490f6dc4a0f8014b24fe5985003cdbb88c17a51c80c55279a\" \n",
    "myargs.backend = 'aer_simulator_statevector'\n",
    "myargs.device = 0\n",
    "\n",
    "\n",
    "\n",
    "ham_mat = getHam_square(myargs.lattice_size, myargs.J, get_matrix=True)\n",
    "# print(ham_mat.shape)\n",
    "E_gs, V_gs = eigh(ham_mat.astype('float64'), subset_by_index=[0,1])\n",
    "V_gs = V_gs[:,0]\n",
    "e_gs = E_gs[0]\n",
    "print(f'the complete spectrum: {E_gs}')\n",
    "print('True Ground state Energy via ED :--- ({}) '.format(e_gs))"
   ]
  },
  {
   "cell_type": "code",
   "execution_count": 40,
   "metadata": {},
   "outputs": [],
   "source": [
    "# Defining the CQA layer now \n",
    "\n",
    "def cqa_layers(params_dict:dict, trotter_slice:int=myargs.trotter_slice, p:int=myargs.p, num_qubits:int=myargs.num_qubits, num_yjms:int=myargs.num_yjms): \n",
    "    for layer in range(p):\n",
    "        coxeters(params_dict['Heis'][layer], layer=layer, trotter_slice=trotter_slice, num_qubits=num_qubits)\n",
    "        # var_ham_ans(params_dict['Heis'][layer,0], trotter_slice=trotter_slice)\n",
    "        yjm_gates(params_dict['YJM'][layer], trotter_slice =trotter_slice, num_qubits=num_qubits, num_yjms=num_yjms)\n",
    "\n",
    "\n",
    "\n",
    "def train_with_optimizer(cost_fn, optimizer: optax.GradientTransformation):\n",
    "    '''\n",
    "    update the gradient via jax \n",
    "    '''\n",
    "\n",
    "    key = jax.random.PRNGKey(0)\n",
    "    key1, key2 = jax.random.split(key)\n",
    "    params_dict_init = {'YJM': jax.random.uniform(key1, (myargs.p, myargs.num_yjms)),\n",
    "                    'Heis': jax.random.uniform(key2, (myargs.p,int(np.ceil(myargs.num_qubits/2))))}\n",
    "    opt_state = optimizer.init(params_dict_init)\n",
    "    loss_history, grad_history, param_history = [], [], [params_dict_init]\n",
    "    # print('-------drawing the circuit--------')\n",
    "    # drawer = qml.draw(cqa_circuit)\n",
    "    # print(drawer(params_dict_init))\n",
    "    # print(iteration)\n",
    "    loss_grad_fn = jax.jit(jax.value_and_grad(cost_fn))\n",
    "    for it in tqdm(range(1, myargs.iterations + 1)): \n",
    "        p_dict = param_history[-1]\n",
    "        # print('p_dict | YJM: {} | Heis: {}'.format(p_dict['YJM'], p_dict['Heis']))\n",
    "        loss, gradient = loss_grad_fn(p_dict)\n",
    "        updates, opt_state = optimizer.update(gradient, opt_state, p_dict)\n",
    "        # print(f'gradient: {gradient}')\n",
    "        # print(\"Step {:3d}   Cost_L = {:9.7f}\".format(it, loss))\n",
    "        updated_p_dict = optax.apply_updates(p_dict, updates)\n",
    "        # updated_p_dict = {'YJM': p_dict['YJM'] - myargs.lr * gradient['YJM'],\n",
    "        #                 'Heis': p_dict['Heis'] - myargs.lr * gradient['Heis']}\n",
    "        param_history.append(updated_p_dict)\n",
    "        loss_history.append(loss)\n",
    "        grad_history.append(gradient)\n",
    "        if jnp.abs(loss - e_gs) < 0.05:\n",
    "            print('desired convergence is reached')\n",
    "            return loss_history, param_history, grad_history\n",
    "        # if jnp.linalg.norm(gradient['Heis']) / gradient['Heis'].size < 1e-6:\n",
    "        #     print(gradient['Heis'])\n",
    "        #     print('encountering the Barren Plateau')\n",
    "        #     break\n",
    "    return loss_history, param_history, grad_history"
   ]
  },
  {
   "cell_type": "code",
   "execution_count": 58,
   "metadata": {},
   "outputs": [],
   "source": [
    "qiskit.IBMQ.disable_account()"
   ]
  },
  {
   "cell_type": "code",
   "execution_count": 59,
   "metadata": {},
   "outputs": [
    {
     "name": "stderr",
     "output_type": "stream",
     "text": [
      " 33%|███▎      | 10/30 [58:11<1:56:22, 349.13s/it]"
     ]
    },
    {
     "name": "stdout",
     "output_type": "stream",
     "text": [
      "desired convergence is reached\n"
     ]
    },
    {
     "name": "stderr",
     "output_type": "stream",
     "text": [
      "\n"
     ]
    },
    {
     "data": {
      "image/png": "[encoded data removed]",
      "text/plain": [
       "<Figure size 576x396 with 1 Axes>"
      ]
     },
     "metadata": {},
     "output_type": "display_data"
    }
   ],
   "source": [
    "# Simulating with real IBM noise model on 4 quibts model\n",
    "\n",
    "provider = qiskit.IBMQ.enable_account(myargs.TOKEN, hub='ibm-q-startup', group='qbraid', project='main')\n",
    "# backend = provider.get_backend(myargs.backend)\n",
    "# noise_model = NoiseModel.from_backend(backend)  \n",
    "dev_mu = qml.device('qiskit.aer', wires = myargs.num_qubits, noise_model=None, shots=500,  backend= 'aer_simulator_statevector')\n",
    "# qiskit.IBMQ.disable_account()\n",
    "\n",
    "@qml.qnode(dev_mu, interface='jax')\n",
    "def cqa_circuit(params_dict: dict, check_symmetry:bool=False, trotter_slice:int=myargs.trotter_slice):\n",
    "    state_init(myargs.irrep)\n",
    "    cqa_layers(params_dict, trotter_slice=trotter_slice)\n",
    "    # hamiltonian = getHam_square(myargs.lattice_size, myargs.J)\n",
    "    if check_symmetry is False:\n",
    "        hamiltonian = getHam_square(myargs.lattice_size, myargs.J) \n",
    "        return qml.expval(hamiltonian)\n",
    "    else: \n",
    "        su2_pauli = qml.PauliZ(0)\n",
    "        for i in range(1, myargs.num_qubits):\n",
    "            su2_pauli = su2_pauli @ qml.PauliZ(i) \n",
    "        return qml.expval(su2_pauli), qml.expval(qml.Identity(wires=0)) \n",
    "\n",
    "optimizer = optax.adamw(learning_rate=myargs.lr)\n",
    "loss_history_noise, param_history_noise, grad_history_noise = train_with_optimizer(cqa_circuit, optimizer)\n",
    "ham_mat = getHam_square(myargs.lattice_size, myargs.J, get_matrix=True)\n",
    "# print(ham_mat.shape)\n",
    "plt.style.use(\"seaborn\")\n",
    "plt.plot(loss_history_noise, \"g\", label='Sn-CQA Ansatz')\n",
    "plt.axhline(e_gs, color='r', linestyle='-', label='ED energy: {:.4f}'.format(e_gs))\n",
    "plt.ylabel(\"Expectaton\")\n",
    "plt.xlabel(\"Optimization Ierations\")\n",
    "plt.legend(loc=\"upper right\")\n",
    "plt.title(f'CQA Training with layers {myargs.p} with lattice size: {myargs.num_qubits} with noise') \n",
    "plt.show()"
   ]
  },
  {
   "cell_type": "code",
   "execution_count": 26,
   "metadata": {},
   "outputs": [
    {
     "data": {
      "text/plain": [
       "DeviceArray([-2.2      , -6.6      , -1.8      , -1.       , -6.2      ,\n",
       "             -6.2000003, -2.4      , -6.2      , -4.8      , -7.6000004,\n",
       "             -7.7999997, -7.4      , -6.600001 , -6.2000003, -9.       ,\n",
       "             -6.8      , -7.4      , -7.0000005, -6.6000004, -5.2      ,\n",
       "             -7.2      , -5.8      , -7.6      , -7.3999996],            dtype=float32)"
      ]
     },
     "execution_count": 26,
     "metadata": {},
     "output_type": "execute_result"
    }
   ],
   "source": [
    "loss_history_noise_shot10 = jnp.array(loss_history_noise)\n"
   ]
  },
  {
   "cell_type": "code",
   "execution_count": 47,
   "metadata": {},
   "outputs": [
    {
     "name": "stdout",
     "output_type": "stream",
     "text": [
      "[-0.506     -5.2139997 -7.156     -7.5919995 -6.8639994 -6.68\n",
      " -7.566     -8.023999 ]\n"
     ]
    }
   ],
   "source": [
    "loss_history_noise_shot1000 = jnp.array(loss_history_noise)\n",
    "print(loss_history_noise_shot1000)"
   ]
  },
  {
   "cell_type": "code",
   "execution_count": 52,
   "metadata": {},
   "outputs": [
    {
     "data": {
      "text/plain": [
       "DeviceArray([-5.52     , -5.2799997, -5.2400002, -6.9600005, -7.7599998,\n",
       "             -7.9600005], dtype=float32)"
      ]
     },
     "execution_count": 52,
     "metadata": {},
     "output_type": "execute_result"
    }
   ],
   "source": [
    "loss_history_noise_shot50 = jnp.array(loss_history_noise)\n",
    "loss_history_noise_shot50"
   ]
  },
  {
   "cell_type": "code",
   "execution_count": 56,
   "metadata": {},
   "outputs": [
    {
     "data": {
      "text/plain": [
       "DeviceArray([-0.67999995, -5.96      , -6.8199997 , -7.08      ,\n",
       "             -7.54      , -7.96      ], dtype=float32)"
      ]
     },
     "execution_count": 56,
     "metadata": {},
     "output_type": "execute_result"
    }
   ],
   "source": [
    "loss_history_noise_shot100= jnp.array(loss_history_noise)\n",
    "loss_history_noise_shot100"
   ]
  },
  {
   "cell_type": "code",
   "execution_count": 60,
   "metadata": {},
   "outputs": [
    {
     "name": "stdout",
     "output_type": "stream",
     "text": [
      "[-0.136     -5.6160007 -7.7479997 -7.4760003 -7.6880007 -8.088\n",
      " -7.628     -7.7719994 -7.6199994 -7.644     -7.9880004]\n"
     ]
    }
   ],
   "source": [
    "loss_history_noise_shot500 = jnp.array(loss_history_noise)\n",
    "print(loss_history_noise_shot500)"
   ]
  },
  {
   "cell_type": "code",
   "execution_count": 23,
   "metadata": {},
   "outputs": [
    {
     "name": "stdout",
     "output_type": "stream",
     "text": [
      "-9.0\n"
     ]
    }
   ],
   "source": [
    "loss_dict_noise = {}\n",
    "loss_dict_noise[10] = jnp.array([-2.2      , -6.6      , -1.8      , -1.       , -6.2      ,-6.2000003, -2.4      , -6.2      , -4.8      , -7.6000004,\n",
    "             -7.7999997, -7.4      , -6.600001 , -6.2000003, -9.       ,\n",
    "             -6.8      , -7.4      , -7.0000005, -6.6000004, -5.2      ,\n",
    "             -7.2      , -5.8      , -7.6      , -7.3999996])\n",
    "loss_dict_noise[50] = jnp.array([-5.52     , -5.2799997, -5.2400002, -6.9600005, -7.7599998,\n",
    "             -7.9600005])\n",
    "loss_dict_noise[100] = jnp.array([-0.67999995, -5.96      , -6.8199997 , -7.08      ,\n",
    "             -7.54      , -7.96      ])\n",
    "loss_dict_noise[500] = jnp.array([-0.136, -5.6160007, -7.747997, -7.4760003, -7.6880007, \n",
    "-8.088, -7.628, -7.7719994, -7.6199994, -7.644, -7.9880004])\n",
    "    \n",
    "\n",
    "loss_dict_noise[1000] = jnp.array([-0.506, -5.2139997, -7.156, -7.5919995, -6.8639994, -6.68, -7.566, -8.023999])\n",
    "\n",
    "print(jnp.min(loss_dict_noise[10]))"
   ]
  },
  {
   "cell_type": "code",
   "execution_count": 24,
   "metadata": {},
   "outputs": [
    {
     "data": {
      "image/png": "[encoded data removed]",
      "text/plain": [
       "<Figure size 640x480 with 1 Axes>"
      ]
     },
     "metadata": {},
     "output_type": "display_data"
    }
   ],
   "source": [
    "plt.style.use(\"default\")\n",
    "plt.plot([i for i in range(len(loss_dict_noise[10]))], loss_dict_noise[10] , \"o\", linestyle='--', label='shot=10')\n",
    "plt.plot([i for i in range(len(loss_dict_noise[50]))], loss_dict_noise[50] , \"o\", linestyle='--', label='shot=50')\n",
    "plt.plot([i for i in range(len(loss_dict_noise[100]))], loss_dict_noise[100] , \"o\", linestyle='--', label='shot=100')\n",
    "plt.plot([i for i in range(len(loss_dict_noise[500]))], loss_dict_noise[500] , \"o\", linestyle='--', label='shot=500')\n",
    "plt.plot([i for i in range(len(loss_dict_noise[1000]))], loss_dict_noise[1000] , \"o\", linestyle='--', label='shot=1000')\n",
    "plt.axhline(-8.0, color='k', linestyle='-', label='ED GS energy: {:.4f} on 2x2 lattice'.format(-8.0))\n",
    "# plt.axvline(3, color='k', linestyle='--', label='optimal')\n",
    "plt.ylabel(\"Expectations\")\n",
    "plt.xlabel(\"Number of Iterations\")\n",
    "plt.legend(loc=\"best\")\n",
    "# plt.title(f'') \n",
    "plt.show()"
   ]
  },
  {
   "cell_type": "code",
   "execution_count": 27,
   "metadata": {},
   "outputs": [
    {
     "data": {
      "text/plain": [
       "array([-3.59390738, -6.79560721, -5.98313549, -5.66192893, -6.83048451,\n",
       "       -6.19338846, -6.80744243, -6.45733116, -6.74820368, -6.81970928,\n",
       "       -6.58242617, -6.95547101, -6.82813474, -6.75099367, -6.96007508,\n",
       "       -6.94178316, -6.83947051, -6.8518134 , -6.97789285, -6.96811425,\n",
       "       -6.92082881, -6.91971515, -6.99489809, -6.9652965 , -6.92535387,\n",
       "       -6.97030063, -6.99704109, -6.95632304, -6.9529652 , -6.98922101,\n",
       "       -6.99534034, -6.968676  , -6.97614897, -6.99823477, -6.99307584,\n",
       "       -6.97992675, -6.98511589, -6.99771753, -6.9979041 , -6.98878502,\n",
       "       -6.98871692, -6.99701365, -6.99968682, -6.99489971, -6.99250082,\n",
       "       -6.99630913, -6.99992194, -6.99815024, -6.99511989, -6.99626662,\n",
       "       -6.99938199, -6.99956237, -6.99739113, -6.99707329, -6.99907306,\n",
       "       -6.99995379, -6.99862507, -6.99790137, -6.99910716, -6.99999833,\n",
       "       -6.99925247, -6.99859745, -6.999284  , -6.99998956, -6.99956332,\n",
       "       -6.99906435, -6.9995013 , -6.99999176, -6.99970245, -6.99937164,\n",
       "       -6.99967871, -6.99999797, -6.99977937, -6.99957688, -6.99981628,\n",
       "       -6.999999  , -6.9998202 , -6.99972137, -6.99990678, -6.99998965,\n",
       "       -6.9998502 , -6.99982785, -6.99996715, -6.99997812, -6.99987697,\n",
       "       -6.99990063, -6.9999912 , -6.99996468, -6.99990807, -6.99995429,\n",
       "       -6.99999897, -6.99995853, -6.99994042, -6.9999855 , -6.99999413,\n",
       "       -6.99996041, -6.99996843, -6.9999973 , -6.99998376, -6.99996435])"
      ]
     },
     "execution_count": 27,
     "metadata": {},
     "output_type": "execute_result"
    }
   ],
   "source": [
    "data1 = np.load('/local/hanzheng/CQA/Sn_CQA/pennylane_codes/loss_with_[2, 2].npy') # 15, 4, 1\n",
    "data1"
   ]
  },
  {
   "cell_type": "code",
   "execution_count": 28,
   "metadata": {},
   "outputs": [
    {
     "data": {
      "text/plain": [
       "array([ -4.3139779 ,  -5.41276435,  -6.02685255,  -6.14804264,\n",
       "        -7.62424117,  -7.26864109,  -6.9993603 ,  -6.87957264,\n",
       "        -9.37584424,  -8.77396612,  -8.26204821,  -9.82468986,\n",
       "        -8.67420341,  -9.34997458,  -8.72008799,  -9.23814506,\n",
       "        -9.84390668,  -9.17011044, -10.10821884,  -9.36123136,\n",
       "       -10.18960422,  -9.91810642,  -9.77186082, -10.04788076,\n",
       "       -10.00414872, -10.13015848, -10.20196289, -10.11617734,\n",
       "       -10.34040669, -10.21176582, -10.16329935, -10.37258799,\n",
       "       -10.29006792, -10.35030127, -10.34319511, -10.31688845,\n",
       "       -10.37924795, -10.33687964, -10.40799895, -10.39744264,\n",
       "       -10.39011632, -10.45034567, -10.39125907, -10.41436235,\n",
       "       -10.42661051, -10.43359141, -10.43942684, -10.43987658,\n",
       "       -10.44433653, -10.44750483, -10.44275105, -10.45828215,\n",
       "       -10.43671838, -10.45767252, -10.46237318, -10.45409714,\n",
       "       -10.45965549, -10.46150942, -10.4589459 , -10.46419239,\n",
       "       -10.45930379, -10.46606001, -10.46369951, -10.46715582,\n",
       "       -10.4669055 , -10.46436538, -10.46824634, -10.46841698,\n",
       "       -10.46540227, -10.46929302, -10.47010426, -10.46734391,\n",
       "       -10.4709903 , -10.46906978, -10.46936718, -10.47056549,\n",
       "       -10.47011467, -10.46965095, -10.47150945, -10.47096685,\n",
       "       -10.47014849, -10.47148814, -10.47117967, -10.47063612,\n",
       "       -10.47147264, -10.47144771, -10.47145678, -10.47148786,\n",
       "       -10.47155371, -10.47174925, -10.471397  , -10.47169796,\n",
       "       -10.47186508, -10.47174721, -10.47176262, -10.47188652,\n",
       "       -10.47195575, -10.47177888, -10.47186031, -10.47197965])"
      ]
     },
     "execution_count": 28,
     "metadata": {},
     "output_type": "execute_result"
    }
   ],
   "source": [
    "data2 = np.load('/local/hanzheng/CQA/Sn_CQA/pennylane_codes/loss_with_[2, 3].npy') # 52, 6, 4\n",
    "data2"
   ]
  },
  {
   "cell_type": "code",
   "execution_count": 29,
   "metadata": {},
   "outputs": [
    {
     "data": {
      "text/plain": [
       "array([ -6.61585326,  -6.84615515,  -8.05463829,  -6.40288871,\n",
       "        -7.77410476,  -6.91332091,  -7.01511749,  -7.23909658,\n",
       "        -9.19704337,  -8.29071659,  -8.64189665,  -9.53097727,\n",
       "       -10.31112867, -10.25364142,  -9.88786069, -10.25613264,\n",
       "       -11.64690768, -11.47305341, -11.46980667, -11.80579435,\n",
       "       -11.39281748, -11.85158033, -11.77486025, -12.11399712,\n",
       "       -12.39216678, -12.38711093, -12.72945918, -12.92031799,\n",
       "       -13.11801968, -13.3790373 , -13.34537063, -13.07462067,\n",
       "       -12.926849  , -13.64259746, -13.81219854, -13.86856261,\n",
       "       -13.86267599, -13.73282786, -13.95980197, -13.93397559,\n",
       "       -13.9206213 , -13.90504871, -13.97597534, -14.02296689,\n",
       "       -14.02676757, -14.21784613, -14.16190269, -14.12621247,\n",
       "       -14.01351426, -13.99139744, -13.92257892, -13.97641521,\n",
       "       -14.15177245, -14.10033544, -13.96210512, -13.96200511,\n",
       "       -14.28078972, -14.24027725, -14.08796398, -14.04036027,\n",
       "       -14.25348554, -14.32938223, -14.21240248, -14.12287257,\n",
       "       -14.17296681, -14.29952435, -14.30455373, -14.25906721,\n",
       "       -14.21417858, -14.27159154, -14.32128308, -14.29999775,\n",
       "       -14.24033494, -14.22544116, -14.2845954 , -14.28312987,\n",
       "       -14.24914951, -14.23596934, -14.28159768, -14.3228887 ,\n",
       "       -14.32321718, -14.29705263, -14.27028646, -14.27127635,\n",
       "       -14.30083203, -14.30659136, -14.28473633, -14.22738197,\n",
       "       -14.21004683, -14.21560561, -14.26087696, -14.28310616,\n",
       "       -14.27411395, -14.25488609, -14.28596181, -14.33616772,\n",
       "       -14.3745582 , -14.37292919, -14.34816367, -14.33085351])"
      ]
     },
     "execution_count": 29,
     "metadata": {},
     "output_type": "execute_result"
    }
   ],
   "source": [
    "data3 = np.load('/local/hanzheng/CQA/Sn_CQA/pennylane_codes/loss_with_[2, 4].npy') # 59, 6, 4\n",
    "data3"
   ]
  },
  {
   "cell_type": "markdown",
   "metadata": {},
   "source": []
  },
  {
   "cell_type": "code",
   "execution_count": 33,
   "metadata": {},
   "outputs": [
    {
     "data": {
      "text/plain": [
       "-24.475222191732897"
      ]
     },
     "execution_count": 33,
     "metadata": {},
     "output_type": "execute_result"
    }
   ],
   "source": [
    "data4 = np.load('/local/hanzheng/CQA/Sn_CQA/pennylane_codes/loss_with_[3, 4].npy') # 59, 6, 4\n",
    "\n",
    "np.min(data4)"
   ]
  }
 ],
 "metadata": {
  "kernelspec": {
   "display_name": "Python 3.9.7 ('autobahnplus')",
   "language": "python",
   "name": "python3"
  },
  "language_info": {
   "codemirror_mode": {
    "name": "ipython",
    "version": 3
   },
   "file_extension": ".py",
   "mimetype": "text/x-python",
   "name": "python",
   "nbconvert_exporter": "python",
   "pygments_lexer": "ipython3",
   "version": "3.9.7 (default, Sep 16 2021, 13:09:58) \n[GCC 7.5.0]"
  },
  "orig_nbformat": 4,
  "vscode": {
   "interpreter": {
    "hash": "365090e2c22707149a78c9a2e641d903d92b98ddff306801a3908815bad6cd95"
   }
  }
 },
 "nbformat": 4,
 "nbformat_minor": 2
}
