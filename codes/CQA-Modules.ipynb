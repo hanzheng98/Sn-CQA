{
 "cells": [
  {
   "cell_type": "markdown",
   "id": "80d6d50c",
   "metadata": {},
   "source": []
  },
  {
   "cell_type": "markdown",
   "id": "3927eb7f",
   "metadata": {},
   "source": [
    "# $S_n$-Equivariant Convolutional Quantum Alternating Algorithms"
   ]
  },
  {
   "cell_type": "markdown",
   "id": "74c81b96",
   "metadata": {},
   "source": [
    "In this tutorial we explain the $S_n$-Equivariant Convolutional Quantum Alternating ($S_n$-CQA) Algorithms proposed in https://arxiv.org/abs/2112.07611, where we illustrate its practical significance in approximating the ground state of the frustrated anti-ferromagnetic Heisenberg Hamiltonian on various 2D lattices. "
   ]
  },
  {
   "cell_type": "markdown",
   "id": "88bd0121",
   "metadata": {},
   "source": [
    "## Contents\n",
    "1. [Introduction](#introduction)\n",
    "2. [$S_n$-CQA Algorithms](#cqatheory)\n",
    "    1. [Symmetries in Quantum Computing](#symmetry)\n",
    "    2. [Significance in Machine Learning](#ml)\n",
    "    3. [Description of the $Sn$-CQA](#cqadescription)\n",
    "    4. [Adiabatic Description at $p \\rightarrow \\infty$](#adiabetic)\n",
    "3. [Implementation](#implementation)\n",
    "    1. [$J_1$-$J_2$ Heisenberg Hamiltonian ](#square)\n",
    "    2. [CQA Ansatze](#kagome)\n",
    "4. [References](#references)"
   ]
  },
  {
   "cell_type": "markdown",
   "id": "1e8c8e75",
   "metadata": {},
   "source": [
    "## Introduction <a id='introduction'></a>\n",
    "\n",
    "A key question in quantum algorithms is to identify the possible source for a quantum speedup --ideally we are looking for a typical class of problems that allow an exponential speedup in the quantum computers versus that in a classical device. As running on a quantum device might be diffulct to access and expansive to run, an exponenetial speed-up seems to be the few likely motivations for us to try on quantum computers! \n",
    "\n",
    "As C.N.Yang once said: “symmetry dictates interaction.” Symmetry pops up everywhere, from standard model of particle physics, rotating and charged black holes, covariant quantum error correcting codes, Heisenberg model in condensed matter physics, classical description moleuclar force fields, graph ismorphism problems, the list goes on and on. \n",
    "\n",
    "A natural possible source of the quantum advantage comes from studying inherent symmetry of problems. In physics, symmetry imposes constraints with respect to the problems we are solving, and such contraints normally involve in calculating certain cofficients using group representation theory. Often these coefficients are believed not to be computed in polynomial time. Similarly in the rapid evolving fields of machine learning, learning with symmetry or more generally equivariance has emerged as the dominant paradigm in learning molecular graphs, force fields, and protein strcutures. \n",
    "\n",
    "As proposed in https://arxiv.org/abs/2112.07611, the authors studied how we can possibly leverage the use of quantum computers to speed up the calculation of these certain representation-theoretical coefficients and how we can use these advantage to design novel quantum algorigthms to solve physical problem of interests that is classically hard. As a consequence the proposed $S_n$-Equivariant Convolutional Quantum Alternating ($S_n$-CQA) Algorithms is developed to answer these questions and we will show its effectiveness in solving a physically hard problem$--$ground states of the frustrated magnets! "
   ]
  },
  {
   "cell_type": "markdown",
   "id": "4c9d120f",
   "metadata": {},
   "source": [
    "## 2. $S_n$-CQA Algorithms <a id='cqatheory'></a>\n",
    "\n",
    "### A. Symmetries in Quantum Computing <a id='symmetry'></a>"
   ]
  },
  {
   "cell_type": "markdown",
   "id": "87fb15b2",
   "metadata": {},
   "source": [
    "In quantum computing there are two types of symmetries: continous symmetry on qubits and discrete symmetries. In qubits the continuous symmetries could be U($1$) or SU($2$) symmetry on each qubit, for instance:\n",
    "$$\n",
    "\\exp(i\\theta_0 X_0 ) \\exp(i \\theta_1 X_1) \\exp(i \\theta_2 X_2) | 000 \\rangle\n",
    "$$\n",
    "\n",
    "while the discrete symmetries are simply permuting a set of qubits, such a the SWAP gate:\n",
    "$$\n",
    "\\text{SWAP} | 01 \\rangle = | 10 \\rangle\n",
    "$$\n",
    "It seems that these two set of symmetries are not related to each other: how does a bit flip could possibly have something do with swapping qubits? Meretriciously, there is a deep connection between these two types of symmetries, called the Schur-Weyl duality. Loosly speaking the Schur-Weyl duality states: (a) SWAPS and Pauli rotations defined above commute with each other, so they can be block-diagnolized simultaneously, (b) Their block-diagonal structures can be organized into a bigger block, labelled by a a partition of n letters.  \n",
    "\n",
    "\n",
    "A $\\textbf{partition}, \\lambda = (\\lambda_1, ..., \\lambda_d),$ of n letters or qubits, where $\\sum^{d}_{i=1} \\lambda_i = n$, is described by a corresponding $\\textbf{Young diagram}$:\n",
    "\n",
    "In quantum computing each partition $\\lambda$ restricts to Hilbert space $ \\mathcal{H} = \\mathbb{C}^{2^n} \\times \\mathbb{C}^{2^n}$ to a unique block consisted of SU($2$) and $S_n$ actions. \n",
    "\n",
    "The framework of global SU($d$)-symmetry is first proposed by Jordan (2009) in his seminal paper \"Permutational Quantum Computing\" (PQC) where a possible source of quantum advantage is formulated by being able to matrix elements of elements in the symmetric group $S_n$, for instance SWAP(1,5), swapping first and fifth qubit. These matrix elements lives thse blocks labelled by partition $\\lambda$ and are thought to be classically hard aka take exponenetial time to compute. Howeber, PQC offers a polynomial time algorithm to approximate these matrix elements. This sounds really neat; is this an end of story? \n",
    "\n",
    "It turns out there nevertheless exists polynomial time classical algorithm to compute these matrix elements on qubits. A natural question raised is how can generalize PQC further to restore hope in quantum advantage? Also, along this pursuit, can we identify useful problems to solve? \n",
    "\n",
    "\n",
    "\n"
   ]
  },
  {
   "cell_type": "markdown",
   "id": "c434c1bf",
   "metadata": {
    "pycharm": {
     "name": "#%% md\n"
    }
   },
   "source": [
    "### B. Significance in Machine Learning <a id='ml'></a>"
   ]
  },
  {
   "cell_type": "markdown",
   "id": "4f09b312",
   "metadata": {
    "pycharm": {
     "name": "#%%\n"
    }
   },
   "source": [
    "Let's say if we wish to predict properties of a moulecular system. The first-principle approach based on the density functional approximation requires far too large computational resources in a moderately-sized molecular system so it is quite common to use neural networks to approximate its quantum effects. Suppose we wish to predict the ground state energy $E_0$ or the first-excited state energy $E_1$. We know these quantities are invariant under global rotation SO($3$). It does not make sense if what the neural network learned does not respect this SO($3$) symmetry. \n",
    "\n",
    "Furthermore, molecules are naturally representated by the molecular graphs. So an other necessary contraint is our neural network model is $\\textit{equivariant}$ to the permutation on vertex labels in graphs. Roughly speaking this means that our neural network should be smart enough to recoginze two molecular graphs to be the same if they only differ from relabelling of vertices. \n",
    "\n",
    "What we have described is the so-called equivariant graph neural networks, a leading neural network in learning molecular graphs and other graphical models. To dig into the math, the natural mathematical concept is the so-called equivariant convolution.\n",
    "\n",
    "Let $f_{1}, f_{2} \\in \\mathbb{C}\\left[G\\right]$. Their convolution is defined as\n",
    "$$\n",
    "\\left(f_{1} * f_{2}\\right)(\\sigma):=\\sum_{\\tau \\in G} f_{1}(\\tau) f_{2}\\left(\\tau^{-1} \\sigma\\right),\n",
    "$$\n",
    "Mathematically the equivariance with respect to a group $G$ takes the meaning that acting $G$ on $f_1$ and then convolve with $f_2$ equals to convolve first and act by $G$ on the resultant $f_1 * f_2$: \n",
    "$$\n",
    "\\Big(L_{\\eta}\\left(f_{1} * f_{2}\\right) \\Big) (\\sigma) = \\left(f_{1} * f_{2}\\right)(\\eta^{-1} \\sigma) = \\Big(L_{\\eta}\\left(f_{1}\\right) * f_{2} \\Big) (\\sigma)\n",
    "$$\n",
    "This convolution products over functions seems to be irrelevant to our discussion over quantum circuits--at the end of day, we write matrices (gates) and vectors (states)! It turns out, if you are smart as Fourier, these functions $f_1, f_2$ can be represented by matrices by the Fourier transform: \n",
    "$$\n",
    "H:=\\pi(f) = \\sum c_i \\pi(\\sigma_i).\n",
    "$$\n",
    "Where $\\pi(\\sigma_i)$ is the matrix corresponding to the group element on quantum circuits. Say $\\sigma_i $ permutes $1$ and $2$, then $\\pi(\\sigma_i) = \\text{SWAP}(1,2)$ and $c_i$ is some complex coefficients. Then we get a $\\pi(f)$ as a quite complicated gates on our quatum circuits with its decomposition rule given by these summation of $\\pi(\\sigma_i)$. Let's assume $\\pi(f)$ to be Hermitian, so we just denote it by $H$ some Hamiltonian. "
   ]
  },
  {
   "cell_type": "markdown",
   "id": "6ca1ce96",
   "metadata": {},
   "source": [
    "### C. Description of the $S_n$-CQA Algorithm \n",
    "The $S_n$-equivariant Convolutional Quantum Alternating ($S_n$-CQA) algorithm can be best understood as an analog to the QAOA in the prescence of global SU($d$) symmetry. Simiarly $S_n$-CQA takes a problem Haniltonian $H$ for which we aim to approxiate its ground state and a mixing hamiltonian $H_M$ whose eigenstates are easy to define. Then $S_n$-CQA is taken from the following families of SU(d)-symmetric unitaries: \n",
    "\n",
    "\\begin{align}\n",
    "\\operatorname{CQA}^{(p)}:= \\left\\{ \\exp(i\\sum_{k \\geq l }\\beta^{(p)}_{kl}X_k X_l) \\exp(i \\theta^{(p)}H) \\cdots \\exp(i\\sum_{k \\geq l }\\beta^{(1)}_{kl}X_k X_l) \\exp(i \\theta^{(1)}H) \\right\\}\n",
    "\\end{align}\n",
    "\n",
    "Where $\\beta^{(i)}_{kl}, \\theta^{(i)}$ are chosen randomly for all $1 \\leq i \\leq p$. The hyperparameter $p$ controls the number of alternating layers (depth) of the quantum circuits. $X_k$ is denoted as the Young-Jucy-Murphy (YJM) elements: \n",
    "$$\n",
    "X_k = \\text{SWAP}(1, k) + \\text{SWAP}(2, k) + \\cdots + \\text{SWAP}(k-1, k) \n",
    "$$\n",
    "The YJM elements enjoy very special properties in the representation of the symmetric group due to the Oknoukov-Vershik approach. We encourage interested and mathematically-motivated readers to take a look at this beautiful theory. \n",
    "\n",
    "Below are some remarkable properties enjoyed by $S_n$-CQA algorithms\n",
    "\n",
    "#### (1) Exponential Quantum Speedup\n",
    "Remarkably, it is shown in the paper that the alternating pair $\\exp(i\\sum_{k \\geq l }\\beta_{kl}X_k X_l) \\exp(i \\theta H)$ whose matrix element can be evaulated in quantum circuits in polynomial time, whereas it remains a classicaly hard problem requiring $S_n$-FFT, taking at least $O(n! n^2)$. \n",
    "\n",
    "In general, we can extend PQC by considering the task in approximating matrix element of Hamiltonian simulation of $k$-local SU(d)-symmetric Hamiltonian. This way, we get a generic quantum super-exponential speedup! \n",
    "#### (2) $S_n$-CQA are dense! \n",
    "If our problem hamiltonian $H$ to be path-connected on the each $S_n$ irrep block; that is: $\\forall i, j \\in [d], \\exists r $ such that $[H^r]_{ij} \\neq 0$. Then $\\lim_{p \\rightarrow \\infty} \\operatorname{CQA}^{(p)}$ is dense at every $S_n$ irreps. \n",
    "\n",
    "To gain some perspective in understanding these theoretical results, let's consider the task approximating ground state of a frustated magnet: in the case of the antiferromagnetic $J_1$-$J_2$ spin $1/2$ hamiltonian, we have the Hamiltonian: \n",
    "\\begin{align}\n",
    "H = J_1 \\sum_{\\langle i, j \\rangle } \\vec{S}_i \\cdot \\vec{S}_j + J_2 \\sum_{\\langle \\langle i, j \\rangle \\rangle } \\vec{S}_i \\cdot \\vec{S}_j \n",
    "\\end{align}\n",
    "\n",
    "Where the first termn sums through all nearest pair and the second term through all second-nearest pairs. When $J_1$ and $J_2$ are non-zero, then we say that the system is frustrated. While frustaed system might lead to many physically significant phenemon such as a novel spin liquid phase, we still do not know how to characterize the ground state. The lack of analytical characterization of the ground states in frustration makes it an important problem to solve using heuristic method such as tensor networks and neural networks. \n",
    "\n",
    "Since the hamiltonian is SU(2)-symmetric, so is its ground state. How can we reinforce this global SU(2) symmetry in approximating the ground state of the frustrated magnets? Recall in the previous section of the Schur-Weyl duality, we know that approximating the ground state of frustrated Hamiltonian corresponds precisely to be able to approximate some matrix elements within the irrep blocks of $S_n$ labelled by the partition. As a result we conclude: \n",
    "\n",
    "<ul>\n",
    "<li>Since our CQA is dense in every $S_n$ irrep, approxmating aribtary matrix element in an abitrary irrep block $S^\\lambda$ is equivalent to approximate corresponding matrix element of some unitary in $\\lim_{p \\rightarrow \\infty } \\text{CQA}^{(p)}$.</li>\n",
    "<li>We know as long as $p$ grows polynomially in the number of qubits the task above enjoys the super-exponenetial quantum speedup.</li>\n",
    "</ul>\n",
    "\n",
    "In $S_n$-CQA heuristic algorithms we set $p$ to be small, normally between $3-6$. In another words, $S_n$-CQA heuristic algorithms enjoy a rigorous quantum super-exponential speedup that otherwise classical counterparts cannot achieve. Of course, we will see in the next section the effectiveness of the $S_n$-CQA algorithm in approximating the ground states of the frustrated magnets. \n",
    "\n",
    "\n",
    "\n",
    "\n",
    "\n",
    "\n",
    "\n",
    "\n"
   ]
  },
  {
   "cell_type": "markdown",
   "id": "43872df8",
   "metadata": {},
   "source": [
    "### D Adiabatic Description at $p \\rightarrow \\infty$  <a id='adiabetic'></a>\n"
   ]
  },
  {
   "cell_type": "markdown",
   "id": "208fab20",
   "metadata": {},
   "source": [
    "Similar to the limiting $p \\rightarrow \\infty $ behavior of QAOA, our ansatz corresponds to the adiabatic quantum evolution for each $S_n$ irreducible representation subspace. The standard interpolating Hamiltonian is given by: \n",
    "\\begin{align}\n",
    "\\begin{aligned}\n",
    "    \\widehat{H}(s) &= s H_p + \\sum_{k \\leq \\ell}(1-s) \\beta_{k \\ell}(s) X_k X_{\\ell} \n",
    "    \\\\&= s H_p + (1-s) H_M(s),\n",
    "\\end{aligned}\n",
    "\\end{align}\n",
    "where $s$ ranging from $0$ to $1$ is the time-parameterized path with $s(0) = 0$ and $s(T) = 1$. In contrast with the standard interpolating Hamiltonian, we set the coupling strength parameters $\\{\\beta_{k \\ell}\\}$ as path dependent I.I.D. random variables drawn from some possibly unknown distribution $\\mathcal{D}$. Using the Central Limit Theorem, it suffices to draw $\\{\\beta_{k \\ell}\\}$ from normal distributions (when $n$ is large), say $\\mathcal{N}(0, \\sigma)$. We shall work in SU(2)-$S_n$ duality but generalization to qudits is straightforward. \n",
    "\n",
    "Choose an irrep subspace $S^\\lambda$ with the instantaneous ground and first excited states $\\ket{v_0(s)}, \\ket{v_1(s)}$ and the spectral gap $\\Delta = \\operatorname{min}_{s \\in [0,1]} E_1(s) - E_0(s)$. The adiabatic theorem implies that $\\ket{v_0(s =T)}$ is $L^2$-$\\epsilon$ close to the ground state of $H_p$ if: \n",
    "\\begin{align}\n",
    "&T \\gg \\frac{|\\bra{v_1(s)}\\partial_s \\widehat{H}(s)\\ket{v_0(s)} |}{\\Delta^2},\n",
    "\\end{align}\n",
    "where: \n",
    "\\begin{align*}\n",
    "     \\partial_s \\widehat{H}= {{H}_{p}}-\\sum\\limits_{k\\le \\ell }{{{\\beta }_{k,\\ell }}}(s){{X}_{k}}{{X}_{\\ell }}-s\\sum\\limits_{k\\le \\ell }{{{\\partial }_{s}}}{{\\beta }_{k,\\ell }}(s){{X}_{k}}{{X}_{\\ell }}.\n",
    "\\end{align*}\n",
    "\n",
    "The quantum evolution in the Heisenberg picture is: \n",
    "\\begin{align*}\n",
    "    U(T) = \\mathcal{T}\\operatorname{exp}(-i \\int^T_0 dt \\widehat{H}(s(t))).\n",
    "\\end{align*}\n",
    "Taken $T = N \\Delta t \\equiv \\Delta t_N$ where $s(\\Delta t_j)$ is constant at this small time increments, the standard Trotterization technique implies that: \n",
    "\\begin{align}\n",
    "\\begin{aligned}\n",
    "    U(T) \\approx \\prod^N_{j=1}&\\operatorname{exp}(-i\\Delta t_j s(\\Delta t_j)) \\Pi^n_{k \\leq \\ell} \\\\\n",
    "    &\\operatorname{exp}(-i \\Delta t_j (1 -s(\\Delta t_j) )\\beta_{k, \\ell}(\\Delta t_j) X_k X_{\\ell}).\n",
    "\\end{aligned}\n",
    "\\end{align}\n",
    "Setting $\\gamma_j = \\Delta t_j s(\\Delta t_j)$ and $(\\widetilde{\\beta}_{_{k, \\ell}})_j = \\Delta t_j (1 -s(\\Delta t_j) )\\beta_{k, \\ell}(\\Delta t_j)$, we recover the $S_n$-CQA ans{\\\"a}tze at $p = N$. The variational parameters $\\{(\\widetilde{\\beta}_{_{k, \\ell}})_j\\}_{k, \\ell}$ for the classical optimization corresponds to the randomized coupling strength parameters for the initial Hamiltonian strictly diagonal in the total spin basis elements. "
   ]
  },
  {
   "cell_type": "markdown",
   "id": "0175616d",
   "metadata": {},
   "source": [
    "## 3. Implementation <a id='implementation'></a>\n",
    "\n",
    "\n",
    "\n"
   ]
  },
  {
   "cell_type": "markdown",
   "id": "d45cea25",
   "metadata": {},
   "source": [
    "Let's consider one typical lattice struccture for the frustrated $J_1$-$J_2$ magnets: kagome lattice,  consisted of $12$ spins\n",
    "\n"
   ]
  },
  {
   "cell_type": "markdown",
   "id": "2035e12c",
   "metadata": {},
   "source": [
    "Let's code up the $S_n$-CQA using classical simulation. For starters, we will use JAX, Snob2, Pytorch, and Numpy. For numerical implementation, we decompose into the following steps: \n",
    "\n",
    "<ul>\n",
    "<li> We specify the hamiltonian for which we wish to approximate its ground state and the YJM mixing Hamiltonians </li>\n",
    "<li> We code one alternating pair of the time evolution of these two Hamiltonian with variational parameters on the Schur basis </li>\n",
    "<li> We encode the $\\text{CQA^{(p)}}$ for which subsequent gradient descent can be performed  </li>\n",
    "</ul>\n"
   ]
  },
  {
   "cell_type": "markdown",
   "id": "a45a252a",
   "metadata": {},
   "source": [
    "### A Encode Hamiltonians onto Schur Basis\n",
    "\n",
    "Let's start with the how to encode the Heisenberg hamilonian in the 12-spin $3\\times 4$-square lattice, for which we use the following elegant identity relating $\\hat{S}_i \\cdot \\hat{S}_j$ and swapping $i$th and $j$th qubits: \n",
    "\n",
    "$$\n",
    "\\hat{S}_i \\cdot \\hat{S}_j = \\frac{1}{2}(i\\:\\: j) - \\frac{1}{4} I\n",
    "$$"
   ]
  },
  {
   "cell_type": "code",
   "execution_count": 2,
   "id": "056201ae",
   "metadata": {},
   "outputs": [
    {
     "name": "stdout",
     "output_type": "stream",
     "text": [
      "Snob2 initialized.\n",
      "\n",
      "(132, 132)\n"
     ]
    }
   ],
   "source": [
    "import jax \n",
    "import torch \n",
    "import jax.numpy as jnp \n",
    "import numpy as np \n",
    "import Snob2 \n",
    "import cnine \n",
    "from scipy.linalg import eigh, eigvalsh\n",
    "\n",
    "\n",
    "lattice =[[(1,2), (1,8), (2,3), (2,7), (3,4), (3,6), (4,5), (5,6), (5, 12),\n",
    "            (6,7), (6, 11), (7, 10), (7, 8), (8,9), (9, 10), (10, 11), (11, 12)],\n",
    "\n",
    "           [(1,3), (1,9), (1,7), (2,4), (2,8), (2, 10), (2, 6), (3, 11), (3,5), (3,7),\n",
    "            (4, 12), (4, 6), (5, 7), (5, 11), (6, 8), (6, 10), (6, 12),  (7, 9), (7, 11), (8, 10),\n",
    "            (9, 11), (10, 12)]]\n",
    "partit = [int(6),int(6)] # the partition specifies which irrep we wish to go to\n",
    "Nsites = int( 12) # number of spins we have \n",
    "J = [1, 0.5] # let's consider the frustrated case with J2 =0.5\n",
    "group = Snob2.Sn(Nsites) # the symmteric group S6 \n",
    "dim = Snob2.SnIrrep(partit).get_dim()\n",
    "def Ham_rep(lattice, partit, J, dim):\n",
    "    rep = Snob2.SnIrrep(partit) # the representation of S6 corresponding to the partition [6,6] \n",
    "    rep_mat0 = np.multiply(np.multiply(-1.0, len(lattice[0]) / 2, dtype='float64'),\n",
    "                            np.diag(np.ones(dim)))\n",
    "    for st in lattice[0]:\n",
    "        rep_st = rep.transp(st[0], st[1]).torch().numpy()\n",
    "        rep_mat0 = np.add(rep_mat0, rep_st)\n",
    "    rep_mat0 = np.multiply(J[0] / 2, rep_mat0)\n",
    "    if float(J[1]) == float(0):\n",
    "        return rep_mat0\n",
    "    else:\n",
    "        rep_mat1 = np.multiply(np.multiply(-1.0, len(lattice[1]) / 2, dtype='float64'),\n",
    "                                np.diag(np.ones(dim)))\n",
    "        for st in lattice[1]:\n",
    "            rep_st = rep.transp(st[0], st[1]).torch().numpy()\n",
    "            #         print(rep_st)\n",
    "            rep_mat1 = np.add(rep_mat1 ,rep_st)\n",
    "        rep_mat1 = np.multiply(J[1] / 2, rep_mat1)\n",
    "        rep_mat_H = np.add(rep_mat0, rep_mat1)\n",
    "\n",
    "        return rep_mat_H\n",
    "print(Ham_rep(lattice, partit, J, dim).shape)"
   ]
  },
  {
   "cell_type": "markdown",
   "id": "4ea89d37",
   "metadata": {},
   "source": [
    "Let's now build up the YJM Hamiltonian: \n",
    "$$\n",
    "H_M = \\sum_{k \\geq l} \\beta_{k,l} X_k X_l \n",
    "$$\n",
    "Where $\\beta_{k, l}$ are the variational parameters. Let's code up these: "
   ]
  },
  {
   "cell_type": "code",
   "execution_count": 3,
   "id": "c6c4d1c6",
   "metadata": {},
   "outputs": [
    {
     "name": "stdout",
     "output_type": "stream",
     "text": [
      "(12, 12, 132)\n"
     ]
    }
   ],
   "source": [
    "def get_YJMs(dim, k, l):\n",
    "        # compute X_k X_l for the YJM elements and by default X_1 = e\n",
    "        rep = Snob2.SnIrrep(partit)\n",
    "        Xkl= np.zeros((dim, dim))\n",
    "        if k == l == 1:\n",
    "            return np.diag(np.ones(dim))\n",
    "        for i in range(1, max(k, l)):\n",
    "            pi = rep.transp(i, max(k, l)).torch().numpy()\n",
    "            if min(k, l) == 1:\n",
    "                Xkl = np.add(Xkl, pi)\n",
    "            else:\n",
    "                for j in range(1, min(k, l)):\n",
    "                    pj = rep.transp(j, min(k,l)).torch().numpy()\n",
    "                    pij = np.matmul(pi, pj)\n",
    "                    Xkl = np.add(Xkl, pij)\n",
    "        return Xkl\n",
    "YJMs_mat = np.zeros((Nsites, Nsites, dim))\n",
    "for i in range(Nsites):\n",
    "    if i == Nsites -1:\n",
    "        YJM = get_YJMs(dim, i, i).astype('float64')\n",
    "        YJMs_mat[i, i, :] = np.diag(YJM)\n",
    "    for j in range(i, Nsites):\n",
    "        YJM = get_YJMs(dim, i,j).astype('float64')\n",
    "        YJMs_mat[i,j,:] = np.diag(YJM)\n",
    "print(YJMs_mat.shape)\n"
   ]
  },
  {
   "cell_type": "markdown",
   "id": "49a6fc76",
   "metadata": {},
   "source": [
    "### B. Single Layer $S_n$-CQA \n",
    "Now Let's code up one single layer of the $S_n$-CQA. \n",
    "$$\n",
    "\\exp(i \\sum_{k \\geq l} \\beta_{k, l} X_k X_l) \\exp(i \\theta H)\n",
    "$$"
   ]
  },
  {
   "cell_type": "code",
   "execution_count": 4,
   "id": "794092c5",
   "metadata": {},
   "outputs": [],
   "source": [
    "\n",
    "from jax.scipy.linalg import expm\n",
    "from jax import random\n",
    "\n",
    "def YJM_Conv2d(YJMs_mat, YJMparams):\n",
    "    # params for the YJM Hamiltonian ------ n(n+1)/2 params per layer of YJM\n",
    "    YJMs =jnp.asarray(YJMs_mat) \n",
    "    if jnp.iscomplex(YJMparams) is False:\n",
    "        print('the parameters are not complex valued ')\n",
    "        raise ValueError\n",
    "    YJM_conv = jnp.ones(dim)\n",
    "    YJMparams = jnp.multiply(1j, YJMparams)\n",
    "    for i in range(1, Nsites + 1):\n",
    "        if i == Nsites:\n",
    "            YJM_rep = YJMs.at[i,i,:].get()\n",
    "            exp_YJM_rep = jnp.exp(jnp.multiply(YJMparams.at[int(i), int(i)].get(), YJM_rep))\n",
    "            YJM_conv = jnp.multiply(YJM_conv, exp_YJM_rep)\n",
    "        for j in range(i, Nsites + 1):\n",
    "            YJM_rep = YJMs.at[i,j,:].get()\n",
    "            exp_YJM_rep = jnp.exp(jnp.multiply(YJMparams.at[int(i), int(j)].get(), YJM_rep))\n",
    "            YJM_conv = jnp.multiply(YJM_conv, exp_YJM_rep)\n",
    "    YJM_conv =YJM_conv / jnp.linalg.norm(YJM_conv, ord= int(2))\n",
    "    return jnp.diag(YJM_conv)\n",
    "\n",
    "def Heis_Conv2d(Ham, Hparam):\n",
    "    Ham = jnp.asarray(Ham.astype('float64')) \n",
    "    Hparam = jnp.multiply(Hparam, 1j)\n",
    "    Heis_conv = expm(jnp.multiply(Hparam, Ham))\n",
    "    Heis_conv = Heis_conv / jnp.linalg.norm(Heis_conv, ord=int(2))\n",
    "    return Heis_conv\n",
    "\n",
    "\n",
    "\n",
    "\n"
   ]
  },
  {
   "cell_type": "markdown",
   "id": "fab66b76",
   "metadata": {},
   "source": [
    "### C. $S_n$-CQA Ansatze in Schur Basis\n",
    "Once we have one layer, we can simply stack up even more by introducing the control parameters $p$. "
   ]
  },
  {
   "cell_type": "code",
   "execution_count": 5,
   "id": "0a119f0d",
   "metadata": {},
   "outputs": [
    {
     "name": "stderr",
     "output_type": "stream",
     "text": [
      "WARNING:absl:No GPU/TPU found, falling back to CPU. (Set TF_CPP_MIN_LOG_LEVEL=0 and rerun for more info.)\n"
     ]
    },
    {
     "name": "stdout",
     "output_type": "stream",
     "text": [
      "(12, 12, 3)\n",
      "(3,)\n",
      "(132, 132)\n"
     ]
    }
   ],
   "source": [
    "def random_params(p: int, scale=float(1e-2)):\n",
    "    YJMparams = jnp.zeros((Nsites, Nsites, p))\n",
    "    Hparams = jnp.zeros((p))\n",
    "    for i in range(p):\n",
    "        w_key, b_key = random.split(random.PRNGKey(int(i)))\n",
    "        YJMparams = YJMparams.at[:, :, i].set(jnp.multiply(scale, random.normal(w_key, (Nsites, Nsites))))\n",
    "        Hparams = Hparams.at[i].set(jnp.multiply(scale, random.normal(b_key)))\n",
    "    return YJMparams, Hparams\n",
    "\n",
    "YJMparams, Hparams = random_params(3)\n",
    "print(YJMparams.shape)\n",
    "print(Hparams.shape)\n",
    "\n",
    "def CSn_Ansazte(YJMs_mat, Ham, p,YJMparams, Hparams):\n",
    "    # rep_mat_H = self.Ham_rep()\n",
    "    ansatze = jnp.diag(jnp.ones(dim))\n",
    "    for i in range(p):\n",
    "        Heis_conv = Heis_Conv2d(Ham,Hparams.at[i].get())\n",
    "        YJM_conv = YJM_Conv2d(YJMs_mat,YJMparams.at[:, :, i].get())\n",
    "        ansatz = jnp.matmul(YJM_conv, Heis_conv)\n",
    "        ansatze = jnp.matmul(ansatz, ansatze)\n",
    "        ansatze = ansatze / jnp.linalg.norm(ansatze, ord=int(2))\n",
    "    return ansatze\n",
    "\n",
    "Ham = Ham_rep(lattice, partit, J, dim)\n",
    "CQA_ansatze = CSn_Ansazte(YJMs_mat, Ham, 4, YJMparams, Hparams)\n",
    "print(CQA_ansatze.shape)\n"
   ]
  },
  {
   "cell_type": "code",
   "execution_count": null,
   "id": "7366dc0b",
   "metadata": {},
   "outputs": [],
   "source": []
  },
  {
   "cell_type": "code",
   "execution_count": 6,
   "id": "63f15216",
   "metadata": {},
   "outputs": [
    {
     "name": "stderr",
     "output_type": "stream",
     "text": [
      "/local/conda/miniconda3/envs/autobahnplus/lib/python3.9/site-packages/chex/_src/pytypes.py:37: FutureWarning: jax.tree_structure is deprecated, and will be removed in a future release. Use jax.tree_util.tree_structure instead.\n",
      "  PyTreeDef = type(jax.tree_structure(None))\n"
     ]
    },
    {
     "name": "stdout",
     "output_type": "stream",
     "text": [
      "True Ground state Energy via ED for partition [6, 6]:--- (-5.728763567980569) \n",
      "Irrep Dims for [6, 6]: --- 132\n"
     ]
    }
   ],
   "source": [
    "J = [1, 0.8]\n",
    "lattice4 =[[(1,2), (1,8), (2,3), (2,7), (3,4), (3,6), (4,5), (5,6), (5, 12),\n",
    "            (6,7), (6, 11), (7, 10), (7, 8), (8,9), (9, 10), (10, 11), (11, 12)],\n",
    "\n",
    "           [(1,3), (1,9), (1,7), (2,4), (2,8), (2, 10), (2, 6), (3, 11), (3,5), (3,7),\n",
    "            (4, 12), (4, 6), (5, 7), (5, 11), (6, 8), (6, 10), (6, 12),  (7, 9), (7, 11), (8, 10),\n",
    "            (9, 11), (10, 12)]]\n",
    "partit = [int(6),int(6)]\n",
    "Nsites = int( 12)\n",
    "\n",
    "import matplotlib.pyplot as plt\n",
    "import pandas as pd \n",
    "from sgd import CSnGradient\n",
    "\n",
    "CsnFourier = CSnGradient(J= J, lattice = lattice4, Nsites=Nsites,\n",
    "                    partit=partit,p=int(4), num_samples =int(1000), max_iter = int(5001), lr=2e-2)\n",
    "\n",
    "\n",
    "Ham_rep = CsnFourier.Ham_rep()\n",
    "\n",
    "# print(CsnFilters.rep_mat_H)\n",
    "E_gs, V_gs = eigh(Ham_rep.astype('float64'), subset_by_index=[0,1])\n",
    "V_gs = V_gs[:,0]\n",
    "E_gs = E_gs[0]\n",
    "V_gs = jnp.asarray(V_gs)\n",
    "print('True Ground state Energy via ED for partition {}:--- ({}) '.format(partit, E_gs))\n",
    "# print('True Ground State wavefuncion in Sn irrep basis for partition {}:--- {}'.format(partit, V_gs))\n",
    "\n",
    "print('Irrep Dims for {}: --- {}'.format(partit, CsnFourier.dim))\n",
    "\n",
    "\n",
    "    \n"
   ]
  },
  {
   "cell_type": "code",
   "execution_count": 29,
   "id": "c151912d",
   "metadata": {},
   "outputs": [],
   "source": [
    "import pandas as pd \n",
    "import numpy as np \n",
    "import matplotlib.pyplot as plt \n",
    "\n",
    "loss1 = pd.read_csv('../data/Kagome_12spin/08-21_15-00/CQA_J0.5_lr0.001_noise0.0_loss.csv')['energy']\n",
    "loss2 = pd.read_csv('../data/Kagome_12spin/08-22_16-52/CQA_J0.5_lr0.001_noise5e-05_loss.csv')['energy']\n",
    "loss3 = pd.read_csv('../data/Kagome_12spin/08-22_21-02/CQA_J0.5_lr0.01_noise0.0005_loss.csv')['energy']\n",
    "# loss4 = pd.read_csv('../data/6_sqaures/08-08_21-47/CQA_J0.5_lr0.002_noise0.0_loss.csv')['energy']\n",
    "loss4 = pd.read_csv('../data/Kagome_12spin/08-22_22-12/CQA_J0.5_lr0.02_noise0.001_loss.csv')['energy']\n",
    "iteration = pd.read_csv('../data/6_sqaures/08-09_23-48/CQA_J0.8_lr0.01_noise0.0005_loss.csv')['iteration']"
   ]
  },
  {
   "cell_type": "code",
   "execution_count": 30,
   "id": "2dac0181",
   "metadata": {},
   "outputs": [
    {
     "name": "stdout",
     "output_type": "stream",
     "text": [
      "True Ground state Energy via ED for partition [6, 6]:--- (-4.134292957706443) \n",
      "Irrep Dims for [6, 6]: --- 132\n"
     ]
    }
   ],
   "source": [
    "'''\n",
    "Kagome \n",
    "'''\n",
    "J = [1, 0.5]\n",
    "lattice3 = [[(1,2), (1,5), (2,3), (3,4), (3,6),\n",
    "             (5,7), (7, 9), (7,8), (6,10), (9,10), (10,11), (10,12)],\n",
    "            [(2,5), (4,6), (6,9), (8,9), (11,12), (1,3),\n",
    "            (2,4), (3,10), (2,6), (6,11), (6,12), (9,11),\n",
    "            (9, 12), (5, 8), (1,7), (7, 10), (5,9)]]\n",
    "partit = [int(6),int(6)]\n",
    "Nsites = int( 12)\n",
    "from sgd import CSnGradient\n",
    "from scipy.linalg import eigh, eigvalsh\n",
    "import jax.numpy as jnp \n",
    "\n",
    "CsnFourier = CSnGradient(J= J, lattice = lattice3, Nsites=Nsites,\n",
    "                    partit=partit,p=int(6), num_samples =int(1000), max_iter = int(5001), lr=1e-3)\n",
    "\n",
    "\n",
    "Ham_rep = CsnFourier.Ham_rep()\n",
    "\n",
    "# print(CsnFilters.rep_mat_H)\n",
    "E_gs, V_gs = eigh(Ham_rep.astype('float64'), subset_by_index=[0,1])\n",
    "V_gs = V_gs[:,0]\n",
    "E_gs = E_gs[0]\n",
    "V_gs = jnp.asarray(V_gs)\n",
    "print('True Ground state Energy via ED for partition {}:--- ({}) '.format(partit, E_gs))\n",
    "# print('True Ground State wavefuncion in Sn irrep basis for partition {}:--- {}'.format(partit, V_gs))\n",
    "\n",
    "print('Irrep Dims for {}: --- {}'.format(partit, CsnFourier.dim))\n"
   ]
  },
  {
   "cell_type": "code",
   "execution_count": 31,
   "id": "48ab51bd",
   "metadata": {},
   "outputs": [
    {
     "data": {
      "image/png": "[encoded data removed]",
      "text/plain": [
       "<Figure size 432x288 with 1 Axes>"
      ]
     },
     "metadata": {
      "needs_background": "light"
     },
     "output_type": "display_data"
    }
   ],
   "source": [
    "'''\n",
    "Let's see the loss for loss1 and loss2 \n",
    "'''\n",
    "fig, ax1 = plt.subplots()\n",
    "ax1.plot(iteration, loss1, color='orchid', label='qscale=0.0 min={}'.format(min(loss1)))\n",
    "ax1.plot(iteration, loss2, color='turquoise', label='qscale=5e-4 min={}'.format(min(loss2)))\n",
    "ax1.plot(iteration, loss3, color='paleturquoise', label='qscale=5e-4 min={}'.format(min(loss3)))\n",
    "ax1.plot(iteration, loss4, color='teal', label='qscale=1e-3 min={}'.format(min(loss4)))\n",
    "ax1.set_ylabel('Energy')\n",
    "ax1.set_xlabel('Iteration')\n",
    "ax1.set_ylim([E_gs -0.03,E_gs + 5])\n",
    "# plt.axis([0,iters_RBM[-1],exact_gs_energy-0.03,exact_gs_energy+0.2])\n",
    "plt.axhline(y=E_gs, xmin=0,\n",
    "                 linewidth=2, color='k', label='Exact={}'.format(E_gs))\n",
    "ax1.legend()\n",
    "plt.title('12-spin Kagome model at J2/J1 = 0.8')\n",
    "plt.show()\n",
    "\n"
   ]
  },
  {
   "cell_type": "code",
   "execution_count": 17,
   "id": "9df9a6ea",
   "metadata": {},
   "outputs": [
    {
     "name": "stdout",
     "output_type": "stream",
     "text": [
      "[0. 0. 0. 0.]\n",
      "[0. 0. 0. 0.]\n",
      "[ 0.  4. -4.  0. -4.  0.  4.  0.  4. -4.  0.  0.  0.  0.  0.  0.]\n"
     ]
    }
   ],
   "source": [
    "'''\n",
    "Heisenberg Hamiltonian \n",
    "'''\n",
    "\n",
    "import qiskit \n",
    "import numpy as np \n",
    "import matplotlib.pyplot as plt\n",
    "\n",
    "from typing import Optional, Union, List, Callable, Tuple\n",
    "from qiskit.circuit import QuantumCircuit, QuantumRegister, parameter\n",
    "from qiskit import transpile\n",
    "from qiskit.circuit.library.basis_change import QFT\n",
    "from qiskit.quantum_info import SparsePauliOp, PauliList, Pauli\n",
    "from qiskit.opflow import X, Y, Z, I, PauliTrotterEvolution\n",
    "from qiskit.opflow import PauliOp, PauliSumOp\n",
    "\n",
    "def transpo2pauli(num_sites: int ,i:int, j:int) -> SparsePauliOp:\n",
    "        '''\n",
    "        implement the pauli representation of the transposition (i, j)\n",
    "\n",
    "        return: SparsePauli \n",
    "        '''\n",
    "\n",
    "        pauli_lst = []\n",
    "        z0 = np.zeros(num_sites)\n",
    "        x0 = np.zeros(num_sites)\n",
    "        x = np.zeros(num_sites)\n",
    "        z = np.zeros(num_sites)\n",
    "        x[i] = 1\n",
    "        x[j] = 1\n",
    "        z[i] = 1\n",
    "        z[j] = 1\n",
    "        pauli_lst.append(Pauli((z0, x)))\n",
    "        pauli_lst.append(Pauli((z, x0)))\n",
    "        pauli_lst.append(Pauli((z, x)))\n",
    "        pauli_lst.append(Pauli((z0, x0)))\n",
    "        coeff = np.array([2.0, 2.0, 2.0, 0.5])\n",
    "        transpo_pauli = SparsePauliOp(pauli_lst, coeffs=coeff)\n",
    "        return transpo_pauli\n",
    "transpo_pauli_1 = transpo2pauli(6, 1, 3)\n",
    "transpo_pauli_2 = transpo2pauli(6, 2, 3)\n",
    "print(np.imag(transpo_pauli_1.coeffs))\n",
    "print(np.imag(transpo_pauli_2.coeffs))\n",
    "# print(np.imag(transpo_pauli_1.compose(transpo_pauli_2).coeffs))\n",
    "a = PauliSumOp(transpo_pauli_2)\n",
    "# print(SparsePauliOp([transpo_pauli_1, transpo_pauli_2]))"
   ]
  },
  {
   "cell_type": "code",
   "execution_count": null,
   "id": "21fd8bb5",
   "metadata": {},
   "outputs": [],
   "source": []
  },
  {
   "cell_type": "code",
   "execution_count": null,
   "id": "6bae2cbd",
   "metadata": {},
   "outputs": [],
   "source": []
  },
  {
   "cell_type": "code",
   "execution_count": null,
   "id": "4462eb7a",
   "metadata": {},
   "outputs": [],
   "source": []
  }
 ],
 "metadata": {
  "kernelspec": {
   "display_name": "Python 3",
   "language": "python",
   "name": "python3"
  },
  "language_info": {
   "codemirror_mode": {
    "name": "ipython",
    "version": 3
   },
   "file_extension": ".py",
   "mimetype": "text/x-python",
   "name": "python",
   "nbconvert_exporter": "python",
   "pygments_lexer": "ipython3",
   "version": "3.9.7"
  },
  "vscode": {
   "interpreter": {
    "hash": "365090e2c22707149a78c9a2e641d903d92b98ddff306801a3908815bad6cd95"
   }
  }
 },
 "nbformat": 4,
 "nbformat_minor": 5
}
