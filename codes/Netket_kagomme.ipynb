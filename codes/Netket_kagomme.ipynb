{
 "cells": [
  {
   "cell_type": "code",
   "execution_count": 1,
   "id": "f7555ecc",
   "metadata": {},
   "outputs": [],
   "source": [
    "import numpy as np\n",
    "import matplotlib.pyplot as plt\n",
    "import numpy.linalg as LA\n",
    "import scipy\n",
    "import netket as nk\n",
    "import jax\n",
    "import jax.numpy as jnp\n",
    "import netket.nn as nknn\n",
    "from jax import grad, jit, vmap, vjp \n",
    "from jax import random\n",
    "from scipy.sparse.linalg import eigsh\n",
    "from scipy.linalg import eigh, eigvalsh\n",
    "from sympy.combinatorics import Permutation as Perm\n",
    "from sympy.interactive import init_printing\n",
    "import json\n",
    "import networkx as nx \n",
    "from jax import random\n",
    "import os\n",
    "os.environ[\"JAX_PLATFORM_NAME\"] = \"cpu\"\n",
    "import netket.nn as nknn\n",
    "import flax.linen as nn\n",
    "import time \n",
    "import json \n",
    "\n"
   ]
  },
  {
   "cell_type": "markdown",
   "id": "e42fb4e4",
   "metadata": {},
   "source": [
    "## J2 = 0.5 Case"
   ]
  },
  {
   "cell_type": "code",
   "execution_count": null,
   "id": "b408fd45",
   "metadata": {},
   "outputs": [],
   "source": [
    "'''\n",
    "\n",
    "The unfrustrated Ground state energy \n",
    "\n",
    "'''\n"
   ]
  },
  {
   "cell_type": "code",
   "execution_count": 52,
   "id": "3a24d4d9",
   "metadata": {},
   "outputs": [
    {
     "name": "stdout",
     "output_type": "stream",
     "text": [
      "The exact ground-state energy from computational basis for J2 = 0.5 is-- (-4.134292928399976) \n"
     ]
    }
   ],
   "source": [
    "J = [1, 0.5]\n",
    "# graph = nk.graph.Grid(extent= [2,4], pbc=False)\n",
    "# edges = graph.edges\n",
    "# nx.draw(graph.to_networkx(), with_labels=True, font_weight='bold')\n",
    "edge_colors = [[0, 1, 1], [0, 4, 1], [1, 2,1], \n",
    "               [2, 3, 1], [2,5,1], [4,6,1], [6,8,1], [6,7,1],\n",
    "              [5,9,1], [8,9,1],[9,10,1], [9,11,1],\n",
    "               # J2 terms now for the frustration \n",
    "               [1,4,2], [3,5,2], [5,8,2], [7,8,2], [10,11,2], [0,2,2],\n",
    "               [1,3,2], [2,9,2], [1,5,2], [5,10,2], [5,11,2], [8,10,2],\n",
    "               [8,11,2], [4,7,2], [0,6,2], [6,9,2], [4,8,2]]\n",
    "\n",
    "#Sigma^z*Sigma^z interactions\n",
    "sigmaz = [[1, 0], [0, -1]]\n",
    "mszsz = (np.kron(sigmaz, sigmaz))\n",
    "\n",
    "#Exchange interactions\n",
    "exchange = np.asarray([[0, 0, 0, 0], [0, 0, 2, 0], [0, 2, 0, 0], [0, 0, 0, 0]])\n",
    "\n",
    "bond_operator = [\n",
    "    (J[0] * mszsz).tolist(),\n",
    "    (J[1] * mszsz).tolist(),\n",
    "    (J[0] * exchange).tolist(),\n",
    "    (J[1] * exchange).tolist(),\n",
    "]\n",
    "\n",
    "bond_color = [1, 2, 1, 2]\n",
    "\n",
    "# graph = nk.graph.Grid(extent= [2,4], pbc=False, edge_colors = edge_colors)\n",
    "g = nk.graph.Graph(edges=edge_colors)\n",
    "# nx.draw(g.to_networkx(), with_labels=True, font_weight='bold')\n",
    "hi = nk.hilbert.Spin(s=float(0.5), total_sz=float(0.0), N=g.n_nodes)\n",
    "# print(g.edge_colors)\n",
    "ha = nk.operator.GraphOperator(hi, graph=g, bond_ops=bond_operator, bond_ops_colors=bond_color)\n",
    "evals = nk.exact.lanczos_ed(ha, compute_eigenvectors=False)\n",
    "exact_gs_energy1 = evals[0]\n",
    "print('The exact ground-state energy from computational basis for J2 = {} is-- ({}) '.format(J[1], exact_gs_energy1/float(4))) \n"
   ]
  },
  {
   "cell_type": "markdown",
   "id": "4f54a2b9",
   "metadata": {},
   "source": [
    "### Using the RBM "
   ]
  },
  {
   "cell_type": "code",
   "execution_count": 60,
   "id": "fe172ef9",
   "metadata": {},
   "outputs": [
    {
     "name": "stderr",
     "output_type": "stream",
     "text": [
      "100%|██████████| 5000/5000 [02:04<00:00, 40.30it/s, Energy=-6.360 ± 0.016 [σ²=0.254, R̂=1.3923]]            \n"
     ]
    },
    {
     "name": "stdout",
     "output_type": "stream",
     "text": [
      "### RBM calculation\n",
      "Has 168 parameters\n",
      "The RBM calculation took 124.11867904663086 seconds\n"
     ]
    }
   ],
   "source": [
    "# RBM ansatz with alpha=1\n",
    "ma = nk.models.RBM(alpha=1)\n",
    "# Build the sampler\n",
    "sa = nk.sampler.MetropolisExchange(hilbert=hi,graph=g)\n",
    "\n",
    "# Optimizer\n",
    "op = nk.optimizer.Sgd(learning_rate=float(5e-4))\n",
    "\n",
    "# Stochastic Reconfiguration\n",
    "sr = nk.optimizer.SR(diag_shift=float(0.1))\n",
    "\n",
    "# The variational state\n",
    "vs = nk.vqs.MCState(sa, ma, n_samples=int(1000))\n",
    "\n",
    "# The ground-state optimization loop\n",
    "gs = nk.VMC(\n",
    "    hamiltonian=ha,\n",
    "    optimizer=op,\n",
    "    preconditioner=sr,\n",
    "    variational_state=vs)\n",
    "\n",
    "start = time.time()\n",
    "gs.run(out='RBM', n_iter=int(5000))\n",
    "end = time.time()\n",
    "\n",
    "print('### RBM calculation')\n",
    "print('Has',vs.n_parameters,'parameters')\n",
    "print('The RBM calculation took',end-start,'seconds')\n",
    "\n",
    "# import the data from log file\n",
    "data=json.load(open(\"RBM.log\"))\n",
    "\n",
    "# Extract the relevant information\n",
    "iters_RBM1 = data[\"Energy\"][\"iters\"]\n",
    "energy_RBM1 = data[\"Energy\"][\"Mean\"]"
   ]
  },
  {
   "cell_type": "markdown",
   "id": "fee7dab8",
   "metadata": {},
   "source": [
    "### Using GCNN Approach "
   ]
  },
  {
   "cell_type": "code",
   "execution_count": null,
   "id": "d90d3ce3",
   "metadata": {},
   "outputs": [
    {
     "name": "stderr",
     "output_type": "stream",
     "text": [
      "/Users/liuping/opt/anaconda3/envs/sage/lib/python3.9/site-packages/netket/variational.py:29: FutureWarning: The `netket.variational` module is deprecated. Use `netket.vqs` instead.\n",
      "To fix this warning, change `netket.variational.MCState to `netket.vqs.MCState`.\n",
      "  _warn_deprecation(\n",
      "/Users/liuping/opt/anaconda3/envs/sage/lib/python3.9/site-packages/netket/driver/vmc.py:86: FutureWarning: The `sr` keyword argument is deprecated in favour of `preconditioner`.Please update your code to `VMC(.., precondioner=your_sr)`\n",
      "  warn_deprecation(\n",
      " 48%|████▊     | 2391/5000 [14:49<14:19,  3.04it/s, Energy=-7.470 ± 0.011 [σ²=0.113, R̂=1.0436]]            "
     ]
    }
   ],
   "source": [
    "symmetries = g.automorphisms()\n",
    "#Feature dimensions of hidden layers, from first to last\n",
    "feature_dims = (16, 16, 16, 16, 16)\n",
    "\n",
    "#Number of layers\n",
    "num_layers = 5\n",
    "\n",
    "#Define the GCNN\n",
    "ma = nk.models.GCNN(symmetries = symmetries, layers = num_layers, features = feature_dims)\n",
    "\n",
    "#Metropois-Hastings with two spins flipped that are at most second nearest neighbors\n",
    "sa = nk.sampler.MetropolisExchange(hilbert = hi, graph=g, d_max=2)\n",
    "\n",
    "#Stochaistic reconfiguration\n",
    "op = nk.optimizer.Sgd(learning_rate=1e-3)\n",
    "sr = nk.optimizer.SR(diag_shift=0.01)\n",
    "\n",
    "#Define a variational state so we can keep the parameters if we like\n",
    "vstate = nk.variational.MCState(sampler=sa, model=ma, n_samples=1000)\n",
    "\n",
    "#Define a driver that performs VMC\n",
    "gs = nk.driver.VMC(ha, op, sr=sr, variational_state=vstate)\n",
    "#Run the optimization\n",
    "gs.run(n_iter=5000, out='out')\n",
    "#Get data from log and\n",
    "energy_gcnn1 = []\n",
    "data_gcnn1=json.load(open(\"out.log\"))\n",
    "for en in data_gcnn1[\"Energy\"][\"Mean\"]:\n",
    "    energy_gcnn1.append(en)\n",
    "\n",
    "\n"
   ]
  },
  {
   "cell_type": "code",
   "execution_count": 64,
   "id": "b2517733",
   "metadata": {},
   "outputs": [],
   "source": [
    "import pandas as pd \n",
    "df = pd.read_csv('../data/CQA_J05_kagome.csv')\n",
    "CQA_energy1 = df.to_numpy()[:,1]\n",
    "CQA_iters1 = np.multiply(df.to_numpy()[:,0], 5.0)"
   ]
  },
  {
   "cell_type": "code",
   "execution_count": 42,
   "id": "c9d979fc",
   "metadata": {},
   "outputs": [
    {
     "name": "stdout",
     "output_type": "stream",
     "text": [
      "-4.837443935933652\n"
     ]
    }
   ],
   "source": [
    "print(min(CQA_energy2))"
   ]
  },
  {
   "cell_type": "code",
   "execution_count": 70,
   "id": "230a5fbb",
   "metadata": {},
   "outputs": [
    {
     "data": {
      "image/png": "[encoded data removed]",
      "text/plain": [
       "<Figure size 432x288 with 1 Axes>"
      ]
     },
     "metadata": {
      "needs_background": "light"
     },
     "output_type": "display_data"
    }
   ],
   "source": [
    "fig, ax1 = plt.subplots()\n",
    "ax1.plot(iters_RBM1, np.divide(energy_RBM1,float(4.0)), color='violet', label='Energy (RBM)')\n",
    "ax1.plot(iters_RBM1, np.divide(energy_gcnn1,float(4.0)), color='paleturquoise', label='Energy (GCNN)')\n",
    "ax1.plot(CQA_iters1, CQA_energy1, color='tomato', label='Energy (Sn-CQA)')\n",
    "\n",
    "ax1.set_ylabel('Energy')\n",
    "ax1.set_xlabel('Iteration')\n",
    "ax1.set_ylim([-5, 2])\n",
    "# plt.axis([0,iters_RBM[-1],exact_gs_energy-0.03,exact_gs_energy+0.2])\n",
    "plt.axhline(y=np.divide(exact_gs_energy1, float(4.0)), xmin=0,\n",
    "                xmax=iters_RBM1[-1], linewidth=2, color='k', label='Exact=-4.134293')\n",
    "ax1.legend()\n",
    "plt.title('12-spin Kagome at J2/J1 = 0.5')\n",
    "plt.show()\n",
    "fig.savefig('../data/Kagome_J05.png')"
   ]
  },
  {
   "cell_type": "code",
   "execution_count": 45,
   "id": "bd678981",
   "metadata": {},
   "outputs": [],
   "source": [
    "netket1 = dict()\n",
    "netket1['GCNN'] = np.divide(energy_gcnn1,float(4.0))\n",
    "netket1['RBM'] = np.divide(energy_RBM1,float(4.0))\n",
    "netket1['Exact'] = [exact_gs_energy1/4 for i in range(5000)]\n",
    "\n",
    "netket_df1 = pd.DataFrame.from_dict(netket1)\n",
    "netket_df1.to_csv('../data/Netket_J05_Kagome.csv')"
   ]
  },
  {
   "cell_type": "code",
   "execution_count": null,
   "id": "8656e2b0",
   "metadata": {},
   "outputs": [],
   "source": []
  },
  {
   "cell_type": "markdown",
   "id": "1f2ac2a0",
   "metadata": {},
   "source": [
    "## J2 = 0.8 Cases "
   ]
  },
  {
   "cell_type": "code",
   "execution_count": 23,
   "id": "ff11b364",
   "metadata": {},
   "outputs": [
    {
     "name": "stdout",
     "output_type": "stream",
     "text": [
      "The exact ground-state energy from computational basis for J2 = 0.8 is-- (-4.894586162226819) \n"
     ]
    }
   ],
   "source": [
    "J = [1, 0.8]\n",
    "# graph = nk.graph.Grid(extent= [2,4], pbc=False)\n",
    "# edges = graph.edges\n",
    "# nx.draw(graph.to_networkx(), with_labels=True, font_weight='bold')\n",
    "edge_colors = [[0, 1, 1], [0, 4, 1], [1, 2,1], \n",
    "               [2, 3, 1], [2,5,1], [4,6,1], [6,8,1], [6,7,1],\n",
    "              [5,9,1], [8,9,1],[9,10,1], [9,11,1],\n",
    "               # J2 terms now for the frustration \n",
    "               [1,4,2], [3,5,2], [5,8,2], [7,8,2], [10,11,2], [0,2,2],\n",
    "               [1,3,2], [2,9,2], [1,5,2], [5,10,2], [5,11,2], [8,10,2],\n",
    "               [8,11,2], [4,7,2], [0,6,2], [6,9,2], [4,8,2]]\n",
    "\n",
    "#Sigma^z*Sigma^z interactions\n",
    "sigmaz = [[1, 0], [0, -1]]\n",
    "mszsz = (np.kron(sigmaz, sigmaz))\n",
    "\n",
    "#Exchange interactions\n",
    "exchange = np.asarray([[0, 0, 0, 0], [0, 0, 2, 0], [0, 2, 0, 0], [0, 0, 0, 0]])\n",
    "\n",
    "bond_operator = [\n",
    "    (J[0] * mszsz).tolist(),\n",
    "    (J[1] * mszsz).tolist(),\n",
    "    (J[0] * exchange).tolist(),\n",
    "    (J[1] * exchange).tolist(),\n",
    "]\n",
    "\n",
    "bond_color = [1, 2, 1, 2]\n",
    "\n",
    "# graph = nk.graph.Grid(extent= [2,4], pbc=False, edge_colors = edge_colors)\n",
    "g = nk.graph.Graph(edges=edge_colors)\n",
    "# nx.draw(g.to_networkx(), with_labels=True, font_weight='bold')\n",
    "hi = nk.hilbert.Spin(s=float(0.5), total_sz=float(0.0), N=g.n_nodes)\n",
    "# print(g.edge_colors)\n",
    "ha = nk.operator.GraphOperator(hi, graph=g, bond_ops=bond_operator, bond_ops_colors=bond_color)\n",
    "evals = nk.exact.lanczos_ed(ha, compute_eigenvectors=False)\n",
    "exact_gs_energy2 = evals[0]\n",
    "print('The exact ground-state energy from computational basis for J2 = {} is-- ({}) '.format(J[1], exact_gs_energy2/float(4))) \n",
    "\n"
   ]
  },
  {
   "cell_type": "markdown",
   "id": "c9085efb",
   "metadata": {},
   "source": [
    "### Using RBM"
   ]
  },
  {
   "cell_type": "code",
   "execution_count": 24,
   "id": "95a3ae67",
   "metadata": {},
   "outputs": [
    {
     "name": "stderr",
     "output_type": "stream",
     "text": [
      "100%|██████████| 5000/5000 [02:46<00:00, 30.02it/s, Energy=-6.392e+00 ± 1.678e-16 [σ²=2.840e-29, R̂=0.9922]]\n"
     ]
    },
    {
     "name": "stdout",
     "output_type": "stream",
     "text": [
      "### RBM calculation\n",
      "Has 168 parameters\n",
      "The RBM calculation took 171.25403308868408 seconds\n"
     ]
    }
   ],
   "source": [
    "# RBM ansatz with alpha=1\n",
    "ma = nk.models.RBM(alpha=1)\n",
    "# Build the sampler\n",
    "sa = nk.sampler.MetropolisExchange(hilbert=hi,graph=g)\n",
    "\n",
    "# Optimizer\n",
    "op = nk.optimizer.Sgd(learning_rate=float(5e-4))\n",
    "\n",
    "# Stochastic Reconfiguration\n",
    "sr = nk.optimizer.SR(diag_shift=float(0.1))\n",
    "\n",
    "# The variational state\n",
    "vs = nk.vqs.MCState(sa, ma, n_samples=int(1000))\n",
    "\n",
    "# The ground-state optimization loop\n",
    "gs = nk.VMC(\n",
    "    hamiltonian=ha,\n",
    "    optimizer=op,\n",
    "    preconditioner=sr,\n",
    "    variational_state=vs)\n",
    "\n",
    "start = time.time()\n",
    "gs.run(out='RBM', n_iter=int(5000))\n",
    "end = time.time()\n",
    "\n",
    "print('### RBM calculation')\n",
    "print('Has',vs.n_parameters,'parameters')\n",
    "print('The RBM calculation took',end-start,'seconds')\n",
    "\n",
    "# import the data from log file\n",
    "data=json.load(open(\"RBM.log\"))\n",
    "\n",
    "# Extract the relevant information\n",
    "iters_RBM2 = data[\"Energy\"][\"iters\"]\n",
    "energy_RBM2 = data[\"Energy\"][\"Mean\"]"
   ]
  },
  {
   "cell_type": "markdown",
   "id": "a5bff8db",
   "metadata": {},
   "source": [
    "### Using GCNN"
   ]
  },
  {
   "cell_type": "code",
   "execution_count": 46,
   "id": "74b9e4ca",
   "metadata": {},
   "outputs": [
    {
     "name": "stderr",
     "output_type": "stream",
     "text": [
      "/Users/liuping/opt/anaconda3/envs/sage/lib/python3.9/site-packages/netket/variational.py:29: FutureWarning: The `netket.variational` module is deprecated. Use `netket.vqs` instead.\n",
      "To fix this warning, change `netket.variational.MCState to `netket.vqs.MCState`.\n",
      "  _warn_deprecation(\n",
      "/Users/liuping/opt/anaconda3/envs/sage/lib/python3.9/site-packages/netket/driver/vmc.py:86: FutureWarning: The `sr` keyword argument is deprecated in favour of `preconditioner`.Please update your code to `VMC(.., precondioner=your_sr)`\n",
      "  warn_deprecation(\n",
      "100%|██████████| 5000/5000 [42:06<00:00,  1.98it/s, Energy=-4.666 ± 0.014 [σ²=0.201, R̂=1.1475]]   \n"
     ]
    }
   ],
   "source": [
    "symmetries = g.automorphisms()\n",
    "#Feature dimensions of hidden layers, from first to last\n",
    "feature_dims = (16, 16, 16, 16, 16)\n",
    "\n",
    "#Number of layers\n",
    "num_layers = 5\n",
    "\n",
    "#Define the GCNN\n",
    "ma = nk.models.GCNN(symmetries = symmetries, layers = num_layers, features = feature_dims)\n",
    "\n",
    "#Metropois-Hastings with two spins flipped that are at most second nearest neighbors\n",
    "sa = nk.sampler.MetropolisExchange(hilbert = hi, graph=g, d_max=2)\n",
    "\n",
    "#Stochaistic reconfiguration\n",
    "op = nk.optimizer.Sgd(learning_rate=2e-4)\n",
    "sr = nk.optimizer.SR(diag_shift=0.01)\n",
    "\n",
    "#Define a variational state so we can keep the parameters if we like\n",
    "vstate = nk.variational.MCState(sampler=sa, model=ma, n_samples=1000)\n",
    "\n",
    "#Define a driver that performs VMC\n",
    "gs = nk.driver.VMC(ha, op, sr=sr, variational_state=vstate)\n",
    "#Run the optimization\n",
    "gs.run(n_iter=5000, out='out')\n",
    "#Get data from log and\n",
    "energy_gcnn2 = []\n",
    "data_gcnn2=json.load(open(\"out.log\"))\n",
    "for en in data_gcnn2[\"Energy\"][\"Mean\"]:\n",
    "    energy_gcnn2.append(en)\n",
    "\n",
    "\n",
    "\n"
   ]
  },
  {
   "cell_type": "code",
   "execution_count": 26,
   "id": "8de52e3f",
   "metadata": {},
   "outputs": [],
   "source": []
  },
  {
   "cell_type": "code",
   "execution_count": 47,
   "id": "0d6e43a5",
   "metadata": {},
   "outputs": [],
   "source": [
    "import pandas as pd \n",
    "df = pd.read_csv('../data/CQA_J08_kagome.csv')\n",
    "CQA_energy2 = df.to_numpy()[:,1]\n",
    "CQA_iters2 = np.multiply(df.to_numpy()[:,0], 5.0)"
   ]
  },
  {
   "cell_type": "code",
   "execution_count": 51,
   "id": "e7b6d7f2",
   "metadata": {},
   "outputs": [
    {
     "data": {
      "image/png": "[encoded data removed]",
      "text/plain": [
       "<Figure size 432x288 with 1 Axes>"
      ]
     },
     "metadata": {
      "needs_background": "light"
     },
     "output_type": "display_data"
    }
   ],
   "source": [
    "fig, ax1 = plt.subplots()\n",
    "ax1.plot(iters_RBM2, np.divide(energy_RBM2,float(4.0)), color='violet', label='Energy (RBM)')\n",
    "ax1.plot(iters_RBM2, np.divide(energy_gcnn2,float(4.0)), color='paleturquoise', label='Energy (GCNN)')\n",
    "ax1.plot(CQA_iters2, CQA_energy2, color='tomato', label='Energy (Sn-CQA)')\n",
    "\n",
    "ax1.set_ylabel('Energy')\n",
    "ax1.set_xlabel('Iteration')\n",
    "ax1.set_ylim([-5, 2])\n",
    "# plt.axis([0,iters_RBM[-1],exact_gs_energy-0.03,exact_gs_energy+0.2])\n",
    "plt.axhline(y=np.divide(exact_gs_energy2, float(4.0)), xmin=0,\n",
    "                xmax=iters_RBM2[-1], linewidth=2, color='k', label='Exact=-4.8945862')\n",
    "ax1.legend()\n",
    "plt.title('12-spin Kagome at J2/J1 = 0.8')\n",
    "plt.show()\n",
    "fig.savefig('../data/Kagome_J08.png')"
   ]
  },
  {
   "cell_type": "code",
   "execution_count": 50,
   "id": "28c7f05f",
   "metadata": {},
   "outputs": [],
   "source": [
    "netket2 = dict()\n",
    "netket2['GCNN'] = np.divide(energy_gcnn2,float(4.0))\n",
    "netket2['RBM'] = np.divide(energy_RBM2,float(4.0))\n",
    "netket2['Exact'] = [exact_gs_energy2/4 for i in range(5000)]\n",
    "\n",
    "netket_df2 = pd.DataFrame.from_dict(netket2)\n",
    "netket_df2.to_csv('../data/NetKet_J08_kagome.csv')"
   ]
  },
  {
   "cell_type": "code",
   "execution_count": null,
   "id": "9da607d2",
   "metadata": {},
   "outputs": [],
   "source": []
  }
 ],
 "metadata": {
  "kernelspec": {
   "display_name": "Python 3",
   "language": "python",
   "name": "python3"
  },
  "language_info": {
   "codemirror_mode": {
    "name": "ipython",
    "version": 3
   },
   "file_extension": ".py",
   "mimetype": "text/x-python",
   "name": "python",
   "nbconvert_exporter": "python",
   "pygments_lexer": "ipython3",
   "version": "3.9.6"
  }
 },
 "nbformat": 4,
 "nbformat_minor": 5
}
