{
 "cells": [
  {
   "cell_type": "code",
   "execution_count": 1,
   "id": "d3e5b6a1",
   "metadata": {},
   "outputs": [
    {
     "data": {
      "text/plain": [
       "'\\nRUN THIS IN SAGEMATH9.2 environment. A new conda environment is recommanded!! \\n'"
      ]
     },
     "execution_count": 1,
     "metadata": {},
     "output_type": "execute_result"
    }
   ],
   "source": [
    "# from jupyterthemes import get_themes\n",
    "# !jt -t solarizedd -T -N -kl\n",
    "\n",
    "'''\n",
    "RUN THIS IN SAGEMATH9.2 environment. A new conda environment is recommanded!! \n",
    "'''"
   ]
  },
  {
   "cell_type": "code",
   "execution_count": 2,
   "id": "d75bc8de",
   "metadata": {},
   "outputs": [],
   "source": [
    "import numpy as np\n",
    "import matplotlib as plt\n",
    "import numpy.linalg as LA\n",
    "from sage.combinat.symmetric_group_representations import SymmetricGroupRepresentation\n",
    "from sage.combinat.permutation import *\n",
    "import scipy\n",
    "import netket as nk\n",
    "import jax\n",
    "import jax.numpy as jnp\n",
    "import netket.nn as nknn\n",
    "from jax import grad, jit, vmap, vjp \n",
    "from jax import random\n",
    "from scipy.sparse.linalg import eigsh\n",
    "from scipy.linalg import eigh, eigvalsh\n",
    "from sympy.combinatorics import Permutation as Perm\n",
    "from sympy.interactive import init_printing\n",
    "import json\n",
    "import networkx as nx \n",
    "from FourierFilters import FourierFilters\n",
    "from sgd import CSnGradient\n",
    "from jax import random "
   ]
  },
  {
   "cell_type": "code",
   "execution_count": null,
   "id": "d48ca8f7",
   "metadata": {},
   "outputs": [],
   "source": []
  },
  {
   "cell_type": "markdown",
   "id": "e668f659",
   "metadata": {},
   "source": [
    "#### This module consited of building and training module from unfrustrated J2 =0 lattice diagram working in the partition = [n/2, n/2],  the subspace for the true ground state in the unfrusrated region by the Marshall Sign-rule\n",
    "\n",
    "\n"
   ]
  },
  {
   "cell_type": "markdown",
   "id": "8fb05df4",
   "metadata": {
    "slideshow": {
     "slide_type": "-"
    }
   },
   "source": [
    "#  CSn Fourier Filters & Finding the Ground States of J1-J2 Heisenberg "
   ]
  },
  {
   "cell_type": "markdown",
   "id": "f04dc8f3",
   "metadata": {},
   "source": [
    "#### Need the SageMath9.2 environment installed via a conda env or a virtual env... recommend a new conda env "
   ]
  },
  {
   "cell_type": "markdown",
   "id": "8befae1c",
   "metadata": {},
   "source": [
    "#### Use JAX, NetKet, Torch packages for notebook"
   ]
  },
  {
   "cell_type": "markdown",
   "id": "59c4dad6",
   "metadata": {},
   "source": [
    "## CSn FourierFilter Class "
   ]
  },
  {
   "cell_type": "markdown",
   "id": "56b705d2",
   "metadata": {},
   "source": []
  },
  {
   "cell_type": "markdown",
   "id": "b482235e",
   "metadata": {},
   "source": [
    "### Example (J1-J2) on the 3-square lattice "
   ]
  },
  {
   "cell_type": "code",
   "execution_count": 3,
   "id": "3b4022d7",
   "metadata": {},
   "outputs": [
    {
     "name": "stdout",
     "output_type": "stream",
     "text": [
      "[(1, 5), (1, 2), (2, 6), (2, 3), (3, 7), (3, 4), (4, 8), (5, 6), (6, 7), (7, 8)]\n"
     ]
    },
    {
     "data": {
      "image/png": "[encoded data removed]",
      "text/plain": [
       "<Figure size 432x288 with 1 Axes>"
      ]
     },
     "metadata": {},
     "output_type": "display_data"
    }
   ],
   "source": [
    "\n",
    "graph = nx.generators.lattice.grid_2d_graph(2,4)\n",
    "graph = nx.relabel.convert_node_labels_to_integers(graph, first_label=1)\n",
    "# obs = []\n",
    "# coeffs = []\n",
    "# for edge in graph.edges():\n",
    "#     print(edge)\n",
    "#     coeffs.extend([1.0, 1.0, 1.0])\n",
    "#     obs.extend([qml.PauliX(edge[0]) @ qml.PauliX(edge[1]),\n",
    "#                         qml.PauliY(edge[0]) @ qml.PauliY(edge[1]),\n",
    "#                         qml.PauliZ(edge[0]) @ qml.PauliZ(edge[1])])\n",
    "# hamiltonian_heisenberg = qml.Hamiltonian(coeffs, obs)\n",
    "\n",
    "\n",
    "nx.draw(graph, with_labels=True, font_weight='bold')\n",
    "print(graph.edges())"
   ]
  },
  {
   "cell_type": "code",
   "execution_count": null,
   "id": "92d0001c",
   "metadata": {},
   "outputs": [],
   "source": []
  },
  {
   "cell_type": "code",
   "execution_count": 4,
   "id": "426565f6",
   "metadata": {},
   "outputs": [
    {
     "name": "stderr",
     "output_type": "stream",
     "text": [
      "INFO:absl:Unable to initialize backend 'tpu_driver': NOT_FOUND: Unable to find driver in registry given worker: \n",
      "INFO:absl:Unable to initialize backend 'gpu': NOT_FOUND: Could not find registered platform with name: \"cuda\". Available platform names are: Interpreter Host\n",
      "INFO:absl:Unable to initialize backend 'tpu': INVALID_ARGUMENT: TpuPlatform is not available.\n",
      "WARNING:absl:No GPU/TPU found, falling back to CPU. (Set TF_CPP_MIN_LOG_LEVEL=0 and rerun for more info.)\n"
     ]
    },
    {
     "name": "stdout",
     "output_type": "stream",
     "text": [
      "True Ground state Energy via ED: -4.29306645665707 \n",
      "True Ground State wavefuncion in Sn irrep basis: [ 0.15237393  0.0651285  -0.00648768  0.28327447 -0.00648768  0.25822267\n",
      " -0.31443686  0.14116936 -0.17426199  0.28327447 -0.31443686  0.13560986\n",
      " -0.17426199  0.66969703]\n",
      "Irrep Dims for [4, 4]: --- 14\n"
     ]
    }
   ],
   "source": [
    "J = [1, 0] # unfrustrated system for now \n",
    "# lattice2 = [[(1,2), (2,3), (3,4),(4,5), (5,6),(1,6), (2,5)],[(1,5), (2,6), (2,4), (3,5),(1,3), (4,6)]]\n",
    "lattice3 = [graph.edges(), \n",
    "            [(2,5), (5,7), (1,6), (6,8), (3,6), (2,7), (7, 4), (3,8), (2,4), (1,3)]]\n",
    "partit = [int(4),int(4)]\n",
    "Nsites = int( 8) \n",
    "\n",
    "\n",
    "CsnFourier = CSnGradient(J= J, lattice = lattice3, Nsites=Nsites, \n",
    "                    partit=partit,p=int(3), num_samples =int(20), max_iter = int(1001))\n",
    "\n",
    "\n",
    "Ham_rep = CsnFourier.Ham_rep()\n",
    "\n",
    "# print(CsnFilters.rep_mat_H)\n",
    "E_gs, V_gs = eigh(Ham_rep.astype('float64'), subset_by_index=[0,1])\n",
    "V_gs = V_gs[:,0]\n",
    "E_gs = E_gs[0]\n",
    "V_gs = jnp.asarray(V_gs)\n",
    "print('True Ground state Energy via ED: {} '.format( E_gs))\n",
    "print('True Ground State wavefuncion in Sn irrep basis: {}'.format(V_gs))\n",
    "\n",
    "print('Irrep Dims for {}: --- {}'.format(partit, CsnFourier.dim))\n",
    "\n",
    "# print(Ham_rep)"
   ]
  },
  {
   "cell_type": "markdown",
   "id": "1f03163e",
   "metadata": {},
   "source": [
    "Objective is to minialize the expectation $\\langle \\Psi(\\vec{\\theta})| \\widehat{H}|\\Psi(\\vec{\\theta})\\rangle $ "
   ]
  },
  {
   "cell_type": "markdown",
   "id": "31294366",
   "metadata": {},
   "source": [
    "Three criterions needed: (1) Energy (2) Sign structure (sign of the coefficients) (3) Spin-Spin correlation  $S^{2}(\\vec{q})=\\frac{1}{n(n+2)} \\sum_{i, j}\\left\\langle\\hat{\\boldsymbol{S}}_{i} \\cdot \\hat{\\boldsymbol{S}}_{j}\\right\\rangle e^{i \\vec{q} \\cdot\\left(\\vec{r}_{i}-\\vec{r}_{j}\\right)}$"
   ]
  },
  {
   "cell_type": "markdown",
   "id": "a6b5effa",
   "metadata": {},
   "source": [
    "### Step 1:  To calculate the Mixing hamiltonian $H_M = \\sum_{k \\leq \\ell} \\beta_{k, \\ell} X_k X_{\\ell}$ and its Sn irrep form under partit = [4,4]"
   ]
  },
  {
   "cell_type": "code",
   "execution_count": null,
   "id": "eefc6d0c",
   "metadata": {},
   "outputs": [],
   "source": [
    "'''\n",
    "use SageMath9.2 environment. Alert may not be complient with the JAX \n",
    "Here we aim to get the YJMs X_1X_8 and X_3X_4\n",
    "'''\n",
    "\n",
    "X1X8 = CsnFourier.get_YJMs(1,8, opt = 'exact')\n",
    "X3X4 = CsnFourier.get_YJMs(3,4, opt = 'exact')\n",
    "\n",
    "print('YJMs with X1X8 is {}'.format(X1X8))\n",
    "print('-----------------')\n",
    "print('YJMs with X3X4 is {}'.format(X3X4))\n",
    "\n",
    "\n"
   ]
  },
  {
   "cell_type": "code",
   "execution_count": null,
   "id": "44f1c845",
   "metadata": {},
   "outputs": [],
   "source": [
    "'''\n",
    "NOw we store the H_M and H_p into two seperate csv files \n",
    "(I will update a google colab very soon so that no SageMath is needed )\n",
    "'''\n",
    "\n",
    "import pandas as pd\n",
    "\n",
    "Num = CsnFourier.Nsites* (CsnFourier.Nsites + 1) /2\n",
    "# Hm_matrix = np.zeros((Num, CsnFourier.dim  ))\n",
    "Hm_matrix = dict()\n",
    "for i in range(1, CsnFourier.Nsites+1): \n",
    "    if i ==CsnFourier.Nsites: \n",
    "        YJM_rep = CsnFourier.get_YJMs(i, i)\n",
    "        Hm_matrix[(i,i)] = np.diag(YJM_rep)\n",
    "    for j in range(i, CsnFourier.Nsites+1):\n",
    "        YJM_rep = CsnFourier.get_YJMs(i, j)\n",
    "        Hm_matrix[(i,j)] = np.diag(YJM_rep)\n",
    "\n",
    "print(Hm_matrix)\n",
    "    "
   ]
  },
  {
   "cell_type": "code",
   "execution_count": null,
   "id": "0b520886",
   "metadata": {},
   "outputs": [],
   "source": [
    "print(Hm_matrix.keys())\n",
    "df = pd.DataFrame.from_dict(Hm_matrix)\n",
    "df\n",
    "df.to_csv('../data/YJM_S0_8_s.csv')\n",
    "\n",
    "'''\n",
    "file read YJM at total spin S=0 irrep with sites number = 8 for the square lattice\n",
    "'''"
   ]
  },
  {
   "cell_type": "code",
   "execution_count": null,
   "id": "009e0685",
   "metadata": {},
   "outputs": [],
   "source": [
    "'''\n",
    "We also write heisenberg into csv \n",
    "'''\n",
    "\n",
    "Heisenberg = CsnFourier.Ham_rep()\n",
    "\n",
    "df2 = pd.DataFrame(Heisenberg)\n",
    "df2.to_csv('../data/Heisenberg_S0_8_s.csv')"
   ]
  },
  {
   "cell_type": "code",
   "execution_count": null,
   "id": "0ef14dd6",
   "metadata": {},
   "outputs": [],
   "source": [
    "'''\n",
    "Compute the exp(-i H_M) in this Sn irrep partition = [4,4] \n",
    "(time parameters implied in the coupling strength)\n",
    "'''\n",
    "YJMparams, Hparams = CsnFourier.random_params2(scale=float(1e0))\n",
    "# YJMparams = Params[0]\n",
    "YJMparams_p1 = YJMparams.at[:,:,int(0)].get()\n",
    "YJM_ansazte = CsnFourier.YJM_Conv2d(YJMparams_p1)"
   ]
  },
  {
   "cell_type": "code",
   "execution_count": null,
   "id": "af5ef752",
   "metadata": {},
   "outputs": [],
   "source": []
  },
  {
   "cell_type": "code",
   "execution_count": null,
   "id": "35ff6153",
   "metadata": {},
   "outputs": [],
   "source": [
    "print('YJM_ansazte per layer (must be stricly diagonal):   {}'.format(jnp.diag(YJM_ansazte)))"
   ]
  },
  {
   "cell_type": "code",
   "execution_count": null,
   "id": "ca29963f",
   "metadata": {},
   "outputs": [],
   "source": [
    "'''\n",
    "Compute the time evolution oeperator exp(-it H)\n",
    "'''\n",
    "# Hparams = Params[1]\n",
    "Hparams_p1 = Hparams.at[int(0)].get()\n",
    "\n",
    "Heisenberg = CsnFourier.Ham_rep()\n",
    "Evolution_conv = CsnFourier.Heis_Conv2d(Hparams_p1, Heisenberg)"
   ]
  },
  {
   "cell_type": "markdown",
   "id": "c9a8ac91",
   "metadata": {},
   "source": [
    "### Step 2: Build the QAOA ansatze: $U(\\vec{\\theta}) = exp(-iH_M) exp(-iH) \\cdots exp(-iH_M) exp(-iH)$ with random parameters in Sn irrep with partition $\\lambda=[4,4]$"
   ]
  },
  {
   "cell_type": "code",
   "execution_count": null,
   "id": "5f55d4ed",
   "metadata": {},
   "outputs": [],
   "source": [
    "'''\n",
    "In this class we have initilized p =3 So we can compute the entire ansatze by calling the following \n",
    "'''\n",
    "CSnQAOA = CsnFourier.CSn_Ansazte(YJMparams, Hparams)"
   ]
  },
  {
   "cell_type": "code",
   "execution_count": null,
   "id": "e68182a2",
   "metadata": {},
   "outputs": [],
   "source": [
    "print('Dims of CSnQAOA Ansatze {}'.format(CSnQAOA.shape))"
   ]
  },
  {
   "cell_type": "code",
   "execution_count": null,
   "id": "3d72196e",
   "metadata": {},
   "outputs": [],
   "source": []
  },
  {
   "cell_type": "markdown",
   "id": "ff25b365",
   "metadata": {},
   "source": [
    "### Step 3: Sample (randomly) basis vectors and compute triial wavefunction: $| \\Psi(\\vec{\\theta}) \\rangle = \\sum_i U(\\vec{\\theta}) | v_{T_i}\\rangle$"
   ]
  },
  {
   "cell_type": "code",
   "execution_count": null,
   "id": "87777625",
   "metadata": {},
   "outputs": [],
   "source": [
    "'''\n",
    "We randomly sample basis states; \n",
    "later we might add more sophisticated method such as gradient based sampling\n",
    "'''\n",
    "\n",
    "\n",
    "\n",
    "trial_state = CsnFourier.CSn_VStates(YJMparams, Hparams)\n",
    "# trial_state = CsnFourier.CSn_VStates(YJMparams, Hparams)\n"
   ]
  },
  {
   "cell_type": "code",
   "execution_count": null,
   "id": "ec34989d",
   "metadata": {},
   "outputs": [],
   "source": [
    "'''\n",
    "Note that our state is strictly real-valued since we DO NOT add complex number \n",
    "'''\n",
    "print(trial_state)\n",
    "print('---------------')\n",
    "print('norm of the trial state: {}'.format(jnp.linalg.norm(trial_state)))"
   ]
  },
  {
   "cell_type": "code",
   "execution_count": null,
   "id": "f80368ea",
   "metadata": {},
   "outputs": [],
   "source": [
    "'''\n",
    "Let's see how the custom-derivative would work in this case\n",
    "'''\n",
    "\n",
    "\n"
   ]
  },
  {
   "cell_type": "code",
   "execution_count": null,
   "id": "c5051ea2",
   "metadata": {},
   "outputs": [],
   "source": [
    "'''\n",
    "let's see the expectation value for this randomly chosen trial state \n",
    "'''\n",
    "\n",
    "T_gs = jnp.matmul(jnp.matmul(jnp.conjugate(trial_state), Heisenberg), trial_state)\n",
    "print('Trial state expectation value: {}'.format(jnp.linalg.norm(T_gs)))\n"
   ]
  },
  {
   "cell_type": "markdown",
   "id": "2b0247e4",
   "metadata": {},
   "source": [
    "### Step 4:  Optimize wrt. $\\vec{\\theta}$ using either (1) SGD (2) Natural gradient (SR) (still Working on )"
   ]
  },
  {
   "cell_type": "markdown",
   "id": "2add117c",
   "metadata": {},
   "source": [
    "#### Using Gradient Descent with momentum "
   ]
  },
  {
   "cell_type": "code",
   "execution_count": null,
   "id": "0a6a854b",
   "metadata": {},
   "outputs": [],
   "source": [
    "'''\n",
    "Energy minialization functional \n",
    "'''\n",
    "# rep_H = self.Ham_rep()\n",
    "# rep_H = jnp.asarray(rep_H.astype('complex128'))\n",
    "# def Expect_braket(Params, rep_H):\n",
    "#     groundstate = self.CSn_VStates(Params)\n",
    "#     return jnp.matmul(jnp.conjugate(groundstate), jnp.matmul(rep_H, groundstate)) / jnp.linalg.norm(groundstate)\n",
    "\n",
    "# def vgrad(f, x):\n",
    "#   y, vjp_fn = vjp(f, x)\n",
    "#   return vjp_fn(jnp.ones(y.shape))[int(0)]\n",
    "\n",
    "# print(vgrad(lambda x: jnp.exp(jnp.multiply(jnp.asarray(1j), x)), jnp.ones((int(2), int(2)))))\n"
   ]
  },
  {
   "cell_type": "markdown",
   "id": "b75016ba",
   "metadata": {},
   "source": [
    "#### Using the energy function: $E[\\widetilde{\\Psi}]$"
   ]
  },
  {
   "cell_type": "code",
   "execution_count": null,
   "id": "15c4c9a4",
   "metadata": {},
   "outputs": [],
   "source": [
    "# trial_GS = CsnFourier.Groundstate()\n",
    "YJMparams, Hparams = CsnFourier.GD_momentum()\n",
    "\n"
   ]
  },
  {
   "cell_type": "code",
   "execution_count": null,
   "id": "e6e0fd50",
   "metadata": {},
   "outputs": [],
   "source": [
    "# Heisenberg = CsnFourier.Ham_rep()\n",
    "# Heisenberg = jnp.asarray(Heisenberg, dtype ='float64')\n",
    "O_gs = CsnFourier.Groundstate(YJMparams, Hparams)\n",
    "optimized_energy = CsnFourier.Expect_braket_energy(YJMparams, Hparams)\n"
   ]
  },
  {
   "cell_type": "code",
   "execution_count": null,
   "id": "bafb8814",
   "metadata": {},
   "outputs": [],
   "source": [
    "V_gs = jnp.asarray(V_gs)\n",
    "\n",
    "print('the optimized ground state: {}'.format(O_gs))\n",
    "print('------------------------------------')\n",
    "print('Optimized lowest energy: {}'.format(optimized_energy))\n",
    "print('-------------------------------------')\n",
    "print('True Ground State wavefuncion in Sn irrep basis: {}'.format(V_gs))\n",
    "print('-------------------------------------')\n",
    "print('The overlap between the optimized state and the ground state: {}'.format(jnp.dot(O_gs,\n",
    "                                                                               V_gs)))\n",
    "\n"
   ]
  },
  {
   "cell_type": "markdown",
   "id": "a6d7826a",
   "metadata": {},
   "source": [
    "#### Using the Overlap WIth ED Groundstate energy "
   ]
  },
  {
   "cell_type": "code",
   "execution_count": null,
   "id": "cc14616e",
   "metadata": {},
   "outputs": [],
   "source": [
    "'''\n",
    "Loss function written to overlap with energy \n",
    "'''\n",
    "\n",
    "YJMparams, Hparams = CsnFourier.GD_momentum(opt='overlap_energy')"
   ]
  },
  {
   "cell_type": "code",
   "execution_count": null,
   "id": "39467ba1",
   "metadata": {},
   "outputs": [],
   "source": [
    "O_gs = CsnFourier.Groundstate(YJMparams, Hparams)\n",
    "optimized_energy = CsnFourier.Expect_braket_energy(YJMparams, Hparams)\n"
   ]
  },
  {
   "cell_type": "code",
   "execution_count": null,
   "id": "5ee16871",
   "metadata": {},
   "outputs": [],
   "source": [
    "V_gs = jnp.asarray(V_gs.at[:,int(0)].get())\n",
    "\n",
    "\n",
    "print('the optimized ground state: {}'.format(O_gs))\n",
    "print('------------------------------------')\n",
    "print('Optimized lowest energy: {}'.format(optimized_energy))\n",
    "print('-------------------------------------')\n",
    "print('True Ground State wavefuncion in Sn irrep basis: {}'.format(V_gs))\n",
    "print('-------------------------------------')\n",
    "print('The overlap between the optimized state and the ground state: {}'.format(jnp.dot(O_gs,\n",
    "                                                                               V_gs)))\n",
    "\n"
   ]
  },
  {
   "cell_type": "code",
   "execution_count": 5,
   "id": "e9e47117",
   "metadata": {},
   "outputs": [
    {
     "name": "stdout",
     "output_type": "stream",
     "text": [
      "shape of updated params_v[H]: (3,)\n",
      "shape of updated params_v[YJM]: (8, 8, 3)\n",
      "energy expectation at iteration 0: --- (-1.359432659674546)\n",
      "shape of updated params_v[H]: (3,)\n",
      "shape of updated params_v[YJM]: (8, 8, 3)\n",
      "energy expectation at iteration 20: --- (-2.2423072427573523)\n",
      "shape of updated params_v[H]: (3,)\n",
      "shape of updated params_v[YJM]: (8, 8, 3)\n",
      "energy expectation at iteration 40: --- (-1.9644866835305825)\n",
      "shape of updated params_v[H]: (3,)\n",
      "shape of updated params_v[YJM]: (8, 8, 3)\n",
      "energy expectation at iteration 60: --- (-1.7341445526715877)\n",
      "shape of updated params_v[H]: (3,)\n",
      "shape of updated params_v[YJM]: (8, 8, 3)\n",
      "energy expectation at iteration 80: --- (-0.5647666792008458)\n",
      "shape of updated params_v[H]: (3,)\n",
      "shape of updated params_v[YJM]: (8, 8, 3)\n",
      "energy expectation at iteration 100: --- (-0.7786839972482918)\n",
      "shape of updated params_v[H]: (3,)\n",
      "shape of updated params_v[YJM]: (8, 8, 3)\n",
      "energy expectation at iteration 120: --- (-0.4970791520592241)\n",
      "shape of updated params_v[H]: (3,)\n",
      "shape of updated params_v[YJM]: (8, 8, 3)\n",
      "energy expectation at iteration 140: --- (0.005092992200220784)\n",
      "shape of updated params_v[H]: (3,)\n",
      "shape of updated params_v[YJM]: (8, 8, 3)\n",
      "energy expectation at iteration 160: --- (-1.3028988481020756)\n",
      "shape of updated params_v[H]: (3,)\n",
      "shape of updated params_v[YJM]: (8, 8, 3)\n",
      "energy expectation at iteration 180: --- (-0.6321571275727123)\n",
      "shape of updated params_v[H]: (3,)\n",
      "shape of updated params_v[YJM]: (8, 8, 3)\n",
      "energy expectation at iteration 200: --- (-0.9361199083826611)\n",
      "shape of updated params_v[H]: (3,)\n",
      "shape of updated params_v[YJM]: (8, 8, 3)\n",
      "energy expectation at iteration 220: --- (-1.6400833247022122)\n",
      "shape of updated params_v[H]: (3,)\n",
      "shape of updated params_v[YJM]: (8, 8, 3)\n",
      "energy expectation at iteration 240: --- (-0.900271464331867)\n",
      "shape of updated params_v[H]: (3,)\n",
      "shape of updated params_v[YJM]: (8, 8, 3)\n",
      "energy expectation at iteration 260: --- (-2.3042317470610167)\n",
      "shape of updated params_v[H]: (3,)\n",
      "shape of updated params_v[YJM]: (8, 8, 3)\n",
      "energy expectation at iteration 280: --- (-0.48308554869574305)\n",
      "shape of updated params_v[H]: (3,)\n",
      "shape of updated params_v[YJM]: (8, 8, 3)\n",
      "energy expectation at iteration 300: --- (-1.1061567109781552)\n",
      "shape of updated params_v[H]: (3,)\n",
      "shape of updated params_v[YJM]: (8, 8, 3)\n",
      "energy expectation at iteration 320: --- (-0.1476381158523429)\n",
      "shape of updated params_v[H]: (3,)\n",
      "shape of updated params_v[YJM]: (8, 8, 3)\n",
      "energy expectation at iteration 340: --- (-0.7186190820488924)\n",
      "shape of updated params_v[H]: (3,)\n",
      "shape of updated params_v[YJM]: (8, 8, 3)\n",
      "energy expectation at iteration 360: --- (-0.6693780485318224)\n",
      "shape of updated params_v[H]: (3,)\n",
      "shape of updated params_v[YJM]: (8, 8, 3)\n",
      "energy expectation at iteration 380: --- (-0.3461642857296489)\n",
      "shape of updated params_v[H]: (3,)\n",
      "shape of updated params_v[YJM]: (8, 8, 3)\n",
      "energy expectation at iteration 400: --- (-0.8349469061683752)\n",
      "shape of updated params_v[H]: (3,)\n",
      "shape of updated params_v[YJM]: (8, 8, 3)\n",
      "energy expectation at iteration 420: --- (-0.7902964008528377)\n",
      "shape of updated params_v[H]: (3,)\n",
      "shape of updated params_v[YJM]: (8, 8, 3)\n",
      "energy expectation at iteration 440: --- (-0.7107801836490836)\n",
      "shape of updated params_v[H]: (3,)\n",
      "shape of updated params_v[YJM]: (8, 8, 3)\n",
      "energy expectation at iteration 460: --- (-1.6216624112345268)\n",
      "shape of updated params_v[H]: (3,)\n",
      "shape of updated params_v[YJM]: (8, 8, 3)\n",
      "energy expectation at iteration 480: --- (-1.2089452927604492)\n",
      "shape of updated params_v[H]: (3,)\n",
      "shape of updated params_v[YJM]: (8, 8, 3)\n",
      "energy expectation at iteration 500: --- (-0.34989744880471707)\n",
      "shape of updated params_v[H]: (3,)\n",
      "shape of updated params_v[YJM]: (8, 8, 3)\n",
      "energy expectation at iteration 520: --- (-1.4431038065873674)\n",
      "shape of updated params_v[H]: (3,)\n",
      "shape of updated params_v[YJM]: (8, 8, 3)\n",
      "energy expectation at iteration 540: --- (-1.3471770117466904)\n",
      "shape of updated params_v[H]: (3,)\n",
      "shape of updated params_v[YJM]: (8, 8, 3)\n",
      "energy expectation at iteration 560: --- (-1.117075714807177)\n",
      "shape of updated params_v[H]: (3,)\n",
      "shape of updated params_v[YJM]: (8, 8, 3)\n",
      "energy expectation at iteration 580: --- (-1.140766113764492)\n",
      "shape of updated params_v[H]: (3,)\n",
      "shape of updated params_v[YJM]: (8, 8, 3)\n",
      "energy expectation at iteration 600: --- (-1.0119064882764028)\n",
      "shape of updated params_v[H]: (3,)\n",
      "shape of updated params_v[YJM]: (8, 8, 3)\n",
      "energy expectation at iteration 620: --- (-1.1864211393245294)\n",
      "shape of updated params_v[H]: (3,)\n",
      "shape of updated params_v[YJM]: (8, 8, 3)\n",
      "energy expectation at iteration 640: --- (-0.5077510255012571)\n",
      "shape of updated params_v[H]: (3,)\n",
      "shape of updated params_v[YJM]: (8, 8, 3)\n",
      "energy expectation at iteration 660: --- (-1.3679570496695268)\n",
      "shape of updated params_v[H]: (3,)\n",
      "shape of updated params_v[YJM]: (8, 8, 3)\n",
      "energy expectation at iteration 680: --- (-1.3652076610826276)\n",
      "shape of updated params_v[H]: (3,)\n",
      "shape of updated params_v[YJM]: (8, 8, 3)\n",
      "energy expectation at iteration 700: --- (-0.845734030939774)\n",
      "shape of updated params_v[H]: (3,)\n",
      "shape of updated params_v[YJM]: (8, 8, 3)\n",
      "energy expectation at iteration 720: --- (-1.6420498207070497)\n",
      "shape of updated params_v[H]: (3,)\n",
      "shape of updated params_v[YJM]: (8, 8, 3)\n",
      "energy expectation at iteration 740: --- (-0.8524501349193067)\n",
      "shape of updated params_v[H]: (3,)\n",
      "shape of updated params_v[YJM]: (8, 8, 3)\n",
      "energy expectation at iteration 760: --- (-1.1912719418089146)\n",
      "shape of updated params_v[H]: (3,)\n",
      "shape of updated params_v[YJM]: (8, 8, 3)\n",
      "energy expectation at iteration 780: --- (-2.5210588904370486)\n",
      "shape of updated params_v[H]: (3,)\n",
      "shape of updated params_v[YJM]: (8, 8, 3)\n",
      "energy expectation at iteration 800: --- (-0.33343778154918957)\n",
      "shape of updated params_v[H]: (3,)\n",
      "shape of updated params_v[YJM]: (8, 8, 3)\n",
      "energy expectation at iteration 820: --- (-0.7766986927905039)\n",
      "shape of updated params_v[H]: (3,)\n",
      "shape of updated params_v[YJM]: (8, 8, 3)\n",
      "energy expectation at iteration 840: --- (-1.1013620996133862)\n",
      "shape of updated params_v[H]: (3,)\n",
      "shape of updated params_v[YJM]: (8, 8, 3)\n",
      "energy expectation at iteration 860: --- (-1.0425846237537881)\n",
      "shape of updated params_v[H]: (3,)\n",
      "shape of updated params_v[YJM]: (8, 8, 3)\n",
      "energy expectation at iteration 880: --- (-0.8003082743654865)\n",
      "shape of updated params_v[H]: (3,)\n",
      "shape of updated params_v[YJM]: (8, 8, 3)\n",
      "energy expectation at iteration 900: --- (-0.8368383552124019)\n",
      "shape of updated params_v[H]: (3,)\n",
      "shape of updated params_v[YJM]: (8, 8, 3)\n",
      "energy expectation at iteration 920: --- (-1.0380277632685861)\n",
      "shape of updated params_v[H]: (3,)\n",
      "shape of updated params_v[YJM]: (8, 8, 3)\n",
      "energy expectation at iteration 940: --- (-1.1245770016200207)\n",
      "shape of updated params_v[H]: (3,)\n",
      "shape of updated params_v[YJM]: (8, 8, 3)\n",
      "energy expectation at iteration 960: --- (-0.7906603969644143)\n",
      "shape of updated params_v[H]: (3,)\n",
      "shape of updated params_v[YJM]: (8, 8, 3)\n",
      "energy expectation at iteration 980: --- (-0.7417517510247709)\n",
      "shape of updated params_v[H]: (3,)\n",
      "shape of updated params_v[YJM]: (8, 8, 3)\n",
      "energy expectation at iteration 1000: --- (-0.8470858544015567)\n"
     ]
    }
   ],
   "source": [
    "'''\n",
    "Loss function wrt. exact diagonal state \n",
    "'''\n",
    "\n",
    "YJMparams, Hparams = CsnFourier.GD_momentum(opt='overlap_state')\n"
   ]
  },
  {
   "cell_type": "code",
   "execution_count": 6,
   "id": "822ed304",
   "metadata": {},
   "outputs": [],
   "source": [
    "\n",
    "O_gs = CsnFourier.Groundstate(YJMparams, Hparams)\n",
    "optimized_energy = CsnFourier.Expect_braket_energy(YJMparams, Hparams)\n",
    "\n",
    "\n"
   ]
  },
  {
   "cell_type": "code",
   "execution_count": 7,
   "id": "c9aebe00",
   "metadata": {},
   "outputs": [
    {
     "name": "stdout",
     "output_type": "stream",
     "text": [
      "the optimized ground state: [-0.10351243 -0.12757933  0.34569509  0.54577349 -0.27383721 -0.09860189\n",
      "  0.1596656   0.11914303  0.21781843 -0.26612149  0.30940173  0.4190142\n",
      " -0.18637897  0.0832623 ]\n",
      "------------------------------------\n",
      "Optimized lowest energy: -0.8470858544015567\n",
      "-------------------------------------\n",
      "True Ground State wavefuncion in Sn irrep basis: [ 0.15237393  0.0651285  -0.00648768  0.28327447 -0.00648768  0.25822267\n",
      " -0.31443686  0.14116936 -0.17426199  0.28327447 -0.31443686  0.13560986\n",
      " -0.17426199  0.66969703]\n",
      "-------------------------------------\n",
      "The overlap between the optimized state and the ground state: 0.00564074990169472\n",
      "The distance between the optimized state and the ground state: 1.4102193092553403\n"
     ]
    }
   ],
   "source": [
    "\n",
    "print('the optimized ground state: {}'.format(O_gs))\n",
    "print('------------------------------------')\n",
    "print('Optimized lowest energy: {}'.format(optimized_energy))\n",
    "print('-------------------------------------')\n",
    "print('True Ground State wavefuncion in Sn irrep basis: {}'.format(V_gs))\n",
    "print('-------------------------------------')\n",
    "print('The overlap between the optimized state and the ground state: {}'.format(jnp.dot(O_gs,\n",
    "                                                                               V_gs)))\n",
    "print('The distance between the optimized state and the ground state: {}'.format(jnp.linalg.norm(jnp.subtract(V_gs, O_gs))))\n"
   ]
  },
  {
   "cell_type": "code",
   "execution_count": null,
   "id": "5e446dcc",
   "metadata": {},
   "outputs": [],
   "source": []
  },
  {
   "cell_type": "code",
   "execution_count": null,
   "id": "bc38a159",
   "metadata": {},
   "outputs": [],
   "source": []
  },
  {
   "cell_type": "code",
   "execution_count": null,
   "id": "d6c5215e",
   "metadata": {},
   "outputs": [],
   "source": []
  },
  {
   "cell_type": "code",
   "execution_count": null,
   "id": "91a8079c",
   "metadata": {},
   "outputs": [],
   "source": []
  },
  {
   "cell_type": "code",
   "execution_count": null,
   "id": "065cec0f",
   "metadata": {},
   "outputs": [],
   "source": []
  },
  {
   "cell_type": "markdown",
   "id": "49aed93b",
   "metadata": {},
   "source": [
    "### Step 5: Compare with the GS energy, signs, and spin correlation and with the NQS methods"
   ]
  },
  {
   "cell_type": "code",
   "execution_count": null,
   "id": "ad5a5afe",
   "metadata": {},
   "outputs": [],
   "source": [
    "'''\n",
    "Initialize the random parameters drawing from the normal distribution \n",
    "'''\n",
    "# Params = CsnFourier.random_params2()\n",
    "# YJMparams = Params[0]\n",
    "# Hparams = Params[1]\n",
    "# trial_states  = CsnFourier.CSn_VStates(YJMparams, Hparams)\n"
   ]
  },
  {
   "cell_type": "code",
   "execution_count": null,
   "id": "eb7b27cc",
   "metadata": {},
   "outputs": [],
   "source": [
    "# print(jnp.linalg.norm(trial_states))\n",
    "\n",
    "# print(np.array([0,1,1,2]).astype('float64'))\n",
    "# print(np.array([0,1,2,3]).astype('complex128'))"
   ]
  },
  {
   "cell_type": "code",
   "execution_count": null,
   "id": "839e8487",
   "metadata": {},
   "outputs": [],
   "source": [
    "# best_params = CsnFourier.SGD_momentum()"
   ]
  },
  {
   "cell_type": "code",
   "execution_count": null,
   "id": "9186adf4",
   "metadata": {},
   "outputs": [],
   "source": [
    "# X24_rep = CsnFilters.get_YJMs(1,2)\n",
    "# # from sympy.combinatorics import Permutation\n",
    "# # from sympy.interactive import init_printing\n",
    "\n",
    "# # p = [5,6]\n",
    "# # q = [4,5]\n",
    "# # p =Permutation([[4,5]]) * Permutation([[5,6]])\n",
    "# # print(p.array_form)s\n",
    "\n",
    "# # S = SymmetricGroup(4)\n",
    "# # p = S('(2,4)')\n",
    "# # q = S('(3,4)')\n",
    "# # print(set(p * q))\n",
    "\n",
    "# print(X24_rep)\n",
    "# # print(X24)\n",
    "# X24rep = jnp.asarray(X24_rep, dtype='float64')\n",
    "# print(X24rep.at[int(1),int(3)].get())\n",
    "\n"
   ]
  },
  {
   "cell_type": "code",
   "execution_count": null,
   "id": "cd05c5f1",
   "metadata": {},
   "outputs": [],
   "source": [
    "# orth = SymmetricGroupRepresentation([3,3],'orthogonal')\n",
    "# S = SymmetricGroup(6)\n",
    "# p = S('(1,2)(3,4)')\n",
    "# S1 = np.array(orth.representation_matrix((1,4,2)))\n",
    "# S2 = np.array(orth.representation_matrix((1,2, 4)))\n",
    "# S3 = np.array(orth.representation_matrix(p))\n",
    "\n",
    "# print(np.add(np.add(S1,S2), S3))\n"
   ]
  },
  {
   "cell_type": "code",
   "execution_count": null,
   "id": "2fc97a3b",
   "metadata": {},
   "outputs": [],
   "source": [
    "# def random_params(n, key, scale= float( 1e-2)):\n",
    "#   w_key, b_key = random.split(key)\n",
    "#   return jnp.multiply(scale, random.normal(w_key, (n, n))), jnp.multiply( scale,  random.normal(b_key))\n",
    "# YJMparams, Hparams = random_params(CsnFilters.Nsites, random.PRNGKey(0))\n",
    "# # jnp.iscomplex(YJMparams)\n",
    "# # print(YJMparams)\n",
    "# YJM_conv = CsnFilters.YJM_Conv2d(YJMparams)\n",
    "# print(YJM_conv.shape)"
   ]
  },
  {
   "cell_type": "code",
   "execution_count": null,
   "id": "088710b3",
   "metadata": {},
   "outputs": [],
   "source": [
    "# print(jnp.linalg.norm(YJM_conv, ord='fro'))\n",
    "# print(jnp.diag(YJM_conv))"
   ]
  },
  {
   "cell_type": "code",
   "execution_count": null,
   "id": "77b21f39",
   "metadata": {},
   "outputs": [],
   "source": [
    "# rep_H = CsnFilters.Ham_rep()\n",
    "# Hesi_conv = CsnFilters.Heis_Conv2d(Hparams, rep_H)\n",
    "# print(jnp.linalg.norm(Hesi_conv, ord='fro'))\n"
   ]
  },
  {
   "cell_type": "code",
   "execution_count": null,
   "id": "84015f1e",
   "metadata": {},
   "outputs": [],
   "source": [
    "def random_params(n, p, scale= float( 1e-2)):\n",
    "    YJMparams = jnp.zeros((n,n,p))\n",
    "    Hparams = jnp.zeros((p))\n",
    "    for i in range(p):\n",
    "        w_key, b_key = random.split(random.PRNGKey(int(i)))\n",
    "        YJMparams = YJMparams.at[:,:,i].set( jnp.multiply( scale, random.normal(w_key, (n,n))))\n",
    "        Hparams = Hparams.at[i].set(jnp.multiply(scale, random.normal(b_key)))\n",
    "    return [YJMparams, Hparams]\n",
    "    \n",
    "Parameters= random_params(CsnFilters.Nsites, 3)\n"
   ]
  },
  {
   "cell_type": "code",
   "execution_count": null,
   "id": "b6a34a5a",
   "metadata": {},
   "outputs": [],
   "source": []
  },
  {
   "cell_type": "code",
   "execution_count": null,
   "id": "83dcad3d",
   "metadata": {},
   "outputs": [],
   "source": [
    "groundstate = CsnFilters.CSn_VStates(10, Parameters[0], Parameters[1])"
   ]
  },
  {
   "cell_type": "code",
   "execution_count": null,
   "id": "e57224a0",
   "metadata": {},
   "outputs": [],
   "source": [
    "print(jnp.linalg.norm(groundstate))\n",
    "print(groundstate)"
   ]
  },
  {
   "cell_type": "code",
   "execution_count": null,
   "id": "8305f07a",
   "metadata": {},
   "outputs": [],
   "source": [
    "def J(rep_H, YJMparams, Hparams, num_samples= 10):\n",
    "    groundstate = CsnFilters.CSn_VStates(num_samples, YJMparams, Hparams)\n",
    "    return jnp.matmul(jnp.conjugate(groundstate), jnp.matmul(rep_H, groundstate))"
   ]
  },
  {
   "cell_type": "code",
   "execution_count": null,
   "id": "be5f17b4",
   "metadata": {},
   "outputs": [],
   "source": [
    "rep_H = CsnFilters.Ham_rep()\n",
    "rep_H = jnp.asarray(rep_H.astype('float64'))\n",
    "expectation = J(rep_H, Parameters[0], Parameters[1])"
   ]
  },
  {
   "cell_type": "code",
   "execution_count": null,
   "id": "480258bb",
   "metadata": {},
   "outputs": [],
   "source": [
    "print(expectation)"
   ]
  },
  {
   "cell_type": "markdown",
   "id": "1cc1b69a",
   "metadata": {},
   "source": [
    "## Sampling and Optimization "
   ]
  },
  {
   "cell_type": "markdown",
   "id": "4f7d3e58",
   "metadata": {},
   "source": [
    "#### Sampling via the unjusted Langevin Algorithm \n",
    "\n",
    "$\\theta_{n+1}=\\theta_{n}+d t \\nabla \\log \\pi\\left(\\theta_{n}\\right)+\\sqrt{2 d t} \\xi$\n",
    "            \n",
    "            \n",
    "            \n",
    "            "
   ]
  },
  {
   "cell_type": "code",
   "execution_count": null,
   "id": "48c92ba0",
   "metadata": {},
   "outputs": [],
   "source": [
    "import jax\n",
    "import logging\n",
    "logging.basicConfig(level=logging.INFO)\n",
    "logger = logging.getLogger('JAX SGD')\n",
    "\n",
    "\n",
    "class SGD(FourierFilters):\n",
    "    '''\n",
    "    Standard SGD method implemented using JAX autodifferentiation megthd\n",
    "\n",
    "    Unsurpervised method for the minilization of the GS energy for each Sn irrep\n",
    "\n",
    "    Wirtten in the language environment SAGE9.2, supported SageMath environment\n",
    "\n",
    "    '''\n",
    "\n",
    "    def __init__(self, lr = float(0.05), max_iter = int(1e3), gamma = float(0.95)):\n",
    "        FourierFilters.__init__(self,J=None, lattice=None, Nsites=None, partit=None, p=1)\n",
    "        self.lr = lr\n",
    "        self.max_iter = max_iter\n",
    "        self.gamma = gamma \n",
    "\n",
    "    \n",
    "\n",
    "    def SGD_momentum(self,rep_H, J, Params):\n",
    "\n",
    "        \"\"\"Performs linear regression using batch gradient descent + momentum\n",
    "\n",
    "        Args:\n",
    "            J: cost function with single Params = [YJMparams, Hparams]\n",
    "            gamma: Decay parameter for vecloity sum\n",
    "\n",
    "        Returns:\n",
    "            params: the weights and bias after performing the optimization\n",
    "        \"\"\"\n",
    "\n",
    "        # Some configurations\n",
    "        LOG = False\n",
    "\n",
    "\n",
    "        YJMparams = Params[0]\n",
    "        Hparams = Params[1]\n",
    "\n",
    "        # To keep track of velocity parameters\n",
    "        params_v = {\n",
    "            'YJM': jnp.zeros(Params[0].shape),\n",
    "            'H': jnp.zeros(Params[1].shape)\n",
    "        }\n",
    "\n",
    "        # Define the gradient function w.r.t w and b\n",
    "        grad_YJM = jax.jit(jax.grad(J,argnums=int(1)))  # argnums indicates which variable to differentiate with from the parameters list passed to the function\n",
    "        grad_H = jax.jit(jax.grad(J, argnums=int(2)))\n",
    "\n",
    "        # Run once to compile JIT (Just In Time). The next uses of grad_W and grad_B will now be fast\n",
    "        grad_YJM(rep_H, YJMparams, Hparams)\n",
    "        grad_H(rep_H, YJMparams, Hparams)\n",
    "\n",
    "        for i in range(self.max_iter):\n",
    "            # Gradient w.r.t. argumnet index 1 i.e., w\n",
    "            grad_yjm = grad_YJM(rep_H, YJMparams, Hparams)\n",
    "            # Gradient w.r.t. argumnet index 2 i.e., b\n",
    "            grad_h = grad_H(rep_H, JMparams, Hparams)\n",
    "\n",
    "            # Update velocity\n",
    "            params_v['YJM'] = jnp.add( jnp.multiply(self.gamma,  params_v['YJM']) , grad_yjm)\n",
    "            params_v['H'] = jnp.add( jnp.multiply(self.gamma, params_v['H'] ), grad_h)\n",
    "\n",
    "            # Parameter update\n",
    "            YJMparams -= jnp.multiply(self.lr, params_v['wv'])\n",
    "            Hparams -= jnp.multiply(self.lr , params_v['bv'])\n",
    "\n",
    "            if LOG and i % int(20) == int(0):\n",
    "                print(J( YJMparams, Hparams))\n",
    "\n",
    "        return [YJMparams, Hparams]\n",
    "\n",
    "    # X, X_test, y, y_test, coef = get_data()\n",
    "    # params = momentum(J, X, y)\n",
    "    #\n",
    "    # print(\"True weights =\", coef)\n",
    "    # print(\"Calculated weights =\", params['w'])\n",
    "    # print(\"True bias = 2.0\\tCalculated bias = {:.6f}\".format(params['b']))\n",
    "    # print(\"Test loss: {:.9f}\".format(J(X_test, params['w'], params['b'], y_test)))\n",
    "\n",
    "    \n",
    "    "
   ]
  },
  {
   "cell_type": "code",
   "execution_count": null,
   "id": "a5f8e557",
   "metadata": {},
   "outputs": [],
   "source": [
    "mSCG = SGD()\n",
    "best_params = mSCG.SGD_momentum(J, rep_H, Parameters)"
   ]
  },
  {
   "cell_type": "code",
   "execution_count": null,
   "id": "b0abca09",
   "metadata": {},
   "outputs": [],
   "source": []
  }
 ],
 "metadata": {
  "celltoolbar": "原始单元格格式",
  "kernelspec": {
   "display_name": "SageMath 9.2",
   "language": "sage",
   "name": "sagemath"
  },
  "language_info": {
   "codemirror_mode": {
    "name": "ipython",
    "version": 3
   },
   "file_extension": ".py",
   "mimetype": "text/x-python",
   "name": "python",
   "nbconvert_exporter": "python",
   "pygments_lexer": "ipython3",
   "version": "3.9.6"
  }
 },
 "nbformat": 4,
 "nbformat_minor": 5
}
