{
 "cells": [
  {
   "cell_type": "code",
   "execution_count": 1,
   "id": "d3e5b6a1",
   "metadata": {},
   "outputs": [
    {
     "data": {
      "text/plain": [
       "'\\nRUN THIS IN SAGEMATH9.2 environment. A new conda environment is recommanded!! \\n'"
      ]
     },
     "execution_count": 1,
     "metadata": {},
     "output_type": "execute_result"
    }
   ],
   "source": [
    "# from jupyterthemes import get_themes\n",
    "# !jt -t solarizedd -T -N -kl\n",
    "\n",
    "'''\n",
    "RUN THIS IN SAGEMATH9.2 environment. A new conda environment is recommanded!! \n",
    "'''"
   ]
  },
  {
   "cell_type": "code",
   "execution_count": 10,
   "id": "d75bc8de",
   "metadata": {},
   "outputs": [],
   "source": [
    "import numpy as np\n",
    "import matplotlib.pyplot as plt\n",
    "import numpy.linalg as LA\n",
    "from sage.combinat.symmetric_group_representations import SymmetricGroupRepresentation\n",
    "from sage.combinat.permutation import *\n",
    "import scipy\n",
    "import netket as nk\n",
    "import jax\n",
    "import jax.numpy as jnp\n",
    "import netket.nn as nknn\n",
    "from jax import grad, jit, vmap, vjp \n",
    "from jax import random\n",
    "from scipy.sparse.linalg import eigsh\n",
    "from scipy.linalg import eigh, eigvalsh\n",
    "from sympy.combinatorics import Permutation as Perm\n",
    "from sympy.interactive import init_printing\n",
    "import json\n",
    "import networkx as nx \n",
    "from FourierFilters import FourierFilters\n",
    "from sgd import CSnGradient\n",
    "from jax import random "
   ]
  },
  {
   "cell_type": "code",
   "execution_count": null,
   "id": "d48ca8f7",
   "metadata": {},
   "outputs": [],
   "source": []
  },
  {
   "cell_type": "markdown",
   "id": "e668f659",
   "metadata": {},
   "source": [
    "#### This module consited of building and training module from unfrustrated J2 =0 lattice diagram working in the partition = [n/2, n/2],  the subspace for the true ground state in the unfrusrated region by the Marshall Sign-rule\n",
    "\n",
    "\n"
   ]
  },
  {
   "cell_type": "markdown",
   "id": "8fb05df4",
   "metadata": {
    "slideshow": {
     "slide_type": "-"
    }
   },
   "source": [
    "#  CSn Fourier Filters & Finding the Ground States of J1-J2 Heisenberg "
   ]
  },
  {
   "cell_type": "markdown",
   "id": "f04dc8f3",
   "metadata": {},
   "source": [
    "#### Need the SageMath9.2 environment installed via a conda env or a virtual env... recommend a new conda env "
   ]
  },
  {
   "cell_type": "markdown",
   "id": "8befae1c",
   "metadata": {},
   "source": [
    "#### Use JAX, NetKet, Torch packages for notebook"
   ]
  },
  {
   "cell_type": "markdown",
   "id": "59c4dad6",
   "metadata": {},
   "source": [
    "## CSn FourierFilter Class "
   ]
  },
  {
   "cell_type": "markdown",
   "id": "56b705d2",
   "metadata": {},
   "source": []
  },
  {
   "cell_type": "markdown",
   "id": "b482235e",
   "metadata": {},
   "source": [
    "### Example (J1-J2) on the 3-square lattice "
   ]
  },
  {
   "cell_type": "code",
   "execution_count": 3,
   "id": "3b4022d7",
   "metadata": {},
   "outputs": [
    {
     "name": "stdout",
     "output_type": "stream",
     "text": [
      "[(1, 5), (1, 2), (2, 6), (2, 3), (3, 7), (3, 4), (4, 8), (5, 6), (6, 7), (7, 8)]\n"
     ]
    },
    {
     "data": {
      "image/png": "[encoded data removed]",
      "text/plain": [
       "<Figure size 432x288 with 1 Axes>"
      ]
     },
     "metadata": {},
     "output_type": "display_data"
    }
   ],
   "source": [
    "\n",
    "graph = nx.generators.lattice.grid_2d_graph(2,4)\n",
    "graph = nx.relabel.convert_node_labels_to_integers(graph, first_label=1)\n",
    "# obs = []\n",
    "# coeffs = []\n",
    "# for edge in graph.edges():\n",
    "#     print(edge)\n",
    "#     coeffs.extend([1.0, 1.0, 1.0])\n",
    "#     obs.extend([qml.PauliX(edge[0]) @ qml.PauliX(edge[1]),\n",
    "#                         qml.PauliY(edge[0]) @ qml.PauliY(edge[1]),\n",
    "#                         qml.PauliZ(edge[0]) @ qml.PauliZ(edge[1])])\n",
    "# hamiltonian_heisenberg = qml.Hamiltonian(coeffs, obs)\n",
    "\n",
    "\n",
    "nx.draw(graph, with_labels=True, font_weight='bold')\n",
    "print(graph.edges())"
   ]
  },
  {
   "cell_type": "code",
   "execution_count": null,
   "id": "92d0001c",
   "metadata": {},
   "outputs": [],
   "source": []
  },
  {
   "cell_type": "code",
   "execution_count": 4,
   "id": "426565f6",
   "metadata": {},
   "outputs": [
    {
     "name": "stderr",
     "output_type": "stream",
     "text": [
      "INFO:absl:Unable to initialize backend 'tpu_driver': NOT_FOUND: Unable to find driver in registry given worker: \n",
      "INFO:absl:Unable to initialize backend 'gpu': NOT_FOUND: Could not find registered platform with name: \"cuda\". Available platform names are: Interpreter Host\n",
      "INFO:absl:Unable to initialize backend 'tpu': INVALID_ARGUMENT: TpuPlatform is not available.\n",
      "WARNING:absl:No GPU/TPU found, falling back to CPU. (Set TF_CPP_MIN_LOG_LEVEL=0 and rerun for more info.)\n"
     ]
    },
    {
     "name": "stdout",
     "output_type": "stream",
     "text": [
      "True Ground state Energy via ED: -4.29306645665707 \n",
      "True Ground State wavefuncion in Sn irrep basis: [ 0.15237393  0.0651285  -0.00648768  0.28327447 -0.00648768  0.25822267\n",
      " -0.31443686  0.14116936 -0.17426199  0.28327447 -0.31443686  0.13560986\n",
      " -0.17426199  0.66969703]\n",
      "Irrep Dims for [4, 4]: --- 14\n"
     ]
    }
   ],
   "source": [
    "J = [1, 0] # unfrustrated system for now \n",
    "# lattice2 = [[(1,2), (2,3), (3,4),(4,5), (5,6),(1,6), (2,5)],[(1,5), (2,6), (2,4), (3,5),(1,3), (4,6)]]\n",
    "lattice3 = [graph.edges(), \n",
    "            [(2,5), (5,7), (1,6), (6,8), (3,6), (2,7), (7, 4), (3,8), (2,4), (1,3)]]\n",
    "partit = [int(4),int(4)]\n",
    "Nsites = int( 8) \n",
    "\n",
    "\n",
    "CsnFourier = CSnGradient(J= J, lattice = lattice3, Nsites=Nsites, \n",
    "                    partit=partit,p=int(3), num_samples =int(20), max_iter = int(501))\n",
    "\n",
    "\n",
    "Ham_rep = CsnFourier.Ham_rep()\n",
    "\n",
    "# print(CsnFilters.rep_mat_H)\n",
    "E_gs, V_gs = eigh(Ham_rep.astype('float64'), subset_by_index=[0,1])\n",
    "V_gs = V_gs[:,0]\n",
    "E_gs = E_gs[0]\n",
    "V_gs = jnp.asarray(V_gs)\n",
    "print('True Ground state Energy via ED: {} '.format( E_gs))\n",
    "print('True Ground State wavefuncion in Sn irrep basis: {}'.format(V_gs))\n",
    "\n",
    "print('Irrep Dims for {}: --- {}'.format(partit, CsnFourier.dim))\n",
    "\n",
    "# print(Ham_rep)"
   ]
  },
  {
   "cell_type": "code",
   "execution_count": 4,
   "id": "7737ed6a",
   "metadata": {},
   "outputs": [
    {
     "name": "stdout",
     "output_type": "stream",
     "text": [
      "The exact ground-state energy from computational basis = -4.293066456657067\n",
      "True Ground state Energy via ED in Sn irrep with the parition [4, 4]: -4.29306645665707 \n"
     ]
    }
   ],
   "source": [
    "'''\n",
    "Compare with the Exact diagonalization method in the computational basis \n",
    "Note that we need to divide by four due to different convention used for S_i . S_j\n",
    "'''\n",
    "\n",
    "\n",
    "# Define a 1d chain\n",
    "dim_site = [2,4]\n",
    "g = nk.graph.Grid(extent= dim_site, pbc=False)\n",
    "# Define the Hilbert space based on this graph\n",
    "# We impose to have a fixed total magnetization of zero\n",
    "hi = nk.hilbert.Spin(s=float(0.5), total_sz=int(0), N=g.n_nodes)\n",
    "\n",
    "# calling the Heisenberg Hamiltonian\n",
    "ha = nk.operator.Heisenberg(hilbert=hi, graph=g)\n",
    "\n",
    "# compute the ground-state energy (here we only need the lowest energy, and do not need the eigenstate)\n",
    "evals = nk.exact.lanczos_ed(ha, compute_eigenvectors=False)\n",
    "exact_gs_energy = evals[0]\n",
    "print('The exact ground-state energy from computational basis =',exact_gs_energy/float(4)) \n",
    "\n",
    "print('True Ground state Energy via ED in Sn irrep with the parition {}: {} '.format(partit, E_gs))\n",
    "\n",
    "# Just in case you can't do this calculation, here is the result\n",
    "# exact_gs_energy = -39.14752260706246"
   ]
  },
  {
   "cell_type": "code",
   "execution_count": null,
   "id": "55f6e4cb",
   "metadata": {},
   "outputs": [],
   "source": []
  },
  {
   "cell_type": "markdown",
   "id": "1f03163e",
   "metadata": {},
   "source": [
    "Objective is to minialize the expectation $\\langle \\Psi(\\vec{\\theta})| \\widehat{H}|\\Psi(\\vec{\\theta})\\rangle $ "
   ]
  },
  {
   "cell_type": "markdown",
   "id": "31294366",
   "metadata": {},
   "source": [
    "Three criterions needed: (1) Energy (2) Sign structure (sign of the coefficients) (3) Spin-Spin correlation  $S^{2}(\\vec{q})=\\frac{1}{n(n+2)} \\sum_{i, j}\\left\\langle\\hat{\\boldsymbol{S}}_{i} \\cdot \\hat{\\boldsymbol{S}}_{j}\\right\\rangle e^{i \\vec{q} \\cdot\\left(\\vec{r}_{i}-\\vec{r}_{j}\\right)}$"
   ]
  },
  {
   "cell_type": "markdown",
   "id": "a6b5effa",
   "metadata": {},
   "source": [
    "### Step 1:  To calculate the Mixing hamiltonian $H_M = \\sum_{k \\leq \\ell} \\beta_{k, \\ell} X_k X_{\\ell}$ and its Sn irrep form under partit = [4,4]"
   ]
  },
  {
   "cell_type": "code",
   "execution_count": 5,
   "id": "eefc6d0c",
   "metadata": {},
   "outputs": [
    {
     "name": "stdout",
     "output_type": "stream",
     "text": [
      "YJMs with X1X8 is [(1,8), (2,8), (3,8), (4,8), (5,8), (6,8), (7,8)]\n",
      "-----------------\n",
      "YJMs with X3X4 is [(1,4,3), (1,4)(2,3), (2,4,3)]\n"
     ]
    }
   ],
   "source": [
    "'''\n",
    "use SageMath9.2 environment. Alert may not be complient with the JAX \n",
    "Here we aim to get the YJMs X_1X_8 and X_3X_4\n",
    "'''\n",
    "\n",
    "X1X8 = CsnFourier.get_YJMs(1,8, opt = 'exact')\n",
    "X3X4 = CsnFourier.get_YJMs(3,4, opt = 'exact')\n",
    "\n",
    "print('YJMs with X1X8 is {}'.format(X1X8))\n",
    "print('-----------------')\n",
    "print('YJMs with X3X4 is {}'.format(X3X4))\n",
    "\n",
    "\n"
   ]
  },
  {
   "cell_type": "code",
   "execution_count": null,
   "id": "44f1c845",
   "metadata": {},
   "outputs": [],
   "source": [
    "'''\n",
    "NOw we store the H_M and H_p into two seperate csv files \n",
    "(I will update a google colab very soon so that no SageMath is needed )\n",
    "'''\n",
    "\n",
    "import pandas as pd\n",
    "\n",
    "Num = CsnFourier.Nsites* (CsnFourier.Nsites + 1) /2\n",
    "# Hm_matrix = np.zeros((Num, CsnFourier.dim  ))\n",
    "Hm_matrix = dict()\n",
    "for i in range(1, CsnFourier.Nsites+1): \n",
    "    if i ==CsnFourier.Nsites: \n",
    "        YJM_rep = CsnFourier.get_YJMs(i, i)\n",
    "        Hm_matrix[(i,i)] = np.diag(YJM_rep)\n",
    "    for j in range(i, CsnFourier.Nsites+1):\n",
    "        YJM_rep = CsnFourier.get_YJMs(i, j)\n",
    "        Hm_matrix[(i,j)] = np.diag(YJM_rep).astype('float64')\n",
    "\n",
    "print(Hm_matrix)\n",
    "    "
   ]
  },
  {
   "cell_type": "code",
   "execution_count": null,
   "id": "0b520886",
   "metadata": {},
   "outputs": [],
   "source": [
    "print(Hm_matrix.keys())\n",
    "df = pd.DataFrame.from_dict(Hm_matrix)\n",
    "df\n",
    "df.to_csv('../data/YJM_S0_8_s.csv')\n",
    "\n",
    "'''\n",
    "file read YJM at total spin S=0 irrep with sites number = 8 for the square lattice\n",
    "'''"
   ]
  },
  {
   "cell_type": "code",
   "execution_count": null,
   "id": "009e0685",
   "metadata": {},
   "outputs": [],
   "source": [
    "'''\n",
    "We also write heisenberg into csv \n",
    "'''\n",
    "\n",
    "Heisenberg = CsnFourier.Ham_rep()\n",
    "\n",
    "df2 = pd.DataFrame(Heisenberg.astype('float64'))\n",
    "df2.to_csv('../data/Heisenberg_S0_8_s.csv')"
   ]
  },
  {
   "cell_type": "code",
   "execution_count": 6,
   "id": "0ef14dd6",
   "metadata": {},
   "outputs": [],
   "source": [
    "'''\n",
    "Compute the exp(-i H_M) in this Sn irrep partition = [4,4] \n",
    "(time parameters implied in the coupling strength)\n",
    "'''\n",
    "YJMparams, Hparams = CsnFourier.random_params2(scale=float(1e0))\n",
    "# YJMparams = Params[0]\n",
    "YJMparams_p1 = YJMparams.at[:,:,int(0)].get()\n",
    "YJM_ansazte = CsnFourier.YJM_Conv2d(YJMparams_p1)"
   ]
  },
  {
   "cell_type": "code",
   "execution_count": null,
   "id": "af5ef752",
   "metadata": {},
   "outputs": [],
   "source": []
  },
  {
   "cell_type": "code",
   "execution_count": 8,
   "id": "35ff6153",
   "metadata": {},
   "outputs": [
    {
     "name": "stdout",
     "output_type": "stream",
     "text": [
      "YJM_ansazte per layer (must be stricly diagonal):   [-0.11472269+0.24138615j -0.1249263 +0.23626678j  0.09676384-0.24912915j\n",
      "  0.26693857+0.01312905j  0.0301001 +0.26556083j  0.05131156+0.26228934j\n",
      " -0.19495205+0.18281759j  0.03442245-0.26503522j -0.07628553+0.25614271j\n",
      " -0.26420522-0.04030104j  0.02773434-0.26581832j  0.26413619-0.04075099j\n",
      "  0.01672274-0.26673755j -0.05908448+0.26064841j]\n",
      "-----------------------------------------------\n",
      "The norm of YJM_ansazte per layer (must be equal to one): 0.9999999999999999\n"
     ]
    }
   ],
   "source": [
    "print('YJM_ansazte per layer (must be stricly diagonal):   {}'.format(jnp.diag(YJM_ansazte)))\n",
    "print('-----------------------------------------------')\n",
    "print('The norm of YJM_ansazte per layer (must be equal to one): {}'.format(jnp.linalg.norm(YJM_ansazte)))"
   ]
  },
  {
   "cell_type": "code",
   "execution_count": 14,
   "id": "ca29963f",
   "metadata": {},
   "outputs": [],
   "source": [
    "'''\n",
    "Compute the time evolution oeperator exp(-it H)\n",
    "'''\n",
    "# Hparams = Params[1]\n",
    "Hparams_p1 = Hparams.at[int(0)].get()\n",
    "\n",
    "Heisenberg = CsnFourier.Ham_rep()\n",
    "Evolution_conv = CsnFourier.Heis_Conv2d(Hparams_p1, Heisenberg)"
   ]
  },
  {
   "cell_type": "code",
   "execution_count": 13,
   "id": "3e4db1db",
   "metadata": {},
   "outputs": [
    {
     "name": "stdout",
     "output_type": "stream",
     "text": [
      "The norm of YJM_ansazte per layer (must be equal to one): 0.9999999999999999\n"
     ]
    }
   ],
   "source": [
    "print('The norm of YJM_ansazte per layer (must be equal to one): {}'.format(\n",
    "    jnp.linalg.norm(Evolution_conv)))"
   ]
  },
  {
   "cell_type": "markdown",
   "id": "c9a8ac91",
   "metadata": {},
   "source": [
    "### Step 2: Build the QAOA ansatze: $U(\\vec{\\theta}) = exp(-iH_M) exp(-iH) \\cdots exp(-i \\sum_{k \\leq \\ell} \\beta_{k, \\ell} X_k X_{\\ell}) exp(-iH)$ with random parameters in Sn irrep with partition $\\lambda=[4,4]$"
   ]
  },
  {
   "cell_type": "code",
   "execution_count": 15,
   "id": "5f55d4ed",
   "metadata": {},
   "outputs": [],
   "source": [
    "'''\n",
    "In this class we have initilized p =3 So we can compute the entire ansatze by calling the following \n",
    "'''\n",
    "CSnQAOA = CsnFourier.CSn_Ansazte(YJMparams, Hparams)"
   ]
  },
  {
   "cell_type": "code",
   "execution_count": 18,
   "id": "e68182a2",
   "metadata": {},
   "outputs": [
    {
     "name": "stdout",
     "output_type": "stream",
     "text": [
      "Dims of CSnQAOA Ansatze (14, 14)\n",
      "2-norms of CSnQAOA Ansatze 1.0\n"
     ]
    }
   ],
   "source": [
    "print('Dims of CSnQAOA Ansatze {}'.format(CSnQAOA.shape))\n",
    "print('2-norms of CSnQAOA Ansatze {}'.format(jnp.linalg.norm(CSnQAOA, ord =int(2))))"
   ]
  },
  {
   "cell_type": "code",
   "execution_count": null,
   "id": "3d72196e",
   "metadata": {},
   "outputs": [],
   "source": []
  },
  {
   "cell_type": "markdown",
   "id": "ff25b365",
   "metadata": {},
   "source": [
    "### Step 3: Sample (randomly) basis vectors and compute triial wavefunction: $| \\Psi(\\vec{\\theta}) \\rangle = \\sum_i U(\\vec{\\theta}) | v_{T_i}\\rangle$ and we take the real part by $\\widetilde{\\Psi} = \\Psi^* + \\Psi $"
   ]
  },
  {
   "cell_type": "code",
   "execution_count": 19,
   "id": "87777625",
   "metadata": {},
   "outputs": [],
   "source": [
    "'''\n",
    "We randomly sample basis states; \n",
    "later we might add more sophisticated method such as gradient based sampling\n",
    "'''\n",
    "\n",
    "\n",
    "\n",
    "trial_state = CsnFourier.CSn_VStates(YJMparams, Hparams)\n",
    "# trial_state = CsnFourier.CSn_VStates(YJMparams, Hparams)\n"
   ]
  },
  {
   "cell_type": "code",
   "execution_count": 20,
   "id": "ec34989d",
   "metadata": {},
   "outputs": [
    {
     "name": "stdout",
     "output_type": "stream",
     "text": [
      "[ 0.43043681  0.01378485 -0.44806053  0.02811659  0.3392206   0.16849223\n",
      "  0.23487377 -0.40954731  0.32795198  0.3317051   0.09716886  0.13673377\n",
      "  0.02444249 -0.01772832]\n",
      "---------------\n",
      "norm of the trial state: 1.0\n"
     ]
    }
   ],
   "source": [
    "'''\n",
    "Note that our state is strictly real-valued since we DO NOT add complex number \n",
    "'''\n",
    "print(trial_state)\n",
    "print('---------------')\n",
    "print('norm of the trial state: {}'.format(jnp.linalg.norm(trial_state)))"
   ]
  },
  {
   "cell_type": "code",
   "execution_count": null,
   "id": "f80368ea",
   "metadata": {},
   "outputs": [],
   "source": [
    "\n",
    "\n"
   ]
  },
  {
   "cell_type": "code",
   "execution_count": 23,
   "id": "c5051ea2",
   "metadata": {},
   "outputs": [
    {
     "name": "stdout",
     "output_type": "stream",
     "text": [
      "Trial state expectation value: -0.5028132023950972\n",
      "------------------------------------\n",
      "the ground state energy is: -4.29306645665707\n"
     ]
    }
   ],
   "source": [
    "'''\n",
    "let's see the expectation value for this randomly chosen trial state \n",
    "'''\n",
    "Heisenberg = jnp.asarray(Heisenberg.astype('float64'))\n",
    "T_gs = jnp.matmul(jnp.matmul(jnp.conjugate(trial_state), Heisenberg), trial_state)\n",
    "print('Trial state expectation value: {}'.format(T_gs))\n",
    "print('------------------------------------')\n",
    "print('the ground state energy is: {}'.format(E_gs))\n"
   ]
  },
  {
   "cell_type": "markdown",
   "id": "2b0247e4",
   "metadata": {},
   "source": [
    "### Step 4:  Optimize wrt. $\\vec{\\theta}$ using either (1) SGD (2) Nadam (3) Natural gradient (SR) (still Working on)"
   ]
  },
  {
   "cell_type": "markdown",
   "id": "2add117c",
   "metadata": {},
   "source": [
    "#### Use the Nadam with JAX auto-diff and using the energy function: $E[\\widetilde{\\Psi}] = \\frac{\\langle \\widetilde{\\Psi}| H | \\widetilde{\\Psi} \\rangle }{\\langle \\widetilde{\\Psi}|\\widetilde{\\Psi} \\rangle}$ with $\\widetilde{\\Psi} = \\Psi^* + \\Psi $"
   ]
  },
  {
   "cell_type": "code",
   "execution_count": 5,
   "id": "0a6a854b",
   "metadata": {},
   "outputs": [
    {
     "name": "stdout",
     "output_type": "stream",
     "text": [
      "updated gradient squared: (8, 8, 3)---(3,)\n",
      "updated bia correction have the shape: (8, 8, 3)--(3,)\n",
      "updated YJMparams, Hparams have the shape: (8, 8, 3), (3,)\n",
      "energy expectation at iteration 0: --- (-1.8909639209105067)\n",
      "updated gradient squared: (8, 8, 3)---(3,)\n",
      "updated bia correction have the shape: (8, 8, 3)--(3,)\n",
      "updated YJMparams, Hparams have the shape: (8, 8, 3), (3,)\n",
      "energy expectation at iteration 50: --- (-4.054433930102302)\n",
      "updated gradient squared: (8, 8, 3)---(3,)\n",
      "updated bia correction have the shape: (8, 8, 3)--(3,)\n",
      "updated YJMparams, Hparams have the shape: (8, 8, 3), (3,)\n",
      "energy expectation at iteration 100: --- (-4.283732946097666)\n",
      "updated gradient squared: (8, 8, 3)---(3,)\n",
      "updated bia correction have the shape: (8, 8, 3)--(3,)\n",
      "updated YJMparams, Hparams have the shape: (8, 8, 3), (3,)\n",
      "energy expectation at iteration 150: --- (-4.293046511176966)\n",
      "updated gradient squared: (8, 8, 3)---(3,)\n",
      "updated bia correction have the shape: (8, 8, 3)--(3,)\n",
      "updated YJMparams, Hparams have the shape: (8, 8, 3), (3,)\n",
      "energy expectation at iteration 200: --- (-4.29306640758336)\n",
      "updated gradient squared: (8, 8, 3)---(3,)\n",
      "updated bia correction have the shape: (8, 8, 3)--(3,)\n",
      "updated YJMparams, Hparams have the shape: (8, 8, 3), (3,)\n",
      "energy expectation at iteration 250: --- (-4.293066456650564)\n",
      "updated gradient squared: (8, 8, 3)---(3,)\n",
      "updated bia correction have the shape: (8, 8, 3)--(3,)\n",
      "updated YJMparams, Hparams have the shape: (8, 8, 3), (3,)\n",
      "energy expectation at iteration 300: --- (-4.293066456656703)\n",
      "updated gradient squared: (8, 8, 3)---(3,)\n",
      "updated bia correction have the shape: (8, 8, 3)--(3,)\n",
      "updated YJMparams, Hparams have the shape: (8, 8, 3), (3,)\n",
      "energy expectation at iteration 350: --- (-4.29306645665707)\n",
      "updated gradient squared: (8, 8, 3)---(3,)\n",
      "updated bia correction have the shape: (8, 8, 3)--(3,)\n",
      "updated YJMparams, Hparams have the shape: (8, 8, 3), (3,)\n",
      "energy expectation at iteration 400: --- (-4.29306645665707)\n",
      "updated gradient squared: (8, 8, 3)---(3,)\n",
      "updated bia correction have the shape: (8, 8, 3)--(3,)\n",
      "updated YJMparams, Hparams have the shape: (8, 8, 3), (3,)\n",
      "energy expectation at iteration 450: --- (-4.29306645665707)\n",
      "updated gradient squared: (8, 8, 3)---(3,)\n",
      "updated bia correction have the shape: (8, 8, 3)--(3,)\n",
      "updated YJMparams, Hparams have the shape: (8, 8, 3), (3,)\n",
      "energy expectation at iteration 500: --- (-4.293066456657069)\n"
     ]
    }
   ],
   "source": [
    "'''\n",
    "Using the standard decay parameters from Pytorch. \n",
    "'''\n",
    "\n",
    "J = CsnFourier.Expect_braket\n",
    "opt_YJM, opt_H ,opt_energy_list= CsnFourier.CSn_nadam(J)"
   ]
  },
  {
   "cell_type": "code",
   "execution_count": 7,
   "id": "15af26b0",
   "metadata": {},
   "outputs": [],
   "source": [
    "O_gs = CsnFourier.Groundstate(opt_YJM, opt_H)\n",
    "optimized_energy = CsnFourier.Expect_braket_energy(opt_YJM, opt_H)"
   ]
  },
  {
   "cell_type": "code",
   "execution_count": 8,
   "id": "4e9e09fd",
   "metadata": {},
   "outputs": [
    {
     "name": "stdout",
     "output_type": "stream",
     "text": [
      "the optimized ground state: [-0.15237393 -0.0651285   0.00648768 -0.28327447  0.00648768 -0.25822267\n",
      "  0.31443686 -0.14116936  0.17426199 -0.28327447  0.31443686 -0.13560986\n",
      "  0.17426199 -0.66969703]\n",
      "------------------------------------\n",
      "Optimized lowest energy: -4.293066456657069\n",
      "-------------------------------------\n",
      "True Ground State wavefuncion in Sn irrep basis: [ 0.15237393  0.0651285  -0.00648768  0.28327447 -0.00648768  0.25822267\n",
      " -0.31443686  0.14116936 -0.17426199  0.28327447 -0.31443686  0.13560986\n",
      " -0.17426199  0.66969703]\n",
      "-------------------------------------\n",
      "The overlap between the optimized state and the ground state: -0.9999999999999996\n",
      "The distance between the optimized state and the ground state: 1.9999999999999996\n"
     ]
    }
   ],
   "source": [
    "\n",
    "print('the optimized ground state: {}'.format(O_gs))\n",
    "print('------------------------------------')\n",
    "print('Optimized lowest energy: {}'.format(optimized_energy))\n",
    "print('-------------------------------------')\n",
    "print('True Ground State wavefuncion in Sn irrep basis: {}'.format(V_gs))\n",
    "print('-------------------------------------')\n",
    "print('The overlap between the optimized state and the ground state: {}'.format(jnp.dot(O_gs,\n",
    "                                                                               V_gs)))\n",
    "print('The distance between the optimized state and the ground state: {}'.format(jnp.linalg.norm(jnp.subtract(V_gs, O_gs))))\n",
    "\n"
   ]
  },
  {
   "cell_type": "code",
   "execution_count": 20,
   "id": "9c680f06",
   "metadata": {},
   "outputs": [
    {
     "name": "stdout",
     "output_type": "stream",
     "text": [
      "[-4.29306645665707, -4.29306645665707, -4.29306645665707, -4.29306645665707, -4.29306645665707, -4.29306645665707, -4.29306645665707, -4.29306645665707, -4.29306645665707, -4.29306645665707, -4.29306645665707]\n"
     ]
    },
    {
     "data": {
      "image/png": "[encoded data removed]",
      "text/plain": [
       "<Figure size 432x288 with 1 Axes>"
      ]
     },
     "metadata": {
      "needs_background": "light"
     },
     "output_type": "display_data"
    }
   ],
   "source": [
    "plt.plot([i * 50 for i in range(0,11)], opt_energy_list)\n",
    "plt.plot([E_gs for i in range(0,11)])\n",
    "plt.show()"
   ]
  },
  {
   "cell_type": "code",
   "execution_count": null,
   "id": "b6b8ba09",
   "metadata": {},
   "outputs": [],
   "source": [
    "'''\n",
    "Do not run these as outdated \n",
    "'''"
   ]
  },
  {
   "cell_type": "code",
   "execution_count": null,
   "id": "15c4c9a4",
   "metadata": {},
   "outputs": [],
   "source": [
    "# trial_GS = CsnFourier.Groundstate()\n",
    "YJMparams, Hparams = CsnFourier.GD_momentum(Params = optParams)\n",
    "\n"
   ]
  },
  {
   "cell_type": "code",
   "execution_count": null,
   "id": "e6e0fd50",
   "metadata": {},
   "outputs": [],
   "source": [
    "# Heisenberg = CsnFourier.Ham_rep()\n",
    "# Heisenberg = jnp.asarray(Heisenberg, dtype ='float64')\n",
    "O_gs = CsnFourier.Groundstate(YJMparams, Hparams)\n",
    "optimized_energy = CsnFourier.Expect_braket_energy(YJMparams, Hparams)\n"
   ]
  },
  {
   "cell_type": "code",
   "execution_count": null,
   "id": "bafb8814",
   "metadata": {},
   "outputs": [],
   "source": [
    "\n",
    "\n",
    "print('the optimized ground state: {}'.format(O_gs))\n",
    "print('------------------------------------')\n",
    "print('Optimized lowest energy: {}'.format(optimized_energy))\n",
    "print('-------------------------------------')\n",
    "print('True Ground State wavefuncion in Sn irrep basis: {}'.format(V_gs))\n",
    "print('-------------------------------------')\n",
    "print('The overlap between the optimized state and the ground state: {}'.format(jnp.dot(O_gs,\n",
    "                                                                               V_gs)))\n",
    "\n"
   ]
  },
  {
   "cell_type": "markdown",
   "id": "a6d7826a",
   "metadata": {},
   "source": [
    "#### Using the Overlap WIth ED Groundstate energy "
   ]
  },
  {
   "cell_type": "code",
   "execution_count": null,
   "id": "cc14616e",
   "metadata": {},
   "outputs": [],
   "source": [
    "'''\n",
    "Loss function written to overlap with energy \n",
    "'''\n",
    "\n",
    "YJMparams, Hparams = CsnFourier.GD_momentum(opt='overlap_energy')"
   ]
  },
  {
   "cell_type": "code",
   "execution_count": null,
   "id": "39467ba1",
   "metadata": {},
   "outputs": [],
   "source": [
    "O_gs = CsnFourier.Groundstate(YJMparams, Hparams)\n",
    "optimized_energy = CsnFourier.Expect_braket_energy(YJMparams, Hparams)\n"
   ]
  },
  {
   "cell_type": "code",
   "execution_count": null,
   "id": "5ee16871",
   "metadata": {},
   "outputs": [],
   "source": [
    "V_gs = jnp.asarray(V_gs.at[:,int(0)].get())\n",
    "\n",
    "\n",
    "print('the optimized ground state: {}'.format(O_gs))\n",
    "print('------------------------------------')\n",
    "print('Optimized lowest energy: {}'.format(optimized_energy))\n",
    "print('-------------------------------------')\n",
    "print('True Ground State wavefuncion in Sn irrep basis: {}'.format(V_gs))\n",
    "print('-------------------------------------')\n",
    "print('The overlap between the optimized state and the ground state: {}'.format(jnp.dot(O_gs,\n",
    "                                                                               V_gs)))\n",
    "\n"
   ]
  },
  {
   "cell_type": "code",
   "execution_count": null,
   "id": "e9e47117",
   "metadata": {},
   "outputs": [],
   "source": [
    "'''\n",
    "Loss function wrt. exact diagonal state \n",
    "'''\n",
    "J = CsnFourier.Expect_OverlapS\n",
    "YJMparams, Hparams = CsnFourier.GD_momentum(opt='overlap_state')\n"
   ]
  },
  {
   "cell_type": "code",
   "execution_count": null,
   "id": "822ed304",
   "metadata": {},
   "outputs": [],
   "source": [
    "\n",
    "O_gs = CsnFourier.Groundstate(YJMparams, Hparams)\n",
    "optimized_energy = CsnFourier.Expect_braket_energy(YJMparams, Hparams)\n",
    "\n",
    "\n"
   ]
  },
  {
   "cell_type": "code",
   "execution_count": null,
   "id": "c9aebe00",
   "metadata": {},
   "outputs": [],
   "source": [
    "\n",
    "optYJM = YJMparams\n",
    "optH = Hparams\n",
    "optParams = [optYJM, optH]\n",
    "print('the optimized ground state: {}'.format(O_gs))\n",
    "print('------------------------------------')\n",
    "print('Optimized lowest energy: {}'.format(optimized_energy))\n",
    "print('-------------------------------------')\n",
    "print('True Ground State wavefuncion in Sn irrep basis: {}'.format(V_gs))\n",
    "print('-------------------------------------')\n",
    "print('The overlap between the optimized state and the ground state: {}'.format(jnp.dot(O_gs,\n",
    "                                                                               V_gs)))\n",
    "print('The distance between the optimized state and the ground state: {}'.format(jnp.linalg.norm(jnp.subtract(V_gs, O_gs))))\n"
   ]
  },
  {
   "cell_type": "code",
   "execution_count": null,
   "id": "5e446dcc",
   "metadata": {},
   "outputs": [],
   "source": [
    "J = CsnFourier.Expect_OverlapS\n",
    "YJMparams, Hparams = CsnFourier.CSn_nadam(J, delta1=float(0.9), \n",
    "                                          delta2 = float(0.95))"
   ]
  },
  {
   "cell_type": "markdown",
   "id": "2e5cb374",
   "metadata": {},
   "source": [
    "#### Step4.2 Get the params close to the true ground state "
   ]
  },
  {
   "cell_type": "code",
   "execution_count": null,
   "id": "d6c5215e",
   "metadata": {},
   "outputs": [],
   "source": []
  },
  {
   "cell_type": "code",
   "execution_count": null,
   "id": "91a8079c",
   "metadata": {},
   "outputs": [],
   "source": []
  },
  {
   "cell_type": "code",
   "execution_count": null,
   "id": "065cec0f",
   "metadata": {},
   "outputs": [],
   "source": []
  },
  {
   "cell_type": "markdown",
   "id": "49aed93b",
   "metadata": {},
   "source": [
    "### Step 5:  Gradient Descent with Custom derivative rules "
   ]
  },
  {
   "cell_type": "code",
   "execution_count": null,
   "id": "ad5a5afe",
   "metadata": {},
   "outputs": [],
   "source": [
    "'''\n",
    "Using Gradient Descent with the moment \n",
    "'''\n",
    "\n",
    "YJMparams, Hparams = CsnFourier.GD_momentum(mode='exact', opt=None)\n",
    "\n",
    "# Params = CsnFourier.random_params2()\n",
    "# YJMparams = Params[0]\n",
    "# Hparams = Params[1]\n",
    "# trial_states  = CsnFourier.CSn_VStates(YJMparams, Hparams)\n"
   ]
  },
  {
   "cell_type": "code",
   "execution_count": null,
   "id": "eb7b27cc",
   "metadata": {},
   "outputs": [],
   "source": [
    "# print(jnp.linalg.norm(trial_states))\n",
    "\n",
    "# print(np.array([0,1,1,2]).astype('float64'))\n",
    "# print(np.array([0,1,2,3]).astype('complex128'))"
   ]
  },
  {
   "cell_type": "code",
   "execution_count": null,
   "id": "839e8487",
   "metadata": {},
   "outputs": [],
   "source": [
    "# best_params = CsnFourier.SGD_momentum()"
   ]
  },
  {
   "cell_type": "code",
   "execution_count": null,
   "id": "9186adf4",
   "metadata": {},
   "outputs": [],
   "source": [
    "# X24_rep = CsnFilters.get_YJMs(1,2)\n",
    "# # from sympy.combinatorics import Permutation\n",
    "# # from sympy.interactive import init_printing\n",
    "\n",
    "# # p = [5,6]\n",
    "# # q = [4,5]\n",
    "# # p =Permutation([[4,5]]) * Permutation([[5,6]])\n",
    "# # print(p.array_form)s\n",
    "\n",
    "# # S = SymmetricGroup(4)\n",
    "# # p = S('(2,4)')\n",
    "# # q = S('(3,4)')\n",
    "# # print(set(p * q))\n",
    "\n",
    "# print(X24_rep)\n",
    "# # print(X24)\n",
    "# X24rep = jnp.asarray(X24_rep, dtype='float64')\n",
    "# print(X24rep.at[int(1),int(3)].get())\n",
    "\n"
   ]
  },
  {
   "cell_type": "code",
   "execution_count": null,
   "id": "cd05c5f1",
   "metadata": {},
   "outputs": [],
   "source": [
    "# orth = SymmetricGroupRepresentation([3,3],'orthogonal')\n",
    "# S = SymmetricGroup(6)\n",
    "# p = S('(1,2)(3,4)')\n",
    "# S1 = np.array(orth.representation_matrix((1,4,2)))\n",
    "# S2 = np.array(orth.representation_matrix((1,2, 4)))\n",
    "# S3 = np.array(orth.representation_matrix(p))\n",
    "\n",
    "# print(np.add(np.add(S1,S2), S3))\n"
   ]
  },
  {
   "cell_type": "code",
   "execution_count": null,
   "id": "2fc97a3b",
   "metadata": {},
   "outputs": [],
   "source": [
    "# def random_params(n, key, scale= float( 1e-2)):\n",
    "#   w_key, b_key = random.split(key)\n",
    "#   return jnp.multiply(scale, random.normal(w_key, (n, n))), jnp.multiply( scale,  random.normal(b_key))\n",
    "# YJMparams, Hparams = random_params(CsnFilters.Nsites, random.PRNGKey(0))\n",
    "# # jnp.iscomplex(YJMparams)\n",
    "# # print(YJMparams)\n",
    "# YJM_conv = CsnFilters.YJM_Conv2d(YJMparams)\n",
    "# print(YJM_conv.shape)"
   ]
  },
  {
   "cell_type": "code",
   "execution_count": null,
   "id": "088710b3",
   "metadata": {},
   "outputs": [],
   "source": [
    "# print(jnp.linalg.norm(YJM_conv, ord='fro'))\n",
    "# print(jnp.diag(YJM_conv))"
   ]
  },
  {
   "cell_type": "code",
   "execution_count": null,
   "id": "77b21f39",
   "metadata": {},
   "outputs": [],
   "source": [
    "# rep_H = CsnFilters.Ham_rep()\n",
    "# Hesi_conv = CsnFilters.Heis_Conv2d(Hparams, rep_H)\n",
    "# print(jnp.linalg.norm(Hesi_conv, ord='fro'))\n"
   ]
  },
  {
   "cell_type": "code",
   "execution_count": null,
   "id": "84015f1e",
   "metadata": {},
   "outputs": [],
   "source": [
    "def random_params(n, p, scale= float( 1e-2)):\n",
    "    YJMparams = jnp.zeros((n,n,p))\n",
    "    Hparams = jnp.zeros((p))\n",
    "    for i in range(p):\n",
    "        w_key, b_key = random.split(random.PRNGKey(int(i)))\n",
    "        YJMparams = YJMparams.at[:,:,i].set( jnp.multiply( scale, random.normal(w_key, (n,n))))\n",
    "        Hparams = Hparams.at[i].set(jnp.multiply(scale, random.normal(b_key)))\n",
    "    return [YJMparams, Hparams]\n",
    "    \n",
    "Parameters= random_params(CsnFilters.Nsites, 3)\n"
   ]
  },
  {
   "cell_type": "code",
   "execution_count": null,
   "id": "b6a34a5a",
   "metadata": {},
   "outputs": [],
   "source": []
  },
  {
   "cell_type": "code",
   "execution_count": null,
   "id": "83dcad3d",
   "metadata": {},
   "outputs": [],
   "source": [
    "groundstate = CsnFilters.CSn_VStates(10, Parameters[0], Parameters[1])"
   ]
  },
  {
   "cell_type": "code",
   "execution_count": null,
   "id": "e57224a0",
   "metadata": {},
   "outputs": [],
   "source": [
    "print(jnp.linalg.norm(groundstate))\n",
    "print(groundstate)"
   ]
  },
  {
   "cell_type": "code",
   "execution_count": null,
   "id": "8305f07a",
   "metadata": {},
   "outputs": [],
   "source": [
    "def J(rep_H, YJMparams, Hparams, num_samples= 10):\n",
    "    groundstate = CsnFilters.CSn_VStates(num_samples, YJMparams, Hparams)\n",
    "    return jnp.matmul(jnp.conjugate(groundstate), jnp.matmul(rep_H, groundstate))"
   ]
  },
  {
   "cell_type": "code",
   "execution_count": null,
   "id": "be5f17b4",
   "metadata": {},
   "outputs": [],
   "source": [
    "rep_H = CsnFilters.Ham_rep()\n",
    "rep_H = jnp.asarray(rep_H.astype('float64'))\n",
    "expectation = J(rep_H, Parameters[0], Parameters[1])"
   ]
  },
  {
   "cell_type": "code",
   "execution_count": null,
   "id": "480258bb",
   "metadata": {},
   "outputs": [],
   "source": [
    "print(expectation)"
   ]
  },
  {
   "cell_type": "markdown",
   "id": "1cc1b69a",
   "metadata": {},
   "source": [
    "## Sampling and Optimization "
   ]
  },
  {
   "cell_type": "markdown",
   "id": "4f7d3e58",
   "metadata": {},
   "source": [
    "#### Sampling via the unjusted Langevin Algorithm \n",
    "\n",
    "$\\theta_{n+1}=\\theta_{n}+d t \\nabla \\log \\pi\\left(\\theta_{n}\\right)+\\sqrt{2 d t} \\xi$\n",
    "            \n",
    "            \n",
    "            \n",
    "            "
   ]
  },
  {
   "cell_type": "code",
   "execution_count": null,
   "id": "48c92ba0",
   "metadata": {},
   "outputs": [],
   "source": [
    "import jax\n",
    "import logging\n",
    "logging.basicConfig(level=logging.INFO)\n",
    "logger = logging.getLogger('JAX SGD')\n",
    "\n",
    "\n",
    "class SGD(FourierFilters):\n",
    "    '''\n",
    "    Standard SGD method implemented using JAX autodifferentiation megthd\n",
    "\n",
    "    Unsurpervised method for the minilization of the GS energy for each Sn irrep\n",
    "\n",
    "    Wirtten in the language environment SAGE9.2, supported SageMath environment\n",
    "\n",
    "    '''\n",
    "\n",
    "    def __init__(self, lr = float(0.05), max_iter = int(1e3), gamma = float(0.95)):\n",
    "        FourierFilters.__init__(self,J=None, lattice=None, Nsites=None, partit=None, p=1)\n",
    "        self.lr = lr\n",
    "        self.max_iter = max_iter\n",
    "        self.gamma = gamma \n",
    "\n",
    "    \n",
    "\n",
    "    def SGD_momentum(self,rep_H, J, Params):\n",
    "\n",
    "        \"\"\"Performs linear regression using batch gradient descent + momentum\n",
    "\n",
    "        Args:\n",
    "            J: cost function with single Params = [YJMparams, Hparams]\n",
    "            gamma: Decay parameter for vecloity sum\n",
    "\n",
    "        Returns:\n",
    "            params: the weights and bias after performing the optimization\n",
    "        \"\"\"\n",
    "\n",
    "        # Some configurations\n",
    "        LOG = False\n",
    "\n",
    "\n",
    "        YJMparams = Params[0]\n",
    "        Hparams = Params[1]\n",
    "\n",
    "        # To keep track of velocity parameters\n",
    "        params_v = {\n",
    "            'YJM': jnp.zeros(Params[0].shape),\n",
    "            'H': jnp.zeros(Params[1].shape)\n",
    "        }\n",
    "\n",
    "        # Define the gradient function w.r.t w and b\n",
    "        grad_YJM = jax.jit(jax.grad(J,argnums=int(1)))  # argnums indicates which variable to differentiate with from the parameters list passed to the function\n",
    "        grad_H = jax.jit(jax.grad(J, argnums=int(2)))\n",
    "\n",
    "        # Run once to compile JIT (Just In Time). The next uses of grad_W and grad_B will now be fast\n",
    "        grad_YJM(rep_H, YJMparams, Hparams)\n",
    "        grad_H(rep_H, YJMparams, Hparams)\n",
    "\n",
    "        for i in range(self.max_iter):\n",
    "            # Gradient w.r.t. argumnet index 1 i.e., w\n",
    "            grad_yjm = grad_YJM(rep_H, YJMparams, Hparams)\n",
    "            # Gradient w.r.t. argumnet index 2 i.e., b\n",
    "            grad_h = grad_H(rep_H, JMparams, Hparams)\n",
    "\n",
    "            # Update velocity\n",
    "            params_v['YJM'] = jnp.add( jnp.multiply(self.gamma,  params_v['YJM']) , grad_yjm)\n",
    "            params_v['H'] = jnp.add( jnp.multiply(self.gamma, params_v['H'] ), grad_h)\n",
    "\n",
    "            # Parameter update\n",
    "            YJMparams -= jnp.multiply(self.lr, params_v['wv'])\n",
    "            Hparams -= jnp.multiply(self.lr , params_v['bv'])\n",
    "\n",
    "            if LOG and i % int(20) == int(0):\n",
    "                print(J( YJMparams, Hparams))\n",
    "\n",
    "        return [YJMparams, Hparams]\n",
    "\n",
    "    # X, X_test, y, y_test, coef = get_data()\n",
    "    # params = momentum(J, X, y)\n",
    "    #\n",
    "    # print(\"True weights =\", coef)\n",
    "    # print(\"Calculated weights =\", params['w'])\n",
    "    # print(\"True bias = 2.0\\tCalculated bias = {:.6f}\".format(params['b']))\n",
    "    # print(\"Test loss: {:.9f}\".format(J(X_test, params['w'], params['b'], y_test)))\n",
    "\n",
    "    \n",
    "    "
   ]
  },
  {
   "cell_type": "code",
   "execution_count": null,
   "id": "a5f8e557",
   "metadata": {},
   "outputs": [],
   "source": [
    "mSCG = SGD()\n",
    "best_params = mSCG.SGD_momentum(J, rep_H, Parameters)"
   ]
  },
  {
   "cell_type": "code",
   "execution_count": null,
   "id": "b0abca09",
   "metadata": {},
   "outputs": [],
   "source": []
  }
 ],
 "metadata": {
  "celltoolbar": "原始单元格格式",
  "kernelspec": {
   "display_name": "SageMath 9.2",
   "language": "sage",
   "name": "sagemath"
  },
  "language_info": {
   "codemirror_mode": {
    "name": "ipython",
    "version": 3
   },
   "file_extension": ".py",
   "mimetype": "text/x-python",
   "name": "python",
   "nbconvert_exporter": "python",
   "pygments_lexer": "ipython3",
   "version": "3.9.6"
  }
 },
 "nbformat": 4,
 "nbformat_minor": 5
}
