{
 "cells": [
  {
   "cell_type": "code",
   "execution_count": 1,
   "metadata": {},
   "outputs": [],
   "source": [
    "# This cell is added by sphinx-gallery\n",
    "# It can be customized to whatever you like\n",
    "%matplotlib inline"
   ]
  },
  {
   "cell_type": "markdown",
   "metadata": {},
   "source": [
    "Kernel-based training of quantum models with scikit-learn\n",
    "=========================================================\n",
    "\n",
    "*Author: PennyLane dev team. Posted: 3 Feb 2021. Last updated: 3 Feb\n",
    "2021.*\n",
    "\n",
    "Over the last few years, quantum machine learning research has provided\n",
    "a lot of insights on how we can understand and train quantum circuits as\n",
    "machine learning models. While many connections to neural networks have\n",
    "been made, it becomes increasingly clear that their mathematical\n",
    "foundation is intimately related to so-called *kernel methods*, the most\n",
    "famous of which is the [support vector machine\n",
    "(SVM)](https://en.wikipedia.org/wiki/Support-vector_machine) (see for\n",
    "example [Schuld and Killoran (2018)](https://arxiv.org/abs/1803.07128),\n",
    "[Havlicek et al. (2018)](https://arxiv.org/abs/1804.11326), [Liu et al.\n",
    "(2020)](https://arxiv.org/abs/2010.02174), [Huang et al.\n",
    "(2020)](https://arxiv.org/pdf/2011.01938), and, for a systematic summary\n",
    "which we will follow here, [Schuld\n",
    "(2021)](https://arxiv.org/abs/2101.11020)).\n",
    "\n",
    "The link between quantum models and kernel methods has important\n",
    "practical implications: we can replace the common [variational\n",
    "approach](https://pennylane.ai/qml/glossary/variational_circuit.html) to\n",
    "quantum machine learning with a classical kernel method where the\n",
    "kernel—a small building block of the overall algorithm—is computed by a\n",
    "quantum device. In many situations there are guarantees that we get\n",
    "better or at least equally good results.\n",
    "\n",
    "This demonstration explores how kernel-based training compares with\n",
    "[variational\n",
    "training](https://pennylane.ai/qml/demos/tutorial_variational_classifier.html)\n",
    "in terms of the number of quantum circuits that have to be evaluated.\n",
    "For this we train a quantum machine learning model with a kernel-based\n",
    "approach using a combination of PennyLane and the\n",
    "[scikit-learn](https://scikit-learn.org/) machine learning library. We\n",
    "compare this strategy with a variational quantum circuit trained via\n",
    "stochastic gradient descent using\n",
    "[PyTorch](https://pennylane.readthedocs.io/en/stable/introduction/interfaces/torch.html).\n",
    "\n",
    "We will see that in a typical small-scale example, kernel-based training\n",
    "requires only a fraction of the number of quantum circuit evaluations\n",
    "used by variational circuit training, while each evaluation runs a much\n",
    "shorter circuit. In general, the relative efficiency of kernel-based\n",
    "methods compared to variational circuits depends on the number of\n",
    "parameters used in the variational model.\n",
    "\n",
    "![](../demonstrations/kernel_based_training/scaling.png)\n",
    "\n",
    "If the number of variational parameters remains small, e.g., there is a\n",
    "square-root-like scaling with the number of data samples (green line),\n",
    "variational circuits are almost as efficient as neural networks (blue\n",
    "line), and require much fewer circuit evaluations than the quadratic\n",
    "scaling of kernel methods (red line). However, with current\n",
    "hardware-compatible training strategies, kernel methods scale much\n",
    "better than variational circuits that require a number of parameters of\n",
    "the order of the training set size (orange line).\n",
    "\n",
    "In conclusion, **for quantum machine learning applications with many\n",
    "parameters, kernel-based training can be a great alternative to the\n",
    "variational approach to quantum machine learning**.\n",
    "\n",
    "After working through this demo, you will:\n",
    "\n",
    "-   be able to use a support vector machine with a quantum kernel\n",
    "    computed with PennyLane, and\n",
    "-   be able to compare the scaling of quantum circuit evaluations\n",
    "    required in kernel-based versus variational training.\n",
    "\n"
   ]
  },
  {
   "cell_type": "markdown",
   "metadata": {},
   "source": [
    "Background\n",
    "==========\n",
    "\n",
    "Let us consider a *quantum model* of the form\n",
    "\n",
    "$$f(x) = \\langle \\phi(x) | \\mathcal{M} | \\phi(x)\\rangle,$$\n",
    "\n",
    "where $| \\phi(x)\\rangle$ is prepared by a fixed [embedding\n",
    "circuit](https://pennylane.ai/qml/glossary/quantum_embedding.html) that\n",
    "encodes data inputs $x$, and $\\mathcal{M}$ is an arbitrary observable.\n",
    "This model includes variational quantum machine learning models, since\n",
    "the observable can effectively be implemented by a simple measurement\n",
    "that is preceded by a variational circuit:\n",
    "\n",
    "![](../demonstrations/kernel_based_training/quantum_model.png)\n",
    "\n",
    "|\n",
    "\n",
    "For example, applying a circuit $G(\\theta)$ and then measuring the\n",
    "Pauli-Z observable $\\sigma^0_z$ of the first qubit implements the\n",
    "trainable measurement\n",
    "$\\mathcal{M}(\\theta) = G^{\\dagger}(\\theta) \\sigma^0_z G(\\theta)$.\n",
    "\n",
    "The main practical consequence of approaching quantum machine learning\n",
    "with a kernel approach is that instead of training $f$ variationally, we\n",
    "can often train an equivalent classical kernel method with a kernel\n",
    "executed on a quantum device. This *quantum kernel* is given by the\n",
    "mutual overlap of two data-encoding quantum states,\n",
    "\n",
    "$$\\kappa(x, x') = | \\langle \\phi(x') | \\phi(x)\\rangle|^2.$$\n",
    "\n",
    "Kernel-based training therefore bypasses the processing and measurement\n",
    "parts of common variational circuits, and only depends on the data\n",
    "encoding.\n",
    "\n",
    "If the loss function $L$ is the [hinge\n",
    "loss](https://en.wikipedia.org/wiki/Hinge_loss), the kernel method\n",
    "corresponds to a standard [support vector\n",
    "machine](https://en.wikipedia.org/wiki/Support-vector_machine) (SVM) in\n",
    "the sense of a maximum-margin classifier. Other convex loss functions\n",
    "lead to more general variations of support vector machines.\n",
    "\n",
    "> **note**\n",
    ">\n",
    "> More precisely, we can replace variational with kernel-based training\n",
    "> if the optimisation problem can be written as minimizing a cost of the\n",
    "> form\n",
    ">\n",
    "> $$\\min_f  \\lambda\\;  \\mathrm{tr}\\{\\mathcal{M}^2\\} + \\frac{1}{M}\\sum_{m=1}^M L(f(x^m), y^m),$$\n",
    ">\n",
    "> which is a regularized empirical risk with training data samples\n",
    "> $(x^m, y^m)_{m=1\\dots M}$, regularization strength\n",
    "> $\\lambda \\in \\mathbb{R}$, and loss function $L$.\n",
    ">\n",
    "> Theory predicts that kernel-based training will always find better or\n",
    "> equally good minima of this risk. However, to show this here we would\n",
    "> have to either regularize the variational training by the trace of the\n",
    "> squared observable, or switch off regularization in the classical SVM,\n",
    "> which removes a lot of its strength. The kernel-based and the\n",
    "> variational training in this demonstration therefore optimize slightly\n",
    "> different cost functions, and it is out of our scope to establish\n",
    "> whether one training method finds a better minimum than the other.\n"
   ]
  },
  {
   "cell_type": "markdown",
   "metadata": {},
   "source": [
    "Kernel-based training\n",
    "=====================\n",
    "\n",
    "First, we will turn to kernel-based training of quantum models. As\n",
    "stated above, an example implementation is a standard support vector\n",
    "machine with a kernel computed by a quantum circuit.\n"
   ]
  },
  {
   "cell_type": "markdown",
   "metadata": {},
   "source": [
    "We begin by importing all sorts of useful methods:\n"
   ]
  },
  {
   "cell_type": "code",
   "execution_count": 2,
   "metadata": {},
   "outputs": [],
   "source": [
    "import numpy as np\n",
    "import torch\n",
    "from torch.nn.functional import relu\n",
    "\n",
    "from sklearn.svm import SVC\n",
    "from sklearn.datasets import load_iris\n",
    "from sklearn.preprocessing import StandardScaler\n",
    "from sklearn.model_selection import train_test_split\n",
    "from sklearn.metrics import accuracy_score\n",
    "\n",
    "import pennylane as qml\n",
    "from pennylane.templates import AngleEmbedding, StronglyEntanglingLayers\n",
    "from pennylane.operation import Tensor\n",
    "\n",
    "import matplotlib.pyplot as plt\n",
    "\n",
    "np.random.seed(42)"
   ]
  },
  {
   "cell_type": "markdown",
   "metadata": {},
   "source": [
    "The second step is to define a data set. Since the performance of the\n",
    "models is not the focus of this demo, we can just use the first two\n",
    "classes of the famous [Iris data\n",
    "set](https://en.wikipedia.org/wiki/Iris_flower_data_set). Dating back to\n",
    "as far as 1936, this toy data set consists of 100 samples of four\n",
    "features each, and gives rise to a very simple classification problem.\n"
   ]
  },
  {
   "cell_type": "code",
   "execution_count": null,
   "metadata": {},
   "outputs": [],
   "source": [
    "X, y = load_iris(return_X_y=True)\n",
    "\n",
    "# pick inputs and labels from the first two classes only,\n",
    "# corresponding to the first 100 samples\n",
    "X = X[:100]\n",
    "y = y[:100]\n",
    "\n",
    "# scaling the inputs is important since the embedding we use is periodic\n",
    "scaler = StandardScaler().fit(X)\n",
    "X_scaled = scaler.transform(X)\n",
    "\n",
    "# scaling the labels to -1, 1 is important for the SVM and the\n",
    "# definition of a hinge loss\n",
    "y_scaled = 2 * (y - 0.5)\n",
    "\n",
    "X_train, X_test, y_train, y_test = train_test_split(X_scaled, y_scaled)"
   ]
  },
  {
   "cell_type": "markdown",
   "metadata": {},
   "source": [
    "We use the [angle-embedding\n",
    "template](https://pennylane.readthedocs.io/en/stable/code/api/pennylane.templates.embeddings.AngleEmbedding.html)\n",
    "which needs as many qubits as there are features:\n"
   ]
  },
  {
   "cell_type": "code",
   "execution_count": null,
   "metadata": {},
   "outputs": [],
   "source": [
    "n_qubits = len(X_train[0])\n",
    "n_qubits"
   ]
  },
  {
   "cell_type": "markdown",
   "metadata": {},
   "source": [
    "To implement the kernel we could prepare the two states\n",
    "$| \\phi(x) \\rangle$, $| \\phi(x') \\rangle$ on different sets of qubits\n",
    "with angle-embedding routines $S(x), S(x')$, and measure their overlap\n",
    "with a small routine called a [SWAP\n",
    "test](https://en.wikipedia.org/wiki/Swap_test).\n",
    "\n",
    "However, we need only half the number of qubits if we prepare\n",
    "$| \\phi(x)\\rangle$ and then apply the inverse embedding with $x'$ on the\n",
    "same qubits. We then measure the projector onto the initial state\n",
    "$|0..0\\rangle \\langle 0..0|$.\n",
    "\n",
    "![](../demonstrations/kernel_based_training/kernel_circuit.png)\n",
    "\n",
    "To verify that this gives us the kernel:\n",
    "\n",
    "$$\\begin{align*}\n",
    "    \\langle 0..0 |S(x') S(x)^{\\dagger} \\mathcal{M} S(x')^{\\dagger} S(x)  | 0..0\\rangle &= \\langle 0..0 |S(x') S(x)^{\\dagger} |0..0\\rangle \\langle 0..0| S(x')^{\\dagger} S(x)  | 0..0\\rangle  \\\\\n",
    "    &= |\\langle 0..0| S(x')^{\\dagger} S(x)  | 0..0\\rangle |^2\\\\\n",
    "    &= | \\langle \\phi(x') | \\phi(x)\\rangle|^2 \\\\\n",
    "    &= \\kappa(x, x').\n",
    "\\end{align*}$$\n",
    "\n",
    "Note that a projector $|0..0 \\rangle \\langle 0..0|$ can be constructed\n",
    "using the `qml.Hermitian` observable in PennyLane.\n",
    "\n",
    "Altogether, we use the following quantum node as a *quantum kernel\n",
    "evaluator*:\n"
   ]
  },
  {
   "cell_type": "code",
   "execution_count": null,
   "metadata": {},
   "outputs": [],
   "source": [
    "dev_kernel = qml.device(\"default.qubit\", wires=n_qubits)\n",
    "\n",
    "projector = np.zeros((2**n_qubits, 2**n_qubits))\n",
    "projector[0, 0] = 1\n",
    "\n",
    "@qml.qnode(dev_kernel)\n",
    "def kernel(x1, x2):\n",
    "    \"\"\"The quantum kernel.\"\"\"\n",
    "    AngleEmbedding(x1, wires=range(n_qubits))\n",
    "    qml.adjoint(AngleEmbedding)(x2, wires=range(n_qubits))\n",
    "    return qml.expval(qml.Hermitian(projector, wires=range(n_qubits)))"
   ]
  },
  {
   "cell_type": "markdown",
   "metadata": {},
   "source": [
    "A good sanity check is whether evaluating the kernel of a data point and\n",
    "itself returns 1:\n"
   ]
  },
  {
   "cell_type": "code",
   "execution_count": null,
   "metadata": {},
   "outputs": [],
   "source": [
    "kernel(X_train[0], X_train[0])"
   ]
  },
  {
   "cell_type": "markdown",
   "metadata": {},
   "source": [
    "The way an SVM with a custom kernel is implemented in scikit-learn\n",
    "requires us to pass a function that computes a matrix of kernel\n",
    "evaluations for samples in two different datasets A, B. If A=B, this is\n",
    "the [Gram matrix](https://en.wikipedia.org/wiki/Gramian_matrix).\n"
   ]
  },
  {
   "cell_type": "code",
   "execution_count": null,
   "metadata": {},
   "outputs": [],
   "source": [
    "def kernel_matrix(A, B):\n",
    "    \"\"\"Compute the matrix whose entries are the kernel\n",
    "       evaluated on pairwise data from sets A and B.\"\"\"\n",
    "    return np.array([[kernel(a, b) for b in B] for a in A])"
   ]
  },
  {
   "cell_type": "markdown",
   "metadata": {},
   "source": [
    "Training the SVM optimizes internal parameters that basically weigh\n",
    "kernel functions. It is a breeze in scikit-learn, which is designed as a\n",
    "high-level machine learning library:\n"
   ]
  },
  {
   "cell_type": "code",
   "execution_count": null,
   "metadata": {},
   "outputs": [],
   "source": [
    "svm = SVC(kernel=kernel_matrix).fit(X_train, y_train)"
   ]
  },
  {
   "cell_type": "markdown",
   "metadata": {},
   "source": [
    "Let’s compute the accuracy on the test set.\n"
   ]
  },
  {
   "cell_type": "code",
   "execution_count": null,
   "metadata": {},
   "outputs": [],
   "source": [
    "predictions = svm.predict(X_test)\n",
    "accuracy_score(predictions, y_test)"
   ]
  },
  {
   "cell_type": "markdown",
   "metadata": {},
   "source": [
    "The SVM predicted all test points correctly. How many times was the\n",
    "quantum device evaluated?\n"
   ]
  },
  {
   "cell_type": "code",
   "execution_count": null,
   "metadata": {},
   "outputs": [],
   "source": [
    "dev_kernel.num_executions"
   ]
  },
  {
   "cell_type": "markdown",
   "metadata": {},
   "source": [
    "This number can be derived as follows: For $M$ training samples, the SVM\n",
    "must construct the $M \\times M$ dimensional kernel gram matrix for\n",
    "training. To classify $M_{\\rm pred}$ new samples, the SVM needs to\n",
    "evaluate the kernel at most $M_{\\rm pred}M$ times to get the pairwise\n",
    "distances between training vectors and test samples.\n",
    "\n",
    "> **note**\n",
    ">\n",
    "> Depending on the implementation of the SVM, only $S \\leq M_{\\rm pred}$\n",
    "> *support vectors* are needed.\n",
    "\n",
    "Let us formulate this as a function, which can be used at the end of the\n",
    "demo to construct the scaling plot shown in the introduction.\n"
   ]
  },
  {
   "cell_type": "code",
   "execution_count": null,
   "metadata": {},
   "outputs": [],
   "source": [
    "def circuit_evals_kernel(n_data, split):\n",
    "    \"\"\"Compute how many circuit evaluations one needs for kernel-based\n",
    "       training and prediction.\"\"\"\n",
    "\n",
    "    M = int(np.ceil(split * n_data))\n",
    "    Mpred = n_data - M\n",
    "\n",
    "    n_training = M * M\n",
    "    n_prediction = M * Mpred\n",
    "\n",
    "    return n_training + n_prediction"
   ]
  },
  {
   "cell_type": "markdown",
   "metadata": {},
   "source": [
    "With $M = 75$ and $M_{\\rm pred} = 25$, the number of kernel evaluations\n",
    "can therefore be estimated as:\n"
   ]
  },
  {
   "cell_type": "code",
   "execution_count": null,
   "metadata": {},
   "outputs": [],
   "source": [
    "circuit_evals_kernel(n_data=len(X), split=len(X_train) /(len(X_train) + len(X_test)))"
   ]
  },
  {
   "cell_type": "markdown",
   "metadata": {},
   "source": [
    "The single additional evaluation can be attributed to evaluating the\n",
    "kernel once above as a sanity check.\n"
   ]
  },
  {
   "cell_type": "markdown",
   "metadata": {},
   "source": [
    "A similar example using variational training\n",
    "============================================\n"
   ]
  },
  {
   "cell_type": "markdown",
   "metadata": {},
   "source": [
    "Using the variational principle of training, we can propose an *ansatz*\n",
    "for the variational circuit and train it directly. By increasing the\n",
    "number of layers of the ansatz, its expressivity increases. Depending on\n",
    "the ansatz, we may only search through a subspace of all measurements\n",
    "for the best candidate.\n",
    "\n",
    "Remember from above, the variational training does not optimize\n",
    "*exactly* the same cost as the SVM, but we try to match them as closely\n",
    "as possible. For this we use a bias term in the quantum model, and train\n",
    "on the hinge loss.\n",
    "\n",
    "We also explicitly use the\n",
    "[parameter-shift](https://pennylane.ai/qml/glossary/parameter_shift.html)\n",
    "differentiation method in the quantum node, since this is a method which\n",
    "works on hardware as well. While `diff_method='backprop'` or\n",
    "`diff_method='adjoint'` would reduce the number of circuit evaluations\n",
    "significantly, they are based on tricks that are only suitable for\n",
    "simulators, and can therefore not scale to more than a few dozen qubits.\n"
   ]
  },
  {
   "cell_type": "code",
   "execution_count": null,
   "metadata": {},
   "outputs": [],
   "source": [
    "dev_var = qml.device(\"default.qubit\", wires=n_qubits)\n",
    "\n",
    "@qml.qnode(dev_var, interface=\"torch\", diff_method=\"parameter-shift\")\n",
    "def quantum_model(x, params):\n",
    "    \"\"\"A variational quantum model.\"\"\"\n",
    "\n",
    "    # embedding\n",
    "    AngleEmbedding(x, wires=range(n_qubits))\n",
    "\n",
    "    # trainable measurement\n",
    "    StronglyEntanglingLayers(params, wires=range(n_qubits))\n",
    "    return qml.expval(qml.PauliZ(0))\n",
    "\n",
    "def quantum_model_plus_bias(x, params, bias):\n",
    "    \"\"\"Adding a bias.\"\"\"\n",
    "    return quantum_model(x, params) + bias\n",
    "\n",
    "def hinge_loss(predictions, targets):\n",
    "    \"\"\"Implements the hinge loss.\"\"\"\n",
    "    all_ones = torch.ones_like(targets)\n",
    "    hinge_loss = all_ones - predictions * targets\n",
    "    # trick: since the max(0,x) function is not differentiable,\n",
    "    # use the mathematically equivalent relu instead\n",
    "    hinge_loss = relu(hinge_loss)\n",
    "    return hinge_loss"
   ]
  },
  {
   "cell_type": "markdown",
   "metadata": {},
   "source": [
    "We now summarize the usual training and prediction steps into two\n",
    "functions similar to scikit-learn's `fit()` and `predict()`. While it\n",
    "feels cumbersome compared to the one-liner used to train the kernel\n",
    "method, PennyLane—like other differentiable programming\n",
    "libraries—provides a lot more control over the particulars of training.\n",
    "\n",
    "In our case, most of the work is to convert between numpy and torch,\n",
    "which we need for the differentiable `relu` function used in the hinge\n",
    "loss.\n"
   ]
  },
  {
   "cell_type": "code",
   "execution_count": null,
   "metadata": {},
   "outputs": [],
   "source": [
    "def quantum_model_train(n_layers, steps, batch_size):\n",
    "    \"\"\"Train the quantum model defined above.\"\"\"\n",
    "\n",
    "    params = np.random.random((n_layers, n_qubits, 3))\n",
    "    params_torch = torch.tensor(params, requires_grad=True)\n",
    "    bias_torch = torch.tensor(0.0)\n",
    "\n",
    "    opt = torch.optim.Adam([params_torch, bias_torch], lr=0.1)\n",
    "\n",
    "    loss_history = []\n",
    "    for i in range(steps):\n",
    "\n",
    "        batch_ids = np.random.choice(len(X_train), batch_size)\n",
    "\n",
    "        X_batch = X_train[batch_ids]\n",
    "        y_batch = y_train[batch_ids]\n",
    "\n",
    "        X_batch_torch = torch.tensor(X_batch, requires_grad=False)\n",
    "        y_batch_torch = torch.tensor(y_batch, requires_grad=False)\n",
    "\n",
    "        def closure():\n",
    "            opt.zero_grad()\n",
    "            preds = torch.stack(\n",
    "                [quantum_model_plus_bias(x, params_torch, bias_torch) for x in X_batch_torch]\n",
    "            )\n",
    "            loss = torch.mean(hinge_loss(preds, y_batch_torch))\n",
    "\n",
    "            # bookkeeping\n",
    "            current_loss = loss.detach().numpy().item()\n",
    "            loss_history.append(current_loss)\n",
    "            if i % 10 == 0:\n",
    "                print(\"step\", i, \", loss\", current_loss)\n",
    "\n",
    "            loss.backward()\n",
    "            return loss\n",
    "\n",
    "        opt.step(closure)\n",
    "\n",
    "    return params_torch, bias_torch, loss_history\n",
    "\n",
    "\n",
    "def quantum_model_predict(X_pred, trained_params, trained_bias):\n",
    "    \"\"\"Predict using the quantum model defined above.\"\"\"\n",
    "\n",
    "    p = []\n",
    "    for x in X_pred:\n",
    "\n",
    "        x_torch = torch.tensor(x)\n",
    "        pred_torch = quantum_model_plus_bias(x_torch, trained_params, trained_bias)\n",
    "        pred = pred_torch.detach().numpy().item()\n",
    "        if pred > 0:\n",
    "            pred = 1\n",
    "        else:\n",
    "            pred = -1\n",
    "\n",
    "        p.append(pred)\n",
    "    return p"
   ]
  },
  {
   "cell_type": "markdown",
   "metadata": {},
   "source": [
    "Let’s train the variational model and see how well we are doing on the\n",
    "test set.\n"
   ]
  },
  {
   "cell_type": "code",
   "execution_count": null,
   "metadata": {},
   "outputs": [],
   "source": [
    "n_layers = 2\n",
    "batch_size = 20\n",
    "steps = 100\n",
    "trained_params, trained_bias, loss_history = quantum_model_train(n_layers, steps, batch_size)\n",
    "\n",
    "pred_test = quantum_model_predict(X_test, trained_params, trained_bias)\n",
    "print(\"accuracy on test set:\", accuracy_score(pred_test, y_test))\n",
    "\n",
    "plt.plot(loss_history)\n",
    "plt.ylim((0, 1))\n",
    "plt.xlabel(\"steps\")\n",
    "plt.ylabel(\"cost\")\n",
    "plt.show()"
   ]
  },
  {
   "cell_type": "markdown",
   "metadata": {},
   "source": [
    "The variational circuit has a slightly lower accuracy than the SVM—but\n",
    "this depends very much on the training settings we used. Different\n",
    "random parameter initializations, more layers, or more steps may indeed\n",
    "get perfect test accuracy.\n",
    "\n",
    "How often was the device executed?\n"
   ]
  },
  {
   "cell_type": "code",
   "execution_count": null,
   "metadata": {},
   "outputs": [],
   "source": [
    "dev_var.num_executions"
   ]
  },
  {
   "cell_type": "markdown",
   "metadata": {},
   "source": [
    "That is a lot more than the kernel method took!\n",
    "\n",
    "Let’s try to understand this value. In each optimization step, the\n",
    "variational circuit needs to compute the partial derivative of all\n",
    "trainable parameters for each sample in a batch. Using parameter-shift\n",
    "rules, we require roughly two circuit evaluations per partial\n",
    "derivative. Prediction uses only one circuit evaluation per sample.\n",
    "\n",
    "We can formulate this as another function that will be used in the\n",
    "scaling plot below.\n"
   ]
  },
  {
   "cell_type": "code",
   "execution_count": null,
   "metadata": {},
   "outputs": [],
   "source": [
    "def circuit_evals_variational(n_data, n_params, n_steps, shift_terms, split, batch_size):\n",
    "    \"\"\"Compute how many circuit evaluations are needed for\n",
    "       variational training and prediction.\"\"\"\n",
    "\n",
    "    M = int(np.ceil(split * n_data))\n",
    "    Mpred = n_data - M\n",
    "\n",
    "    n_training = n_params * n_steps * batch_size * shift_terms\n",
    "    n_prediction = Mpred\n",
    "\n",
    "    return n_training + n_prediction"
   ]
  },
  {
   "cell_type": "markdown",
   "metadata": {},
   "source": [
    "This estimates the circuit evaluations in variational training as:\n"
   ]
  },
  {
   "cell_type": "code",
   "execution_count": null,
   "metadata": {},
   "outputs": [],
   "source": [
    "circuit_evals_variational(\n",
    "    n_data=len(X),\n",
    "    n_params=len(trained_params.flatten()),\n",
    "    n_steps=steps,\n",
    "    shift_terms=2,\n",
    "    split=len(X_train) /(len(X_train) + len(X_test)),\n",
    "    batch_size=batch_size,\n",
    ")"
   ]
  },
  {
   "cell_type": "markdown",
   "metadata": {},
   "source": [
    "The estimate is a bit higher because it does not account for some\n",
    "optimizations that PennyLane performs under the hood.\n",
    "\n",
    "It is important to note that while they are trained in a similar manner,\n",
    "the number of variational circuit evaluations differs from the number of\n",
    "neural network model evaluations in classical machine learning, which\n",
    "would be given by:\n"
   ]
  },
  {
   "cell_type": "code",
   "execution_count": null,
   "metadata": {},
   "outputs": [],
   "source": [
    "def model_evals_nn(n_data, n_params, n_steps, split, batch_size):\n",
    "    \"\"\"Compute how many model evaluations are needed for neural\n",
    "       network training and prediction.\"\"\"\n",
    "\n",
    "    M = int(np.ceil(split * n_data))\n",
    "    Mpred = n_data - M\n",
    "\n",
    "    n_training = n_steps * batch_size\n",
    "    n_prediction = Mpred\n",
    "\n",
    "    return n_training + n_prediction"
   ]
  },
  {
   "cell_type": "markdown",
   "metadata": {},
   "source": [
    "In each step of neural network training, and due to the clever\n",
    "implementations of automatic differentiation, the backpropagation\n",
    "algorithm can compute a gradient for all parameters in (more-or-less) a\n",
    "single run. For all we know at this stage, the no-cloning principle\n",
    "prevents variational circuits from using these tricks, which leads to\n",
    "`n_training` in `circuit_evals_variational` depending on the number of\n",
    "parameters, but not in `model_evals_nn`.\n",
    "\n",
    "For the same example as used here, a neural network would therefore have\n",
    "far fewer model evaluations than both variational and kernel-based\n",
    "training:\n"
   ]
  },
  {
   "cell_type": "code",
   "execution_count": null,
   "metadata": {},
   "outputs": [],
   "source": [
    "model_evals_nn(\n",
    "    n_data=len(X),\n",
    "    n_params=len(trained_params.flatten()),\n",
    "    n_steps=steps,\n",
    "    split=len(X_train) /(len(X_train) + len(X_test)),\n",
    "    batch_size=batch_size,\n",
    ")"
   ]
  },
  {
   "cell_type": "markdown",
   "metadata": {},
   "source": [
    "Which method scales best?\n",
    "=========================\n"
   ]
  },
  {
   "cell_type": "markdown",
   "metadata": {},
   "source": [
    "The answer to this question depends on how the variational model is set\n",
    "up, and we need to make a few assumptions:\n",
    "\n",
    "1.  Even if we use single-batch stochastic gradient descent, in which\n",
    "    every training step uses exactly one training sample, we would want\n",
    "    to see every training sample at least once on average. Therefore,\n",
    "    the number of steps should scale at least linearly with the number\n",
    "    of training data samples.\n",
    "2.  Modern neural networks often have many more parameters than\n",
    "    training samples. But we do not know yet whether variational\n",
    "    circuits really need that many parameters as well. We will therefore\n",
    "    use two cases for comparison:\n",
    "\n",
    "    2a) the number of parameters grows linearly with the training data,\n",
    "    or `n_params = M`,\n",
    "\n",
    "    2b) the number of parameters saturates at some point, which we model\n",
    "    by setting `n_params = sqrt(M)`.\n",
    "\n",
    "Note that compared to the example above with 75 training samples and 24\n",
    "parameters, a) overestimates the number of evaluations, while b)\n",
    "underestimates it.\n"
   ]
  },
  {
   "cell_type": "markdown",
   "metadata": {},
   "source": [
    "This is how the three methods compare:\n"
   ]
  },
  {
   "cell_type": "code",
   "execution_count": null,
   "metadata": {},
   "outputs": [],
   "source": [
    "variational_training1 = []\n",
    "variational_training2 = []\n",
    "kernelbased_training = []\n",
    "nn_training = []\n",
    "x_axis = range(0, 2000, 100)\n",
    "\n",
    "for M in x_axis:\n",
    "\n",
    "    var1 = circuit_evals_variational(\n",
    "        n_data=M, n_params=M, n_steps=M,  shift_terms=2, split=0.75, batch_size=1\n",
    "    )\n",
    "    variational_training1.append(var1)\n",
    "\n",
    "    var2 = circuit_evals_variational(\n",
    "        n_data=M, n_params=round(np.sqrt(M)), n_steps=M,\n",
    "        shift_terms=2, split=0.75, batch_size=1\n",
    "    )\n",
    "    variational_training2.append(var2)\n",
    "\n",
    "    kernel = circuit_evals_kernel(n_data=M, split=0.75)\n",
    "    kernelbased_training.append(kernel)\n",
    "\n",
    "    nn = model_evals_nn(\n",
    "        n_data=M, n_params=M, n_steps=M, split=0.75, batch_size=1\n",
    "    )\n",
    "    nn_training.append(nn)\n",
    "\n",
    "\n",
    "plt.plot(x_axis, nn_training, linestyle='--', label=\"neural net\")\n",
    "plt.plot(x_axis, variational_training1, label=\"var. circuit (linear param scaling)\")\n",
    "plt.plot(x_axis, variational_training2, label=\"var. circuit (srqt param scaling)\")\n",
    "plt.plot(x_axis, kernelbased_training, label=\"(quantum) kernel\")\n",
    "plt.xlabel(\"size of data set\")\n",
    "plt.ylabel(\"number of evaluations\")\n",
    "plt.legend()\n",
    "plt.tight_layout()\n",
    "plt.show()"
   ]
  },
  {
   "cell_type": "markdown",
   "metadata": {},
   "source": [
    "This is the plot we saw at the beginning. With current\n",
    "hardware-compatible training methods, whether kernel-based training\n",
    "requires more or fewer quantum circuit evaluations than variational\n",
    "training depends on how many parameters the latter needs. If variational\n",
    "circuits turn out to be as parameter-hungry as neural networks,\n",
    "kernel-based training will outperform them for common machine learning\n",
    "tasks. However, if variational learning only turns out to require few\n",
    "parameters (or if more efficient training methods are found),\n",
    "variational circuits could in principle match the linear scaling of\n",
    "neural networks trained with backpropagation.\n",
    "\n",
    "The practical take-away from this demo is that unless your variational\n",
    "circuit has significantly fewer parameters than training data, kernel\n",
    "methods could be a much faster alternative!\n",
    "\n",
    "Finally, it is important to note that fault-tolerant quantum computers\n",
    "may change the picture for both quantum and classical machine learning.\n",
    "As mentioned in [Schuld (2021)](https://arxiv.org/abs/2101.11020), early\n",
    "results from the quantum machine learning literature show that larger\n",
    "quantum computers will most likely enable us to reduce the quadratic\n",
    "scaling of kernel methods to linear scaling, which may make classical as\n",
    "well as quantum kernel methods a strong alternative to neural networks\n",
    "for big data processing one day.\n"
   ]
  }
 ],
 "metadata": {
  "kernelspec": {
   "display_name": "Python 3",
   "language": "python",
   "name": "python3"
  },
  "language_info": {
   "codemirror_mode": {
    "name": "ipython",
    "version": 3
   },
   "file_extension": ".py",
   "mimetype": "text/x-python",
   "name": "python",
   "nbconvert_exporter": "python",
   "pygments_lexer": "ipython3",
   "version": "3.6.13"
  }
 },
 "nbformat": 4,
 "nbformat_minor": 1
}
