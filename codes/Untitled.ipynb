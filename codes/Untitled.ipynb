{
 "cells": [
  {
   "cell_type": "markdown",
   "metadata": {
    "collapsed": true
   },
   "source": [
    "## HW1"
   ]
  },
  {
   "cell_type": "code",
   "execution_count": null,
   "metadata": {},
   "outputs": [],
   "source": [
    "import numpy as np\n",
    "import matplotlib.pyplot as plt\n",
    "data = open('processed.txt', 'r')\n",
    "s = data.read()\n",
    "s = s.split('\\n')[0:49]\n",
    "mat = np.matrix(np.zeros(49*7)).reshape(49,7)\n",
    "for j in range(49):\n",
    "    mat[j,] = [float(i) for i in np.array(s[j].split(','))]"
   ]
  },
  {
   "cell_type": "code",
   "execution_count": null,
   "metadata": {
    "collapsed": true
   },
   "outputs": [],
   "source": [
    "def SVD(mat):\n",
    "    matsvd = np.linalg.svd(mat)\n",
    "    U, singular_values, V = matsvd\n",
    "    a = np.zeros(49 * 7)\n",
    "    Sigma = np.matrix(a).reshape(49,7)\n",
    "    np.fill_diagonal(Sigma, singular_value)\n",
    "    return U, singular_value, V, Sigma "
   ]
  },
  {
   "cell_type": "code",
   "execution_count": null,
   "metadata": {},
   "outputs": [],
   "source": [
    "rows = open('row.txt','r')\n",
    "countries = row.read()\n",
    "countries = contries.split('\\n')[0:49]\n",
    "columns = open('column.txt', 'r')\n",
    "variables = columns.read()\n",
    "variables = variables.split('\\n')[0:7]\n",
    "\n",
    "v1 = V[0,]\n",
    "v2 = V[1,]\n",
    "u1 = U.T[0,]\n",
    "u2 = U.T[1,]\n",
    "\n"
   ]
  },
  {
   "cell_type": "code",
   "execution_count": null,
   "metadata": {},
   "outputs": [],
   "source": [
    "x_b = np.multiply(u1, singular_value[0])\n",
    "x_b = np.squeeze(np.asarray(x_b))\n",
    "y_b = np.multiply(u2, singular_value[1])\n",
    "y_b = np.squeeze(np.asarray(y_b))\n",
    "\n",
    "fig, ax = plt.subplots()\n",
    "ax.scatter(x_b, y_b)\n",
    "\n",
    "for i, txt in enumerate(countries):\n",
    "    ax.annotate(txt, (x_b[i], y_b[i]))\n",
    "    \n",
    "print('Outliers are HongKong and Singapore')"
   ]
  },
  {
   "cell_type": "code",
   "execution_count": null,
   "metadata": {},
   "outputs": [],
   "source": [
    "x_c = np.multiply(v1, singular_value[0])\n",
    "x_c = np.squeeze(np.asarray(x_c))\n",
    "y_c = np.multiply(v2, singular_value[1])\n",
    "y_c = np.squeeze(np.asarray(y_c)\n",
    "\n",
    "fig, ax = plt.subplots()\n",
    "ax.scatter(x_b, y_b)\n",
    "\n",
    "for i, txt in enumerate(countries):\n",
    "    ax.annotate(txt, (x_b[i], y_b[i]))"
   ]
  },
  {
   "cell_type": "code",
   "execution_count": null,
   "metadata": {},
   "outputs": [],
   "source": [
    "fig, ax = plt.subplots(figsize=(20, 20))\n",
    "ax.sactter(x_c, y_c)\n",
    "for i, txt in enumerate(countries):\n",
    "    ax.annotate(txt, (x_c[i], y_c[i]))\n",
    "    "
   ]
  },
  {
   "cell_type": "code",
   "execution_count": null,
   "metadata": {},
   "outputs": [],
   "source": [
    "countries_new = list(countries)\n",
    "mat_new = list(mat)\n",
    "index_HK = countries.index('Hong Kong')\n",
    "index_SP = countries.index('Singapore')\n",
    "mat_new = np.delete(mat_new, (index_HK, index_SP), axis =0)\n",
    "countries_new.remove('Hong Kong')\n",
    "countries_new.remove('Singapore')\n",
    "\n",
    "U, singular_value, V, Sigma = SVD(mat_new)\n",
    "u1 =U.T[0,]\n",
    "u2=U.T[1,]\n",
    "\n",
    "x_e = np.multiply(u1, singular_value[0])\n",
    "x_e = np.squeeze(np.asarray(x_e))\n",
    "y_e = np.multiply(u2, singular_value[1])\n",
    "y_e = np.squeeze(np.asarray(y_e))\n",
    "\n",
    "fig, ax = plt.subplots(figsize=(20, 20))\n",
    "ax.sactter(x_e, y_e)\n",
    "for i, txt in enumerate(countries):\n",
    "    ax.annotate(txt, (x_e[i], y_e[i]))\n",
    "    "
   ]
  }
 ],
 "metadata": {
  "kernelspec": {
   "display_name": "Python 3",
   "language": "python",
   "name": "python3"
  },
  "language_info": {
   "codemirror_mode": {
    "name": "ipython",
    "version": 3
   },
   "file_extension": ".py",
   "mimetype": "text/x-python",
   "name": "python",
   "nbconvert_exporter": "python",
   "pygments_lexer": "ipython3",
   "version": "3.9.6"
  }
 },
 "nbformat": 4,
 "nbformat_minor": 2
}
