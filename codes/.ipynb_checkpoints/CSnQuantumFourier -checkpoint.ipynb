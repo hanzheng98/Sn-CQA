{
 "cells": [
  {
   "cell_type": "code",
   "execution_count": 1,
   "id": "d3e5b6a1",
   "metadata": {},
   "outputs": [],
   "source": [
    "# from jupyterthemes import get_themes\n",
    "# !jt -t solarizedd -T -N -kl"
   ]
  },
  {
   "cell_type": "code",
   "execution_count": 69,
   "id": "d75bc8de",
   "metadata": {},
   "outputs": [],
   "source": [
    "import numpy as np\n",
    "import matplotlib as plt\n",
    "import numpy.linalg as LA\n",
    "from sage.combinat.symmetric_group_representations import SymmetricGroupRepresentation\n",
    "from sage.combinat.permutation import *\n",
    "import scipy\n",
    "import netket as nk\n",
    "import jax\n",
    "import jax.numpy as jnp\n",
    "import netket.nn as nknn\n",
    "from jax import grad, jit, vmap\n",
    "from jax import random\n",
    "from scipy.sparse.linalg import eigsh\n",
    "from scipy.linalg import eigh, eigvalsh\n",
    "from sympy.combinatorics import Permutation as Perm\n",
    "from sympy.interactive import init_printing\n",
    "import json"
   ]
  },
  {
   "cell_type": "code",
   "execution_count": 59,
   "id": "3d01aa3b",
   "metadata": {},
   "outputs": [],
   "source": [
    "\n",
    "class FourierFilters:\n",
    "    def __init__(self, J=None, lattice = None, Nsites =None, partit=None, p =1):\n",
    "        self.J = J\n",
    "        self.lattice = lattice\n",
    "        self.Nsites = Nsites\n",
    "        self.partit = partit\n",
    "        self.dim = np.array(SymmetricGroupRepresentation(self.partit, 'orthogonal').\n",
    "                            representation_matrix((1, 2))).shape[0]\n",
    "        self.group = SymmetricGroup(self.Nsites)\n",
    "        self.p = p\n",
    "        # J ------------------ [J_1, J_2]\n",
    "\n",
    "        # lattice ---------------------- nested list containing the tranpositions\n",
    "        #                                   e.g. [[(1,2), (2,3), (3,4), (1,4)], (1,3), (2,4)]]\n",
    "\n",
    "        # H -------------------- a Dict() object consisting of lattice and J\n",
    "\n",
    "    def rep_matrix(self,st):\n",
    "        orth = SymmetricGroupRepresentation(self.partit, 'orthogonal')\n",
    "        mat = np.array(orth.representation_matrix(st))\n",
    "        return mat\n",
    "\n",
    "    def Ham_rep(self):\n",
    "        # ls = list(H.keys())\n",
    "        # orth = SymmetricGroupRepresentation(self.partit, 'orthogonal');\n",
    "        # dim = len(np.array(orth.representation_matrix((1, 2))))\n",
    "\n",
    "        #     print(ls)\n",
    "        rep_mat0 = np.multiply(np.multiply(-1.0, len(self.lattice[0])/2, dtype='float64'),\n",
    "                               np.diag(np.ones(self.dim)))\n",
    "        for st in self.lattice[0]:\n",
    "            #         print(H[ls[0]])\n",
    "            # print(st)\n",
    "            rep_st = self.rep_matrix(st)\n",
    "            #         print(rep_st)\n",
    "            rep_mat0 = np.add(rep_mat0, rep_st)\n",
    "        rep_mat0 = np.multiply(self.J[0]/2, rep_mat0)\n",
    "        if float(self.J[1]) == float(0):\n",
    "            return rep_mat0\n",
    "        else:\n",
    "            rep_mat1 = np.multiply(np.multiply(-1.0, len(self.lattice[1])/2, dtype='float64'),\n",
    "                                   np.diag(np.ones(self.dim)))\n",
    "            for st in self.lattice[1]:\n",
    "                rep_st = self.rep_matrix(st)\n",
    "                #         print(rep_st)\n",
    "                rep_mat1 = rep_mat1 + rep_st\n",
    "            rep_mat1 = np.multiply(self.J[1]/2, rep_mat1)\n",
    "            rep_mat_H = np.add(rep_mat0, rep_mat1)\n",
    "            return rep_mat_H\n",
    "\n",
    "    # def Compute_Eig(self, rep_mat_H):\n",
    "    #     v, w = np.linalg.eig(rep_mat_H.astype('float64'))\n",
    "    #     self.EDgs_energy = v[np.argmin(v)]\n",
    "    #     self.EDgs = w[np.argmin(w)]\n",
    "\n",
    "    # def ED_Ham(self, rep_mat_H):\n",
    "    #     E_gs, V_gs= eigvalsh(rep_mat_H.astype('float64'), subset_by_index=[0, 1])\n",
    "    #     return E_gs, V_gs\n",
    "\n",
    "    def get_YJMs(self, k, l):\n",
    "        # compute X_k X_l for the YJM elements and by default X_1 = e\n",
    "        Xkl = []\n",
    "        if k==l==1:\n",
    "            return jnp.diag(jnp.ones(self.dim))\n",
    "        for i in range(1, max(k, l)):\n",
    "            pi = self.group('({}, {})'.format(i, max(k,l)))\n",
    "\n",
    "            if min(k, l) ==1:\n",
    "\n",
    "                Xkl.append(pi)\n",
    "            for j in range(i, min(k, l)):\n",
    "                # print(j)\n",
    "                pj = self.group('({}, {})'.format(j, min(k,l)))\n",
    "                # print(pj)\n",
    "                Xkl.append(pi * pj)\n",
    "        YJM_rep = jnp.zeros((self.dim, self.dim))\n",
    "        # print(Xkl)\n",
    "        for i in range(len(Xkl)):\n",
    "            # print(Xkl[i])\n",
    "            YJM_rep = np.add(YJM_rep, self.rep_matrix(Xkl[i]))\n",
    "            # print('YJM_rep at iteration {}: --- {}'.format(i, YJM_rep))\n",
    "        return YJM_rep\n",
    "\n",
    "\n",
    "\n",
    "    def YJM_Conv2d(self, YJMparams):\n",
    "        # params for the YJM Hamiltonian ------ n(n+1)/2 params per layer of YJM\n",
    "        if jnp.iscomplex(YJMparams) is False:\n",
    "            print('the parameters are not complex valued ')\n",
    "            raise ValueError\n",
    "        YJM_conv = jnp.ones(self.dim)\n",
    "        for i in range(1,self.Nsites+1):\n",
    "            if i == self.Nsites:\n",
    "                YJM_rep= self.get_YJMs(int(i), int(i))\n",
    "                # print(YJM_rep)\n",
    "                YJM_rep = jnp.multiply(complex(1j), jnp.asarray(YJM_rep,dtype='float64'))\n",
    "                exp_YJM_rep = jnp.exp(jnp.multiply(YJMparams.at[int(i), int(i)].get(), YJM_rep))\n",
    "                # exp_YJM_rep = jnp.diag(exp_YJM_rep)\n",
    "                # exp_YJM_rep = exp_YJM_rep / jnp.linalg.norm(exp_YJM_rep, ord='fro')\n",
    "                YJM_conv = jnp.matmul(YJM_conv, exp_YJM_rep)\n",
    "            for j in range(1, self.Nsites+1):\n",
    "                # print('i = {}, j = {}'.format(i,j))\n",
    "                YJM_rep= self.get_YJMs(int(i), int(j))\n",
    "                YJM_rep = jnp.multiply(complex(1j), jnp.asarray(YJM_rep,dtype='float64'))\n",
    "                exp_YJM_rep =jnp.exp(jnp.multiply(YJMparams.at[int(i), int(j)].get(), YJM_rep))\n",
    "                # exp_YJM_rep = jnp.diagexp_YJM_rep)\n",
    "                # exp_YJM_rep = exp_YJM_rep / jnp.linalg.norm(exp_YJM_rep, ord ='fro')\n",
    "                # print(exp_YJM_rep)\n",
    "                YJM_conv = jnp.matmul(YJM_conv, exp_YJM_rep)\n",
    "        return jnp.diag(YJM_conv / jnp.linalg.norm(YJM_conv))\n",
    "\n",
    "\n",
    "\n",
    "\n",
    "    def Heis_Conv2d(self, Hparam, rep_mat_H):\n",
    "        Heis_conv = jnp.exp(jnp.multiply(Hparam, jnp.asarray(rep_mat_H, dtype='float64')))\n",
    "        Heis_conv = jnp.multiply(complex(1j), Heis_conv)\n",
    "\n",
    "        return Heis_conv / jnp.linalg.norm(Heis_conv, ord='fro')\n",
    "\n",
    "    def CSn_Ansazte(self, params, Hparams):\n",
    "        rep_mat_H = self.Ham_rep()\n",
    "        ansatze = jnp.diag(jnp.ones(self.dim))\n",
    "        for i in range(self.p):\n",
    "            Heis_conv = self.Heis_Conv2d(Hparams.at[i].get(), rep_mat_H)\n",
    "            YJM_conv = self.YJM_Conv2d(params.at[:, :, i].get())\n",
    "            ansatz = jnp.matmul(YJM_conv, Heis_conv)\n",
    "            ansatze = jnp.matmul(ansatz, ansatze)\n",
    "            ansatze = ansatze / jnp.linalg.norm(ansatze)\n",
    "        return ansatze\n",
    "    \n",
    "    def CSn_VStates(self, n_samples):\n",
    "        sampling = np.random.randint(0, high = self.dim, size = n_samples)\n"
   ]
  },
  {
   "cell_type": "markdown",
   "id": "e668f659",
   "metadata": {},
   "source": [
    "#### This module consited of building and training module from unfrustrated J2 =0 lattice diagram working in the partition = [n/2, n/2]. \n",
    "\n",
    "\n"
   ]
  },
  {
   "cell_type": "markdown",
   "id": "8fb05df4",
   "metadata": {
    "slideshow": {
     "slide_type": "-"
    }
   },
   "source": [
    "#  CSn Fourier Filters & Finding the Ground States of J1-J2 Heisenberg "
   ]
  },
  {
   "cell_type": "markdown",
   "id": "f04dc8f3",
   "metadata": {},
   "source": [
    "#### Need the SageMath9.2 environment installed via a conda env or a virtual env... recommend a new conda env "
   ]
  },
  {
   "cell_type": "markdown",
   "id": "8befae1c",
   "metadata": {},
   "source": [
    "#### Use JAX, NetKet, Torch packages for notebook"
   ]
  },
  {
   "cell_type": "markdown",
   "id": "59c4dad6",
   "metadata": {},
   "source": [
    "## CSn FourierFilter Class "
   ]
  },
  {
   "cell_type": "markdown",
   "id": "56b705d2",
   "metadata": {},
   "source": []
  },
  {
   "cell_type": "markdown",
   "id": "b482235e",
   "metadata": {},
   "source": [
    "### Example (J1-J2) on the 3-square lattice "
   ]
  },
  {
   "cell_type": "code",
   "execution_count": 24,
   "id": "3b4022d7",
   "metadata": {},
   "outputs": [
    {
     "name": "stdout",
     "output_type": "stream",
     "text": [
      "[(1, 5), (1, 2), (2, 6), (2, 3), (3, 7), (3, 4), (4, 8), (5, 6), (6, 7), (7, 8)]\n"
     ]
    },
    {
     "data": {
      "image/png": "[encoded data removed]",
      "text/plain": [
       "<Figure size 432x288 with 1 Axes>"
      ]
     },
     "metadata": {},
     "output_type": "display_data"
    }
   ],
   "source": [
    "\n",
    "graph = nx.generators.lattice.grid_2d_graph(2,4)\n",
    "graph = nx.relabel.convert_node_labels_to_integers(graph, first_label=1)\n",
    "# obs = []\n",
    "# coeffs = []\n",
    "# for edge in graph.edges():\n",
    "#     print(edge)\n",
    "#     coeffs.extend([1.0, 1.0, 1.0])\n",
    "#     obs.extend([qml.PauliX(edge[0]) @ qml.PauliX(edge[1]),\n",
    "#                         qml.PauliY(edge[0]) @ qml.PauliY(edge[1]),\n",
    "#                         qml.PauliZ(edge[0]) @ qml.PauliZ(edge[1])])\n",
    "# hamiltonian_heisenberg = qml.Hamiltonian(coeffs, obs)\n",
    "\n",
    "\n",
    "nx.draw(graph, with_labels=True, font_weight='bold')\n",
    "print(graph.edges())"
   ]
  },
  {
   "cell_type": "code",
   "execution_count": null,
   "id": "92d0001c",
   "metadata": {},
   "outputs": [],
   "source": []
  },
  {
   "cell_type": "code",
   "execution_count": 60,
   "id": "426565f6",
   "metadata": {},
   "outputs": [
    {
     "name": "stdout",
     "output_type": "stream",
     "text": [
      "-4.29306645665707\n",
      "[ 0.15237393  0.0651285  -0.00648768  0.28327447 -0.00648768  0.25822267\n",
      " -0.31443686  0.14116936 -0.17426199  0.28327447 -0.31443686  0.13560986\n",
      " -0.17426199  0.66969703]\n",
      "Irrep Dims for [4, 4]: --- 14\n"
     ]
    }
   ],
   "source": [
    "J = [1, 0] # unfrustrated system for now \n",
    "# lattice2 = [[(1,2), (2,3), (3,4),(4,5), (5,6),(1,6), (2,5)],[(1,5), (2,6), (2,4), (3,5),(1,3), (4,6)]]\n",
    "lattice3 = [graph.edges(), \n",
    "            [(2,5), (5,7), (1,6), (6,8), (3,6), (2,7), (7, 4), (3,8), (2,4), (1,3)]]\n",
    "partit = [4,4]\n",
    "Nsites = 8 \n",
    "\n",
    "\n",
    "CsnFilters = FourierFilters(J= J, lattice = lattice3, Nsites=Nsites, partit=partit)\n",
    "\n",
    "\n",
    "Ham_rep = CsnFilters.Ham_rep()\n",
    "\n",
    "# print(CsnFilters.rep_mat_H)\n",
    "E_gs, V_gs = eigh(Ham_rep.astype('float64'), subset_by_index=[0,1])\n",
    "print(E_gs[0])\n",
    "print(V_gs[:,0])\n",
    "\n",
    "print('Irrep Dims for {}: --- {}'.format(partit, CsnFilters.dim))\n",
    "\n",
    "# print(Ham_rep)"
   ]
  },
  {
   "cell_type": "code",
   "execution_count": 3,
   "id": "9186adf4",
   "metadata": {},
   "outputs": [],
   "source": [
    "# X24_rep = CsnFilters.get_YJMs(1,2)\n",
    "# # from sympy.combinatorics import Permutation\n",
    "# # from sympy.interactive import init_printing\n",
    "\n",
    "# # p = [5,6]\n",
    "# # q = [4,5]\n",
    "# # p =Permutation([[4,5]]) * Permutation([[5,6]])\n",
    "# # print(p.array_form)s\n",
    "\n",
    "# # S = SymmetricGroup(4)\n",
    "# # p = S('(2,4)')\n",
    "# # q = S('(3,4)')\n",
    "# # print(set(p * q))\n",
    "\n",
    "# print(X24_rep)\n",
    "# # print(X24)\n",
    "# X24rep = jnp.asarray(X24_rep, dtype='float64')\n",
    "# print(X24rep.at[int(1),int(3)].get())\n",
    "\n"
   ]
  },
  {
   "cell_type": "code",
   "execution_count": null,
   "id": "cd05c5f1",
   "metadata": {},
   "outputs": [],
   "source": [
    "# orth = SymmetricGroupRepresentation([3,3],'orthogonal')\n",
    "# S = SymmetricGroup(6)\n",
    "# p = S('(1,2)(3,4)')\n",
    "# S1 = np.array(orth.representation_matrix((1,4,2)))\n",
    "# S2 = np.array(orth.representation_matrix((1,2, 4)))\n",
    "# S3 = np.array(orth.representation_matrix(p))\n",
    "\n",
    "# print(np.add(np.add(S1,S2), S3))\n"
   ]
  },
  {
   "cell_type": "code",
   "execution_count": 61,
   "id": "2fc97a3b",
   "metadata": {},
   "outputs": [],
   "source": [
    "def random_params(n, key, scale= float( 1e-2)):\n",
    "  w_key, b_key = random.split(key)\n",
    "  return jnp.multiply(scale, random.normal(w_key, (n, n))), jnp.multiply( scale,  random.normal(b_key))\n",
    "YJMparams, Hparams = random_params(CsnFilters.Nsites, random.PRNGKey(0))\n",
    "# jnp.iscomplex(YJMparams)\n",
    "# print(YJMparams)\n",
    "YJM_conv = CsnFilters.YJM_Conv2d(YJMparams)\n",
    "# print(YJM_conv.shape)"
   ]
  },
  {
   "cell_type": "code",
   "execution_count": 62,
   "id": "088710b3",
   "metadata": {},
   "outputs": [
    {
     "name": "stdout",
     "output_type": "stream",
     "text": [
      "1.0\n",
      "[0.26704688-0.01124633j 0.26707722-0.01017798j 0.26710143-0.00934796j\n",
      " 0.26710106-0.00987958j 0.26712099-0.00827415j 0.26712999-0.00839979j\n",
      " 0.26712658-0.00859618j 0.26714449-0.00833994j 0.26713346-0.0086821j\n",
      " 0.2671616 -0.00620514j 0.26714283-0.00724926j 0.2671394 -0.00754694j\n",
      " 0.26713178-0.00797671j 0.26713377-0.00812305j]\n"
     ]
    }
   ],
   "source": [
    "print(jnp.linalg.norm(YJM_conv, ord='fro'))\n",
    "print(jnp.diag(YJM_conv))"
   ]
  },
  {
   "cell_type": "code",
   "execution_count": 63,
   "id": "77b21f39",
   "metadata": {},
   "outputs": [
    {
     "name": "stdout",
     "output_type": "stream",
     "text": [
      "1.0\n"
     ]
    }
   ],
   "source": [
    "rep_H = CsnFilters.Ham_rep()\n",
    "Hesi_conv = CsnFilters.Heis_Conv2d(Hparams, rep_H)\n",
    "print(jnp.linalg.norm(Hesi_conv, ord='fro'))\n"
   ]
  },
  {
   "cell_type": "code",
   "execution_count": 64,
   "id": "84015f1e",
   "metadata": {},
   "outputs": [],
   "source": [
    "def random_params(n, p, scale= float( 1e-2)):\n",
    "    YJMparams = jnp.zeros((n,n,p))\n",
    "    Hparams = jnp.zeros((p))\n",
    "    for i in range(p):\n",
    "        w_key, b_key = random.split(random.PRNGKey(int(i)))\n",
    "        YJMparams = YJMparams.at[:,:,i].set( jnp.multiply( scale, random.normal(w_key, (n,n))))\n",
    "        Hparams = Hparams.at[i].set(jnp.multiply(scale, random.normal(b_key)))\n",
    "    return YJMparams, Hparams\n",
    "    \n",
    "YJMparams, Hparams = random_params(CsnFilters.Nsites, 3)\n"
   ]
  },
  {
   "cell_type": "code",
   "execution_count": 67,
   "id": "b6a34a5a",
   "metadata": {},
   "outputs": [],
   "source": [
    "Csn_ansatze = CsnFilters.CSn_Ansazte(YJMparams, Hparams)"
   ]
  },
  {
   "cell_type": "code",
   "execution_count": null,
   "id": "83dcad3d",
   "metadata": {},
   "outputs": [],
   "source": []
  },
  {
   "cell_type": "code",
   "execution_count": null,
   "id": "e57224a0",
   "metadata": {},
   "outputs": [],
   "source": []
  },
  {
   "cell_type": "code",
   "execution_count": null,
   "id": "8305f07a",
   "metadata": {},
   "outputs": [],
   "source": []
  },
  {
   "cell_type": "markdown",
   "id": "44fd3c96",
   "metadata": {},
   "source": [
    "## Sampling and Optimization "
   ]
  },
  {
   "cell_type": "markdown",
   "id": "4567b867",
   "metadata": {},
   "source": [
    "#### Sampling via the unjusted Langevin Algorithm \n",
    "\n",
    "$\\theta_{n+1}=\\theta_{n}+d t \\nabla \\log \\pi\\left(\\theta_{n}\\right)+\\sqrt{2 d t} \\xi$\n",
    "            \n",
    "            \n",
    "            \n",
    "            "
   ]
  },
  {
   "cell_type": "code",
   "execution_count": null,
   "id": "0bdf28b5",
   "metadata": {},
   "outputs": [],
   "source": [
    "\n",
    "    \n",
    "    "
   ]
  }
 ],
 "metadata": {
  "celltoolbar": "原始单元格格式",
  "kernelspec": {
   "display_name": "SageMath 9.2",
   "language": "sage",
   "name": "sagemath"
  },
  "language_info": {
   "codemirror_mode": {
    "name": "ipython",
    "version": 3
   },
   "file_extension": ".py",
   "mimetype": "text/x-python",
   "name": "python",
   "nbconvert_exporter": "python",
   "pygments_lexer": "ipython3",
   "version": "3.9.6"
  }
 },
 "nbformat": 4,
 "nbformat_minor": 5
}
