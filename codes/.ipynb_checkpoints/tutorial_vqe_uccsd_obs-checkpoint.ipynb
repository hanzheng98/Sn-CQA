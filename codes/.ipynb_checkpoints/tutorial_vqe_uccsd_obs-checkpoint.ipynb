{
 "cells": [
  {
   "cell_type": "code",
   "execution_count": 1,
   "metadata": {},
   "outputs": [],
   "source": [
    "# This cell is added by sphinx-gallery\n",
    "# It can be customized to whatever you like\n",
    "%matplotlib inline"
   ]
  },
  {
   "cell_type": "markdown",
   "metadata": {},
   "source": [
    "VQE in different spin sectors\n",
    "=============================\n",
    "\n",
    "*Author: PennyLane dev team. Last updated: 8 Apr 2021.*\n",
    "\n",
    "Quantum computers offer a promising avenue to perform first-principles\n",
    "simulations of the electronic structure of molecules and materials that\n",
    "are currently intractable using classical high-performance computers. In\n",
    "particular, the Variational Quantum Eigensolver (VQE) algorithm\n",
    "\\[\\#peruzzo2014\\]\\_, \\[\\#cao2019\\]\\_ has proven to be a valuable\n",
    "quantum-classical approach to find the lowest-energy eigenstate of the\n",
    "electronic Hamiltonian by using Noisy Intermediate-Scale Quantum (NISQ)\n",
    "devices \\[\\#kandala2017\\]\\_.\n",
    "\n",
    "In the absence of [spin-orbit\n",
    "coupling](https://en.wikipedia.org/wiki/Spin-orbit_interaction), the\n",
    "electronic Hamiltonian matrix is block diagonal in the total spin\n",
    "projection quantum number $S_z$. This allows us to compute the energy\n",
    "spectrum of the Hamiltonian in a given sector of $S_z$. For example, the\n",
    "figure below shows the energy spectra of the hydrogen molecule\n",
    "calculated in different sectors of the total-spin projection. The ground\n",
    "state with energy $E_\\mathrm{gs}=-1.136189$ Ha has total spin $S=0$ and\n",
    "spin projection $S_z=0$. The lowest-lying excited states, with energy\n",
    "$E^*=-0.478453$ Ha and total spin $S=1$, show a three-fold spin\n",
    "degeneracy related to the values of $S_z=-1, 0, 1$.\n",
    "\n",
    "|\n",
    "\n",
    "![](/demonstrations/vqe_uccsd_obs/energy_spectra_h2_sto3g.png){width=\"75%\"}\n",
    "\n",
    "|\n",
    "\n",
    "Similarly, in the framework of VQE, if the quantum computer can be\n",
    "programmed to prepare many-body states in a specific sector of the\n",
    "total-spin projection $S_z$, the variational optimization algorithm will\n",
    "allow us to estimate the energy of the lowest-energy state in this spin\n",
    "sector. More specifically, if we run a VQE simulation for the\n",
    "$\\mathrm{H}_2$ molecule in the subspace of states with $S_z=0$, we will\n",
    "find the ground-state energy of the molecule. If the VQE simulation is\n",
    "performed in the subspace with $S_z=1$, the optimized state will be in\n",
    "practice an excited state of the molecule, as shown in the figure above.\n",
    "\n",
    "At the core of the VQE algorithm is the variational quantum circuit that\n",
    "is optimized to prepare the desired quantum states. The choice of the\n",
    "circuit is crucial for the success of the algorithm. The unitary coupled\n",
    "cluster ansatz \\[\\#romero2017\\]\\_ is a powerful quantum circuit that is\n",
    "believed to outperform the classical coupled cluster method\n",
    "\\[\\#jensenbook\\]\\_, traditionally referred to as the gold standard of\n",
    "quantum chemistry.\n",
    "\n",
    "We demonstrate how different functionalities implemented in PennyLane\n",
    "can be put together to run VQE simulations to find the lowest-energy\n",
    "states of the $\\mathrm{H}_2$ molecule in different sectors of the total\n",
    "spin $S$. We also specify how to use the unitary coupled cluster ansatz,\n",
    "restricted to single and double excitations (UCCSD), as the variational\n",
    "circuit for the algorithm. These functionalities can be combined to\n",
    "estimate the energies of the ground and the lowest-lying excited states\n",
    "of the hydrogen molecule.\n",
    "\n",
    "Let's get started! ⚛️\n",
    "\n",
    "Building the Hamiltonian and the total spin observable $\\hat{S}^2$\n",
    "------------------------------------------------------------------\n",
    "\n",
    "The first step is to import the required libraries and packages:\n"
   ]
  },
  {
   "cell_type": "code",
   "execution_count": 2,
   "metadata": {},
   "outputs": [],
   "source": [
    "import pennylane as qml\n",
    "from pennylane import numpy as np\n",
    "from pennylane import qchem\n",
    "from pennylane.templates.subroutines import UCCSD\n",
    "from functools import partial"
   ]
  },
  {
   "cell_type": "markdown",
   "metadata": {},
   "source": [
    "The second step is to specify the molecule whose properties we aim to\n",
    "calculate. This is done by providing the name and the geometry of the\n",
    "molecule.\n"
   ]
  },
  {
   "cell_type": "code",
   "execution_count": 5,
   "metadata": {},
   "outputs": [],
   "source": [
    "name = \"h2\"\n",
    "geometry = \"../h2.xyz\""
   ]
  },
  {
   "cell_type": "markdown",
   "metadata": {},
   "source": [
    "The geometry of the molecule can be given in any format recognized by\n",
    "Open Babel. Here, we used a locally saved file in [xyz\n",
    "format](https://en.wikipedia.org/wiki/XYZ_file_format) specifying the\n",
    "three-dimensional coordinates and symbols of the atomic species.\n",
    "\n",
    "In this example, we use a minimal [basis\n",
    "set](https://en.wikipedia.org/wiki/Basis_set_(chemistry)) to model the\n",
    "hydrogen molecule. In this approximation, the qubit Hamiltonian of the\n",
    "molecule in the Jordan-Wigner representation is built using the\n",
    "\\~.pennylane\\_qchem.qchem.molecular\\_hamiltonian function.\n"
   ]
  },
  {
   "cell_type": "code",
   "execution_count": 6,
   "metadata": {},
   "outputs": [
    {
     "ename": "AttributeError",
     "evalue": "module 'pennylane_qchem.qchem.openfermion' has no attribute 'MolecularData'",
     "output_type": "error",
     "traceback": [
      "\u001b[0;31m---------------------------------------------------------------------------\u001b[0m",
      "\u001b[0;31mAttributeError\u001b[0m                            Traceback (most recent call last)",
      "\u001b[0;32m<ipython-input-6-7a525a440140>\u001b[0m in \u001b[0;36m<module>\u001b[0;34m()\u001b[0m\n\u001b[1;32m      1\u001b[0m \u001b[0msymbols\u001b[0m\u001b[0;34m,\u001b[0m \u001b[0mcoordinates\u001b[0m \u001b[0;34m=\u001b[0m \u001b[0mqchem\u001b[0m\u001b[0;34m.\u001b[0m\u001b[0mread_structure\u001b[0m\u001b[0;34m(\u001b[0m\u001b[0mgeometry\u001b[0m\u001b[0;34m)\u001b[0m\u001b[0;34m\u001b[0m\u001b[0;34m\u001b[0m\u001b[0m\n\u001b[1;32m      2\u001b[0m \u001b[0;34m\u001b[0m\u001b[0m\n\u001b[0;32m----> 3\u001b[0;31m \u001b[0mH\u001b[0m\u001b[0;34m,\u001b[0m \u001b[0mqubits\u001b[0m \u001b[0;34m=\u001b[0m \u001b[0mqchem\u001b[0m\u001b[0;34m.\u001b[0m\u001b[0mmolecular_hamiltonian\u001b[0m\u001b[0;34m(\u001b[0m\u001b[0msymbols\u001b[0m\u001b[0;34m,\u001b[0m \u001b[0mcoordinates\u001b[0m\u001b[0;34m,\u001b[0m \u001b[0mmapping\u001b[0m\u001b[0;34m=\u001b[0m\u001b[0;34m\"jordan_wigner\"\u001b[0m\u001b[0;34m)\u001b[0m\u001b[0;34m\u001b[0m\u001b[0;34m\u001b[0m\u001b[0m\n\u001b[0m\u001b[1;32m      4\u001b[0m \u001b[0;34m\u001b[0m\u001b[0m\n\u001b[1;32m      5\u001b[0m \u001b[0mprint\u001b[0m\u001b[0;34m(\u001b[0m\u001b[0;34m\"Number of qubits = \"\u001b[0m\u001b[0;34m,\u001b[0m \u001b[0mqubits\u001b[0m\u001b[0;34m)\u001b[0m\u001b[0;34m\u001b[0m\u001b[0;34m\u001b[0m\u001b[0m\n",
      "\u001b[0;32m/Users/hanzheng/anaconda3/lib/python3.6/site-packages/pennylane_qchem/qchem/structure.py\u001b[0m in \u001b[0;36mmolecular_hamiltonian\u001b[0;34m(symbols, coordinates, name, charge, mult, basis, package, active_electrons, active_orbitals, mapping, outpath, wires)\u001b[0m\n\u001b[1;32m    829\u001b[0m     \"\"\"\n\u001b[1;32m    830\u001b[0m \u001b[0;34m\u001b[0m\u001b[0m\n\u001b[0;32m--> 831\u001b[0;31m     \u001b[0mhf_file\u001b[0m \u001b[0;34m=\u001b[0m \u001b[0mmeanfield\u001b[0m\u001b[0;34m(\u001b[0m\u001b[0msymbols\u001b[0m\u001b[0;34m,\u001b[0m \u001b[0mcoordinates\u001b[0m\u001b[0;34m,\u001b[0m \u001b[0mname\u001b[0m\u001b[0;34m,\u001b[0m \u001b[0mcharge\u001b[0m\u001b[0;34m,\u001b[0m \u001b[0mmult\u001b[0m\u001b[0;34m,\u001b[0m \u001b[0mbasis\u001b[0m\u001b[0;34m,\u001b[0m \u001b[0mpackage\u001b[0m\u001b[0;34m,\u001b[0m \u001b[0moutpath\u001b[0m\u001b[0;34m)\u001b[0m\u001b[0;34m\u001b[0m\u001b[0;34m\u001b[0m\u001b[0m\n\u001b[0m\u001b[1;32m    832\u001b[0m \u001b[0;34m\u001b[0m\u001b[0m\n\u001b[1;32m    833\u001b[0m     \u001b[0mmolecule\u001b[0m \u001b[0;34m=\u001b[0m \u001b[0mopenfermion\u001b[0m\u001b[0;34m.\u001b[0m\u001b[0mMolecularData\u001b[0m\u001b[0;34m(\u001b[0m\u001b[0mfilename\u001b[0m\u001b[0;34m=\u001b[0m\u001b[0mhf_file\u001b[0m\u001b[0;34m)\u001b[0m\u001b[0;34m\u001b[0m\u001b[0;34m\u001b[0m\u001b[0m\n",
      "\u001b[0;32m/Users/hanzheng/anaconda3/lib/python3.6/site-packages/pennylane_qchem/qchem/structure.py\u001b[0m in \u001b[0;36mmeanfield\u001b[0;34m(symbols, coordinates, name, charge, mult, basis, package, outpath)\u001b[0m\n\u001b[1;32m    323\u001b[0m     ]\n\u001b[1;32m    324\u001b[0m \u001b[0;34m\u001b[0m\u001b[0m\n\u001b[0;32m--> 325\u001b[0;31m     \u001b[0mmolecule\u001b[0m \u001b[0;34m=\u001b[0m \u001b[0mopenfermion\u001b[0m\u001b[0;34m.\u001b[0m\u001b[0mMolecularData\u001b[0m\u001b[0;34m(\u001b[0m\u001b[0mgeometry\u001b[0m\u001b[0;34m,\u001b[0m \u001b[0mbasis\u001b[0m\u001b[0;34m,\u001b[0m \u001b[0mmult\u001b[0m\u001b[0;34m,\u001b[0m \u001b[0mcharge\u001b[0m\u001b[0;34m,\u001b[0m \u001b[0mfilename\u001b[0m\u001b[0;34m=\u001b[0m\u001b[0mpath_to_file\u001b[0m\u001b[0;34m)\u001b[0m\u001b[0;34m\u001b[0m\u001b[0;34m\u001b[0m\u001b[0m\n\u001b[0m\u001b[1;32m    326\u001b[0m \u001b[0;34m\u001b[0m\u001b[0m\n\u001b[1;32m    327\u001b[0m     \u001b[0;32mif\u001b[0m \u001b[0mpackage\u001b[0m \u001b[0;34m==\u001b[0m \u001b[0;34m\"psi4\"\u001b[0m\u001b[0;34m:\u001b[0m\u001b[0;34m\u001b[0m\u001b[0;34m\u001b[0m\u001b[0m\n",
      "\u001b[0;31mAttributeError\u001b[0m: module 'pennylane_qchem.qchem.openfermion' has no attribute 'MolecularData'"
     ]
    }
   ],
   "source": [
    "symbols, coordinates = qchem.read_structure(geometry)\n",
    "\n",
    "H, qubits = qchem.molecular_hamiltonian(symbols, coordinates, mapping=\"jordan_wigner\")\n",
    "\n",
    "print(\"Number of qubits = \", qubits)\n",
    "print(\"Hamiltonian is \", H)"
   ]
  },
  {
   "cell_type": "markdown",
   "metadata": {},
   "source": [
    "The \\~.pennylane\\_qchem.qchem.molecular\\_hamiltonian function allows us\n",
    "to define an additional set of keyword arguments to provide the user\n",
    "with ample flexibility to generate the Hamiltonian of more complicated\n",
    "systems. For more details take a look at the tutorial\n",
    "tutorial\\_quantum\\_chemistry.\n"
   ]
  },
  {
   "cell_type": "markdown",
   "metadata": {},
   "source": [
    "We also want to build the total spin operator $\\hat{S}^2$,\n",
    "\n",
    "$$\\hat{S}^2 = \\frac{3}{4} N_e + \\sum_{\\alpha, \\beta, \\gamma, \\delta}\n",
    "\\langle \\alpha, \\beta \\vert \\hat{s}_1 \\cdot \\hat{s}_2\n",
    "\\vert \\gamma, \\delta \\rangle ~ \\hat{c}_\\alpha^\\dagger \\hat{c}_\\beta^\\dagger\n",
    "\\hat{c}_\\gamma \\hat{c}_\\delta.$$\n",
    "\n",
    "In the equation above, $N_e$ is the number of active electrons,\n",
    "$\\hat{c}$ and $\\hat{c}^\\dagger$ are respectively the electron\n",
    "annihilation and creation operators, and\n",
    "$\\langle \\alpha, \\beta \\vert \\hat{s}_1 \\cdot \\hat{s}_2 \\vert \\gamma, \\delta \\rangle$\n",
    "is the matrix element of the two-particle spin operator\n",
    "$\\hat{s}_1 \\cdot \\hat{s}_2$ in the basis of Hartree-Fock *spin* orbitals\n",
    "\\[\\#fetterbook\\]\\_. The $\\mathrm{H}_2$ molecule has two electrons that\n",
    "populate, within the minimal basis set approximation, four *spin*\n",
    "orbitals. As a reminder, the variable `qubits` output by the\n",
    "\\~.pennylane\\_qchem.qchem.molecular\\_hamiltonian above stores the number\n",
    "of spin orbitals included the basis.\n",
    "\n",
    "In order to build the spin operator $\\hat{S}^2$ we call the\n",
    "\\~.pennylane\\_qchem.qchem.spin2 function.\n"
   ]
  },
  {
   "cell_type": "code",
   "execution_count": null,
   "metadata": {},
   "outputs": [],
   "source": [
    "electrons = 2\n",
    "S2 = qchem.spin2(electrons, qubits, mapping=\"jordan_wigner\")\n",
    "print(S2)"
   ]
  },
  {
   "cell_type": "markdown",
   "metadata": {},
   "source": [
    "The \\~.pennylane\\_qchem.qchem.spin2 function uses\n",
    "\\~.pennylane\\_qchem.qchem.\\_spin2\\_matrix\\_elements and\n",
    "\\~.pennylane\\_qchem.qchem.observable to compute the matrix elements in\n",
    "the equation above and to build the many-body observable, respectively.\n",
    "\n",
    "> **note**\n",
    ">\n",
    "> The \\~.pennylane\\_qchem.qchem.observable function can be used to build\n",
    "> any many-body observable as long as we have access to the matrix\n",
    "> elements of the one- and/or two-particle operators in the basis of\n",
    "> single-particle states.\n"
   ]
  },
  {
   "cell_type": "markdown",
   "metadata": {},
   "source": [
    "Implementing VQE with the UCCSD ansatz\n",
    "======================================\n",
    "\n",
    "PennyLane contains the \\~.pennylane.ExpvalCost class to implement the\n",
    "VQE algorithm. We begin by defining the device, in this case a qubit\n",
    "simulator:\n"
   ]
  },
  {
   "cell_type": "code",
   "execution_count": null,
   "metadata": {},
   "outputs": [],
   "source": [
    "dev = qml.device(\"default.qubit\", wires=qubits)"
   ]
  },
  {
   "cell_type": "markdown",
   "metadata": {},
   "source": [
    "The next step is to define the variational quantum circuit used to\n",
    "prepare the state that minimizes the expectation value of the electronic\n",
    "Hamiltonian. In this example, we use the unitary coupled cluster ansatz\n",
    "truncated at the level of single and double excitations (UCCSD)\n",
    "\\[\\#romero2017\\]\\_.\n",
    "\n",
    "The UCCSD method is a generalization of the traditional CCSD formalism\n",
    "used in quantum chemistry to perform post-Hartree-Fock electron\n",
    "correlation calculations. Within the first-order Trotter approximation\n",
    "\\[\\#suzuki1985\\]\\_, the UCCSD ground state of the molecule is built via\n",
    "the exponential ansatz \\[\\#barkoutsos2018\\]\\_,\n",
    "\n",
    "$$\\hat{U}(\\vec{\\theta}) = \\prod_{p > r} \\mathrm{exp}\n",
    "\\Big\\{\\theta_{pr}(\\hat{c}_p^\\dagger \\hat{c}_r-\\mathrm{H.c.}) \\Big\\}\n",
    "\\prod_{p > q > r > s} \\mathrm{exp} \\Big\\{\\theta_{pqrs}\n",
    "(\\hat{c}_p^\\dagger \\hat{c}_q^\\dagger \\hat{c}_r \\hat{c}_s-\\mathrm{H.c.}) \\Big\\}.$$\n",
    "\n",
    "In the latter equation, the indices $r, s$ and $p, q$ run respectively\n",
    "over the occupied and unoccupied molecular orbitals. The operator\n",
    "$\\hat{c}_p^\\dagger \\hat{c}_r$ creates a single excitation\n",
    "\\[\\#jensenbook\\]\\_ since it annihilates an electron in the occupied\n",
    "orbital $r$ and creates it in the unoccupied orbital $p$. Similarly, the\n",
    "operator $\\hat{c}_p^\\dagger \\hat{c}_q^\\dagger \\hat{c}_r \\hat{c}_s$\n",
    "creates a double excitation.\n",
    "\n",
    "The quantum circuits to exponentiate the excitation operators in the\n",
    "Jordan-Wigner representation \\[\\#barkoutsos2018\\]\\_ are implemented by\n",
    "the functions \\~.pennylane.templates.subroutines.SingleExcitationUnitary\n",
    "and \\~.pennylane.templates.subroutines.DoubleExcitationUnitary contained\n",
    "in the PennyLane templates library. Finally, the parameters\n",
    "$\\theta_{pr}$ and $\\theta_{pqrs}$ have to be optimized to minimize the\n",
    "expectation value,\n",
    "\n",
    "$$E(\\vec{\\theta}) = \\langle \\mathrm{HF} \\vert \\hat{U}^\\dagger(\\vec{\\theta})\n",
    "\\hat{H} \\hat{U}(\\vec{\\theta}) \\vert \\mathrm{HF} \\rangle,$$\n",
    "\n",
    "where $\\vert \\mathrm{HF} \\rangle$ is the Hartree-Fock state. The total\n",
    "number of excitations determines the number of parameters $\\theta$ to be\n",
    "optimized by the VQE algorithm as well as the depth of the UCCSD quantum\n",
    "circuit. For more details, check the documentation of the\n",
    "\\~.pennylane.templates.subroutines.SingleExcitationUnitary and\n",
    "\\~.pennylane.templates.subroutines.DoubleExcitationUnitary functions.\n",
    "\n",
    "Now, we demonstrate how to use PennyLane functionalities to build up the\n",
    "UCCSD ansatz for VQE simulations. First, we use the\n",
    "\\~.pennylane\\_qchem.qchem.excitations function to generate the whole set\n",
    "of single- and double-excitations for $N_e$ `electrons` populating\n",
    "`qubits` spin orbitals. Furthermore, we can define the selection rules\n",
    "$s_{z_p} - s_{z_r} = \\Delta s_z$ and\n",
    "$s_{z_p} + s_{z_q} - s_{z_r} - s_{z_s}= \\Delta s_z$ for the\n",
    "spin-projection of the molecular orbitals involved in the single and\n",
    "double excitations using the keyword argument `delta_sz`. This allows us\n",
    "to prepare a correlated state whose total-spin projection $S_z$ is\n",
    "different from the one of the Hartree-Fock state by the quantity\n",
    "`delta_sz`. Therefore, we choose `delta_sz = 0` to prepare the ground\n",
    "state of the $\\mathrm{H}_2$ molecule.\n"
   ]
  },
  {
   "cell_type": "code",
   "execution_count": null,
   "metadata": {},
   "outputs": [],
   "source": [
    "singles, doubles = qchem.excitations(electrons, qubits, delta_sz=0)\n",
    "print(singles)\n",
    "print(doubles)"
   ]
  },
  {
   "cell_type": "markdown",
   "metadata": {},
   "source": [
    "The output lists `singles` and `doubles` contain the indices\n",
    "representing the single and double excitations. For the hydrogen\n",
    "molecule in a minimal basis set we have two single and one double\n",
    "excitations. The latter means that in preparing the UCCSD ansatz the\n",
    "\\~.pennylane.templates.subroutines.SingleExcitationUnitary function has\n",
    "to be called twice to exponentiate the two single-excitation operators\n",
    "while the \\~.pennylane.templates.subroutines.DoubleExcitationUnitary\n",
    "function is invoked once to exponentiate the double excitation.\n",
    "\n",
    "We use the function \\~.pennylane\\_qchem.qchem.excitations\\_to\\_wires to\n",
    "generate the set of wires that the UCCSD circuit will act on. The inputs\n",
    "to this function are the indices stored in the `singles` and `doubles`\n",
    "lists.\n"
   ]
  },
  {
   "cell_type": "code",
   "execution_count": null,
   "metadata": {},
   "outputs": [],
   "source": [
    "s_wires, d_wires = qchem.excitations_to_wires(singles, doubles)\n",
    "print(s_wires)\n",
    "print(d_wires)"
   ]
  },
  {
   "cell_type": "markdown",
   "metadata": {},
   "source": [
    "Next, we need to define the reference state that the UCCSD unitary acts\n",
    "on, which is just the Hartree-Fock state. This can be done\n",
    "straightforwardly with the \\~.pennylane\\_qchem.qchem.hf\\_state function.\n",
    "The output of this function is an array containing the occupation-number\n",
    "vector representing the Hartree-Fock state.\n"
   ]
  },
  {
   "cell_type": "code",
   "execution_count": null,
   "metadata": {},
   "outputs": [],
   "source": [
    "hf_state = qchem.hf_state(electrons, qubits)\n",
    "print(hf_state)"
   ]
  },
  {
   "cell_type": "markdown",
   "metadata": {},
   "source": [
    "Finally, we can use the \\~.pennylane.templates.subroutines.UCCSD\n",
    "function to define our VQE ansatz,\n"
   ]
  },
  {
   "cell_type": "code",
   "execution_count": null,
   "metadata": {},
   "outputs": [],
   "source": [
    "ansatz = partial(UCCSD, init_state=hf_state, s_wires=s_wires, d_wires=d_wires)"
   ]
  },
  {
   "cell_type": "markdown",
   "metadata": {},
   "source": [
    "Next, we use the PennyLane class \\~.pennylane.ExpvalCost to define the\n",
    "cost function. This requires specifying the circuit, target Hamiltonian,\n",
    "and the device. It returns a cost function that can be evaluated with\n",
    "the circuit parameters:\n"
   ]
  },
  {
   "cell_type": "code",
   "execution_count": null,
   "metadata": {},
   "outputs": [],
   "source": [
    "cost_fn = qml.ExpvalCost(ansatz, H, dev)"
   ]
  },
  {
   "cell_type": "markdown",
   "metadata": {},
   "source": [
    "As a reminder, we also built the total spin operator $\\hat{S}^2$ for\n",
    "which we can now define a function to compute its expectation value:\n"
   ]
  },
  {
   "cell_type": "code",
   "execution_count": null,
   "metadata": {},
   "outputs": [],
   "source": [
    "S2_exp_value = qml.ExpvalCost(ansatz, S2, dev)"
   ]
  },
  {
   "cell_type": "markdown",
   "metadata": {},
   "source": [
    "The total spin $S$ of the trial state can be obtained from the\n",
    "expectation value $\\langle \\hat{S}^2 \\rangle$ as,\n",
    "\n",
    "$$S = -\\frac{1}{2} + \\sqrt{\\frac{1}{4} + \\langle \\hat{S}^2 \\rangle}.$$\n",
    "\n",
    "We define a function to compute the total spin\n"
   ]
  },
  {
   "cell_type": "code",
   "execution_count": null,
   "metadata": {},
   "outputs": [],
   "source": [
    "def total_spin(params):\n",
    "    return -0.5 + np.sqrt(1 / 4 + S2_exp_value(params))"
   ]
  },
  {
   "cell_type": "markdown",
   "metadata": {},
   "source": [
    "Wrapping up, we fix an optimizer and randomly initialize the circuit\n",
    "parameters.\n"
   ]
  },
  {
   "cell_type": "code",
   "execution_count": null,
   "metadata": {},
   "outputs": [],
   "source": [
    "opt = qml.GradientDescentOptimizer(stepsize=0.4)\n",
    "np.random.seed(0)  # for reproducibility\n",
    "params = np.random.normal(0, np.pi, len(singles) + len(doubles))\n",
    "print(params)"
   ]
  },
  {
   "cell_type": "markdown",
   "metadata": {},
   "source": [
    "We carry out the optimization over a maximum of 100 steps, aiming to\n",
    "reach a convergence tolerance of $\\sim 10^{-6}$. Furthermore, we track\n",
    "the value of the total spin $S$ of the prepared state as it is optimized\n",
    "through the iterative procedure.\n"
   ]
  },
  {
   "cell_type": "code",
   "execution_count": null,
   "metadata": {},
   "outputs": [],
   "source": [
    "max_iterations = 100\n",
    "conv_tol = 1e-06\n",
    "\n",
    "for n in range(max_iterations):\n",
    "    params, prev_energy = opt.step_and_cost(cost_fn, params)\n",
    "    energy = cost_fn(params)\n",
    "    conv = np.abs(energy - prev_energy)\n",
    "\n",
    "    spin = total_spin(params)\n",
    "\n",
    "    if n % 4 == 0:\n",
    "        print(\"Iteration = {:},  E = {:.8f} Ha,  S = {:.4f}\".format(n, energy, spin))\n",
    "\n",
    "    if conv <= conv_tol:\n",
    "        break\n",
    "\n",
    "print()\n",
    "print(\"Final convergence parameter = {:.8f} Ha\".format(conv))\n",
    "print(\"Final value of the ground-state energy = {:.8f} Ha\".format(energy))\n",
    "print(\n",
    "    \"Accuracy with respect to the FCI energy: {:.8f} Ha ({:.8f} kcal/mol)\".format(\n",
    "        np.abs(energy - (-1.1361894507)), np.abs(energy - (-1.1361894507)) * 627.509474\n",
    "    )\n",
    ")"
   ]
  },
  {
   "cell_type": "markdown",
   "metadata": {},
   "source": [
    "Success! 🎉🎉🎉 We have estimated the lowest-energy state with total-spin\n",
    "projection $S_z=0$ for the hydrogen molecule, which is the ground state,\n",
    "with chemical accuracy. Notice also that the optimized UCCSD state is an\n",
    "eigenstate of the total spin operator $\\hat{S}^2$ with eigenvalue $S=0$.\n",
    "\n",
    "Finding the lowest-energy excited state with $S=1$\n",
    "==================================================\n",
    "\n",
    "In the last part of the tutorial we want to demonstrate that VQE can\n",
    "also be used to find the lowest-energy excited states with total spin\n",
    "$S=1$ and $S_z \\neq 0$. For the hydrogen molecule, this is the case for\n",
    "the states with energy $E = -0.4784529844$ Ha and $S_z=1$ and $S_z=-1$.\n",
    "\n",
    "Let's consider the case of $S_z=-1$ for which we can use the\n",
    "\\~.pennylane\\_qchem.qchem.excitations function with the keyword argument\n",
    "`delta_sz=1`.\n"
   ]
  },
  {
   "cell_type": "code",
   "execution_count": null,
   "metadata": {},
   "outputs": [],
   "source": [
    "singles, doubles = qchem.excitations(electrons, qubits, delta_sz=1)\n",
    "print(singles)\n",
    "print(doubles)"
   ]
  },
  {
   "cell_type": "markdown",
   "metadata": {},
   "source": [
    "Notice that for the hydrogen molecule in a minimal basis set there are\n",
    "no double excitations but only a single excitation corresponding to the\n",
    "spin-flip transition between orbitals 1 and 2. And, that's it!. From\n",
    "this point on the algorithm is the same as described above.\n"
   ]
  },
  {
   "cell_type": "code",
   "execution_count": null,
   "metadata": {},
   "outputs": [],
   "source": [
    "s_wires, d_wires = qchem.excitations_to_wires(singles, doubles)\n",
    "hf_state = qchem.hf_state(electrons, qubits)\n",
    "\n",
    "ansatz = partial(UCCSD, init_state=hf_state, s_wires=s_wires, d_wires=d_wires)\n",
    "\n",
    "cost_fn = qml.ExpvalCost(ansatz, H, dev)\n",
    "S2_exp_value = qml.ExpvalCost(ansatz, S2, dev)"
   ]
  },
  {
   "cell_type": "markdown",
   "metadata": {},
   "source": [
    "Then, we generate the new set of initial parameters, and proceed with\n",
    "the VQE algorithm to optimize the new variational circuit.\n"
   ]
  },
  {
   "cell_type": "code",
   "execution_count": null,
   "metadata": {},
   "outputs": [],
   "source": [
    "np.random.seed(0)\n",
    "params = np.random.normal(0, np.pi, len(singles) + len(doubles))\n",
    "\n",
    "max_iterations = 100\n",
    "conv_tol = 1e-06\n",
    "\n",
    "for n in range(max_iterations):\n",
    "    params, prev_energy = opt.step_and_cost(cost_fn, params)\n",
    "    energy = cost_fn(params)\n",
    "    conv = np.abs(energy - prev_energy)\n",
    "\n",
    "    spin = total_spin(params)\n",
    "\n",
    "    if n % 4 == 0:\n",
    "        print(\"Iteration = {:},  E = {:.8f} Ha,  S = {:.4f}\".format(n, energy, spin))\n",
    "\n",
    "    if conv <= conv_tol:\n",
    "        break\n",
    "\n",
    "print()\n",
    "print(\"Final convergence parameter = {:.8f} Ha\".format(conv))\n",
    "print(\"Energy of the lowest-lying excited state = {:.8f} Ha\".format(energy))\n",
    "print(\n",
    "    \"Accuracy with respect to the FCI energy: {:.8f} Ha ({:.8f} kcal/mol)\".format(\n",
    "        np.abs(energy - (-0.4784529849)), np.abs(energy - (-0.4784529849)) * 627.509474\n",
    "    )\n",
    ")"
   ]
  },
  {
   "cell_type": "markdown",
   "metadata": {},
   "source": [
    "As expected, we have successfully estimated the lowest-energy state with\n",
    "total spin $S=1$ and $S_z=-1$ for the hydrogen molecule, which is an\n",
    "excited state.\n",
    "\n",
    "Now, you can run a VQE simulation to find the degenerate excited state\n",
    "with spin quantum numbers $S=1$ and $S_z=1$. Give it a try!\n",
    "\n",
    "References\n",
    "==========\n"
   ]
  }
 ],
 "metadata": {
  "kernelspec": {
   "display_name": "Python 3",
   "language": "python",
   "name": "python3"
  },
  "language_info": {
   "codemirror_mode": {
    "name": "ipython",
    "version": 3
   },
   "file_extension": ".py",
   "mimetype": "text/x-python",
   "name": "python",
   "nbconvert_exporter": "python",
   "pygments_lexer": "ipython3",
   "version": "3.6.13"
  }
 },
 "nbformat": 4,
 "nbformat_minor": 1
}
