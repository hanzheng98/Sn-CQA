{
 "cells": [
  {
   "cell_type": "code",
   "execution_count": 2,
   "id": "3b5d9715",
   "metadata": {},
   "outputs": [],
   "source": [
    "import pennylane as qml\n",
    "from pennylane import numpy as np\n",
    "from pennylane.templates import RandomLayers\n",
    "import matplotlib.pyplot as plt"
   ]
  },
  {
   "cell_type": "code",
   "execution_count": 3,
   "id": "868cb0da",
   "metadata": {},
   "outputs": [
    {
     "name": "stdout",
     "output_type": "stream",
     "text": [
      " 0: ──╭|0⟩──┤ ⟨Z⟩ \n",
      " 1: ──├|1⟩──┤ ⟨Z⟩ \n",
      " 2: ──├|1⟩──┤ ⟨Z⟩ \n",
      " 3: ──├|0⟩──┤ ⟨Z⟩ \n",
      " 4: ──├|1⟩──┤ ⟨Z⟩ \n",
      " 5: ──╰|1⟩──┤ ⟨Z⟩ \n",
      "\n"
     ]
    }
   ],
   "source": [
    "dev = qml.device(\"default.qubit\", wires=6)\n",
    "\n",
    "@qml.qnode(dev)\n",
    "def circuit(init_state):\n",
    "    qml.BasisState(init_state, wires=range(len(init_state)))\n",
    "    return [ qml.expval(qml.PauliZ(i)) for i in range(len(init_state))]\n",
    "\n",
    "\n",
    "drawer = qml.draw(circuit)\n",
    "print(drawer((0,1,1,0,1,1)))"
   ]
  },
  {
   "cell_type": "code",
   "execution_count": 4,
   "id": "b1e5d37b",
   "metadata": {},
   "outputs": [],
   "source": [
    "class Permutation():\n",
    "    def __init__(self, init_state = None, YoungProj = None):\n",
    "        self.comp_basis = init_state\n",
    "        self.YoungProj = YoungProj"
   ]
  },
  {
   "cell_type": "code",
   "execution_count": null,
   "id": "769994c3",
   "metadata": {},
   "outputs": [],
   "source": []
  },
  {
   "cell_type": "code",
   "execution_count": 5,
   "id": "6b528c95",
   "metadata": {},
   "outputs": [
    {
     "name": "stdout",
     "output_type": "stream",
     "text": [
      "  1  3  4\n",
      "  2\n",
      "  1  2  4\n",
      "  3\n",
      "  1  2  3\n",
      "  4\n"
     ]
    }
   ],
   "source": [
    "Y1 = StandardTableau([[1,3,4],[2]])\n",
    "Y2 = StandardTableau([[1,2,4],[3]])\n",
    "Y3 = StandardTableau([[1,2,3],[4]])\n",
    "Y1.pp()\n",
    "Y2.pp()\n",
    "Y3.pp()"
   ]
  },
  {
   "cell_type": "code",
   "execution_count": 6,
   "id": "d3f8c459",
   "metadata": {},
   "outputs": [
    {
     "name": "stdout",
     "output_type": "stream",
     "text": [
      "(n1, n2, n3, n4) |--> (n1, n2, n3, n4)\n"
     ]
    }
   ],
   "source": [
    "n1,n2,n3,n4 = var('n1, n2, n3, n4')\n",
    "psi(n1,n2,n3,n4) = [n1,n2,n3,n4]\n",
    "print(psi)"
   ]
  },
  {
   "cell_type": "code",
   "execution_count": 7,
   "id": "955ff720",
   "metadata": {},
   "outputs": [
    {
     "name": "stdout",
     "output_type": "stream",
     "text": [
      "1/8*[1, 2, 3, 4] + 1/8*[1, 2, 4, 3] - 1/8*[2, 1, 3, 4] - 1/8*[2, 1, 4, 3] - 1/8*[2, 3, 1, 4] - 1/8*[2, 3, 4, 1] - 1/8*[2, 4, 1, 3] - 1/8*[2, 4, 3, 1] + 1/8*[3, 2, 1, 4] + 1/8*[3, 2, 4, 1] + 1/8*[4, 2, 1, 3] + 1/8*[4, 2, 3, 1]\n"
     ]
    }
   ],
   "source": [
    "from sage.combinat.symmetric_group_algebra import e_hat\n",
    "PY1 = e_hat(Y1)\n",
    "print(PY1)"
   ]
  },
  {
   "cell_type": "code",
   "execution_count": 16,
   "id": "6c01ca11",
   "metadata": {},
   "outputs": [
    {
     "ename": "AttributeError",
     "evalue": "'Permutation' object has no attribute 'action'",
     "output_type": "error",
     "traceback": [
      "\u001b[0;31m---------------------------------------------------------------------------\u001b[0m",
      "\u001b[0;31mAttributeError\u001b[0m                            Traceback (most recent call last)",
      "\u001b[0;32m<ipython-input-16-cacbe6f2e8bd>\u001b[0m in \u001b[0;36m<module>\u001b[0;34m\u001b[0m\n\u001b[1;32m      1\u001b[0m \u001b[0mPY1\u001b[0m \u001b[0;34m=\u001b[0m \u001b[0mPermutation\u001b[0m\u001b[0;34m(\u001b[0m\u001b[0;34m[\u001b[0m\u001b[0mInteger\u001b[0m\u001b[0;34m(\u001b[0m\u001b[0;36m1\u001b[0m\u001b[0;34m)\u001b[0m\u001b[0;34m,\u001b[0m\u001b[0mInteger\u001b[0m\u001b[0;34m(\u001b[0m\u001b[0;36m2\u001b[0m\u001b[0;34m)\u001b[0m\u001b[0;34m,\u001b[0m\u001b[0mInteger\u001b[0m\u001b[0;34m(\u001b[0m\u001b[0;36m3\u001b[0m\u001b[0;34m)\u001b[0m\u001b[0;34m]\u001b[0m\u001b[0;34m)\u001b[0m\u001b[0;34m\u001b[0m\u001b[0;34m\u001b[0m\u001b[0m\n\u001b[0;32m----> 2\u001b[0;31m \u001b[0mPY1\u001b[0m\u001b[0;34m.\u001b[0m\u001b[0maction\u001b[0m\u001b[0;34m(\u001b[0m\u001b[0;34m[\u001b[0m\u001b[0mInteger\u001b[0m\u001b[0;34m(\u001b[0m\u001b[0;36m1\u001b[0m\u001b[0;34m)\u001b[0m\u001b[0;34m,\u001b[0m\u001b[0mInteger\u001b[0m\u001b[0;34m(\u001b[0m\u001b[0;36m0\u001b[0m\u001b[0;34m)\u001b[0m\u001b[0;34m,\u001b[0m\u001b[0mInteger\u001b[0m\u001b[0;34m(\u001b[0m\u001b[0;36m1\u001b[0m\u001b[0;34m)\u001b[0m\u001b[0;34m]\u001b[0m\u001b[0;34m)\u001b[0m\u001b[0;34m\u001b[0m\u001b[0;34m\u001b[0m\u001b[0m\n\u001b[0m",
      "\u001b[0;31mAttributeError\u001b[0m: 'Permutation' object has no attribute 'action'"
     ]
    }
   ],
   "source": [
    "PY1 = Permutation(PY1)\n",
    "PY1.action([1,0,1,1])"
   ]
  },
  {
   "cell_type": "code",
   "execution_count": null,
   "id": "a425ff49",
   "metadata": {},
   "outputs": [],
   "source": []
  }
 ],
 "metadata": {
  "kernelspec": {
   "display_name": "SageMath 9.2",
   "language": "sage",
   "name": "sagemath"
  },
  "language_info": {
   "codemirror_mode": {
    "name": "ipython",
    "version": 3
   },
   "file_extension": ".py",
   "mimetype": "text/x-python",
   "name": "python",
   "nbconvert_exporter": "python",
   "pygments_lexer": "ipython3",
   "version": "3.9.6"
  }
 },
 "nbformat": 4,
 "nbformat_minor": 5
}
