{
 "cells": [
  {
   "cell_type": "code",
   "execution_count": 1,
   "metadata": {},
   "outputs": [],
   "source": [
    "# This cell is added by sphinx-gallery\n",
    "# It can be customized to whatever you like\n",
    "%matplotlib inline"
   ]
  },
  {
   "cell_type": "markdown",
   "metadata": {},
   "source": [
    "A brief overview of VQE\n",
    "=======================\n",
    "\n",
    "*Author: PennyLane dev team. Last updated: 8 Apr 2021.*\n",
    "\n",
    "The Variational Quantum Eigensolver (VQE) \\[\\#peruzzo2014\\]\\_,\n",
    "\\[\\#yudong2019\\]\\_ is a flagship algorithm for quantum chemistry using\n",
    "near-term quantum computers. VQE is an application of the [Ritz\n",
    "variational principle](https://en.wikipedia.org/wiki/Ritz_method) where\n",
    "a quantum computer is used to prepare a wave function ansatz of the\n",
    "molecule and estimate the expectation value of its electronic\n",
    "Hamiltonian while a classical optimizer is used to adjust the quantum\n",
    "circuit parameters in order to find the molecule's ground state energy.\n",
    "\n",
    "For example, if we use a minimal basis, the ground state wave function\n",
    "of the hydrogen molecule\n",
    "$\\vert \\Psi \\rangle = \\alpha \\vert 1100 \\rangle + \\beta \\vert 0011 \\rangle$\n",
    "consists of only the Hartree-Fock component and a doubly-excited\n",
    "configuration where the two electrons occupy the highest-energy\n",
    "molecular orbitals. If we use a quantum computer to prepare the\n",
    "four-qubit entangled state $\\vert \\Psi \\rangle$, the ultimate goal of\n",
    "the VQE algorithm is to find the values of $\\alpha$ and $\\beta$ that\n",
    "minimize the expectation value of the electronic Hamiltonian.\n",
    "\n",
    "The PennyLane library allows users to implement the full VQE algorithm\n",
    "using only a few lines of code. In this tutorial, we guide you through a\n",
    "calculation of the ground-state energy of the hydrogen molecule. Let's\n",
    "get started! ⚛️\n",
    "\n",
    "Building the electronic Hamiltonian\n",
    "-----------------------------------\n",
    "\n",
    "The first step is to import the required libraries and packages:\n"
   ]
  },
  {
   "cell_type": "code",
   "execution_count": 2,
   "metadata": {},
   "outputs": [],
   "source": [
    "import pennylane as qml\n",
    "from pennylane import qchem\n",
    "from pennylane import numpy as np"
   ]
  },
  {
   "cell_type": "markdown",
   "metadata": {},
   "source": [
    "The second step is to specify the molecule whose properties we aim to\n",
    "calculate. This is done by providing three pieces of information: the\n",
    "geometry and charge of the molecule, and the spin multiplicity of the\n",
    "electronic configuration.\n",
    "\n",
    "The geometry of a molecule is given by the three-dimensional coordinates\n",
    "and symbols of all its atomic species. There are several databases such\n",
    "as [the NIST Chemistry\n",
    "WebBook](https://webbook.nist.gov/chemistry/name-ser/),\n",
    "[ChemSpider](http://www.chemspider.com/) and\n",
    "[SMART-SNS](http://smart.sns.it/molecules/) that provide geometrical\n",
    "data for a large number of molecules. Here, we make use of a locally\n",
    "saved file in `.xyz` format that contains the geometry of the hydrogen\n",
    "molecule, and specify its name for later use:\n"
   ]
  },
  {
   "cell_type": "code",
   "execution_count": 8,
   "metadata": {},
   "outputs": [
    {
     "name": "stdout",
     "output_type": "stream",
     "text": [
      "h2.xyz\n"
     ]
    }
   ],
   "source": [
    "geometry = 'h2.xyz'\n",
    "print(geometry)"
   ]
  },
  {
   "cell_type": "markdown",
   "metadata": {},
   "source": [
    "Alternatively, you can download the file here:\n",
    "h2.xyz &lt;/demonstrations/h2.xyz&gt;.\n",
    "\n",
    "The charge determines the number of electrons that have been added or\n",
    "removed compared to the neutral molecule. In this example, as is the\n",
    "case in many quantum chemistry simulations, we will consider a neutral\n",
    "molecule:\n"
   ]
  },
  {
   "cell_type": "code",
   "execution_count": 4,
   "metadata": {},
   "outputs": [],
   "source": [
    "charge = 0"
   ]
  },
  {
   "cell_type": "markdown",
   "metadata": {},
   "source": [
    "It is also important to define how the electrons occupy the molecular\n",
    "orbitals to be optimized within the [Hartree-Fock\n",
    "approximation](https://en.wikipedia.org/wiki/Hartree-Fock_method). This\n",
    "is captured by the\n",
    "[multiplicity](https://en.wikipedia.org/wiki/Multiplicity_(chemistry))\n",
    "parameter, which is related to the number of unpaired electrons in the\n",
    "Hartree-Fock state. For the neutral hydrogen molecule, the multiplicity\n",
    "is one:\n"
   ]
  },
  {
   "cell_type": "code",
   "execution_count": 5,
   "metadata": {},
   "outputs": [],
   "source": [
    "multiplicity = 1"
   ]
  },
  {
   "cell_type": "markdown",
   "metadata": {},
   "source": [
    "Finally, we need to specify the\n",
    "basis set &lt;https://en.wikipedia.org/wiki/Basis\\_set\\_(\n",
    "chemistry)&gt;\\_ used to approximate atomic orbitals. This is typically\n",
    "achieved by using a linear combination of Gaussian functions. In this\n",
    "example, we will use the minimal basis STO-3g where a set of 3 Gaussian\n",
    "functions are contracted to represent an atomic Slater-type orbital\n",
    "(STO):\n"
   ]
  },
  {
   "cell_type": "code",
   "execution_count": 6,
   "metadata": {},
   "outputs": [],
   "source": [
    "basis_set = 'sto-3g'"
   ]
  },
  {
   "cell_type": "markdown",
   "metadata": {},
   "source": [
    "At this stage, to compute the molecule's Hamiltonian in the Pauli basis,\n",
    "several calculations need to be performed. With PennyLane, these can all\n",
    "be done in a single line by calling the function\n",
    "\\~.pennylane\\_qchem.qchem.molecular\\_hamiltonian. The charge,\n",
    "multiplicity, and basis set can also be specified as keyword arguments.\n",
    "Finally, the number of active electrons and active orbitals may be\n",
    "indicated, as well as the fermionic-to-qubit mapping, which can be\n",
    "either Jordan-Wigner (`jordan_wigner`) or Bravyi-Kitaev\n",
    "(`bravyi_kitaev`). The atomic symbols and their nuclear coordinates can\n",
    "be read directly from the geometry file. The outputs of the function are\n",
    "the qubit Hamiltonian of the molecule and the number of qubits needed to\n",
    "represent it:\n"
   ]
  },
  {
   "cell_type": "code",
   "execution_count": 7,
   "metadata": {},
   "outputs": [
    {
     "ename": "FileNotFoundError",
     "evalue": "[Errno 2] No such file or directory: 'h2.xyz'",
     "output_type": "error",
     "traceback": [
      "\u001b[0;31m---------------------------------------------------------------------------\u001b[0m",
      "\u001b[0;31mFileNotFoundError\u001b[0m                         Traceback (most recent call last)",
      "\u001b[0;32m<ipython-input-7-886f6449d69f>\u001b[0m in \u001b[0;36m<module>\u001b[0;34m()\u001b[0m\n\u001b[0;32m----> 1\u001b[0;31m \u001b[0msymbols\u001b[0m\u001b[0;34m,\u001b[0m \u001b[0mcoordinates\u001b[0m \u001b[0;34m=\u001b[0m \u001b[0mqchem\u001b[0m\u001b[0;34m.\u001b[0m\u001b[0mread_structure\u001b[0m\u001b[0;34m(\u001b[0m\u001b[0mgeometry\u001b[0m\u001b[0;34m)\u001b[0m\u001b[0;34m\u001b[0m\u001b[0;34m\u001b[0m\u001b[0m\n\u001b[0m\u001b[1;32m      2\u001b[0m \u001b[0;34m\u001b[0m\u001b[0m\n\u001b[1;32m      3\u001b[0m h, qubits = qchem.molecular_hamiltonian(\n\u001b[1;32m      4\u001b[0m     \u001b[0msymbols\u001b[0m\u001b[0;34m,\u001b[0m\u001b[0;34m\u001b[0m\u001b[0;34m\u001b[0m\u001b[0m\n\u001b[1;32m      5\u001b[0m     \u001b[0mcoordinates\u001b[0m\u001b[0;34m,\u001b[0m\u001b[0;34m\u001b[0m\u001b[0;34m\u001b[0m\u001b[0m\n",
      "\u001b[0;32m/Users/hanzheng/anaconda3/lib/python3.6/site-packages/pennylane_qchem/qchem/structure.py\u001b[0m in \u001b[0;36mread_structure\u001b[0;34m(filepath, outpath)\u001b[0m\n\u001b[1;32m    218\u001b[0m             ) from e\n\u001b[1;32m    219\u001b[0m     \u001b[0;32melse\u001b[0m\u001b[0;34m:\u001b[0m\u001b[0;34m\u001b[0m\u001b[0;34m\u001b[0m\u001b[0m\n\u001b[0;32m--> 220\u001b[0;31m         \u001b[0mcopyfile\u001b[0m\u001b[0;34m(\u001b[0m\u001b[0mfile_in\u001b[0m\u001b[0;34m,\u001b[0m \u001b[0mfile_out\u001b[0m\u001b[0;34m)\u001b[0m\u001b[0;34m\u001b[0m\u001b[0;34m\u001b[0m\u001b[0m\n\u001b[0m\u001b[1;32m    221\u001b[0m \u001b[0;34m\u001b[0m\u001b[0m\n\u001b[1;32m    222\u001b[0m     \u001b[0msymbols\u001b[0m \u001b[0;34m=\u001b[0m \u001b[0;34m[\u001b[0m\u001b[0;34m]\u001b[0m\u001b[0;34m\u001b[0m\u001b[0;34m\u001b[0m\u001b[0m\n",
      "\u001b[0;32m/Users/hanzheng/anaconda3/lib/python3.6/shutil.py\u001b[0m in \u001b[0;36mcopyfile\u001b[0;34m(src, dst, follow_symlinks)\u001b[0m\n\u001b[1;32m    118\u001b[0m         \u001b[0mos\u001b[0m\u001b[0;34m.\u001b[0m\u001b[0msymlink\u001b[0m\u001b[0;34m(\u001b[0m\u001b[0mos\u001b[0m\u001b[0;34m.\u001b[0m\u001b[0mreadlink\u001b[0m\u001b[0;34m(\u001b[0m\u001b[0msrc\u001b[0m\u001b[0;34m)\u001b[0m\u001b[0;34m,\u001b[0m \u001b[0mdst\u001b[0m\u001b[0;34m)\u001b[0m\u001b[0;34m\u001b[0m\u001b[0;34m\u001b[0m\u001b[0m\n\u001b[1;32m    119\u001b[0m     \u001b[0;32melse\u001b[0m\u001b[0;34m:\u001b[0m\u001b[0;34m\u001b[0m\u001b[0;34m\u001b[0m\u001b[0m\n\u001b[0;32m--> 120\u001b[0;31m         \u001b[0;32mwith\u001b[0m \u001b[0mopen\u001b[0m\u001b[0;34m(\u001b[0m\u001b[0msrc\u001b[0m\u001b[0;34m,\u001b[0m \u001b[0;34m'rb'\u001b[0m\u001b[0;34m)\u001b[0m \u001b[0;32mas\u001b[0m \u001b[0mfsrc\u001b[0m\u001b[0;34m:\u001b[0m\u001b[0;34m\u001b[0m\u001b[0;34m\u001b[0m\u001b[0m\n\u001b[0m\u001b[1;32m    121\u001b[0m             \u001b[0;32mwith\u001b[0m \u001b[0mopen\u001b[0m\u001b[0;34m(\u001b[0m\u001b[0mdst\u001b[0m\u001b[0;34m,\u001b[0m \u001b[0;34m'wb'\u001b[0m\u001b[0;34m)\u001b[0m \u001b[0;32mas\u001b[0m \u001b[0mfdst\u001b[0m\u001b[0;34m:\u001b[0m\u001b[0;34m\u001b[0m\u001b[0;34m\u001b[0m\u001b[0m\n\u001b[1;32m    122\u001b[0m                 \u001b[0mcopyfileobj\u001b[0m\u001b[0;34m(\u001b[0m\u001b[0mfsrc\u001b[0m\u001b[0;34m,\u001b[0m \u001b[0mfdst\u001b[0m\u001b[0;34m)\u001b[0m\u001b[0;34m\u001b[0m\u001b[0;34m\u001b[0m\u001b[0m\n",
      "\u001b[0;31mFileNotFoundError\u001b[0m: [Errno 2] No such file or directory: 'h2.xyz'"
     ]
    }
   ],
   "source": [
    "symbols, coordinates = qchem.read_structure(geometry)\n",
    "\n",
    "h, qubits = qchem.molecular_hamiltonian(\n",
    "    symbols,\n",
    "    coordinates,\n",
    "    charge=charge,\n",
    "    mult=multiplicity,\n",
    "    basis=basis_set,\n",
    "    active_electrons=2,\n",
    "    active_orbitals=2,\n",
    "    mapping='jordan_wigner'\n",
    ")\n",
    "\n",
    "print('Number of qubits = ', qubits)\n",
    "print('Hamiltonian is ', h)"
   ]
  },
  {
   "cell_type": "markdown",
   "metadata": {},
   "source": [
    "That's it! From here on, we can use PennyLane as usual, employing its\n",
    "entire stack of algorithms and optimizers.\n",
    "\n",
    "Implementing the VQE algorithm\n",
    "==============================\n",
    "\n",
    "PennyLane contains the \\~.ExpvalCost class, specifically built to\n",
    "implement the VQE algorithm. We begin by defining the device, in this\n",
    "case a simple qubit simulator:\n"
   ]
  },
  {
   "cell_type": "code",
   "execution_count": null,
   "metadata": {},
   "outputs": [],
   "source": [
    "dev = qml.device('default.qubit', wires=qubits)"
   ]
  },
  {
   "cell_type": "markdown",
   "metadata": {},
   "source": [
    "In VQE, the goal is to train a quantum circuit to prepare the ground\n",
    "state of the input Hamiltonian. This requires a clever choice of\n",
    "circuit, which should be complex enough to prepare the ground state, but\n",
    "also sufficiently easy to optimize. In this example, we employ a\n",
    "variational circuit that is capable of preparing the normalized states\n",
    "of the form $\\alpha|1100\\rangle + \\beta|0011\\rangle$ which encode the\n",
    "ground state wave function of the hydrogen molecule described with a\n",
    "minimal basis set. The circuit consists of single-qubit rotations on all\n",
    "wires, followed by three entangling CNOT gates, as shown in the figure\n",
    "below:\n",
    "\n",
    "|\n",
    "\n",
    "![](/demonstrations/variational_quantum_eigensolver/sketch_circuit.png){width=\"50%\"}\n",
    "\n",
    "|\n"
   ]
  },
  {
   "cell_type": "markdown",
   "metadata": {},
   "source": [
    "In the circuit, we apply single-qubit rotations, followed by CNOT gates:\n"
   ]
  },
  {
   "cell_type": "code",
   "execution_count": null,
   "metadata": {},
   "outputs": [],
   "source": [
    "def circuit(params, wires):\n",
    "    qml.BasisState(np.array([1, 1, 0, 0], requires_grad=False), wires=wires)\n",
    "    for i in wires:\n",
    "        qml.Rot(*params[i], wires=i)\n",
    "    qml.CNOT(wires=[2, 3])\n",
    "    qml.CNOT(wires=[2, 0])\n",
    "    qml.CNOT(wires=[3, 1])"
   ]
  },
  {
   "cell_type": "markdown",
   "metadata": {},
   "source": [
    "> **note**\n",
    ">\n",
    "> The qubit register has been initialized to $|1100\\rangle$ which\n",
    "> encodes the Hartree-Fock state of the hydrogen molecule described with\n",
    "> a [minimal\n",
    "> basis](https://en.wikipedia.org/wiki/Basis_set_(chemistry)#Minimal_basis_sets).\n",
    "\n",
    "The cost function for optimizing the circuit can be created using the\n",
    "\\~.ExpvalCost class, which is tailored for VQE optimization. It requires\n",
    "specifying the circuit, target Hamiltonian, and the device, and returns\n",
    "a cost function that can be evaluated with the circuit parameters:\n"
   ]
  },
  {
   "cell_type": "code",
   "execution_count": null,
   "metadata": {},
   "outputs": [],
   "source": [
    "cost_fn = qml.ExpvalCost(circuit, h, dev)"
   ]
  },
  {
   "cell_type": "markdown",
   "metadata": {},
   "source": [
    "Wrapping up, we fix an optimizer and randomly initialize circuit\n",
    "parameters. For reliable results, we fix the seed of the random number\n",
    "generator, since in practice it may be necessary to re-initialize the\n",
    "circuit several times before convergence occurs.\n"
   ]
  },
  {
   "cell_type": "code",
   "execution_count": null,
   "metadata": {},
   "outputs": [],
   "source": [
    "opt = qml.GradientDescentOptimizer(stepsize=0.4)\n",
    "np.random.seed(0)\n",
    "params = np.random.normal(0, np.pi, (qubits, 3))\n",
    "\n",
    "print(params)"
   ]
  },
  {
   "cell_type": "markdown",
   "metadata": {},
   "source": [
    "We carry out the optimization over a maximum of 200 steps, aiming to\n",
    "reach a convergence tolerance (difference in cost function for\n",
    "subsequent optimization steps) of $\\sim 10^{\n",
    "-6}$.\n"
   ]
  },
  {
   "cell_type": "code",
   "execution_count": null,
   "metadata": {},
   "outputs": [],
   "source": [
    "max_iterations = 200\n",
    "conv_tol = 1e-06\n",
    "\n",
    "\n",
    "for n in range(max_iterations):\n",
    "    params, prev_energy = opt.step_and_cost(cost_fn, params)\n",
    "    energy = cost_fn(params)\n",
    "    conv = np.abs(energy - prev_energy)\n",
    "\n",
    "    if n % 20 == 0:\n",
    "        print('Iteration = {:},  Energy = {:.8f} Ha'.format(n, energy))\n",
    "\n",
    "    if conv <= conv_tol:\n",
    "        break\n",
    "\n",
    "print()\n",
    "print('Final convergence parameter = {:.8f} Ha'.format(conv))\n",
    "print('Final value of the ground-state energy = {:.8f} Ha'.format(energy))\n",
    "print('Accuracy with respect to the FCI energy: {:.8f} Ha ({:.8f} kcal/mol)'.format(\n",
    "    np.abs(energy - (-1.136189454088)), np.abs(energy - (-1.136189454088))*627.503\n",
    "    )\n",
    ")\n",
    "print()\n",
    "print('Final circuit parameters = \\n', params)"
   ]
  },
  {
   "cell_type": "markdown",
   "metadata": {},
   "source": [
    "Success! 🎉🎉🎉 The ground-state energy of the hydrogen molecule has been\n",
    "estimated with chemical accuracy (&lt; 1 kcal/mol) with respect to the\n",
    "exact value of -1.136189454088 Hartree (Ha) obtained from a full\n",
    "configuration-interaction (FCI) calculation. This is because, for the\n",
    "optimized values of the single-qubit rotation angles, the state prepared\n",
    "by the VQE ansatz is precisely the FCI ground-state of the $H_2$\n",
    "molecule $|H_2\\rangle_{gs} = 0.99 |1100\\rangle - 0.10\n",
    "|0011\\rangle$.\n",
    "\n",
    "What other molecules would you like to study using PennyLane?\n",
    "\n",
    "References\n",
    "==========\n"
   ]
  }
 ],
 "metadata": {
  "kernelspec": {
   "display_name": "Python 3",
   "language": "python",
   "name": "python3"
  },
  "language_info": {
   "codemirror_mode": {
    "name": "ipython",
    "version": 3
   },
   "file_extension": ".py",
   "mimetype": "text/x-python",
   "name": "python",
   "nbconvert_exporter": "python",
   "pygments_lexer": "ipython3",
   "version": "3.6.13"
  }
 },
 "nbformat": 4,
 "nbformat_minor": 1
}
