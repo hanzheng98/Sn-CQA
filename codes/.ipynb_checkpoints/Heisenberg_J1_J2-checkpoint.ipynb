{
 "cells": [
  {
   "cell_type": "code",
   "execution_count": 1,
   "id": "0ee9d8dc",
   "metadata": {},
   "outputs": [],
   "source": [
    "import numpy as np \n",
    "import matplotlib as pt"
   ]
  },
  {
   "cell_type": "code",
   "execution_count": 23,
   "id": "39dfe5e9",
   "metadata": {},
   "outputs": [],
   "source": [
    "orth = SymmetricGroupRepresentation([2,2],'orthogonal'); \n"
   ]
  },
  {
   "cell_type": "code",
   "execution_count": 47,
   "id": "9592ae43",
   "metadata": {},
   "outputs": [
    {
     "name": "stdout",
     "output_type": "stream",
     "text": [
      "[[1 0]\n",
      " [0 -1]]\n",
      "----\n",
      "[[-1/2 1/2*sqrt(3)]\n",
      " [1/2*sqrt(3) 1/2]]\n",
      "----\n",
      "[[-1/2 1/2*sqrt(3)]\n",
      " [1/2*sqrt(3) 1/2]]\n",
      "----\n",
      "{'1.0': [(1, 2), (2, 3), (1, 4), (3, 4)], '0.5': [(1, 3), (2, 4)]}\n",
      "['1.0', '0.5']\n",
      "[[-1/2 1/2*sqrt(3)]\n",
      " [1/2*sqrt(3) 1/2]]\n"
     ]
    }
   ],
   "source": [
    "S12 = np.array(orth.representation_matrix((1,2)))\n",
    "print(S12)\n",
    "print('----')\n",
    "S23 = np.array(orth.representation_matrix((2,3)))\n",
    "print(S23)\n",
    "print('----')\n",
    "S14 = np.array(orth.representation_matrix((1,4)))\n",
    "print(S23)\n",
    "print('----')\n",
    "\n",
    "Hamiltonian = dict()\n",
    "Hamiltonian['1.0'] = [(1,2), (2,3), (1,4), (3,4)]\n",
    "Hamiltonian['0.5'] = [(1,3), (2,4)]\n",
    "print(Hamiltonian)\n",
    "print(list(Hamiltonian.keys()))\n",
    "\n",
    "print(rep_matrix((2,3), [2,2]))"
   ]
  },
  {
   "cell_type": "code",
   "execution_count": 48,
   "id": "e57f26fa",
   "metadata": {},
   "outputs": [
    {
     "name": "stdout",
     "output_type": "stream",
     "text": [
      "[[-2. -0. -0. -0. -0.]\n",
      " [-0. -2. -0. -0. -0.]\n",
      " [-0. -0. -2. -0. -0.]\n",
      " [-0. -0. -0. -2. -0.]\n",
      " [-0. -0. -0. -0. -2.]]\n"
     ]
    }
   ],
   "source": [
    "rep_mat = np.multiply(-2, np.diag(np.ones(5)))\n",
    "print(rep_mat)"
   ]
  },
  {
   "cell_type": "code",
   "execution_count": 52,
   "id": "c98b8af7",
   "metadata": {},
   "outputs": [
    {
     "name": "stdout",
     "output_type": "stream",
     "text": [
      "[[-0.5 0.75*sqrt(3)]\n",
      " [0.75*sqrt(3) -2.0]]\n"
     ]
    }
   ],
   "source": [
    "def rep_matrix(st, partit): \n",
    "    orth =SymmetricGroupRepresentation(partit,'orthogonal');\n",
    "    mat = np.array(orth.representation_matrix(st))\n",
    "    return mat \n",
    "          \n",
    "\n",
    "def Ham_rep(H, dim, partit): \n",
    "    ls = list(H.keys())\n",
    "#     print(ls)\n",
    "    rep_mat0 = np.multiply(-2, np.diag(np.ones(dim)))\n",
    "    for st in H[ls[0]]:\n",
    "#         print(H[ls[0]])\n",
    "#         print(st)\n",
    "        rep_st = rep_matrix(st, partit)\n",
    "        rep_mat0 = rep_mat0 + rep_st\n",
    "    rep_mat0 = np.multiply(0.5 , rep_mat0)\n",
    "    rep_mat1 = np.multiply(-1.0, np.diag(np.ones(dim)))\n",
    "    for st in H[ls[0]]:\n",
    "        rep_st = rep_matrix(st, partit)\n",
    "        rep_mat1 = rep_mat1 + rep_st\n",
    "    rep_mat1 = np.multiply(0.25, rep_mat1)\n",
    "    rep_mat_H = np.add(rep_mat0, rep_mat1)\n",
    "    return rep_mat_H\n",
    "\n",
    "ham_J0 =Ham_rep(Hamiltonian, 2, [2,2])\n",
    "\n",
    "print(ham_J0)\n",
    "    \n",
    "    "
   ]
  },
  {
   "cell_type": "code",
   "execution_count": null,
   "id": "86dc0d4a",
   "metadata": {},
   "outputs": [],
   "source": []
  }
 ],
 "metadata": {
  "kernelspec": {
   "display_name": "SageMath 9.2",
   "language": "sage",
   "name": "sagemath"
  },
  "language_info": {
   "codemirror_mode": {
    "name": "ipython",
    "version": 3
   },
   "file_extension": ".py",
   "mimetype": "text/x-python",
   "name": "python",
   "nbconvert_exporter": "python",
   "pygments_lexer": "ipython3",
   "version": "3.9.6"
  }
 },
 "nbformat": 4,
 "nbformat_minor": 5
}
