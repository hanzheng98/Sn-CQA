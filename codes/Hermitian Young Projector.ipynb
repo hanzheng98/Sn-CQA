{
 "cells": [
  {
   "cell_type": "code",
   "execution_count": 2,
   "id": "3b5d9715",
   "metadata": {},
   "outputs": [],
   "source": [
    "import pennylane as qml\n",
    "from pennylane import numpy as np\n",
    "from pennylane.templates import RandomLayers\n",
    "import matplotlib.pyplot as plt"
   ]
  },
  {
   "cell_type": "code",
   "execution_count": 3,
   "id": "868cb0da",
   "metadata": {},
   "outputs": [
    {
     "name": "stdout",
     "output_type": "stream",
     "text": [
      " 0: ──╭|0⟩──┤ ⟨Z⟩ \n",
      " 1: ──├|1⟩──┤ ⟨Z⟩ \n",
      " 2: ──├|1⟩──┤ ⟨Z⟩ \n",
      " 3: ──├|0⟩──┤ ⟨Z⟩ \n",
      " 4: ──├|1⟩──┤ ⟨Z⟩ \n",
      " 5: ──╰|1⟩──┤ ⟨Z⟩ \n",
      "\n"
     ]
    }
   ],
   "source": [
    "dev = qml.device(\"default.qubit\", wires=6)\n",
    "\n",
    "@qml.qnode(dev)\n",
    "def circuit(init_state):\n",
    "    qml.BasisState(init_state, wires=range(len(init_state)))\n",
    "    return [ qml.expval(qml.PauliZ(i)) for i in range(len(init_state))]\n",
    "\n",
    "\n",
    "drawer = qml.draw(circuit)\n",
    "print(drawer((0,1,1,0,1,1)))"
   ]
  },
  {
   "cell_type": "code",
   "execution_count": 4,
   "id": "b1e5d37b",
   "metadata": {},
   "outputs": [],
   "source": [
    "class HYP():\n",
    "    def __init__(self, init_state = None, YoungProj = None):\n",
    "        self.comp_basis = init_state\n",
    "        self.YoungProj = YoungProj"
   ]
  },
  {
   "cell_type": "code",
   "execution_count": null,
   "id": "61dd15f2",
   "metadata": {},
   "outputs": [],
   "source": []
  },
  {
   "cell_type": "code",
   "execution_count": 4,
   "id": "6b528c95",
   "metadata": {},
   "outputs": [
    {
     "name": "stdout",
     "output_type": "stream",
     "text": [
      "  1  3  4\n",
      "  2\n",
      "  1  2  4\n",
      "  3\n",
      "  1  2  3\n",
      "  4\n"
     ]
    }
   ],
   "source": [
    "Y1 = StandardTableau([[1,3,4],[2]])\n",
    "Y2 = StandardTableau([[1,2,4],[3]])\n",
    "Y3 = StandardTableau([[1,2,3],[4]])\n",
    "Y1.pp()\n",
    "Y2.pp()\n",
    "Y3.pp()"
   ]
  },
  {
   "cell_type": "code",
   "execution_count": 6,
   "id": "57d0da64",
   "metadata": {},
   "outputs": [
    {
     "name": "stdout",
     "output_type": "stream",
     "text": [
      "(n1, n2, n3, n4) |--> (n1, n2, n3, n4)\n"
     ]
    }
   ],
   "source": [
    "n1,n2,n3,n4 = var('n1, n2, n3, n4')\n",
    "psi(n1,n2,n3,n4) = [n1,n2,n3,n4]\n",
    "print(psi)"
   ]
  },
  {
   "cell_type": "code",
   "execution_count": 77,
   "id": "8e03da19",
   "metadata": {},
   "outputs": [
    {
     "name": "stdout",
     "output_type": "stream",
     "text": [
      "++++\n"
     ]
    }
   ],
   "source": [
    "from sage.combinat.symmetric_group_algebra import e, e_hat,a,b\n",
    "CS4 = SymmetricGroupAlgebra(CC,4)\n",
    "PY1 = e(Y1)\n",
    "mul = CS4.left_action_product\n",
    "# pp = mul(PY1, Cspin.list())\n",
    "lstCspin = Cspin.list()\n",
    "test = lstCspin[0]\n",
    "\n",
    "print(test)\n"
   ]
  },
  {
   "cell_type": "code",
   "execution_count": 62,
   "id": "840a406d",
   "metadata": {},
   "outputs": [
    {
     "name": "stdout",
     "output_type": "stream",
     "text": [
      "[++++, +++-, ++-+, +-++, -+++, ++--, +-+-, -++-, +--+, -+-+, --++, +---, -+--, --+-, ---+, ----]\n"
     ]
    }
   ],
   "source": [
    "# from sage.combinat.permutation import Permutation\n",
    "Cspin = crystals.Spins(\"B4\"); Cspin\n",
    "Cspin.cardinality()\n",
    "print(Cspin.list())"
   ]
  },
  {
   "cell_type": "code",
   "execution_count": 63,
   "id": "e9af60c7",
   "metadata": {},
   "outputs": [
    {
     "data": {
      "text/plain": [
       "([1, 1, 1, 1],\n",
       " [2, 1, 1, 1],\n",
       " [1, 2, 1, 1],\n",
       " [2, 2, 1, 1],\n",
       " [1, 1, 2, 1],\n",
       " [2, 1, 2, 1])"
      ]
     },
     "execution_count": 63,
     "metadata": {},
     "output_type": "execute_result"
    }
   ],
   "source": [
    "C = crystals.Letters(\"A1\")\n",
    "T = crystals.TensorProduct(C,C,C,C)\n",
    "T.highest_weight_vectors()"
   ]
  },
  {
   "cell_type": "code",
   "execution_count": 56,
   "id": "5945d32c",
   "metadata": {},
   "outputs": [
    {
     "data": {
      "text/plain": [
       "Ambient space of the Root system of type ['B', 4]"
      ]
     },
     "execution_count": 56,
     "metadata": {},
     "output_type": "execute_result"
    }
   ],
   "source": [
    "Cspin.weight_lattice_realization()"
   ]
  },
  {
   "cell_type": "code",
   "execution_count": 51,
   "id": "a9cbfa00",
   "metadata": {},
   "outputs": [
    {
     "name": "stdout",
     "output_type": "stream",
     "text": [
      "Finite family {1: (1, 0)}\n",
      "Finite family {1: (1, -1)}\n",
      "Finite family {1: (1, -1)}\n"
     ]
    },
    {
     "data": {
      "text/plain": [
       "O\n",
       "1   \n",
       "A1"
      ]
     },
     "execution_count": 51,
     "metadata": {},
     "output_type": "execute_result"
    }
   ],
   "source": [
    "A2 = WeylCharacterRing('A1')\n",
    "print(A2.fundamental_weights())\n",
    "print(A2.simple_roots())\n",
    "print(A2.simple_coroots())\n",
    "A2.dynkin_diagram()"
   ]
  },
  {
   "cell_type": "code",
   "execution_count": 47,
   "id": "cff5fd8d",
   "metadata": {},
   "outputs": [
    {
     "name": "stdout",
     "output_type": "stream",
     "text": [
      "Finite family {1: (1, 0)}\n"
     ]
    },
    {
     "data": {
      "text/plain": [
       "2"
      ]
     },
     "execution_count": 47,
     "metadata": {},
     "output_type": "execute_result"
    }
   ],
   "source": [
    "A1 = WeylCharacterRing('A1')\n",
    "fw = A1.fundamental_weights()\n",
    "print(fw)\n",
    "qubit = A1(fw[1])\n",
    "qubit.degree()"
   ]
  },
  {
   "cell_type": "code",
   "execution_count": 54,
   "id": "4d2c36ca",
   "metadata": {},
   "outputs": [
    {
     "name": "stdout",
     "output_type": "stream",
     "text": [
      "2*A1(2,2) + 3*A1(3,1) + A1(4,0)\n"
     ]
    }
   ],
   "source": [
    "comp_base = qubit * qubit * qubit * qubit; \n",
    "print(comp_base)"
   ]
  },
  {
   "cell_type": "code",
   "execution_count": 50,
   "id": "5943f679",
   "metadata": {},
   "outputs": [
    {
     "data": {
      "text/plain": [
       "[((4, 0), 1), ((3, 1), 3), ((2, 2), 2)]"
      ]
     },
     "execution_count": 50,
     "metadata": {},
     "output_type": "execute_result"
    }
   ],
   "source": [
    "from pprint import pprint \n",
    "list(comp_base)"
   ]
  },
  {
   "cell_type": "code",
   "execution_count": 52,
   "id": "2b9d3e98",
   "metadata": {},
   "outputs": [
    {
     "name": "stdout",
     "output_type": "stream",
     "text": [
      "{(1, 3): 4, (2, 2): 6, (3, 1): 4, (4, 0): 1, (0, 4): 1}\n"
     ]
    }
   ],
   "source": [
    "pprint(comp_base.weight_multiplicities())"
   ]
  },
  {
   "cell_type": "code",
   "execution_count": 55,
   "id": "e18de2f1",
   "metadata": {},
   "outputs": [
    {
     "data": {
      "text/plain": [
       "3"
      ]
     },
     "execution_count": 55,
     "metadata": {},
     "output_type": "execute_result"
    }
   ],
   "source": []
  },
  {
   "cell_type": "code",
   "execution_count": null,
   "id": "70652ef4",
   "metadata": {},
   "outputs": [],
   "source": []
  }
 ],
 "metadata": {
  "kernelspec": {
   "display_name": "SageMath 9.2",
   "language": "sage",
   "name": "sagemath"
  },
  "language_info": {
   "codemirror_mode": {
    "name": "ipython",
    "version": 3
   },
   "file_extension": ".py",
   "mimetype": "text/x-python",
   "name": "python",
   "nbconvert_exporter": "python",
   "pygments_lexer": "ipython3",
   "version": "3.9.6"
  }
 },
 "nbformat": 4,
 "nbformat_minor": 5
}
