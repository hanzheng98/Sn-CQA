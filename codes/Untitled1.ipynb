{
 "cells": [
  {
   "cell_type": "code",
   "execution_count": 2,
   "id": "7fe7b1e0",
   "metadata": {},
   "outputs": [],
   "source": [
    "import netket as nk\n",
    "\n",
    "# Import Json, this will be needed to examine log files\n",
    "import json\n",
    "\n",
    "# Helper libraries\n",
    "import numpy as np\n",
    "import matplotlib.pyplot as plt\n"
   ]
  },
  {
   "cell_type": "code",
   "execution_count": null,
   "id": "cfec0116",
   "metadata": {},
   "outputs": [],
   "source": []
  },
  {
   "cell_type": "code",
   "execution_count": 3,
   "id": "a017c5a1",
   "metadata": {},
   "outputs": [
    {
     "name": "stderr",
     "output_type": "stream",
     "text": [
      "/Users/liuping/opt/anaconda3/envs/py39/lib/python3.9/site-packages/netket/graph/lattice.py:354: FutureWarning: atoms_coord is deprecated and may be removed in future versions, please use site_offsets instead\n",
      "  warnings.warn(\n",
      "WARNING:absl:No GPU/TPU found, falling back to CPU. (Set TF_CPP_MIN_LOG_LEVEL=0 and rerun for more info.)\n",
      "/Users/liuping/opt/anaconda3/envs/py39/lib/python3.9/site-packages/netket/variational.py:29: FutureWarning: The `netket.variational` module is deprecated. Use `netket.vqs` instead.\n",
      "To fix this warning, change `netket.variational.MCState to `netket.vqs.MCState`.\n",
      "  _warn_deprecation(\n",
      "/Users/liuping/opt/anaconda3/envs/py39/lib/python3.9/site-packages/netket/driver/vmc.py:86: FutureWarning: The `sr` keyword argument is deprecated in favour of `preconditioner`.Please update your code to `VMC(.., precondioner=your_sr)`\n",
      "  warn_deprecation(\n"
     ]
    }
   ],
   "source": [
    "#Basis Vectors that define the positioning of the unit cell\n",
    "basis_vectors = [[0,1],[np.sqrt(3)/2,-1/2]]\n",
    "\n",
    "#Locations of atoms within the unit cell\n",
    "atom_positions = [[0,0],[np.sqrt(3)/6,1/2]]\n",
    "\n",
    "#Number of unit cells in each direction\n",
    "dimensions = [3,3]\n",
    "\n",
    "#Define the graph\n",
    "graph = nk.graph.Lattice(basis_vectors=basis_vectors,\n",
    "                         atoms_coord = atom_positions,\n",
    "                         extent = dimensions\n",
    "                        )\n",
    "symmetries = graph.automorphisms()\n",
    "# Define the Hilbert space\n",
    "hi = nk.hilbert.Spin(s=int(1) / int(2), N=graph.n_nodes, total_sz = int(0))\n",
    "\n",
    "#Define the Hamiltonian\n",
    "ha = nk.operator.Heisenberg(hilbert=hi, graph=graph, sign_rule=True)\n",
    "\n",
    "#Feature dimensions of hidden layers, from first to last\n",
    "feature_dims = (8,8,8,8)\n",
    "\n",
    "#Number of layers\n",
    "num_layers = 4\n",
    "\n",
    "#Define the GCNN\n",
    "ma = nk.models.GCNN(symmetries = symmetries, layers = num_layers, features = feature_dims)\n",
    "\n",
    "# Metropois-Hastings with two spins flipped that are at most second nearest neighbors\n",
    "sa = nk.sampler.MetropolisExchange(hilbert = hi, graph=graph, d_max=2)\n",
    "\n",
    "#Stochaistic reconfiguration\n",
    "op = nk.optimizer.Sgd(learning_rate=1e-2)\n",
    "sr = nk.optimizer.SR(diag_shift=0.01)\n",
    "\n",
    "#Define a variational state so we can keep the parameters if we like\n",
    "vstate = nk.variational.MCState(sampler=sa, model=ma, n_samples=100)\n",
    "\n",
    "#Define a driver that performs VMC\n",
    "gs = nk.driver.VMC(ha, op, sr=sr, variational_state=vstate)"
   ]
  },
  {
   "cell_type": "code",
   "execution_count": 12,
   "id": "5fb6d86b",
   "metadata": {},
   "outputs": [
    {
     "name": "stdout",
     "output_type": "stream",
     "text": [
      "MCState(hilbert = Spin(s=1/2, total_sz=0, N=18), sampler = MetropolisSampler(rule = ExchangeRule(# of clusters: 81), n_chains = 16, machine_power = 2, n_sweeps = 18, dtype = <class 'numpy.float64'>), n_samples = 112)\n"
     ]
    }
   ],
   "source": [
    "print(vstate)"
   ]
  },
  {
   "cell_type": "code",
   "execution_count": 4,
   "id": "744d5dec",
   "metadata": {},
   "outputs": [
    {
     "name": "stderr",
     "output_type": "stream",
     "text": [
      "100%|██████████| 100/100 [03:28<00:00,  2.08s/it, Energy=-40.317 ± 0.058 [σ²=0.372, R̂=1.0086]]\n"
     ]
    },
    {
     "data": {
      "text/plain": [
       "[<matplotlib.lines.Line2D at 0x7fdde9349070>]"
      ]
     },
     "execution_count": 4,
     "metadata": {},
     "output_type": "execute_result"
    },
    {
     "data": {
      "image/png": "[encoded data removed]",
      "text/plain": [
       "<Figure size 432x288 with 1 Axes>"
      ]
     },
     "metadata": {
      "needs_background": "light"
     },
     "output_type": "display_data"
    }
   ],
   "source": [
    "#Run the optimization\n",
    "gs.run(n_iter=100, out='out')\n",
    "\n",
    "#Get data from log and\n",
    "energy = []\n",
    "data=json.load(open(\"out.log\"))\n",
    "for en in data[\"Energy\"][\"Mean\"]:\n",
    "    energy.append(en)\n",
    "\n",
    "#plot the energy during the optimization\n",
    "plt.xlabel(\"Number of Iterations\")\n",
    "plt.ylabel(\"Energy\")\n",
    "\n",
    "plt.plot(energy)"
   ]
  },
  {
   "cell_type": "code",
   "execution_count": null,
   "id": "06814d88",
   "metadata": {},
   "outputs": [],
   "source": []
  }
 ],
 "metadata": {
  "kernelspec": {
   "display_name": "Python 3",
   "language": "python",
   "name": "python3"
  },
  "language_info": {
   "codemirror_mode": {
    "name": "ipython",
    "version": 3
   },
   "file_extension": ".py",
   "mimetype": "text/x-python",
   "name": "python",
   "nbconvert_exporter": "python",
   "pygments_lexer": "ipython3",
   "version": "3.9.5"
  }
 },
 "nbformat": 4,
 "nbformat_minor": 5
}
