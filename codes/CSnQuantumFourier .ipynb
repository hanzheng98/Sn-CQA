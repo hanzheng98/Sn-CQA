{
 "cells": [
  {
   "cell_type": "code",
   "execution_count": null,
   "id": "d3e5b6a1",
   "metadata": {},
   "outputs": [],
   "source": [
    "# from jupyterthemes import get_themes\n",
    "# !jt -t solarizedd -T -N -kl\n",
    "\n",
    "'''\n",
    "RUN THIS IN SAGEMATH9.2 environment. A new conda environment is recommanded!! \n",
    "'''"
   ]
  },
  {
   "cell_type": "code",
   "execution_count": 1,
   "id": "d75bc8de",
   "metadata": {},
   "outputs": [],
   "source": [
    "import numpy as np\n",
    "import matplotlib as plt\n",
    "import numpy.linalg as LA\n",
    "from sage.combinat.symmetric_group_representations import SymmetricGroupRepresentation\n",
    "from sage.combinat.permutation import *\n",
    "import scipy\n",
    "import netket as nk\n",
    "import jax\n",
    "import jax.numpy as jnp\n",
    "import netket.nn as nknn\n",
    "from jax import grad, jit, vmap, vjp \n",
    "from jax import random\n",
    "from scipy.sparse.linalg import eigsh\n",
    "from scipy.linalg import eigh, eigvalsh\n",
    "from sympy.combinatorics import Permutation as Perm\n",
    "from sympy.interactive import init_printing\n",
    "import json\n",
    "import networkx as nx \n",
    "from FourierFilters import FourierFilters\n",
    "from sgd import CSnSGD\n",
    "from jax import random "
   ]
  },
  {
   "cell_type": "code",
   "execution_count": null,
   "id": "d48ca8f7",
   "metadata": {},
   "outputs": [],
   "source": []
  },
  {
   "cell_type": "markdown",
   "id": "e668f659",
   "metadata": {},
   "source": [
    "#### This module consited of building and training module from unfrustrated J2 =0 lattice diagram working in the partition = [n/2, n/2],  the subspace for the true ground state in the unfrusrated region by the Marshall Sign-rule\n",
    "\n",
    "\n"
   ]
  },
  {
   "cell_type": "markdown",
   "id": "8fb05df4",
   "metadata": {
    "slideshow": {
     "slide_type": "-"
    }
   },
   "source": [
    "#  CSn Fourier Filters & Finding the Ground States of J1-J2 Heisenberg "
   ]
  },
  {
   "cell_type": "markdown",
   "id": "f04dc8f3",
   "metadata": {},
   "source": [
    "#### Need the SageMath9.2 environment installed via a conda env or a virtual env... recommend a new conda env "
   ]
  },
  {
   "cell_type": "markdown",
   "id": "8befae1c",
   "metadata": {},
   "source": [
    "#### Use JAX, NetKet, Torch packages for notebook"
   ]
  },
  {
   "cell_type": "markdown",
   "id": "59c4dad6",
   "metadata": {},
   "source": [
    "## CSn FourierFilter Class "
   ]
  },
  {
   "cell_type": "markdown",
   "id": "56b705d2",
   "metadata": {},
   "source": []
  },
  {
   "cell_type": "markdown",
   "id": "b482235e",
   "metadata": {},
   "source": [
    "### Example (J1-J2) on the 3-square lattice "
   ]
  },
  {
   "cell_type": "code",
   "execution_count": 10,
   "id": "3b4022d7",
   "metadata": {},
   "outputs": [
    {
     "name": "stdout",
     "output_type": "stream",
     "text": [
      "[(1, 5), (1, 2), (2, 6), (2, 3), (3, 7), (3, 4), (4, 8), (5, 6), (6, 7), (7, 8)]\n"
     ]
    },
    {
     "data": {
      "image/png": "[encoded data removed]",
      "text/plain": [
       "<Figure size 432x288 with 1 Axes>"
      ]
     },
     "metadata": {},
     "output_type": "display_data"
    }
   ],
   "source": [
    "\n",
    "graph = nx.generators.lattice.grid_2d_graph(2,4)\n",
    "graph = nx.relabel.convert_node_labels_to_integers(graph, first_label=1)\n",
    "# obs = []\n",
    "# coeffs = []\n",
    "# for edge in graph.edges():\n",
    "#     print(edge)\n",
    "#     coeffs.extend([1.0, 1.0, 1.0])\n",
    "#     obs.extend([qml.PauliX(edge[0]) @ qml.PauliX(edge[1]),\n",
    "#                         qml.PauliY(edge[0]) @ qml.PauliY(edge[1]),\n",
    "#                         qml.PauliZ(edge[0]) @ qml.PauliZ(edge[1])])\n",
    "# hamiltonian_heisenberg = qml.Hamiltonian(coeffs, obs)\n",
    "\n",
    "\n",
    "nx.draw(graph, with_labels=True, font_weight='bold')\n",
    "print(graph.edges())"
   ]
  },
  {
   "cell_type": "code",
   "execution_count": null,
   "id": "92d0001c",
   "metadata": {},
   "outputs": [],
   "source": []
  },
  {
   "cell_type": "code",
   "execution_count": 11,
   "id": "426565f6",
   "metadata": {},
   "outputs": [
    {
     "name": "stdout",
     "output_type": "stream",
     "text": [
      "True Ground state Energy via ED: -4.29306645665707 \n",
      "True Ground State wavefuncion in Sn irrep basis: [ 0.15237393  0.0651285  -0.00648768  0.28327447 -0.00648768  0.25822267\n",
      " -0.31443686  0.14116936 -0.17426199  0.28327447 -0.31443686  0.13560986\n",
      " -0.17426199  0.66969703]\n",
      "Irrep Dims for [4, 4]: --- 14\n"
     ]
    }
   ],
   "source": [
    "J = [1, 0] # unfrustrated system for now \n",
    "# lattice2 = [[(1,2), (2,3), (3,4),(4,5), (5,6),(1,6), (2,5)],[(1,5), (2,6), (2,4), (3,5),(1,3), (4,6)]]\n",
    "lattice3 = [graph.edges(), \n",
    "            [(2,5), (5,7), (1,6), (6,8), (3,6), (2,7), (7, 4), (3,8), (2,4), (1,3)]]\n",
    "partit = [int(4),int(4)]\n",
    "Nsites = int( 8) \n",
    "\n",
    "\n",
    "CsnFourier = CSnSGD(J= J, lattice = lattice3, Nsites=Nsites, \n",
    "                    partit=partit,p=int(3), num_samples =int(20))\n",
    "\n",
    "\n",
    "Ham_rep = CsnFourier.Ham_rep()\n",
    "\n",
    "# print(CsnFilters.rep_mat_H)\n",
    "E_gs, V_gs = eigh(Ham_rep.astype('float64'), subset_by_index=[0,1])\n",
    "print('True Ground state Energy via ED: {} '.format( E_gs[0]))\n",
    "print('True Ground State wavefuncion in Sn irrep basis: {}'.format(V_gs[:,0]))\n",
    "\n",
    "print('Irrep Dims for {}: --- {}'.format(partit, CsnFourier.dim))\n",
    "\n",
    "# print(Ham_rep)"
   ]
  },
  {
   "cell_type": "markdown",
   "id": "1f03163e",
   "metadata": {},
   "source": [
    "Objective is to minialize the expectation $\\langle \\Psi(\\vec{\\theta})| \\widehat{H}|\\Psi(\\vec{\\theta})\\rangle $ "
   ]
  },
  {
   "cell_type": "markdown",
   "id": "31294366",
   "metadata": {},
   "source": [
    "Three criterions needed: (1) Energy (2) Sign structure (sign of the coefficients) (3) Spin-Spin correlation  $S^{2}(\\vec{q})=\\frac{1}{n(n+2)} \\sum_{i, j}\\left\\langle\\hat{\\boldsymbol{S}}_{i} \\cdot \\hat{\\boldsymbol{S}}_{j}\\right\\rangle e^{i \\vec{q} \\cdot\\left(\\vec{r}_{i}-\\vec{r}_{j}\\right)}$"
   ]
  },
  {
   "cell_type": "markdown",
   "id": "a6b5effa",
   "metadata": {},
   "source": [
    "### Step 1:  To calculate the Mixing hamiltonian $H_M = \\sum_{k \\leq \\ell} \\beta_{k, \\ell} X_k X_{\\ell}$ and its Sn irrep form under partit = [4,4]"
   ]
  },
  {
   "cell_type": "code",
   "execution_count": 12,
   "id": "eefc6d0c",
   "metadata": {},
   "outputs": [
    {
     "name": "stdout",
     "output_type": "stream",
     "text": [
      "YJMs with X1X8 is [(1,8), (2,8), (3,8), (4,8), (5,8), (6,8), (7,8)]\n",
      "-----------------\n",
      "YJMs with X3X4 is [(1,4,3), (1,4)(2,3), (2,4,3)]\n"
     ]
    }
   ],
   "source": [
    "'''\n",
    "use SageMath9.2 environment. Alert may not be complient with the JAX \n",
    "Here we aim to get the YJMs X_1X_8 and X_3X_4\n",
    "'''\n",
    "\n",
    "X1X8 = CsnFourier.get_YJMs(1,8, opt = 'exact')\n",
    "X3X4 = CsnFourier.get_YJMs(3,4, opt = 'exact')\n",
    "\n",
    "print('YJMs with X1X8 is {}'.format(X1X8))\n",
    "print('-----------------')\n",
    "print('YJMs with X3X4 is {}'.format(X3X4))\n",
    "\n",
    "\n"
   ]
  },
  {
   "cell_type": "code",
   "execution_count": 27,
   "id": "44f1c845",
   "metadata": {},
   "outputs": [
    {
     "name": "stdout",
     "output_type": "stream",
     "text": [
      "{(1, 1): array([1., 1., 1., 1., 1., 1., 1., 1., 1., 1., 1., 1., 1., 1.]), (1, 2): array([1, 1, 1, -1, 1, 1, -1, 1, -1, 1, 1, -1, 1, -1], dtype=object), (1, 3): array([2, 2, -1, 1, 2, -1, 1, -1, 1, 2, -1, 1, -1, 1], dtype=object), (1, 4): array([3, -1, 2, 2, -1, 2, 2, 0, 0, -1, 2, 2, 0, 0], dtype=object), (1, 5): array([-1, 3, 3, 3, 0, 0, 0, 2, 2, 0, 0, 0, 2, 2], dtype=object), (1, 6): array([0, 0, 0, 0, 3, 3, 3, 3, 3, 1, 1, 1, 1, 1], dtype=object), (1, 7): array([1, 1, 1, 1, 1, 1, 1, 1, 1, 3, 3, 3, 3, 3], dtype=object), (1, 8): array([2, 2, 2, 2, 2, 2, 2, 2, 2, 2, 2, 2, 2, 2], dtype=object), (2, 2): array([1, 1, 1, 1, 1, 1, 1, 1, 1, 1, 1, 1, 1, 1], dtype=object), (2, 3): array([1, 1, -1/2, -1/2, 1, -1/2, -1/2, -1/2, -1/2, 1, -1/2, -1/2, -1/2,\n",
      "       -1/2], dtype=object), (2, 4): array([1, -1/3, 5/6, -1/2, -1/3, 5/6, -1/2, -1/2, -1/2, -1/3, 5/6, -1/2,\n",
      "       -1/2, -1/2], dtype=object), (2, 5): array([-1/4, 11/12, 5/6, -1/2, -1/3, -1/6, -1/2, 1/2, -1/2, -1/3, -1/6,\n",
      "       -1/2, 1/2, -1/2], dtype=object), (2, 6): array([-1/4, -7/36, -1/18, -1/2, 7/9, 13/18, -1/2, 1/2, -1/2, -1/3, -1/6,\n",
      "       -1/2, 1/2, -1/2], dtype=object), (2, 7): array([-1/4, -7/36, -1/18, -1/2, -1/18, 1/18, -1/2, 1/2, -1/2, 1/2, 1/2,\n",
      "       -1/2, 1/2, -1/2], dtype=object), (2, 8): array([-1/4, -7/36, -1/18, -1/2, -1/18, 1/18, -1/2, 1/2, -1/2, 1/2, 1/2,\n",
      "       -1/2, 1/2, -1/2], dtype=object), (3, 3): array([3, 3, 3/2, 3/2, 3, 3/2, 3/2, 3/2, 3/2, 3, 3/2, 3/2, 3/2, 3/2],\n",
      "      dtype=object), (3, 4): array([3, -1, -1, 1, -1, -1, 1, 0, 0, -1, -1, 1, 0, 0], dtype=object), (3, 5): array([-3/4, 11/4, -1, 1, -1, -1/4, 1/4, -3/4, 3/4, -1, -1/4, 1/4, -3/4,\n",
      "       3/4], dtype=object), (3, 6): array([-3/4, -7/12, -1/3, 1/3, 7/3, -11/12, 11/12, -3/4, 3/4, -1, -1/4,\n",
      "       1/4, -3/4, 3/4], dtype=object), (3, 7): array([-3/4, -7/12, -1/3, 1/3, -1/6, -5/12, 5/12, -3/4, 3/4, 3/2, -3/4,\n",
      "       3/4, -3/4, 3/4], dtype=object), (3, 8): array([-3/4, -7/12, -1/3, 1/3, -1/6, -5/12, 5/12, -3/4, 3/4, 3/2, -3/4,\n",
      "       3/4, -3/4, 3/4], dtype=object), (4, 4): array([6, 2, 7/2, 7/2, 2, 7/2, 7/2, 3/2, 3/2, 2, 7/2, 7/2, 3/2, 3/2],\n",
      "      dtype=object), (4, 5): array([-3/2, -3/2, 3, 3, 0, -3/4, 3/4, 3/4, -3/4, 0, -3/4, 3/4, 3/4, -3/4],\n",
      "      dtype=object), (4, 6): array([-3/2, -1/6, -1/3, 1, -4/3, 31/12, 11/4, 3/4, -3/4, 0, -3/4, 3/4,\n",
      "       3/4, -3/4], dtype=object), (4, 7): array([-3/2, -1/6, -1/3, 1, -1/3, 1/12, 5/4, 3/4, -3/4, -1, 7/4, 9/4, 3/4,\n",
      "       -3/4], dtype=object), (4, 8): array([-3/2, -1/6, -1/3, 1, -1/3, 1/12, 5/4, 3/4, -3/4, -1, 7/4, 9/4, 3/4,\n",
      "       -3/4], dtype=object), (5, 5): array([5/2, 13/2, 13/2, 13/2, 2, 2, 2, 4, 4, 2, 2, 2, 4, 4], dtype=object), (5, 6): array([0, -4/3, 0, 4/3, 4/3, 0, -4/3, 3, 3, 0, 0, 0, 1, 1], dtype=object), (5, 7): array([0, -4/3, 0, 4/3, 1/3, 0, -1/3, 3/2, 3/2, 1, 0, -1, 5/2, 5/2],\n",
      "      dtype=object), (5, 8): array([0, -4/3, 0, 4/3, 1/3, 0, -1/3, 3/2, 3/2, 1, 0, -1, 5/2, 5/2],\n",
      "      dtype=object), (6, 6): array([5/2, 5/2, 5/2, 5/2, 7, 7, 7, 7, 7, 3, 3, 3, 3, 3], dtype=object), (6, 7): array([0, 0, 0, 0, -1/2, 1/2, 3/2, 3, 3, 7/2, 5/2, 3/2, 0, 0],\n",
      "      dtype=object), (6, 8): array([0, 0, 0, 0, -1/2, 1/2, 3/2, 3, 3, 7/2, 5/2, 3/2, 0, 0],\n",
      "      dtype=object), (7, 7): array([7/2, 7/2, 7/2, 7/2, 7/2, 7/2, 7/2, 7/2, 7/2, 15/2, 15/2, 15/2,\n",
      "       15/2, 15/2], dtype=object), (7, 8): array([1, 1, 1, 1, 1, 1, 1, 1, 1, 3, 3, 3, 3, 3], dtype=object), (8, 8): array([11/2, 11/2, 11/2, 11/2, 11/2, 11/2, 11/2, 11/2, 11/2, 11/2, 11/2,\n",
      "       11/2, 11/2, 11/2], dtype=object)}\n"
     ]
    }
   ],
   "source": [
    "'''\n",
    "NOw we store the H_M and H_p into two seperate csv files \n",
    "(I will update a google colab very soon so that no SageMath is needed )\n",
    "'''\n",
    "\n",
    "import pandas as pd\n",
    "\n",
    "Num = CsnFourier.Nsites* (CsnFourier.Nsites + 1) /2\n",
    "# Hm_matrix = np.zeros((Num, CsnFourier.dim  ))\n",
    "Hm_matrix = dict()\n",
    "for i in range(1, CsnFourier.Nsites+1): \n",
    "    if i ==CsnFourier.Nsites: \n",
    "        YJM_rep = CsnFourier.get_YJMs(i, i)\n",
    "        Hm_matrix[(i,i)] = np.diag(YJM_rep)\n",
    "    for j in range(i, CsnFourier.Nsites+1):\n",
    "        YJM_rep = CsnFourier.get_YJMs(i, j)\n",
    "        Hm_matrix[(i,j)] = np.diag(YJM_rep)\n",
    "\n",
    "print(Hm_matrix)\n",
    "    "
   ]
  },
  {
   "cell_type": "code",
   "execution_count": 39,
   "id": "0b520886",
   "metadata": {},
   "outputs": [
    {
     "name": "stdout",
     "output_type": "stream",
     "text": [
      "dict_keys([(1, 1), (1, 2), (1, 3), (1, 4), (1, 5), (1, 6), (1, 7), (1, 8), (2, 2), (2, 3), (2, 4), (2, 5), (2, 6), (2, 7), (2, 8), (3, 3), (3, 4), (3, 5), (3, 6), (3, 7), (3, 8), (4, 4), (4, 5), (4, 6), (4, 7), (4, 8), (5, 5), (5, 6), (5, 7), (5, 8), (6, 6), (6, 7), (6, 8), (7, 7), (7, 8), (8, 8)])\n"
     ]
    },
    {
     "data": {
      "text/plain": [
       "'\\nfile read YJM at total spin S=0 irrep with sites number = 8 for the square lattice\\n'"
      ]
     },
     "execution_count": 39,
     "metadata": {},
     "output_type": "execute_result"
    }
   ],
   "source": [
    "print(Hm_matrix.keys())\n",
    "df = pd.DataFrame.from_dict(Hm_matrix)\n",
    "df\n",
    "df.to_csv('../data/YJM_S0_8_s.csv')\n",
    "\n",
    "'''\n",
    "file read YJM at total spin S=0 irrep with sites number = 8 for the square lattice\n",
    "'''"
   ]
  },
  {
   "cell_type": "code",
   "execution_count": 40,
   "id": "009e0685",
   "metadata": {},
   "outputs": [],
   "source": [
    "'''\n",
    "We also write heisenberg into csv \n",
    "'''\n",
    "\n",
    "Heisenberg = CsnFourier.Ham_rep()\n",
    "\n",
    "df2 = pd.DataFrame(Heisenberg)\n",
    "df2.to_csv('../data/Heisenberg_S0_8_s.csv')"
   ]
  },
  {
   "cell_type": "code",
   "execution_count": 36,
   "id": "0ef14dd6",
   "metadata": {},
   "outputs": [],
   "source": [
    "'''\n",
    "Compute the exp(-i H_M) in this Sn irrep partition = [4,4] \n",
    "(time parameters implied in the coupling strength)\n",
    "'''\n",
    "YJMparams, Hparams = CsnFourier.random_params2()\n",
    "# YJMparams = Params[0]\n",
    "YJMparams_p1 = YJMparams.at[:,:,int(0)].get()\n",
    "YJM_ansazte = CsnFourier.YJM_Conv2d(YJMparams_p1)"
   ]
  },
  {
   "cell_type": "code",
   "execution_count": null,
   "id": "af5ef752",
   "metadata": {},
   "outputs": [],
   "source": []
  },
  {
   "cell_type": "code",
   "execution_count": 37,
   "id": "35ff6153",
   "metadata": {},
   "outputs": [
    {
     "name": "stdout",
     "output_type": "stream",
     "text": [
      "YJM_ansazte per layer (must be stricly diagonal):   [0.26704688-0.01124633j 0.26707722-0.01017798j 0.26710143-0.00934796j\n",
      " 0.26710106-0.00987958j 0.26712099-0.00827415j 0.26712999-0.00839979j\n",
      " 0.26712658-0.00859618j 0.26714449-0.00833994j 0.26713346-0.0086821j\n",
      " 0.2671616 -0.00620514j 0.26714283-0.00724926j 0.2671394 -0.00754694j\n",
      " 0.26713178-0.00797671j 0.26713377-0.00812305j]\n"
     ]
    }
   ],
   "source": [
    "print('YJM_ansazte per layer (must be stricly diagonal):   {}'.format(jnp.diag(YJM_ansazte)))"
   ]
  },
  {
   "cell_type": "code",
   "execution_count": 41,
   "id": "ca29963f",
   "metadata": {},
   "outputs": [],
   "source": [
    "'''\n",
    "Compute the time evolution oeperator exp(-it H)\n",
    "'''\n",
    "# Hparams = Params[1]\n",
    "Hparams_p1 = Hparams.at[int(0)].get()\n",
    "\n",
    "Heisenberg = CsnFourier.Ham_rep()\n",
    "Evolution_conv = CsnFourier.Heis_Conv2d(Hparams_p1, Heisenberg)"
   ]
  },
  {
   "cell_type": "markdown",
   "id": "c9a8ac91",
   "metadata": {},
   "source": [
    "### Step 2: Build the QAOA ansatze: $U(\\vec{\\theta}) = exp(-iH_M) exp(-iH) \\cdots exp(-iH_M) exp(-iH)$ with random parameters in Sn irrep with partition $\\lambda=[4,4]$"
   ]
  },
  {
   "cell_type": "code",
   "execution_count": 42,
   "id": "5f55d4ed",
   "metadata": {},
   "outputs": [],
   "source": [
    "'''\n",
    "In this class we have initilized p =3 So we can compute the entire ansatze by calling the following \n",
    "'''\n",
    "CSnQAOA = CsnFourier.CSn_Ansazte(YJMparams, Hparams)"
   ]
  },
  {
   "cell_type": "code",
   "execution_count": null,
   "id": "e68182a2",
   "metadata": {},
   "outputs": [],
   "source": [
    "print('Dims of CSnQAOA Ansatze {}'.format(CSnQAOA.shape))"
   ]
  },
  {
   "cell_type": "code",
   "execution_count": null,
   "id": "3d72196e",
   "metadata": {},
   "outputs": [],
   "source": []
  },
  {
   "cell_type": "markdown",
   "id": "ff25b365",
   "metadata": {},
   "source": [
    "### Step 3: Sample (randomly) basis vectors and compute triial wavefunction: $| \\Psi(\\vec{\\theta}) \\rangle = \\sum_i U(\\vec{\\theta}) | v_{T_i}\\rangle$"
   ]
  },
  {
   "cell_type": "code",
   "execution_count": null,
   "id": "87777625",
   "metadata": {},
   "outputs": [],
   "source": [
    "'''\n",
    "We randomly sample basis states; \n",
    "later we might add more sophisticated method such as gradient based sampling\n",
    "'''\n",
    "\n",
    "trial_state = CsnFourier.CSn_VStates(YJMparams, Hparams)\n"
   ]
  },
  {
   "cell_type": "code",
   "execution_count": null,
   "id": "ec34989d",
   "metadata": {},
   "outputs": [],
   "source": [
    "'''\n",
    "Note that our state is strictly real-valued since we DO NOT add complex number \n",
    "'''\n",
    "print(trial_state)\n",
    "print('---------------')\n",
    "print('norm of the trial state: {}'.format(jnp.linalg.norm(trial_state)))"
   ]
  },
  {
   "cell_type": "code",
   "execution_count": null,
   "id": "c5051ea2",
   "metadata": {},
   "outputs": [],
   "source": [
    "'''\n",
    "let's see the expectation value for this randomly chosen trial state \n",
    "'''\n",
    "Heisenberg = jnp.asarray(Heisenberg, dtype ='complex128')\n",
    "T_gs = jnp.matmul(jnp.matmul(jnp.conjugate(trial_state), Heisenberg), trial_state)\n",
    "print('Trial state expectation value: {}'.format(jnp.linalg.norm(T_gs)))\n"
   ]
  },
  {
   "cell_type": "markdown",
   "id": "2b0247e4",
   "metadata": {},
   "source": [
    "### Step 4:  Optimize wrt. $\\vec{\\theta}$ using either (1) SGD (2) Natural gradient (SR) (still Working on )"
   ]
  },
  {
   "cell_type": "markdown",
   "id": "2add117c",
   "metadata": {},
   "source": [
    "#### Using Gradient Descent with momentum "
   ]
  },
  {
   "cell_type": "code",
   "execution_count": null,
   "id": "0a6a854b",
   "metadata": {},
   "outputs": [],
   "source": [
    "'''\n",
    "Energy minialization functional \n",
    "'''\n",
    "# rep_H = self.Ham_rep()\n",
    "# rep_H = jnp.asarray(rep_H.astype('complex128'))\n",
    "# def Expect_braket(Params, rep_H):\n",
    "#     groundstate = self.CSn_VStates(Params)\n",
    "#     return jnp.matmul(jnp.conjugate(groundstate), jnp.matmul(rep_H, groundstate)) / jnp.linalg.norm(groundstate)\n",
    "\n",
    "# def vgrad(f, x):\n",
    "#   y, vjp_fn = vjp(f, x)\n",
    "#   return vjp_fn(jnp.ones(y.shape))[int(0)]\n",
    "\n",
    "# print(vgrad(lambda x: jnp.exp(jnp.multiply(jnp.asarray(1j), x)), jnp.ones((int(2), int(2)))))\n"
   ]
  },
  {
   "cell_type": "code",
   "execution_count": null,
   "id": "15c4c9a4",
   "metadata": {},
   "outputs": [],
   "source": [
    "# trial_GS = CsnFourier.Groundstate()\n",
    "YJMparams, Hparams = CsnFourier.SGD_momentum()\n",
    "\n"
   ]
  },
  {
   "cell_type": "code",
   "execution_count": null,
   "id": "e6e0fd50",
   "metadata": {},
   "outputs": [],
   "source": [
    "Heisenberg = CsnFourier.Ham_rep()\n",
    "Heisenberg = jnp.asarray(Heisenberg, dtype ='complex128')\n",
    "O_gs = jnp.matmul(jnp.matmul(jnp.conjugate(trial_GS), Heisenberg), trial_GS)\n",
    "print('the optimized ground state: {}'.format(trial_GS))\n",
    "print('------------------------------------')\n",
    "print('Optimized lowest energy: {}'.format(jnp.linalg.norm(O_gs)))"
   ]
  },
  {
   "cell_type": "code",
   "execution_count": null,
   "id": "bafb8814",
   "metadata": {},
   "outputs": [],
   "source": [
    "optimized_energy = CsnFourier.Expect_braket(YJMparams, Hparams)\n",
    "\n"
   ]
  },
  {
   "cell_type": "code",
   "execution_count": null,
   "id": "014102ff",
   "metadata": {},
   "outputs": [],
   "source": [
    "print('Optimized lowest energy: {}'.format(optimized_energy))"
   ]
  },
  {
   "cell_type": "code",
   "execution_count": null,
   "id": "cc14616e",
   "metadata": {},
   "outputs": [],
   "source": []
  },
  {
   "cell_type": "code",
   "execution_count": null,
   "id": "5ee16871",
   "metadata": {},
   "outputs": [],
   "source": []
  },
  {
   "cell_type": "code",
   "execution_count": null,
   "id": "e9e47117",
   "metadata": {},
   "outputs": [],
   "source": []
  },
  {
   "cell_type": "code",
   "execution_count": null,
   "id": "822ed304",
   "metadata": {},
   "outputs": [],
   "source": []
  },
  {
   "cell_type": "code",
   "execution_count": null,
   "id": "c9aebe00",
   "metadata": {},
   "outputs": [],
   "source": []
  },
  {
   "cell_type": "code",
   "execution_count": null,
   "id": "5e446dcc",
   "metadata": {},
   "outputs": [],
   "source": []
  },
  {
   "cell_type": "code",
   "execution_count": null,
   "id": "bc38a159",
   "metadata": {},
   "outputs": [],
   "source": []
  },
  {
   "cell_type": "code",
   "execution_count": null,
   "id": "d6c5215e",
   "metadata": {},
   "outputs": [],
   "source": []
  },
  {
   "cell_type": "code",
   "execution_count": null,
   "id": "91a8079c",
   "metadata": {},
   "outputs": [],
   "source": []
  },
  {
   "cell_type": "code",
   "execution_count": null,
   "id": "065cec0f",
   "metadata": {},
   "outputs": [],
   "source": []
  },
  {
   "cell_type": "markdown",
   "id": "49aed93b",
   "metadata": {},
   "source": [
    "### Step 5: Compare with the GS energy, signs, and spin correlation and with the NQS methods"
   ]
  },
  {
   "cell_type": "code",
   "execution_count": null,
   "id": "ad5a5afe",
   "metadata": {},
   "outputs": [],
   "source": [
    "'''\n",
    "Initialize the random parameters drawing from the normal distribution \n",
    "'''\n",
    "# Params = CsnFourier.random_params2()\n",
    "# YJMparams = Params[0]\n",
    "# Hparams = Params[1]\n",
    "# trial_states  = CsnFourier.CSn_VStates(YJMparams, Hparams)\n"
   ]
  },
  {
   "cell_type": "code",
   "execution_count": null,
   "id": "eb7b27cc",
   "metadata": {},
   "outputs": [],
   "source": [
    "# print(jnp.linalg.norm(trial_states))\n",
    "\n",
    "# print(np.array([0,1,1,2]).astype('float64'))\n",
    "# print(np.array([0,1,2,3]).astype('complex128'))"
   ]
  },
  {
   "cell_type": "code",
   "execution_count": null,
   "id": "839e8487",
   "metadata": {},
   "outputs": [],
   "source": [
    "# best_params = CsnFourier.SGD_momentum()"
   ]
  },
  {
   "cell_type": "code",
   "execution_count": null,
   "id": "9186adf4",
   "metadata": {},
   "outputs": [],
   "source": [
    "# X24_rep = CsnFilters.get_YJMs(1,2)\n",
    "# # from sympy.combinatorics import Permutation\n",
    "# # from sympy.interactive import init_printing\n",
    "\n",
    "# # p = [5,6]\n",
    "# # q = [4,5]\n",
    "# # p =Permutation([[4,5]]) * Permutation([[5,6]])\n",
    "# # print(p.array_form)s\n",
    "\n",
    "# # S = SymmetricGroup(4)\n",
    "# # p = S('(2,4)')\n",
    "# # q = S('(3,4)')\n",
    "# # print(set(p * q))\n",
    "\n",
    "# print(X24_rep)\n",
    "# # print(X24)\n",
    "# X24rep = jnp.asarray(X24_rep, dtype='float64')\n",
    "# print(X24rep.at[int(1),int(3)].get())\n",
    "\n"
   ]
  },
  {
   "cell_type": "code",
   "execution_count": null,
   "id": "cd05c5f1",
   "metadata": {},
   "outputs": [],
   "source": [
    "# orth = SymmetricGroupRepresentation([3,3],'orthogonal')\n",
    "# S = SymmetricGroup(6)\n",
    "# p = S('(1,2)(3,4)')\n",
    "# S1 = np.array(orth.representation_matrix((1,4,2)))\n",
    "# S2 = np.array(orth.representation_matrix((1,2, 4)))\n",
    "# S3 = np.array(orth.representation_matrix(p))\n",
    "\n",
    "# print(np.add(np.add(S1,S2), S3))\n"
   ]
  },
  {
   "cell_type": "code",
   "execution_count": null,
   "id": "2fc97a3b",
   "metadata": {},
   "outputs": [],
   "source": [
    "# def random_params(n, key, scale= float( 1e-2)):\n",
    "#   w_key, b_key = random.split(key)\n",
    "#   return jnp.multiply(scale, random.normal(w_key, (n, n))), jnp.multiply( scale,  random.normal(b_key))\n",
    "# YJMparams, Hparams = random_params(CsnFilters.Nsites, random.PRNGKey(0))\n",
    "# # jnp.iscomplex(YJMparams)\n",
    "# # print(YJMparams)\n",
    "# YJM_conv = CsnFilters.YJM_Conv2d(YJMparams)\n",
    "# print(YJM_conv.shape)"
   ]
  },
  {
   "cell_type": "code",
   "execution_count": null,
   "id": "088710b3",
   "metadata": {},
   "outputs": [],
   "source": [
    "# print(jnp.linalg.norm(YJM_conv, ord='fro'))\n",
    "# print(jnp.diag(YJM_conv))"
   ]
  },
  {
   "cell_type": "code",
   "execution_count": null,
   "id": "77b21f39",
   "metadata": {},
   "outputs": [],
   "source": [
    "# rep_H = CsnFilters.Ham_rep()\n",
    "# Hesi_conv = CsnFilters.Heis_Conv2d(Hparams, rep_H)\n",
    "# print(jnp.linalg.norm(Hesi_conv, ord='fro'))\n"
   ]
  },
  {
   "cell_type": "code",
   "execution_count": null,
   "id": "84015f1e",
   "metadata": {},
   "outputs": [],
   "source": [
    "def random_params(n, p, scale= float( 1e-2)):\n",
    "    YJMparams = jnp.zeros((n,n,p))\n",
    "    Hparams = jnp.zeros((p))\n",
    "    for i in range(p):\n",
    "        w_key, b_key = random.split(random.PRNGKey(int(i)))\n",
    "        YJMparams = YJMparams.at[:,:,i].set( jnp.multiply( scale, random.normal(w_key, (n,n))))\n",
    "        Hparams = Hparams.at[i].set(jnp.multiply(scale, random.normal(b_key)))\n",
    "    return [YJMparams, Hparams]\n",
    "    \n",
    "Parameters= random_params(CsnFilters.Nsites, 3)\n"
   ]
  },
  {
   "cell_type": "code",
   "execution_count": null,
   "id": "b6a34a5a",
   "metadata": {},
   "outputs": [],
   "source": []
  },
  {
   "cell_type": "code",
   "execution_count": null,
   "id": "83dcad3d",
   "metadata": {},
   "outputs": [],
   "source": [
    "groundstate = CsnFilters.CSn_VStates(10, Parameters[0], Parameters[1])"
   ]
  },
  {
   "cell_type": "code",
   "execution_count": null,
   "id": "e57224a0",
   "metadata": {},
   "outputs": [],
   "source": [
    "print(jnp.linalg.norm(groundstate))\n",
    "print(groundstate)"
   ]
  },
  {
   "cell_type": "code",
   "execution_count": null,
   "id": "8305f07a",
   "metadata": {},
   "outputs": [],
   "source": [
    "def J(rep_H, YJMparams, Hparams, num_samples= 10):\n",
    "    groundstate = CsnFilters.CSn_VStates(num_samples, YJMparams, Hparams)\n",
    "    return jnp.matmul(jnp.conjugate(groundstate), jnp.matmul(rep_H, groundstate))"
   ]
  },
  {
   "cell_type": "code",
   "execution_count": null,
   "id": "be5f17b4",
   "metadata": {},
   "outputs": [],
   "source": [
    "rep_H = CsnFilters.Ham_rep()\n",
    "rep_H = jnp.asarray(rep_H.astype('float64'))\n",
    "expectation = J(rep_H, Parameters[0], Parameters[1])"
   ]
  },
  {
   "cell_type": "code",
   "execution_count": null,
   "id": "480258bb",
   "metadata": {},
   "outputs": [],
   "source": [
    "print(expectation)"
   ]
  },
  {
   "cell_type": "markdown",
   "id": "1cc1b69a",
   "metadata": {},
   "source": [
    "## Sampling and Optimization "
   ]
  },
  {
   "cell_type": "markdown",
   "id": "4f7d3e58",
   "metadata": {},
   "source": [
    "#### Sampling via the unjusted Langevin Algorithm \n",
    "\n",
    "$\\theta_{n+1}=\\theta_{n}+d t \\nabla \\log \\pi\\left(\\theta_{n}\\right)+\\sqrt{2 d t} \\xi$\n",
    "            \n",
    "            \n",
    "            \n",
    "            "
   ]
  },
  {
   "cell_type": "code",
   "execution_count": null,
   "id": "48c92ba0",
   "metadata": {},
   "outputs": [],
   "source": [
    "import jax\n",
    "import logging\n",
    "logging.basicConfig(level=logging.INFO)\n",
    "logger = logging.getLogger('JAX SGD')\n",
    "\n",
    "\n",
    "class SGD(FourierFilters):\n",
    "    '''\n",
    "    Standard SGD method implemented using JAX autodifferentiation megthd\n",
    "\n",
    "    Unsurpervised method for the minilization of the GS energy for each Sn irrep\n",
    "\n",
    "    Wirtten in the language environment SAGE9.2, supported SageMath environment\n",
    "\n",
    "    '''\n",
    "\n",
    "    def __init__(self, lr = float(0.05), max_iter = int(1e3), gamma = float(0.95)):\n",
    "        FourierFilters.__init__(self,J=None, lattice=None, Nsites=None, partit=None, p=1)\n",
    "        self.lr = lr\n",
    "        self.max_iter = max_iter\n",
    "        self.gamma = gamma \n",
    "\n",
    "    \n",
    "\n",
    "    def SGD_momentum(self,rep_H, J, Params):\n",
    "\n",
    "        \"\"\"Performs linear regression using batch gradient descent + momentum\n",
    "\n",
    "        Args:\n",
    "            J: cost function with single Params = [YJMparams, Hparams]\n",
    "            gamma: Decay parameter for vecloity sum\n",
    "\n",
    "        Returns:\n",
    "            params: the weights and bias after performing the optimization\n",
    "        \"\"\"\n",
    "\n",
    "        # Some configurations\n",
    "        LOG = False\n",
    "\n",
    "\n",
    "        YJMparams = Params[0]\n",
    "        Hparams = Params[1]\n",
    "\n",
    "        # To keep track of velocity parameters\n",
    "        params_v = {\n",
    "            'YJM': jnp.zeros(Params[0].shape),\n",
    "            'H': jnp.zeros(Params[1].shape)\n",
    "        }\n",
    "\n",
    "        # Define the gradient function w.r.t w and b\n",
    "        grad_YJM = jax.jit(jax.grad(J,argnums=int(1)))  # argnums indicates which variable to differentiate with from the parameters list passed to the function\n",
    "        grad_H = jax.jit(jax.grad(J, argnums=int(2)))\n",
    "\n",
    "        # Run once to compile JIT (Just In Time). The next uses of grad_W and grad_B will now be fast\n",
    "        grad_YJM(rep_H, YJMparams, Hparams)\n",
    "        grad_H(rep_H, YJMparams, Hparams)\n",
    "\n",
    "        for i in range(self.max_iter):\n",
    "            # Gradient w.r.t. argumnet index 1 i.e., w\n",
    "            grad_yjm = grad_YJM(rep_H, YJMparams, Hparams)\n",
    "            # Gradient w.r.t. argumnet index 2 i.e., b\n",
    "            grad_h = grad_H(rep_H, JMparams, Hparams)\n",
    "\n",
    "            # Update velocity\n",
    "            params_v['YJM'] = jnp.add( jnp.multiply(self.gamma,  params_v['YJM']) , grad_yjm)\n",
    "            params_v['H'] = jnp.add( jnp.multiply(self.gamma, params_v['H'] ), grad_h)\n",
    "\n",
    "            # Parameter update\n",
    "            YJMparams -= jnp.multiply(self.lr, params_v['wv'])\n",
    "            Hparams -= jnp.multiply(self.lr , params_v['bv'])\n",
    "\n",
    "            if LOG and i % int(20) == int(0):\n",
    "                print(J( YJMparams, Hparams))\n",
    "\n",
    "        return [YJMparams, Hparams]\n",
    "\n",
    "    # X, X_test, y, y_test, coef = get_data()\n",
    "    # params = momentum(J, X, y)\n",
    "    #\n",
    "    # print(\"True weights =\", coef)\n",
    "    # print(\"Calculated weights =\", params['w'])\n",
    "    # print(\"True bias = 2.0\\tCalculated bias = {:.6f}\".format(params['b']))\n",
    "    # print(\"Test loss: {:.9f}\".format(J(X_test, params['w'], params['b'], y_test)))\n",
    "\n",
    "    \n",
    "    "
   ]
  },
  {
   "cell_type": "code",
   "execution_count": null,
   "id": "a5f8e557",
   "metadata": {},
   "outputs": [],
   "source": [
    "mSCG = SGD()\n",
    "best_params = mSCG.SGD_momentum(J, rep_H, Parameters)"
   ]
  },
  {
   "cell_type": "code",
   "execution_count": null,
   "id": "b0abca09",
   "metadata": {},
   "outputs": [],
   "source": []
  }
 ],
 "metadata": {
  "celltoolbar": "原始单元格格式",
  "kernelspec": {
   "display_name": "SageMath 9.2",
   "language": "sage",
   "name": "sagemath"
  },
  "language_info": {
   "codemirror_mode": {
    "name": "ipython",
    "version": 3
   },
   "file_extension": ".py",
   "mimetype": "text/x-python",
   "name": "python",
   "nbconvert_exporter": "python",
   "pygments_lexer": "ipython3",
   "version": "3.9.6"
  }
 },
 "nbformat": 4,
 "nbformat_minor": 5
}
