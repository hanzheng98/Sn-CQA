{
 "cells": [
  {
   "cell_type": "code",
   "execution_count": 2,
   "id": "aa5155c8",
   "metadata": {},
   "outputs": [],
   "source": [
    "import numpy as np \n",
    "import matplotlib as pt"
   ]
  },
  {
   "cell_type": "code",
   "execution_count": 21,
   "id": "0a87f873",
   "metadata": {},
   "outputs": [],
   "source": [
    "orth = SymmetricGroupRepresentation([3,3],'orthogonal');\n"
   ]
  },
  {
   "cell_type": "code",
   "execution_count": 8,
   "id": "1fa2a637",
   "metadata": {},
   "outputs": [
    {
     "name": "stdout",
     "output_type": "stream",
     "text": [
      "[[1 0 0 0 0]\n",
      " [0 1 0 0 0]\n",
      " [0 0 -1 0 0]\n",
      " [0 0 0 1 0]\n",
      " [0 0 0 0 -1]]\n",
      "----\n",
      "[[1 0 0 0 0]\n",
      " [0 -1/2 1/2*sqrt(3) 0 0]\n",
      " [0 1/2*sqrt(3) 1/2 0 0]\n",
      " [0 0 0 -1/2 1/2*sqrt(3)]\n",
      " [0 0 0 1/2*sqrt(3) 1/2]]\n",
      "----\n",
      "[[-1/3 -1/3*sqrt(2) -1/3*sqrt(3)*sqrt(2) 0 0]\n",
      " [-1/3*sqrt(2) 5/6 -1/6*sqrt(3) 0 0]\n",
      " [-1/3*sqrt(3)*sqrt(2) -1/6*sqrt(3) 1/2 0 0]\n",
      " [0 0 0 -1/2 1/2*sqrt(3)]\n",
      " [0 0 0 1/2*sqrt(3) 1/2]]\n",
      "----\n"
     ]
    }
   ],
   "source": [
    "S12 = np.array(orth.representation_matrix((1,2)))\n",
    "print(S12)\n",
    "print('----')\n",
    "S23 = np.array(orth.representation_matrix((2,3)))\n",
    "print(S23)\n",
    "print('----')\n",
    "S14 = np.array(orth.representation_matrix((1,4)))\n",
    "print(S14)\n",
    "print('----')\n",
    "\n",
    "\n"
   ]
  },
  {
   "cell_type": "code",
   "execution_count": 4,
   "id": "3200ce46",
   "metadata": {},
   "outputs": [
    {
     "name": "stdout",
     "output_type": "stream",
     "text": [
      "{'J1': [(1, 2), (2, 3), (1, 4), (3, 4)], 'J2': [(1, 3), (2, 4)]}\n",
      "['J1', 'J2']\n"
     ]
    }
   ],
   "source": [
    "# S12 = np.array(orth.representation_matrix((1,2)))\n",
    "# print(S12)\n",
    "# print('----')\n",
    "# S23 = np.array(orth.representation_matrix((2,3)))\n",
    "# print(S23)\n",
    "# print('----')\n",
    "# S14 = np.array(orth.representation_matrix((1,4)))\n",
    "# print(S23)\n",
    "# print('----')\n",
    "\n",
    "Hamiltonian = dict()\n",
    "Hamiltonian['J1'] = [(1,2), (2,3), (1,4), (3,4)]\n",
    "Hamiltonian['J2'] = [(1,3), (2,4)]\n",
    "print(Hamiltonian)\n",
    "print(list(Hamiltonian.keys()))\n"
   ]
  },
  {
   "cell_type": "code",
   "execution_count": 5,
   "id": "c30e624d",
   "metadata": {},
   "outputs": [
    {
     "name": "stdout",
     "output_type": "stream",
     "text": [
      "[[-2. -0. -0. -0. -0.]\n",
      " [-0. -2. -0. -0. -0.]\n",
      " [-0. -0. -2. -0. -0.]\n",
      " [-0. -0. -0. -2. -0.]\n",
      " [-0. -0. -0. -0. -2.]]\n"
     ]
    }
   ],
   "source": [
    "rep_mat = np.multiply(-2, np.diag(np.ones(5)))\n",
    "print(rep_mat)"
   ]
  },
  {
   "cell_type": "code",
   "execution_count": 27,
   "id": "80a91729",
   "metadata": {},
   "outputs": [
    {
     "name": "stdout",
     "output_type": "stream",
     "text": [
      "[[-0.2500000000000002 0.5*sqrt(2) 0 0 0.5*sqrt(2)]\n",
      " [0.5*sqrt(2) -1.2499999999999998 0.25*sqrt(3) 0.25*sqrt(3) -0.5]\n",
      " [0 0.25*sqrt(3) -0.75 -0.5 0.25*sqrt(3)]\n",
      " [0 0.25*sqrt(3) -0.5 -0.75 0.25*sqrt(3)]\n",
      " [0.5*sqrt(2) -0.5 0.25*sqrt(3) 0.25*sqrt(3) -2.25]]\n",
      "[[-1.4166666666666667 0.33333333333333337*sqrt(2)\n",
      "  0.16666666666666666*sqrt(3)*sqrt(2) 0.16666666666666666*sqrt(3)*sqrt(2)\n",
      "  0]\n",
      " [0.33333333333333337*sqrt(2) -2.583333333333333\n",
      "  0.08333333333333334*sqrt(3) 0.08333333333333334*sqrt(3) 0.0]\n",
      " [0.16666666666666666*sqrt(3)*sqrt(2) 0.08333333333333334*sqrt(3) -1.75\n",
      "  0.0 -0.25*sqrt(3)]\n",
      " [0.16666666666666666*sqrt(3)*sqrt(2) 0.08333333333333334*sqrt(3) 0.0\n",
      "  -1.75 -0.25*sqrt(3)]\n",
      " [0 0.0 -0.25*sqrt(3) -0.25*sqrt(3) -2.25]]\n"
     ]
    }
   ],
   "source": [
    "def rep_matrix(st, partit): \n",
    "    orth =SymmetricGroupRepresentation(partit,'orthogonal');\n",
    "    mat = np.array(orth.representation_matrix(st))\n",
    "    return mat \n",
    "          \n",
    "\n",
    "def Ham_rep(H, J, partit): \n",
    "    ls = list(H.keys())\n",
    "    orth = SymmetricGroupRepresentation(partit,'orthogonal');\n",
    "    dim = len(np.array(orth.representation_matrix((1,2))))\n",
    "\n",
    "#     print(ls)\n",
    "    rep_mat0 = np.multiply(-3.5, np.diag(np.ones(dim)))\n",
    "    for st in H[ls[0]]:\n",
    "#         print(H[ls[0]])\n",
    "#         print(st)\n",
    "        rep_st = rep_matrix(st, partit)\n",
    "#         print(rep_st)\n",
    "        rep_mat0 = rep_mat0 + rep_st\n",
    "    rep_mat0 = np.multiply(J[0] , rep_mat0)\n",
    "    print(rep_mat0) \n",
    "    if float(J[1]) ==float(0):\n",
    "        return rep_mat0\n",
    "    else:\n",
    "        rep_mat1 = np.multiply(-3.0, np.diag(np.ones(dim)))\n",
    "        for st in H[ls[1]]:\n",
    "            rep_st = rep_matrix(st, partit)\n",
    "    #         print(rep_st)\n",
    "            rep_mat1 = rep_mat1 + rep_st\n",
    "        rep_mat1 = np.multiply(J[1], rep_mat1)\n",
    "        rep_mat_H = np.add(rep_mat0, rep_mat1)\n",
    "        return rep_mat_H\n",
    "\n",
    "\n",
    "\n",
    "\n",
    "Hamiltonian = dict()\n",
    "# Hamiltonian['J1'] = [(1,3), (2,3), (2,4), (1,4)]\n",
    "# Hamiltonian['J1'] = [(1,2), (2,3), (3,4), (1,4)]\n",
    "# Hamiltonian['J2'] = [(1,3), (2,4)]\n",
    "# print(Hamiltonian)\n",
    "# print(list(Hamiltonian.keys()))\n",
    "\n",
    "Hamiltonian['J1'] = [(1,6), (1,2), (2,3), (2,5), (3,4),(5,6), (4,5)]\n",
    "Hamiltonian['J2'] = [(1,5), (2,6), (2,4), (3,5),(1,3), (4,6)]\n",
    "\n",
    "# ID Chain model \n",
    "\n",
    "# Hamiltonian['J1'] = [(1,2), (2,3), (3,4), (4,5), (5,6), (6,7), (7,8),(8,1)]\n",
    "\n",
    "\n",
    "ham_J0 =Ham_rep(Hamiltonian, [0.5, 0.5],[3,3])\n",
    "print(ham_J0)\n",
    "    \n",
    "    "
   ]
  },
  {
   "cell_type": "code",
   "execution_count": 28,
   "id": "b755e8e5",
   "metadata": {},
   "outputs": [
    {
     "name": "stdout",
     "output_type": "stream",
     "text": [
      "[-0.75 -1.75 -2.75 -2.75 -1.75]\n",
      "----\n",
      "[[-0.70710678 -0.57735027 -0.40824829 -0.12151966 -0.05919242]\n",
      " [-0.25       -0.20412415  0.72168784  0.799433   -0.02092768]\n",
      " [-0.4330127   0.35355339  0.25       -0.26311209  0.73962849]\n",
      " [-0.4330127   0.35355339  0.25       -0.26311209 -0.66713288]\n",
      " [ 0.25       -0.61237244  0.4330127  -0.45572351 -0.06278304]]\n",
      "---min---\n",
      "-2.7500000000000004\n"
     ]
    }
   ],
   "source": [
    "from numpy.linalg import eig\n",
    "v,w = eig(ham_J0.astype('float64'))\n",
    "print(v)\n",
    "print('----')\n",
    "print(w)\n",
    "print('---min---')\n",
    "print(min(v))"
   ]
  },
  {
   "cell_type": "code",
   "execution_count": 33,
   "id": "212704a4",
   "metadata": {},
   "outputs": [
    {
     "name": "stdout",
     "output_type": "stream",
     "text": [
      "sorted S=0 irrep eigenvalue [-3.3873909174452073, -2.777389333701305, -2.0006004295974833, -2.0006004295974815, -1.8741793276237206, -1.8741793276237195, -1.538942424614418, -1.538942424614412, -1.4949134260396273, -1.494913426039621, -1.3402074887360902, -1.229463841147074, -0.7834087141245156, -0.7834087141245107, -0.7682047892231447, -0.7682047892231444, -0.7675990794044536, -0.7675990794044519, -0.759660612274257, -0.7596606122742562, -0.5611643596126704, -0.56116435961267, -0.40183822587034457, -0.35205031765103356, -0.20365300993557017, -0.07767465698669612, -0.07767465698669422, -0.03646144299697085, -0.03646144299697075, -0.03168146955555465, -0.031681469555554106, -0.012833098445455283, -0.012833098445454402, 0.0006356964985979478, 0.0006356964985988492, 0.14298391178758832, 0.1429839117875886, 0.3860700516705572, 0.3893240045359709, 0.3893240045359711, 0.4999999999999991, 0.5000000000000002, 0.5150210681186311, 0.515021068118634, 0.5329336500328422, 0.627401613381543, 0.6274016133815461, 0.6954602723714846, 0.6954602723714866, 0.7168967036771544, 0.716896703677158, 0.7192235935955855, 0.7192235935955867, 0.7206263225629815, 0.7206263225629821, 0.8515249332217303, 0.8515249332217315, 0.8748199664415005, 0.8748199664415024, 1.1184473662119374, 1.1184473662119414, 1.1449827338279286, 1.1449827338279328, 1.1811173899422984, 1.1811173899423, 1.2113060427502704, 1.2268486143612856, 1.3502618107528106, 1.3935020918197933, 1.3935020918197938, 1.4055368824381194, 1.4055368824381205, 1.4457794114635614, 1.4457794114635627, 1.5566489279450892, 1.5566489279450941, 1.6833925204960405, 1.683392520496043, 1.7485719093776726, 1.7485719093776808, 1.803582625813002, 1.8035826258130052, 1.8339881325284095, 1.8339881325284109, 1.852534241159413, 1.871342016703611, 1.8713420167036214, 2.000000000000005, 2.000000000000011, 2.033340597941274, 2.0333405979412755, 2.0886573279117684, 2.0886573279117773, 2.121064684511476, 2.1210646845114955, 2.240572347099958, 2.2405723470999597, 2.288840114572795, 2.288840114572795, 2.376737366309828, 2.4465734577354583, 2.4465734577354605, 2.5383154182901992, 2.538315418290202, 2.5557062494174017, 2.632517166890813, 2.704584895609147, 2.7045848956091514, 2.7807764064044163, 2.7807764064044376, 2.8253639887007105, 2.825363988700715, 2.9233465484799854, 2.9233465484799894, 3.0067208875341227, 3.0067208875341236, 3.10999908054466, 3.1099990805446684, 3.195696643078713, 3.1956966430787332, 3.4393289875279707, 3.613031534829061, 3.626032058622139, 3.626032058622169, 3.6613839538864723, 3.661383953886477, 3.888144069461631, 3.965979240688876, 3.96597924068888, 4.2092660841265355, 4.209266084126549, 4.626573349322759]\n",
      "-------\n",
      "min eigenvalue for irrep S = 0: -3.3873909174452073\n",
      "-------\n",
      "min eigenvalue for irrep S = 1: -3.0315434037424436\n",
      "-------\n",
      "min eigenvalue for irrep S = 2: (-2.070529325963525+0j)\n",
      "-------\n",
      "min eigenvalue for irrep S = 3: -0.651739915472869\n",
      "-------\n",
      "min eigenvalue for irrep S = 4: 1.0810140527710006\n",
      "-------\n",
      "min eigenvalue for irrep S = 5: 3.000000000000001\n",
      "-------\n",
      "min eigenvalue for irrep S = 6: 5.0\n"
     ]
    }
   ],
   "source": [
    "dims = [0, 1, 2, 3, 4, 5, 6]\n",
    "Hamiltonian['J1'] = [(1,2), (2,3), (3,4), (4,5), (5,6), (6,7), (7,8),(8,9), (9, 10), (10, 11), (11, 12), (12, 1)]\n",
    "for i in range(len(dims)):\n",
    "    ham_J0 =Ham_rep(Hamiltonian, [0.5, 0], [len(dims) -1 + i,len(dims)-1 - i])\n",
    "    v,w = eig(ham_J0.astype('float64'))\n",
    "    if i ==0: \n",
    "        print('sorted S=0 irrep eigenvalue {}'.format(sorted(v)))\n",
    "    print('-------')\n",
    "    \n",
    "    print('min eigenvalue for irrep S = {}: {}'.format(i, min(v)))"
   ]
  },
  {
   "cell_type": "markdown",
   "id": "05b81612",
   "metadata": {},
   "source": [
    "## Compute Symmetric Group Action"
   ]
  },
  {
   "cell_type": "code",
   "execution_count": 44,
   "id": "bd45d9d6",
   "metadata": {},
   "outputs": [],
   "source": [
    "from sage.combinat.permutation import Permutations_mset\n",
    "from sage.combinat.symmetric_group_algebra import e_hat\n",
    "mset = [0,0,0,0,1,1,1,1]\n",
    "Mu = Permutations_mset(mset)\n",
    "Y = e_hat([[1,2], [3,4]])\n",
    "S4 = SymmetricGroupAlgebra(CC,4)\n",
    "Y = S4(Y)\n",
    "H = S4([1,2,3,4])\n",
    "\n"
   ]
  },
  {
   "cell_type": "code",
   "execution_count": 10,
   "id": "e3f0e14a",
   "metadata": {},
   "outputs": [
    {
     "name": "stdout",
     "output_type": "stream",
     "text": [
      "[ 2 12  0  6  0]\n",
      "[ 0  0  2  3 15]\n",
      "[ 3  6  9  2  0]\n",
      "[ 9  2  9  0  0]\n",
      "[ 6  0  0  9  5]\n"
     ]
    }
   ],
   "source": [
    "from sage.combinat.permutation import bistochastic_as_sum_of_permutations\n",
    "L = []\n",
    "L.append((9,Permutation([4, 1, 3, 5, 2])))\n",
    "L.append((6,Permutation([5, 3, 4, 1, 2])))\n",
    "L.append((3,Permutation([3, 1, 4, 2, 5])))\n",
    "L.append((2,Permutation([1, 4, 2, 3, 5])))\n",
    "M = sum([c * p.to_matrix() for (c,p) in L])\n",
    "print(M)"
   ]
  },
  {
   "cell_type": "code",
   "execution_count": 11,
   "id": "20ba933a",
   "metadata": {},
   "outputs": [
    {
     "name": "stdout",
     "output_type": "stream",
     "text": [
      "1.00000000000000*[2, 1, 3]\n"
     ]
    }
   ],
   "source": [
    "CS3 = SymmetricGroupAlgebra(CC, 3)\n",
    "X1 = CS3.jucys_murphy(2)\n",
    "print(X1)"
   ]
  },
  {
   "cell_type": "code",
   "execution_count": 12,
   "id": "c57328e9",
   "metadata": {},
   "outputs": [
    {
     "name": "stdout",
     "output_type": "stream",
     "text": [
      "[0.166666666666667*[1, 2, 3] + 0.166666666666667*[1, 3, 2] + 0.166666666666667*[2, 1, 3] + 0.166666666666667*[2, 3, 1] + 0.166666666666667*[3, 1, 2] + 0.166666666666667*[3, 2, 1], 0.666666666666667*[1, 2, 3] - 0.333333333333333*[2, 3, 1] - 0.333333333333333*[3, 1, 2], 0.166666666666667*[1, 2, 3] - 0.166666666666667*[1, 3, 2] - 0.166666666666667*[2, 1, 3] + 0.166666666666667*[2, 3, 1] + 0.166666666666667*[3, 1, 2] - 0.166666666666667*[3, 2, 1]]\n"
     ]
    }
   ],
   "source": [
    "a = CS3.central_orthogonal_idempotents()\n",
    "print(a)"
   ]
  },
  {
   "cell_type": "code",
   "execution_count": null,
   "id": "126fe899",
   "metadata": {},
   "outputs": [],
   "source": []
  },
  {
   "cell_type": "markdown",
   "id": "518cabc8",
   "metadata": {},
   "source": [
    "## State Initialization \n"
   ]
  },
  {
   "cell_type": "code",
   "execution_count": 3,
   "id": "7f734190",
   "metadata": {},
   "outputs": [
    {
     "data": {
      "text/plain": [
       "1"
      ]
     },
     "execution_count": 3,
     "metadata": {},
     "output_type": "execute_result"
    }
   ],
   "source": [
    "from sympy.physics.quantum.spin import JzKetCoupled,JzBraCoupled\n",
    "from sympy import symbols\n",
    "from sympy.physics.quantum.represent import represent \n",
    "from sympy.physics.quantum.represent import TensorProduct \n",
    "from sympy.physics.quantum.innerproduct import InnerProduct\n",
    "from sympy.physics.quantum.spin import JzBra\n",
    "1\n",
    "# # v = JzKetCoupled(0,0, (1/2, 1/2, 1/2, 1/2), ((1,2,0), (1,3,1/2),(1,4,0))).rewrite('Jz', coupled=False)\n",
    "# # represent(v)\n",
    "# v = JzKetCoupled(1,0, (1/2, 1/2, 1/2, 1/2, 1/2, 1/2, 1/2, 1/2), \n",
    "#                  ((1,2,1), (1,3,3/2),(1,4,2),(1,5,5/2), \n",
    "#                   (1,6,3), (1,7,7/2), (1,8,4)).rewrite('Jz', coupled=False)\n",
    "\n",
    "\n",
    "# # w = TensorProduct(JzKetCoupled(1,0,(1/2, 1/2)).rewrite('Jz', coupled=False),\n",
    "# #                   JzKetCoupled(1,0,(1/2, 1/2)).rewrite('Jz', coupled=False),\n",
    "# #                  JzKetCoupled(1,0,(1/2, 1/2)).rewrite('Jz', coupled=False),\n",
    "# #                  JzKetCoupled(1,0,(1/2, 1/2)).rewrite('Jz', coupled=False))\n",
    "# # v2 = JzBraCoupled(1,0, (1/2, 1/2, 1/2, 1/2), ((1,2,1), (1,3,3/2),(1,4,1))).rewrite('Jz', coupled=False)\n",
    "# # w = JzBra(w)\n",
    "# # i = InnerProduct(v,v)\n",
    "# # i.doit()\n",
    "# # represent(w); \n",
    "# # print(w)\n",
    "\n",
    "# # w_vec = represent(w)\n",
    "# # print(v_vec)\n",
    "# v_vec = represent(v)\n",
    "# i = np.inner(np.transpose(w_vec), np.transpose(v_vec))\n",
    "# print(i)"
   ]
  },
  {
   "cell_type": "code",
   "execution_count": 12,
   "id": "ba693fdf",
   "metadata": {},
   "outputs": [
    {
     "name": "stdout",
     "output_type": "stream",
     "text": [
      "[[-sqrt(2)/3]]\n"
     ]
    }
   ],
   "source": [
    "v = JzKetCoupled(1,1, (1/2, 1/2, 1/2, 1/2, 1/2, 1/2), \n",
    "                 ((1,2,1), (1,3,1/2),(1,4,1),(1,5,3/2), \n",
    "                  (1,6,1))).rewrite('Jz', coupled=False)\n",
    "\n",
    "w = TensorProduct(JzKetCoupled(1,1,(1/2, 1/2)).rewrite('Jz', coupled=False),\n",
    "                 JzKetCoupled(0,0,(1/2, 1/2)).rewrite('Jz', coupled=False), \n",
    "                 JzKetCoupled(0,0,(1/2, 1/2)).rewrite('Jz', coupled=False))\n",
    "\n",
    "w_vec = represent(w)\n",
    "v_vec = represent(v)\n",
    "i = np.inner(np.transpose(w_vec), np.transpose(v_vec))\n",
    "print(i)"
   ]
  },
  {
   "cell_type": "code",
   "execution_count": 5,
   "id": "020c4c71",
   "metadata": {},
   "outputs": [
    {
     "name": "stdout",
     "output_type": "stream",
     "text": [
      "|1/2,-1/2>x|1/2,-1/2>x|1/2,1/2>x|1/2,1/2>x|1/2,1/2>x|1/2,1/2>x|1/2,1/2>x|1/2,1/2>/10 + |1/2,-1/2>x|1/2,1/2>x|1/2,-1/2>x|1/2,1/2>x|1/2,1/2>x|1/2,1/2>x|1/2,1/2>x|1/2,1/2>/10 + |1/2,-1/2>x|1/2,1/2>x|1/2,1/2>x|1/2,-1/2>x|1/2,1/2>x|1/2,1/2>x|1/2,1/2>x|1/2,1/2>/10 - 3*|1/2,-1/2>x|1/2,1/2>x|1/2,1/2>x|1/2,1/2>x|1/2,-1/2>x|1/2,1/2>x|1/2,1/2>x|1/2,1/2>/20 + |1/2,-1/2>x|1/2,1/2>x|1/2,1/2>x|1/2,1/2>x|1/2,1/2>x|1/2,-1/2>x|1/2,1/2>x|1/2,1/2>/20 - |1/2,-1/2>x|1/2,1/2>x|1/2,1/2>x|1/2,1/2>x|1/2,1/2>x|1/2,1/2>x|1/2,-1/2>x|1/2,1/2>/5 + |1/2,1/2>x|1/2,-1/2>x|1/2,-1/2>x|1/2,1/2>x|1/2,1/2>x|1/2,1/2>x|1/2,1/2>x|1/2,1/2>/10 + |1/2,1/2>x|1/2,-1/2>x|1/2,1/2>x|1/2,-1/2>x|1/2,1/2>x|1/2,1/2>x|1/2,1/2>x|1/2,1/2>/10 - 3*|1/2,1/2>x|1/2,-1/2>x|1/2,1/2>x|1/2,1/2>x|1/2,-1/2>x|1/2,1/2>x|1/2,1/2>x|1/2,1/2>/20 + |1/2,1/2>x|1/2,-1/2>x|1/2,1/2>x|1/2,1/2>x|1/2,1/2>x|1/2,-1/2>x|1/2,1/2>x|1/2,1/2>/20 - |1/2,1/2>x|1/2,-1/2>x|1/2,1/2>x|1/2,1/2>x|1/2,1/2>x|1/2,1/2>x|1/2,-1/2>x|1/2,1/2>/5 + |1/2,1/2>x|1/2,1/2>x|1/2,-1/2>x|1/2,-1/2>x|1/2,1/2>x|1/2,1/2>x|1/2,1/2>x|1/2,1/2>/10 - 3*|1/2,1/2>x|1/2,1/2>x|1/2,-1/2>x|1/2,1/2>x|1/2,-1/2>x|1/2,1/2>x|1/2,1/2>x|1/2,1/2>/20 + |1/2,1/2>x|1/2,1/2>x|1/2,-1/2>x|1/2,1/2>x|1/2,1/2>x|1/2,-1/2>x|1/2,1/2>x|1/2,1/2>/20 - |1/2,1/2>x|1/2,1/2>x|1/2,-1/2>x|1/2,1/2>x|1/2,1/2>x|1/2,1/2>x|1/2,-1/2>x|1/2,1/2>/5 - 3*|1/2,1/2>x|1/2,1/2>x|1/2,1/2>x|1/2,-1/2>x|1/2,-1/2>x|1/2,1/2>x|1/2,1/2>x|1/2,1/2>/20 + |1/2,1/2>x|1/2,1/2>x|1/2,1/2>x|1/2,-1/2>x|1/2,1/2>x|1/2,-1/2>x|1/2,1/2>x|1/2,1/2>/20 - |1/2,1/2>x|1/2,1/2>x|1/2,1/2>x|1/2,-1/2>x|1/2,1/2>x|1/2,1/2>x|1/2,-1/2>x|1/2,1/2>/5 - |1/2,1/2>x|1/2,1/2>x|1/2,1/2>x|1/2,1/2>x|1/2,-1/2>x|1/2,-1/2>x|1/2,1/2>x|1/2,1/2>/5 + 4*|1/2,1/2>x|1/2,1/2>x|1/2,1/2>x|1/2,1/2>x|1/2,-1/2>x|1/2,1/2>x|1/2,-1/2>x|1/2,1/2>/5\n"
     ]
    }
   ],
   "source": [
    "v = JzKetCoupled(2,2, (1/2, 1/2, 1/2, 1/2, 1/2, 1/2, 1/2, 1/2), \n",
    "                 ((1,2,1), (1,3,3/2),(1,4,2),(1,5,3/2), \n",
    "                  (1,6,2), (1,7,3/2), (1,8,2))).rewrite('Jz', coupled=False)\n",
    "print(v)\n",
    "\n",
    "# v = JzKetCoupled(2,0, (1/2, 1/2, 1/2, 1/2, 1/2, 1/2), \n",
    "#                  ((1,2,1), (1,3,3/2),(1,4,2),(1,5,3/2), \n",
    "#                   (1,6,2))).rewrite('Jz', coupled=False)"
   ]
  },
  {
   "cell_type": "code",
   "execution_count": 196,
   "id": "c67f8c02",
   "metadata": {},
   "outputs": [],
   "source": [
    "w = TensorProduct(JzKetCoupled(1,0,(1/2, 1/2)).rewrite('Jz', coupled=False),\n",
    "                  JzKetCoupled(1,0,(1/2, 1/2)).rewrite('Jz', coupled=False),\n",
    "                 JzKetCoupled(1,0,(1/2, 1/2)).rewrite('Jz', coupled=False),\n",
    "                 JzKetCoupled(0,0,(1/2, 1/2)).rewrite('Jz', coupled=False))"
   ]
  },
  {
   "cell_type": "code",
   "execution_count": 197,
   "id": "2161c40c",
   "metadata": {},
   "outputs": [
    {
     "name": "stdout",
     "output_type": "stream",
     "text": [
      "[[2*sqrt(5)/15]]\n"
     ]
    }
   ],
   "source": [
    "w_vec = represent(w)\n",
    "v_vec = represent(v)\n",
    "i = np.inner(np.transpose(w_vec), np.transpose(v_vec))\n",
    "print(i)"
   ]
  },
  {
   "cell_type": "code",
   "execution_count": 194,
   "id": "9cebb5e6",
   "metadata": {},
   "outputs": [
    {
     "name": "stdout",
     "output_type": "stream",
     "text": [
      "1\n"
     ]
    }
   ],
   "source": [
    "print(14/35 + 12/45 + 1/3)"
   ]
  },
  {
   "cell_type": "code",
   "execution_count": 126,
   "id": "182296c8",
   "metadata": {},
   "outputs": [
    {
     "name": "stdout",
     "output_type": "stream",
     "text": [
      "0\n",
      "0\n",
      "0\n",
      "0\n",
      "0\n",
      "0\n",
      "0\n",
      "0\n",
      "0\n",
      "0\n",
      "0\n",
      "0\n",
      "0\n",
      "0\n",
      "0\n",
      "0\n",
      "0\n",
      "0\n",
      "0\n",
      "0\n",
      "0\n",
      "0\n",
      "0\n",
      "0\n",
      "0\n",
      "0\n",
      "0\n",
      "0\n",
      "0\n",
      "0\n",
      "0\n",
      "0\n",
      "0\n",
      "0\n",
      "0\n",
      "0\n",
      "0\n",
      "0\n",
      "0\n",
      "0\n",
      "0\n",
      "0\n",
      "0\n",
      "0\n",
      "0\n",
      "0\n",
      "0\n",
      "0\n",
      "0\n",
      "0\n",
      "0\n",
      "0\n",
      "0\n",
      "0\n",
      "0\n",
      "0\n",
      "0\n",
      "0\n",
      "0\n",
      "0\n",
      "0\n",
      "0\n",
      "0\n",
      "0\n",
      "0\n",
      "0\n",
      "0\n",
      "0\n",
      "0\n",
      "0\n",
      "0\n",
      "0\n",
      "0\n",
      "0\n",
      "0\n",
      "0\n",
      "0\n",
      "0\n",
      "0\n",
      "0\n",
      "0\n",
      "0\n",
      "0\n",
      "0\n",
      "0\n",
      "0\n",
      "0\n",
      "0\n",
      "0\n",
      "0\n",
      "0\n",
      "0\n",
      "0\n",
      "0\n",
      "0\n",
      "0\n",
      "0\n",
      "0\n",
      "0\n",
      "0\n"
     ]
    }
   ],
   "source": [
    "from sympy.physics.quantum.cg import CG\n",
    "from sympy import S \n",
    "for j in range(100):\n",
    "    cg = CG(S(j), S(0), S(1), 0 , S(j), S(0)) \n",
    "    print(cg.doit())\n"
   ]
  },
  {
   "cell_type": "markdown",
   "id": "f08b828b",
   "metadata": {},
   "source": [
    "### Heisenberg Model "
   ]
  },
  {
   "cell_type": "code",
   "execution_count": 51,
   "id": "ba3f4297",
   "metadata": {},
   "outputs": [
    {
     "name": "stdout",
     "output_type": "stream",
     "text": [
      "(0, 2)\n",
      "(0, 1)\n",
      "(1, 3)\n",
      "(2, 3)\n"
     ]
    },
    {
     "data": {
      "image/png": "[encoded data removed]",
      "text/plain": [
       "<Figure size 432x288 with 1 Axes>"
      ]
     },
     "metadata": {},
     "output_type": "display_data"
    }
   ],
   "source": [
    "import pennylane as qml\n",
    "import networkx as nx\n",
    "\n",
    "\n",
    "graph = nx.generators.lattice.grid_2d_graph(2,2)\n",
    "graph = nx.relabel.convert_node_labels_to_integers(graph)\n",
    "obs = []\n",
    "coeffs = []\n",
    "for edge in graph.edges():\n",
    "    print(edge)\n",
    "    coeffs.extend([1.0, 1.0, 1.0])\n",
    "    obs.extend([qml.PauliX(edge[0]) @ qml.PauliX(edge[1]),\n",
    "                        qml.PauliY(edge[0]) @ qml.PauliY(edge[1]),\n",
    "                        qml.PauliZ(edge[0]) @ qml.PauliZ(edge[1])])\n",
    "hamiltonian_heisenberg = qml.Hamiltonian(coeffs, obs)\n",
    "\n",
    "\n",
    "nx.draw(graph, with_labels=True, font_weight='bold')"
   ]
  },
  {
   "cell_type": "markdown",
   "id": "4c6d3869",
   "metadata": {},
   "source": [
    "## Young Tableau\n"
   ]
  },
  {
   "cell_type": "code",
   "execution_count": 125,
   "id": "7a150d42",
   "metadata": {
    "scrolled": true
   },
   "outputs": [
    {
     "name": "stdout",
     "output_type": "stream",
     "text": [
      "[[2, 2, 2, 1], [3, 2, 1, 1], [3, 2, 2]]\n",
      "[2, 2, 2, 1, ([[2, 2, 1, 1, ([[2, 1, 1, 1, ([[1, 1, 1, 1, ([[1, 1, 1, ([[1, 1, ([[1, None]], [1])]], [1])]], [1])], [2, 1, 1, ([[1, 1, 1, ([[1, 1, ([[1, None]], [1])]], [1])], [2, 1, ([[1, 1, ([[1, None]], [1])], [2, ([[1, None]], [1])]], [1])]], [1])]], [1])], [2, 2, 1, ([[2, 1, 1, ([[1, 1, 1, ([[1, 1, ([[1, None]], [1])]], [1])], [2, 1, ([[1, 1, ([[1, None]], [1])], [2, ([[1, None]], [1])]], [1])]], [1])], [2, 2, ([[2, 1, ([[1, 1, ([[1, None]], [1])], [2, ([[1, None]], [1])]], [1])]], [1])]], [1])]], [1])], [2, 2, 2, ([[2, 2, 1, ([[2, 1, 1, ([[1, 1, 1, ([[1, 1, ([[1, None]], [1])]], [1])], [2, 1, ([[1, 1, ([[1, None]], [1])], [2, ([[1, None]], [1])]], [1])]], [1])], [2, 2, ([[2, 1, ([[1, 1, ([[1, None]], [1])], [2, ([[1, None]], [1])]], [1])]], [1])]], [1])]], [1])]], [1])]\n"
     ]
    }
   ],
   "source": [
    "def Young_tableau_path(partition):\n",
    "    shape = len(partition)\n",
    "    paths = []\n",
    "#     partition1 = partition\n",
    "    if len(partition) ==1 & partition[0] ==1: \n",
    "        return \n",
    "    for i in np.arange(shape ): \n",
    "#         temp = partition\n",
    "#         partition = partition1\n",
    "        temp = list(partition)\n",
    "#         print(temp)\n",
    "        if i == shape -1: \n",
    "            if partition[i]  == 1: \n",
    "                temp = partition[0:i]\n",
    "            else: \n",
    "                temp[i ] = partition[i ] - 1\n",
    "#             print(temp)\n",
    "            paths.append(temp)\n",
    "            return paths\n",
    "        if partition[i] - partition[i+1] > 0: \n",
    "            if partition[i] == 1:\n",
    "                temp = partition[0:i]\n",
    "            else:\n",
    "                temp[i] = partition[i] - 1\n",
    "#             print(temp)\n",
    "            paths.append(temp)\n",
    "#         temp = partition \n",
    "\n",
    "def get_young_basis(partition):\n",
    "    num = sum(partition)\n",
    "    tableaux_num = [1]\n",
    "    paths = Young_tableau_path(partition)\n",
    "    if len(partition) < 1: \n",
    "        return False \n",
    "#     elif len(partition)==1:\n",
    "#         tableaux_num = [[[i for i in range(1, num+1)]]] \n",
    "    elif paths is None: \n",
    "        return paths \n",
    "    else:\n",
    "        for i in range(len(paths)):\n",
    "            tableaux_num\n",
    "            paths[i].append(get_young_basis(paths[i]))\n",
    "#             paths[i].append( get_young_basis(paths[i]))\n",
    "#             trash, tableaux_num[-1] = get_young_basis(paths[i])[1]\n",
    "    return (paths, tableaux_num) \n",
    "\n",
    "        \n",
    "part = [3,2,2,1]\n",
    "# print(part[0:3])\n",
    "paths = Young_tableau_path(part)\n",
    "print(paths)\n",
    "partition = [3,2,2,1]\n",
    "tab, tableaux = get_young_basis(partition)\n",
    "print(tab[0])\n",
    "    "
   ]
  },
  {
   "cell_type": "code",
   "execution_count": 104,
   "id": "31311937",
   "metadata": {},
   "outputs": [
    {
     "name": "stdout",
     "output_type": "stream",
     "text": [
      "[[2, 1, [[1, 1, [[1, None]]], [2, [[1, None]]]]]]\n"
     ]
    }
   ],
   "source": [
    "# def get_young_basis(partition):\n",
    "#     num = sum(partition)\n",
    "#     tableaux_num = []\n",
    "#     paths = Young_tableau_path(partition)\n",
    "#     if len(partition) < 1: \n",
    "#         return False \n",
    "# #     elif len(partition)==1:\n",
    "# #         tableaux_num = [[[i for i in range(1, num+1)]]] \n",
    "#     elif paths is None: \n",
    "#         return paths \n",
    "#     else:\n",
    "#         for i in range(len(paths)):\n",
    "#             paths[i].append( get_young_tableaux(paths[i]))\n",
    "#     return paths \n",
    "  \n",
    "# def Young_tableau(paths, length):\n",
    "#     for path in paths: \n",
    "#         for i in range(length):\n",
    "            \n",
    "\n",
    "#             print(part)\n",
    "#         for tableau_recursed in tableaux_recursed: \n",
    "#             try:\n",
    "#                 tableau = (tableau_recursed[:row] + [tableau_recursed[row] + [num]] + tableau_recursed[row+1 ])\n",
    "#             except IndexError: \n",
    "#                 tableau = tableau_recursed[:row] + [[num]]\n",
    "#             tableaux_num.append(tableau)\n",
    "#     return tableaux_num\n"
   ]
  },
  {
   "cell_type": "code",
   "execution_count": null,
   "id": "8f883cb7",
   "metadata": {},
   "outputs": [],
   "source": []
  },
  {
   "cell_type": "code",
   "execution_count": null,
   "id": "be9975d1",
   "metadata": {},
   "outputs": [],
   "source": []
  },
  {
   "cell_type": "code",
   "execution_count": null,
   "id": "dbd9b6a3",
   "metadata": {},
   "outputs": [],
   "source": []
  }
 ],
 "metadata": {
  "kernelspec": {
   "display_name": "SageMath 9.2",
   "language": "sage",
   "name": "sagemath"
  },
  "language_info": {
   "codemirror_mode": {
    "name": "ipython",
    "version": 3
   },
   "file_extension": ".py",
   "mimetype": "text/x-python",
   "name": "python",
   "nbconvert_exporter": "python",
   "pygments_lexer": "ipython3",
   "version": "3.9.6"
  }
 },
 "nbformat": 4,
 "nbformat_minor": 5
}
