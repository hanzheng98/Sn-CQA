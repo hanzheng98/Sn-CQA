{
 "cells": [
  {
   "attachments": {},
   "cell_type": "markdown",
   "id": "80d6d50c",
   "metadata": {},
   "source": []
  },
  {
   "attachments": {},
   "cell_type": "markdown",
   "id": "3927eb7f",
   "metadata": {},
   "source": [
    "# $S_n$-Equivariant Convolutional Quantum Alternating Algorithms"
   ]
  },
  {
   "attachments": {},
   "cell_type": "markdown",
   "id": "74c81b96",
   "metadata": {},
   "source": [
    "In this tutorial we explain the $S_n$-Equivariant Convolutional Quantum Alternating ($S_n$-CQA) Algorithms proposed in https://arxiv.org/abs/2112.07611, where we illustrate its practical significance in approximating the ground state of the frustrated anti-ferromagnetic Heisenberg Hamiltonian on various 2D lattices. "
   ]
  },
  {
   "attachments": {},
   "cell_type": "markdown",
   "id": "88bd0121",
   "metadata": {},
   "source": [
    "## Contents\n",
    "1. [Introduction](#introduction)\n",
    "2. [$S_n$-CQA Algorithms](#cqatheory)\n",
    "    1. [Symmetries in Quantum Computing](#symmetry)\n",
    "    2. [Significance in Machine Learning](#ml)\n",
    "    3. [Description of the $Sn$-CQA](#cqadescription)\n",
    "    4. [Adiabatic Description at $p \\rightarrow \\infty$](#adiabetic)\n",
    "3. [Implementation](#implementation)\n",
    "    1. [$J_1$-$J_2$ Heisenberg Hamiltonian ](#square)\n",
    "    2. [CQA Ansatze](#kagome)\n",
    "4. [References](#references)"
   ]
  },
  {
   "attachments": {},
   "cell_type": "markdown",
   "id": "1e8c8e75",
   "metadata": {},
   "source": [
    "## Introduction <a id='introduction'></a>\n",
    "\n",
    "A key question in quantum algorithms is to identify the possible source for a quantum speedup --ideally we are looking for a typical class of problems that allow an exponential speedup in the quantum computers versus that in a classical device. As running on a quantum device might be diffulct to access and expansive to run, an exponenetial speed-up seems to be the few likely motivations for us to try on quantum computers! \n",
    "\n",
    "As C.N.Yang once said: “symmetry dictates interaction.” Symmetry pops up everywhere, from standard model of particle physics, rotating and charged black holes, covariant quantum error correcting codes, Heisenberg model in condensed matter physics, classical description moleuclar force fields, graph ismorphism problems, the list goes on and on. \n",
    "\n",
    "A natural possible source of the quantum advantage comes from studying inherent symmetry of problems. In physics, symmetry imposes constraints with respect to the problems we are solving, and such contraints normally involve in calculating certain cofficients using group representation theory. Often these coefficients are believed not to be computed in polynomial time. Similarly in the rapid evolving fields of machine learning, learning with symmetry or more generally equivariance has emerged as the dominant paradigm in learning molecular graphs, force fields, and protein strcutures. \n",
    "\n",
    "As proposed in https://arxiv.org/abs/2112.07611, the authors studied how we can possibly leverage the use of quantum computers to speed up the calculation of these certain representation-theoretical coefficients and how we can use these advantage to design novel quantum algorigthms to solve physical problem of interests that is classically hard. As a consequence the proposed $S_n$-Equivariant Convolutional Quantum Alternating ($S_n$-CQA) Algorithms is developed to answer these questions and we will show its effectiveness in solving a physically hard problem$--$ground states of the frustrated magnets! "
   ]
  },
  {
   "attachments": {},
   "cell_type": "markdown",
   "id": "4c9d120f",
   "metadata": {},
   "source": [
    "## 2. $S_n$-CQA Algorithms <a id='cqatheory'></a>\n",
    "\n",
    "### A. Symmetries in Quantum Computing <a id='symmetry'></a>"
   ]
  },
  {
   "attachments": {},
   "cell_type": "markdown",
   "id": "87fb15b2",
   "metadata": {},
   "source": [
    "In quantum computing there are two types of symmetries: continous symmetry on qubits and discrete symmetries. In qubits the continuous symmetries could be U($1$) or SU($2$) symmetry on each qubit, for instance:\n",
    "$$\n",
    "\\exp(i\\theta_0 X_0 ) \\exp(i \\theta_1 X_1) \\exp(i \\theta_2 X_2) | 000 \\rangle\n",
    "$$\n",
    "\n",
    "while the discrete symmetries are simply permuting a set of qubits, such a the SWAP gate:\n",
    "$$\n",
    "\\text{SWAP} | 01 \\rangle = | 10 \\rangle\n",
    "$$\n",
    "It seems that these two set of symmetries are not related to each other: how does a bit flip could possibly have something do with swapping qubits? Meretriciously, there is a deep connection between these two types of symmetries, called the Schur-Weyl duality. Loosly speaking the Schur-Weyl duality states: (a) SWAPS and Pauli rotations defined above commute with each other, so they can be block-diagnolized simultaneously, (b) Their block-diagonal structures can be organized into a bigger block, labelled by a a partition of n letters.  \n",
    "\n",
    "\n",
    "A $\\textbf{partition}, \\lambda = (\\lambda_1, ..., \\lambda_d),$ of n letters or qubits, where $\\sum^{d}_{i=1} \\lambda_i = n$, is described by a corresponding $\\textbf{Young diagram}$:\n",
    "\n",
    "In quantum computing each partition $\\lambda$ restricts to Hilbert space $ \\mathcal{H} = \\mathbb{C}^{2^n} \\times \\mathbb{C}^{2^n}$ to a unique block consisted of SU($2$) and $S_n$ actions. \n",
    "\n",
    "The framework of global SU($d$)-symmetry is first proposed by Jordan (2009) in his seminal paper \"Permutational Quantum Computing\" (PQC) where a possible source of quantum advantage is formulated by being able to matrix elements of elements in the symmetric group $S_n$, for instance SWAP(1,5), swapping first and fifth qubit. These matrix elements lives thse blocks labelled by partition $\\lambda$ and are thought to be classically hard aka take exponenetial time to compute. Howeber, PQC offers a polynomial time algorithm to approximate these matrix elements. This sounds really neat; is this an end of story? \n",
    "\n",
    "It turns out there nevertheless exists polynomial time classical algorithm to compute these matrix elements on qubits. A natural question raised is how can generalize PQC further to restore hope in quantum advantage? Also, along this pursuit, can we identify useful problems to solve? \n",
    "\n",
    "\n",
    "\n"
   ]
  },
  {
   "attachments": {},
   "cell_type": "markdown",
   "id": "c434c1bf",
   "metadata": {
    "pycharm": {
     "name": "#%% md\n"
    }
   },
   "source": [
    "### B. Significance in Machine Learning <a id='ml'></a>"
   ]
  },
  {
   "attachments": {},
   "cell_type": "markdown",
   "id": "4f09b312",
   "metadata": {
    "pycharm": {
     "name": "#%%\n"
    }
   },
   "source": [
    "Let's say if we wish to predict properties of a moulecular system. The first-principle approach based on the density functional approximation requires far too large computational resources in a moderately-sized molecular system so it is quite common to use neural networks to approximate its quantum effects. Suppose we wish to predict the ground state energy $E_0$ or the first-excited state energy $E_1$. We know these quantities are invariant under global rotation SO($3$). It does not make sense if what the neural network learned does not respect this SO($3$) symmetry. \n",
    "\n",
    "Furthermore, molecules are naturally representated by the molecular graphs. So an other necessary contraint is our neural network model is $\\textit{equivariant}$ to the permutation on vertex labels in graphs. Roughly speaking this means that our neural network should be smart enough to recoginze two molecular graphs to be the same if they only differ from relabelling of vertices. \n",
    "\n",
    "What we have described is the so-called equivariant graph neural networks, a leading neural network in learning molecular graphs and other graphical models. To dig into the math, the natural mathematical concept is the so-called equivariant convolution.\n",
    "\n",
    "Let $f_{1}, f_{2} \\in \\mathbb{C}\\left[G\\right]$. Their convolution is defined as\n",
    "$$\n",
    "\\left(f_{1} * f_{2}\\right)(\\sigma):=\\sum_{\\tau \\in G} f_{1}(\\tau) f_{2}\\left(\\tau^{-1} \\sigma\\right),\n",
    "$$\n",
    "Mathematically the equivariance with respect to a group $G$ takes the meaning that acting $G$ on $f_1$ and then convolve with $f_2$ equals to convolve first and act by $G$ on the resultant $f_1 * f_2$: \n",
    "$$\n",
    "\\Big(L_{\\eta}\\left(f_{1} * f_{2}\\right) \\Big) (\\sigma) = \\left(f_{1} * f_{2}\\right)(\\eta^{-1} \\sigma) = \\Big(L_{\\eta}\\left(f_{1}\\right) * f_{2} \\Big) (\\sigma)\n",
    "$$\n",
    "This convolution products over functions seems to be irrelevant to our discussion over quantum circuits--at the end of day, we write matrices (gates) and vectors (states)! It turns out, if you are smart as Fourier, these functions $f_1, f_2$ can be represented by matrices by the Fourier transform: \n",
    "$$\n",
    "H:=\\pi(f) = \\sum c_i \\pi(\\sigma_i).\n",
    "$$\n",
    "Where $\\pi(\\sigma_i)$ is the matrix corresponding to the group element on quantum circuits. Say $\\sigma_i $ permutes $1$ and $2$, then $\\pi(\\sigma_i) = \\text{SWAP}(1,2)$ and $c_i$ is some complex coefficients. Then we get a $\\pi(f)$ as a quite complicated gates on our quatum circuits with its decomposition rule given by these summation of $\\pi(\\sigma_i)$. Let's assume $\\pi(f)$ to be Hermitian, so we just denote it by $H$ some Hamiltonian. "
   ]
  },
  {
   "attachments": {},
   "cell_type": "markdown",
   "id": "6ca1ce96",
   "metadata": {},
   "source": [
    "### C. Description of the $S_n$-CQA Algorithm \n",
    "The $S_n$-equivariant Convolutional Quantum Alternating ($S_n$-CQA) algorithm can be best understood as an analog to the QAOA in the prescence of global SU($d$) symmetry. Simiarly $S_n$-CQA takes a problem Haniltonian $H$ for which we aim to approxiate its ground state and a mixing hamiltonian $H_M$ whose eigenstates are easy to define. Then $S_n$-CQA is taken from the following families of SU(d)-symmetric unitaries: \n",
    "\n",
    "\\begin{align}\n",
    "\\operatorname{CQA}^{(p)}:= \\left\\{ \\exp(i\\sum_{k \\geq l }\\beta^{(p)}_{kl}X_k X_l) \\exp(i \\theta^{(p)}H) \\cdots \\exp(i\\sum_{k \\geq l }\\beta^{(1)}_{kl}X_k X_l) \\exp(i \\theta^{(1)}H) \\right\\}\n",
    "\\end{align}\n",
    "\n",
    "Where $\\beta^{(i)}_{kl}, \\theta^{(i)}$ are chosen randomly for all $1 \\leq i \\leq p$. The hyperparameter $p$ controls the number of alternating layers (depth) of the quantum circuits. $X_k$ is denoted as the Young-Jucy-Murphy (YJM) elements: \n",
    "$$\n",
    "X_k = \\text{SWAP}(1, k) + \\text{SWAP}(2, k) + \\cdots + \\text{SWAP}(k-1, k) \n",
    "$$\n",
    "The YJM elements enjoy very special properties in the representation of the symmetric group due to the Oknoukov-Vershik approach. We encourage interested and mathematically-motivated readers to take a look at this beautiful theory. \n",
    "\n",
    "Below are some remarkable properties enjoyed by $S_n$-CQA algorithms\n",
    "\n",
    "#### (1) Exponential Quantum Speedup\n",
    "Remarkably, it is shown in the paper that the alternating pair $\\exp(i\\sum_{k \\geq l }\\beta_{kl}X_k X_l) \\exp(i \\theta H)$ whose matrix element can be evaulated in quantum circuits in polynomial time, whereas it remains a classicaly hard problem requiring $S_n$-FFT, taking at least $O(n! n^2)$. \n",
    "\n",
    "In general, we can extend PQC by considering the task in approximating matrix element of Hamiltonian simulation of $k$-local SU(d)-symmetric Hamiltonian. This way, we get a generic quantum super-exponential speedup! \n",
    "#### (2) $S_n$-CQA are dense! \n",
    "If our problem hamiltonian $H$ to be path-connected on the each $S_n$ irrep block; that is: $\\forall i, j \\in [d], \\exists r $ such that $[H^r]_{ij} \\neq 0$. Then $\\lim_{p \\rightarrow \\infty} \\operatorname{CQA}^{(p)}$ is dense at every $S_n$ irreps. \n",
    "\n",
    "To gain some perspective in understanding these theoretical results, let's consider the task approximating ground state of a frustated magnet: in the case of the antiferromagnetic $J_1$-$J_2$ spin $1/2$ hamiltonian, we have the Hamiltonian: \n",
    "\\begin{align}\n",
    "H = J_1 \\sum_{\\langle i, j \\rangle } \\vec{S}_i \\cdot \\vec{S}_j + J_2 \\sum_{\\langle \\langle i, j \\rangle \\rangle } \\vec{S}_i \\cdot \\vec{S}_j \n",
    "\\end{align}\n",
    "\n",
    "Where the first termn sums through all nearest pair and the second term through all second-nearest pairs. When $J_1$ and $J_2$ are non-zero, then we say that the system is frustrated. While frustaed system might lead to many physically significant phenemon such as a novel spin liquid phase, we still do not know how to characterize the ground state. The lack of analytical characterization of the ground states in frustration makes it an important problem to solve using heuristic method such as tensor networks and neural networks. \n",
    "\n",
    "Since the hamiltonian is SU(2)-symmetric, so is its ground state. How can we reinforce this global SU(2) symmetry in approximating the ground state of the frustrated magnets? Recall in the previous section of the Schur-Weyl duality, we know that approximating the ground state of frustrated Hamiltonian corresponds precisely to be able to approximate some matrix elements within the irrep blocks of $S_n$ labelled by the partition. As a result we conclude: \n",
    "\n",
    "<ul>\n",
    "<li>Since our CQA is dense in every $S_n$ irrep, approxmating aribtary matrix element in an abitrary irrep block $S^\\lambda$ is equivalent to approximate corresponding matrix element of some unitary in $\\lim_{p \\rightarrow \\infty } \\text{CQA}^{(p)}$.</li>\n",
    "<li>We know as long as $p$ grows polynomially in the number of qubits the task above enjoys the super-exponenetial quantum speedup.</li>\n",
    "</ul>\n",
    "\n",
    "In $S_n$-CQA heuristic algorithms we set $p$ to be small, normally between $3-6$. In another words, $S_n$-CQA heuristic algorithms enjoy a rigorous quantum super-exponential speedup that otherwise classical counterparts cannot achieve. Of course, we will see in the next section the effectiveness of the $S_n$-CQA algorithm in approximating the ground states of the frustrated magnets. \n",
    "\n",
    "\n",
    "\n",
    "\n",
    "\n",
    "\n",
    "\n",
    "\n"
   ]
  },
  {
   "attachments": {},
   "cell_type": "markdown",
   "id": "43872df8",
   "metadata": {},
   "source": [
    "### D Adiabatic Description at $p \\rightarrow \\infty$  <a id='adiabetic'></a>\n"
   ]
  },
  {
   "attachments": {},
   "cell_type": "markdown",
   "id": "208fab20",
   "metadata": {},
   "source": [
    "Similar to the limiting $p \\rightarrow \\infty $ behavior of QAOA, our ansatz corresponds to the adiabatic quantum evolution for each $S_n$ irreducible representation subspace. The standard interpolating Hamiltonian is given by: \n",
    "\\begin{align}\n",
    "\\begin{aligned}\n",
    "    \\widehat{H}(s) &= s H_p + \\sum_{k \\leq \\ell}(1-s) \\beta_{k \\ell}(s) X_k X_{\\ell} \n",
    "    \\\\&= s H_p + (1-s) H_M(s),\n",
    "\\end{aligned}\n",
    "\\end{align}\n",
    "where $s$ ranging from $0$ to $1$ is the time-parameterized path with $s(0) = 0$ and $s(T) = 1$. In contrast with the standard interpolating Hamiltonian, we set the coupling strength parameters $\\{\\beta_{k \\ell}\\}$ as path dependent I.I.D. random variables drawn from some possibly unknown distribution $\\mathcal{D}$. Using the Central Limit Theorem, it suffices to draw $\\{\\beta_{k \\ell}\\}$ from normal distributions (when $n$ is large), say $\\mathcal{N}(0, \\sigma)$. We shall work in SU(2)-$S_n$ duality but generalization to qudits is straightforward. \n",
    "\n",
    "Choose an irrep subspace $S^\\lambda$ with the instantaneous ground and first excited states $\\ket{v_0(s)}, \\ket{v_1(s)}$ and the spectral gap $\\Delta = \\operatorname{min}_{s \\in [0,1]} E_1(s) - E_0(s)$. The adiabatic theorem implies that $\\ket{v_0(s =T)}$ is $L^2$-$\\epsilon$ close to the ground state of $H_p$ if: \n",
    "\\begin{align}\n",
    "&T \\gg \\frac{|\\bra{v_1(s)}\\partial_s \\widehat{H}(s)\\ket{v_0(s)} |}{\\Delta^2},\n",
    "\\end{align}\n",
    "where: \n",
    "\\begin{align*}\n",
    "     \\partial_s \\widehat{H}= {{H}_{p}}-\\sum\\limits_{k\\le \\ell }{{{\\beta }_{k,\\ell }}}(s){{X}_{k}}{{X}_{\\ell }}-s\\sum\\limits_{k\\le \\ell }{{{\\partial }_{s}}}{{\\beta }_{k,\\ell }}(s){{X}_{k}}{{X}_{\\ell }}.\n",
    "\\end{align*}\n",
    "\n",
    "The quantum evolution in the Heisenberg picture is: \n",
    "\\begin{align*}\n",
    "    U(T) = \\mathcal{T}\\operatorname{exp}(-i \\int^T_0 dt \\widehat{H}(s(t))).\n",
    "\\end{align*}\n",
    "Taken $T = N \\Delta t \\equiv \\Delta t_N$ where $s(\\Delta t_j)$ is constant at this small time increments, the standard Trotterization technique implies that: \n",
    "\\begin{align}\n",
    "\\begin{aligned}\n",
    "    U(T) \\approx \\prod^N_{j=1}&\\operatorname{exp}(-i\\Delta t_j s(\\Delta t_j)) \\Pi^n_{k \\leq \\ell} \\\\\n",
    "    &\\operatorname{exp}(-i \\Delta t_j (1 -s(\\Delta t_j) )\\beta_{k, \\ell}(\\Delta t_j) X_k X_{\\ell}).\n",
    "\\end{aligned}\n",
    "\\end{align}\n",
    "Setting $\\gamma_j = \\Delta t_j s(\\Delta t_j)$ and $(\\widetilde{\\beta}_{_{k, \\ell}})_j = \\Delta t_j (1 -s(\\Delta t_j) )\\beta_{k, \\ell}(\\Delta t_j)$, we recover the $S_n$-CQA ans{\\\"a}tze at $p = N$. The variational parameters $\\{(\\widetilde{\\beta}_{_{k, \\ell}})_j\\}_{k, \\ell}$ for the classical optimization corresponds to the randomized coupling strength parameters for the initial Hamiltonian strictly diagonal in the total spin basis elements. "
   ]
  },
  {
   "attachments": {},
   "cell_type": "markdown",
   "id": "0175616d",
   "metadata": {},
   "source": [
    "## 3. Implementation <a id='implementation'></a>\n",
    "\n",
    "\n",
    "\n"
   ]
  },
  {
   "attachments": {},
   "cell_type": "markdown",
   "id": "d45cea25",
   "metadata": {},
   "source": [
    "Let's consider one typical lattice struccture for the frustrated $J_1$-$J_2$ magnets: kagome lattice,  consisted of $12$ spins\n",
    "\n"
   ]
  },
  {
   "attachments": {},
   "cell_type": "markdown",
   "id": "2035e12c",
   "metadata": {},
   "source": [
    "Let's code up the $S_n$-CQA using classical simulation. For starters, we will use JAX, Snob2, Pytorch, and Numpy. For numerical implementation, we decompose into the following steps: \n",
    "\n",
    "<ul>\n",
    "<li> We specify the hamiltonian for which we wish to approximate its ground state and the YJM mixing Hamiltonians </li>\n",
    "<li> We code one alternating pair of the time evolution of these two Hamiltonian with variational parameters on the Schur basis </li>\n",
    "<li> We encode the $\\text{CQA^{(p)}}$ for which subsequent gradient descent can be performed  </li>\n",
    "</ul>\n"
   ]
  },
  {
   "attachments": {},
   "cell_type": "markdown",
   "id": "a45a252a",
   "metadata": {},
   "source": [
    "### A Encode Hamiltonains\n",
    "\n",
    "Let's start with the how to encode the Heisenberg hamilonian in the 12-spin $3\\times 4$-square lattice, for which we use the following elegant identity relating $\\hat{S}_i \\cdot \\hat{S}_j$ and swapping ith and jth qubits: \n",
    "\n",
    "$$\n",
    "\\hat{S}_i \\cdot \\hat{S}_j = \\frac{1}{2}(i\\:\\: j) - \\frac{1}{4} I\n",
    "$$\n",
    "This would help us encode the YJM Hamiltonian. Let's first define the lattice where we build our $J_1$-$J_2$ Heisenberg hamiltonian. "
   ]
  },
  {
   "cell_type": "code",
   "execution_count": 13,
   "id": "056201ae",
   "metadata": {},
   "outputs": [
    {
     "name": "stdout",
     "output_type": "stream",
     "text": [
      "Number of Paulis in the Heisenberg Hamiltonian: 87\n"
     ]
    },
    {
     "name": "stderr",
     "output_type": "stream",
     "text": [
      "/tmp/ipykernel_16683/3014067644.py:26: DeprecationWarning: Passing 'z' and 'x' arrays separately to 'Pauli' is deprecated as of Qiskit Terra 0.17 and will be removed in version 0.23 or later. Use a tuple instead, such as 'Pauli((z, x[, phase]))'.\n",
      "  J1pauli_lst.append(Pauli(zstring, J1xstring))\n",
      "/tmp/ipykernel_16683/3014067644.py:27: DeprecationWarning: Passing 'z' and 'x' arrays separately to 'Pauli' is deprecated as of Qiskit Terra 0.17 and will be removed in version 0.23 or later. Use a tuple instead, such as 'Pauli((z, x[, phase]))'.\n",
      "  J1pauli_lst.append(Pauli(J1zstring, xstring))\n",
      "/tmp/ipykernel_16683/3014067644.py:28: DeprecationWarning: Passing 'z' and 'x' arrays separately to 'Pauli' is deprecated as of Qiskit Terra 0.17 and will be removed in version 0.23 or later. Use a tuple instead, such as 'Pauli((z, x[, phase]))'.\n",
      "  J1pauli_lst.append(Pauli(J1zstring, J1zstring))\n",
      "/tmp/ipykernel_16683/3014067644.py:39: DeprecationWarning: Passing 'z' and 'x' arrays separately to 'Pauli' is deprecated as of Qiskit Terra 0.17 and will be removed in version 0.23 or later. Use a tuple instead, such as 'Pauli((z, x[, phase]))'.\n",
      "  J2pauli_lst.append(Pauli(zstring, J2xstring))\n",
      "/tmp/ipykernel_16683/3014067644.py:40: DeprecationWarning: Passing 'z' and 'x' arrays separately to 'Pauli' is deprecated as of Qiskit Terra 0.17 and will be removed in version 0.23 or later. Use a tuple instead, such as 'Pauli((z, x[, phase]))'.\n",
      "  J2pauli_lst.append(Pauli(J2zstring, xstring))\n",
      "/tmp/ipykernel_16683/3014067644.py:41: DeprecationWarning: Passing 'z' and 'x' arrays separately to 'Pauli' is deprecated as of Qiskit Terra 0.17 and will be removed in version 0.23 or later. Use a tuple instead, such as 'Pauli((z, x[, phase]))'.\n",
      "  J2pauli_lst.append(Pauli(J2zstring, J2zstring))\n"
     ]
    }
   ],
   "source": [
    "from unicodedata import name\n",
    "import qiskit \n",
    "import numpy as np \n",
    "import matplotlib.pyplot as plt\n",
    "\n",
    "from typing import Optional, Union, List, Callable, Tuple\n",
    "from qiskit.circuit import QuantumCircuit, QuantumRegister, parameter\n",
    "from qiskit import transpile\n",
    "from qiskit.circuit.library.basis_change import QFT\n",
    "from qiskit.quantum_info import SparsePauliOp, PauliList, Pauli\n",
    "from qiskit.opflow import X, Y, Z, I, PauliTrotterEvolution\n",
    "from qiskit.opflow import PauliOp, PauliSumOp\n",
    " \n",
    "def getJ1J2_Ham(J: list, J1_edges: list, J2_edges:list, num_sites: int) -> PauliSumOp:\n",
    "    xstring = np.zeros(num_sites)\n",
    "    zstring = np.zeros(num_sites)\n",
    "    J1_lst = []\n",
    "    for J1pauli in J1_edges:  \n",
    "        J1pauli_lst = []\n",
    "        J1xstring = np.zeros(num_sites)\n",
    "        J1xstring[J1pauli[0]] = 1\n",
    "        J1xstring[J1pauli[1]] = 1 \n",
    "        J1zstring = np.zeros(num_sites)\n",
    "        J1zstring[J1pauli[0]] = 1\n",
    "        J1zstring[J1pauli[1]] = 1 \n",
    "        J1pauli_lst.append(Pauli(zstring, J1xstring))\n",
    "        J1pauli_lst.append(Pauli(J1zstring, xstring))\n",
    "        J1pauli_lst.append(Pauli(J1zstring, J1zstring))\n",
    "        J1_lst.append(PauliSumOp(SparsePauliOp(J1pauli_lst, coeffs=np.array([J[0], J[0], J[0]]))))\n",
    "    J2_lst = []\n",
    "    for J2pauli in J2_edges:  \n",
    "        J2pauli_lst = []\n",
    "        J2xstring = np.zeros(num_sites)\n",
    "        J2xstring[J2pauli[0]] = 1\n",
    "        J2xstring[J2pauli[1]] = 1 \n",
    "        J2zstring = np.zeros(num_sites)\n",
    "        J2zstring[J2pauli[0]] = 1\n",
    "        J2zstring[J2pauli[1]] = 1 \n",
    "        J2pauli_lst.append(Pauli(zstring, J2xstring))\n",
    "        J2pauli_lst.append(Pauli(J2zstring, xstring))\n",
    "        J2pauli_lst.append(Pauli(J2zstring, J2zstring))\n",
    "        J2_lst.append(PauliSumOp(SparsePauliOp(J2pauli_lst, coeffs=np.array([J[1], J[1], J[1]]))))\n",
    "    heisenberg = sum(J1_lst) + sum(J2_lst)\n",
    "    return heisenberg\n",
    "\n",
    "edge_colors = [[[0, 1, 1], [0, 4, 1], [1, 2,1],\n",
    "               [2, 3, 1], [2,5,1], [4,6,1], [6,8,1], [6,7,1],\n",
    "              [5,9,1], [8,9,1],[9,10,1], [9,11,1]],\n",
    "               # J2 terms now for the frustration\n",
    "               [[1,4,2], [3,5,2], [5,8,2], [7,8,2], [10,11,2], [0,2,2],\n",
    "               [1,3,2], [2,9,2], [1,5,2], [5,10,2], [5,11,2], [8,10,2],\n",
    "               [8,11,2], [4,7,2], [0,6,2], [6,9,2], [4,8,2]]]\n",
    "# print(edge_colors[0])\n",
    "# print(edge_colors[1])\n",
    "# lattice = nx.graph()\n",
    "# for edgeJ1 in edge_colors[0]:\n",
    "#     lattice.add_edge(edgeJ1[0], edgeJ1[1])\n",
    "num_sites = 12 #number of sites for the given lattice \n",
    "Heisenberg = getJ1J2_Ham([1.0, 0.5], edge_colors[0], edge_colors[1], num_sites)\n",
    "print('Number of Paulis in the Heisenberg Hamiltonian: {}'.format(len(Heisenberg)))"
   ]
  },
  {
   "attachments": {},
   "cell_type": "markdown",
   "id": "4ea89d37",
   "metadata": {},
   "source": [
    "Let's now build up the YJM Hamiltonian: \n",
    "$$\n",
    "H_M = \\sum_{k \\geq l} \\beta_{k,l} X_k X_l \n",
    "$$\n",
    "Where $\\beta_{k, l}$ are the variational parameters. Let's code up these: "
   ]
  },
  {
   "cell_type": "code",
   "execution_count": 8,
   "id": "c6c4d1c6",
   "metadata": {},
   "outputs": [],
   "source": [
    "from qiskit_codes.cqa_compbasis import CQA\n",
    "p = 2 #num of alternating layers\n",
    "YJMparams = np.random.randn(p, num_sites, num_sites) # variational parameters \n",
    "Heisparams = np.random.randn(p) # variational parameters \n",
    "irrep = [6, 6]\n",
    "Sn_cqa = CQA(num_sites, p, Heisenberg, irrep, YJMparams, Heisparams, debug=False)"
   ]
  },
  {
   "cell_type": "code",
   "execution_count": 16,
   "id": "b4f2afd2",
   "metadata": {},
   "outputs": [
    {
     "name": "stdout",
     "output_type": "stream",
     "text": [
      "Number of Pauli opertaors in YJM Hamiltonian: 10594\n"
     ]
    }
   ],
   "source": [
    "YJM_Ham =  Sn_cqa._getYJMs(YJMparams[0])\n",
    "print('Number of Pauli opertaors in YJM Hamiltonian: {}'.format(len(YJM_Ham)))"
   ]
  },
  {
   "attachments": {},
   "cell_type": "markdown",
   "id": "208780f2",
   "metadata": {},
   "source": [
    "The YJM elements consisted of 10594 number of Pauli operators. This could be expansive to work with. A possible remedy is to build the YJM Hamiltonian that consisted of a selected few terms, as each term only takes: "
   ]
  },
  {
   "cell_type": "code",
   "execution_count": 18,
   "id": "1d43ae1c",
   "metadata": {},
   "outputs": [
    {
     "name": "stdout",
     "output_type": "stream",
     "text": [
      "Number of Pauli opertaors in the largest YJM element: 44\n"
     ]
    }
   ],
   "source": [
    "YJM = Sn_cqa._getYJM(11)\n",
    "print('Number of Pauli opertaors in the largest YJM element: {}'.format(len(YJM)))"
   ]
  },
  {
   "attachments": {},
   "cell_type": "markdown",
   "id": "49a6fc76",
   "metadata": {},
   "source": [
    "### B. Single Layer $S_n$-CQA \n",
    "Now Let's code up one single layer of the $S_n$-CQA. \n",
    "$$\n",
    "\\exp(i \\sum_{k \\geq l} \\beta_{k, l} X_k X_l) \\exp(i \\theta H)\n",
    "$$"
   ]
  },
  {
   "cell_type": "code",
   "execution_count": 19,
   "id": "794092c5",
   "metadata": {},
   "outputs": [
    {
     "data": {
      "image/png": "[encoded data removed]",
      "text/plain": [
       "<Figure size 340.378x746.48 with 1 Axes>"
      ]
     },
     "execution_count": 19,
     "metadata": {},
     "output_type": "execute_result"
    }
   ],
   "source": [
    "CQA_singlelayer = Sn_cqa._getCQA_layer(YJMparams[0], Heisparams[0])\n",
    "CQA_singlelayer.draw('mpl')\n",
    "\n",
    "\n"
   ]
  },
  {
   "attachments": {},
   "cell_type": "markdown",
   "id": "fab66b76",
   "metadata": {},
   "source": [
    "### C. $S_n$-CQA Ansatze\n",
    "Once we have one layer, we can simply stack up even more by introducing the control parameters $p$."
   ]
  },
  {
   "cell_type": "code",
   "execution_count": 20,
   "id": "0a119f0d",
   "metadata": {},
   "outputs": [
    {
     "data": {
      "image/png": "[encoded data removed]",
      "text/plain": [
       "<Figure size 485.583x746.48 with 1 Axes>"
      ]
     },
     "execution_count": 20,
     "metadata": {},
     "output_type": "execute_result"
    }
   ],
   "source": [
    "Sn_cqa.draw('mpl')\n",
    "\n"
   ]
  },
  {
   "attachments": {},
   "cell_type": "markdown",
   "id": "790766ff",
   "metadata": {},
   "source": [
    "We can also count the number of gates one needs to implement in the 12-qubit example: "
   ]
  },
  {
   "cell_type": "code",
   "execution_count": 21,
   "id": "808b2bb4",
   "metadata": {},
   "outputs": [
    {
     "name": "stdout",
     "output_type": "stream",
     "text": [
      "depth of the sn_cqa_gates: 177239\n"
     ]
    }
   ],
   "source": [
    "Sn_cqa_gates = transpile(Sn_cqa, basis_gates=['id', 'rz', 'sx', 'x', 'cx', 'cy', 'cry', 'h', 'ry'])\n",
    "print('depth of the sn_cqa_gates: {}'.format(Sn_cqa_gates.depth()))\n",
    "\n"
   ]
  },
  {
   "attachments": {},
   "cell_type": "markdown",
   "id": "2742f971",
   "metadata": {},
   "source": [
    "##  $J_1$-$J_2$ Frusrated Magnets \n"
   ]
  },
  {
   "attachments": {},
   "cell_type": "markdown",
   "id": "dda4b9c2",
   "metadata": {},
   "source": [
    "Now we switch our implementation with the Pennylane qml and we start by write down the Hamiltonain for which we wish to find the ground states. \n",
    "$$\n",
    "H = J_1 \\sum_{\\langle i , j \\rangle} \\vec{S}_i \\cdot \\vec{S}_j + J_2 \\sum_{\\langle \\langle i, j \\rangle \\rangle} S_i \\cdot S_j\n",
    "$$\n",
    "Where $J_1$ corresponds to the nearest neigbor interaction and $J_2$ the second nearest neigbor interaction. It is speculated that at the $J_2 / J_1 = 0.5 $ region the ground states may exhibit novel spin liquid phase. Our task is to investigate this property by finding its ground states. "
   ]
  },
  {
   "cell_type": "code",
   "execution_count": null,
   "id": "b1b6507d",
   "metadata": {},
   "outputs": [],
   "source": [
    "# we define the Hamiltonian as the following \n",
    "import numpy as np \n",
    "import matplotlib.pyplot as plt\n",
    "from typing import Optional, Union, List, Callable, Tuple\n",
    "import pennylane as qml \n",
    "import networkx as nx\n",
    "from qiskit import IBMQ\n",
    "from qiskit.providers.aer.noise import NoiseModel\n",
    "from tqdm import tqdm\n",
    "import jax \n",
    "import jax.numpy as jnp\n",
    "import netket as nk\n",
    "from scipy.linalg import eigh, eigvalsh\n",
    "\n",
    "# on a sqaure lattice \n",
    "def getHam_square_frust(lattice_size: Union[int, list], J: Optional[Union[list, int]], get_matrix: bool=False):\n",
    "    '''\n",
    "    Build the Heisenberg Hamiltonian \n",
    "    '''\n",
    "    graph = nx.generators.lattice.grid_2d_graph(lattice_size[0],lattice_size[1])\n",
    "    graph = nx.relabel.convert_node_labels_to_integers(graph)\n",
    "    A = np.array(nx.adjacency_matrix(graph).todense(), dtype=np.int32)\n",
    "    # print(A)\n",
    "    A2 = np.matmul(A, A)\n",
    "    # print(A2)\n",
    "    obs_J1 = []\n",
    "    coeffs_J1 = []\n",
    "    for edge in graph.edges():\n",
    "        coeffs_J1.extend([1.0, 1.0, 1.0])\n",
    "        obs_J1.extend([qml.PauliX(edge[0]) @ qml.PauliX(edge[1]),\n",
    "                            qml.PauliY(edge[0]) @ qml.PauliY(edge[1]),\n",
    "                            qml.PauliZ(edge[0]) @ qml.PauliZ(edge[1])]) \n",
    "    second_edges = []\n",
    "    for i in range(len(A2)): \n",
    "        for j in range(i):\n",
    "            if A2[i, j] >0: \n",
    "                # print('asa')\n",
    "                second_edges.append((i, j))\n",
    "    coeffs_J2 = []\n",
    "    obs_J2 = []\n",
    "    for edge in second_edges:\n",
    "        coeffs_J2.extend([1.0, 1.0, 1.0])\n",
    "        obs_J2.extend([qml.PauliX(edge[0]) @ qml.PauliX(edge[1]),\n",
    "                            qml.PauliY(edge[0]) @ qml.PauliY(edge[1]),\n",
    "                            qml.PauliZ(edge[0]) @ qml.PauliZ(edge[1])])\n",
    "    \n",
    "    # print(coeffs_J1)\n",
    "    # print(coeffs_J2)\n",
    "    # print(obs_J1)\n",
    "    # print(obs_J2)\n",
    "                 \n",
    "\n",
    "\n",
    "    hamiltonian_heisenberg = qml.Hamiltonian(coeffs_J1, obs_J1) * J[0] + qml.Hamiltonian(coeffs_J2, obs_J2) * J[1]\n",
    "    if get_matrix: \n",
    "        # matrix = 0\n",
    "        # for coeff, op in zip(hamiltonian_heisenberg.coeffs, hamiltonian_heisenberg.ops):\n",
    "        #     # print(op.matrix())\n",
    "        #     matrix += coeff * np.real(op.matrix()).astype('float64')\n",
    "        matrix = qml.utils.sparse_hamiltonian(hamiltonian_heisenberg).real.toarray()\n",
    "        return matrix.astype('float64')\n",
    "    return hamiltonian_heisenberg\n",
    "\n",
    "# defining on without frustration\n",
    "heisenbergJ1 = getHam_square_frust(6, J=[1.0, 0.0])"
   ]
  },
  {
   "cell_type": "code",
   "execution_count": null,
   "id": "1968a28c",
   "metadata": {},
   "outputs": [],
   "source": []
  }
 ],
 "metadata": {
  "kernelspec": {
   "display_name": "Python 3",
   "language": "python",
   "name": "python3"
  },
  "language_info": {
   "codemirror_mode": {
    "name": "ipython",
    "version": 3
   },
   "file_extension": ".py",
   "mimetype": "text/x-python",
   "name": "python",
   "nbconvert_exporter": "python",
   "pygments_lexer": "ipython3",
   "version": "3.9.7"
  },
  "vscode": {
   "interpreter": {
    "hash": "365090e2c22707149a78c9a2e641d903d92b98ddff306801a3908815bad6cd95"
   }
  }
 },
 "nbformat": 4,
 "nbformat_minor": 5
}
